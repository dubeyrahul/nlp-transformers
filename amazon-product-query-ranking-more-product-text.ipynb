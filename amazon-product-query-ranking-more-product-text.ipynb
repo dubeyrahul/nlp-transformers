{
 "cells": [
  {
   "cell_type": "code",
   "execution_count": 1,
   "id": "4f88845c",
   "metadata": {},
   "outputs": [],
   "source": [
    "from sentence_transformers.cross_encoder import CrossEncoder\n",
    "from sentence_transformers.cross_encoder.evaluation import CERerankingEvaluator\n",
    "from sentence_transformers import SentenceTransformer, InputExample, losses\n",
    "from sentence_transformers import evaluation\n",
    "import os\n",
    "import pandas as pd\n",
    "import torch\n",
    "from torch.utils.data import DataLoader\n",
    "from sklearn.model_selection import train_test_split"
   ]
  },
  {
   "cell_type": "code",
   "execution_count": 2,
   "id": "015cf75f",
   "metadata": {},
   "outputs": [
    {
     "name": "stdout",
     "output_type": "stream",
     "text": [
      "shopping_queries_dataset_examples.parquet\r\n",
      "shopping_queries_dataset_products.parquet\r\n",
      "shopping_queries_dataset_sources.csv\r\n"
     ]
    }
   ],
   "source": [
    "! ls /Users/rdubey/mysrc/random-stuff/esci-data/shopping_queries_dataset/"
   ]
  },
  {
   "cell_type": "code",
   "execution_count": 3,
   "id": "ad3f479b",
   "metadata": {},
   "outputs": [],
   "source": [
    "dataset_path = '/Users/rdubey/mysrc/random-stuff/esci-data/shopping_queries_dataset/'"
   ]
  },
  {
   "cell_type": "code",
   "execution_count": 4,
   "id": "f25e1881",
   "metadata": {},
   "outputs": [],
   "source": [
    "# !ls ../esci-data/shopping_queries_dataset"
   ]
  },
  {
   "cell_type": "code",
   "execution_count": 5,
   "id": "7396ec2c",
   "metadata": {},
   "outputs": [],
   "source": [
    "# ! pwd"
   ]
  },
  {
   "cell_type": "code",
   "execution_count": 6,
   "id": "2b97d44f",
   "metadata": {},
   "outputs": [],
   "source": [
    "\"\"\" 0. Init variables \"\"\"\n",
    "col_query = \"query\"\n",
    "col_query_id = \"query_id\"\n",
    "col_product_id = \"product_id\" \n",
    "col_product_title = \"product_title\"\n",
    "col_product_locale = \"product_locale\"\n",
    "col_esci_label = \"esci_label\" \n",
    "col_product_color = \"product_color\"\n",
    "col_product_description = \"product_description\"\n",
    "col_product_bullet_point = \"product_bullet_point\"\n",
    "col_small_version = \"small_version\"\n",
    "col_split = \"split\"\n",
    "col_gain = 'gain'\n",
    "device = torch.device(\"cuda\" if torch.cuda.is_available() else \"cpu\")\n",
    "esci_label2gain = {\n",
    "    'E' : 1.0,\n",
    "    'S' : 0.1,\n",
    "    'C' : 0.01,\n",
    "    'I' : 0.0,\n",
    "}"
   ]
  },
  {
   "cell_type": "code",
   "execution_count": 7,
   "id": "657c0937",
   "metadata": {},
   "outputs": [
    {
     "data": {
      "text/plain": [
       "'/Users/rdubey/mysrc/random-stuff/esci-data/shopping_queries_dataset/shopping_queries_dataset_examples.parquet'"
      ]
     },
     "execution_count": 7,
     "metadata": {},
     "output_type": "execute_result"
    }
   ],
   "source": [
    "os.path.join(dataset_path, 'shopping_queries_dataset_examples.parquet')"
   ]
  },
  {
   "cell_type": "code",
   "execution_count": 8,
   "id": "3a89f1dc",
   "metadata": {},
   "outputs": [],
   "source": [
    "# ! ls /Users/rdubey/mysrc/random-stuff/esci-data/shopping_queries_dataset/"
   ]
  },
  {
   "cell_type": "markdown",
   "id": "294784df",
   "metadata": {},
   "source": [
    "\n",
    "    shopping_queries_dataset_examples.parquet contains the following columns : example_id, query, query_id, product_id, product_locale, esci_label, small_version, large_version, split\n",
    "    shopping_queries_dataset_products.parquet contains the following columns : product_id, product_title, product_description, product_bullet_point, product_brand, product_color, product_locale\n",
    "    shopping_queries_dataset_sources.csv contains the following columns : query_id, source\n"
   ]
  },
  {
   "cell_type": "code",
   "execution_count": null,
   "id": "023033b7",
   "metadata": {},
   "outputs": [],
   "source": [
    "# columns = 'example_id, query, query_id, product_id, product_locale, esci_label, small_version, large_version, split'\n",
    "# columns.split(\",\")"
   ]
  },
  {
   "cell_type": "code",
   "execution_count": 9,
   "id": "8855a7cb",
   "metadata": {},
   "outputs": [],
   "source": [
    "\"\"\" 1. Load data \"\"\"    \n",
    "dataset_path = \"/Users/rdubey/mysrc/random-stuff/esci-data/shopping_queries_dataset\"\n",
    "n_dev_queries = 200 # default from the script\n",
    "df_examples = pd.read_parquet(os.path.join(dataset_path, 'shopping_queries_dataset_examples.parquet'))\n",
    "df_products = pd.read_parquet(os.path.join(dataset_path, 'shopping_queries_dataset_products.parquet'))"
   ]
  },
  {
   "cell_type": "code",
   "execution_count": 10,
   "id": "cd7c07dd",
   "metadata": {},
   "outputs": [],
   "source": [
    "df_examples_products = pd.merge(\n",
    "    df_examples,\n",
    "    df_products,\n",
    "    how='left',\n",
    "    left_on=[col_product_locale, col_product_id],\n",
    "    right_on=[col_product_locale, col_product_id]\n",
    ")"
   ]
  },
  {
   "cell_type": "code",
   "execution_count": 11,
   "id": "a1925f06",
   "metadata": {},
   "outputs": [
    {
     "data": {
      "text/html": [
       "<div>\n",
       "<style scoped>\n",
       "    .dataframe tbody tr th:only-of-type {\n",
       "        vertical-align: middle;\n",
       "    }\n",
       "\n",
       "    .dataframe tbody tr th {\n",
       "        vertical-align: top;\n",
       "    }\n",
       "\n",
       "    .dataframe thead th {\n",
       "        text-align: right;\n",
       "    }\n",
       "</style>\n",
       "<table border=\"1\" class=\"dataframe\">\n",
       "  <thead>\n",
       "    <tr style=\"text-align: right;\">\n",
       "      <th></th>\n",
       "      <th>0</th>\n",
       "      <th>1</th>\n",
       "      <th>2</th>\n",
       "      <th>3</th>\n",
       "      <th>4</th>\n",
       "    </tr>\n",
       "  </thead>\n",
       "  <tbody>\n",
       "    <tr>\n",
       "      <th>example_id</th>\n",
       "      <td>0</td>\n",
       "      <td>1</td>\n",
       "      <td>2</td>\n",
       "      <td>3</td>\n",
       "      <td>4</td>\n",
       "    </tr>\n",
       "    <tr>\n",
       "      <th>query</th>\n",
       "      <td>revent 80 cfm</td>\n",
       "      <td>revent 80 cfm</td>\n",
       "      <td>revent 80 cfm</td>\n",
       "      <td>revent 80 cfm</td>\n",
       "      <td>revent 80 cfm</td>\n",
       "    </tr>\n",
       "    <tr>\n",
       "      <th>query_id</th>\n",
       "      <td>0</td>\n",
       "      <td>0</td>\n",
       "      <td>0</td>\n",
       "      <td>0</td>\n",
       "      <td>0</td>\n",
       "    </tr>\n",
       "    <tr>\n",
       "      <th>product_id</th>\n",
       "      <td>B000MOO21W</td>\n",
       "      <td>B07X3Y6B1V</td>\n",
       "      <td>B07WDM7MQQ</td>\n",
       "      <td>B07RH6Z8KW</td>\n",
       "      <td>B07QJ7WYFQ</td>\n",
       "    </tr>\n",
       "    <tr>\n",
       "      <th>product_locale</th>\n",
       "      <td>us</td>\n",
       "      <td>us</td>\n",
       "      <td>us</td>\n",
       "      <td>us</td>\n",
       "      <td>us</td>\n",
       "    </tr>\n",
       "    <tr>\n",
       "      <th>esci_label</th>\n",
       "      <td>I</td>\n",
       "      <td>E</td>\n",
       "      <td>E</td>\n",
       "      <td>E</td>\n",
       "      <td>E</td>\n",
       "    </tr>\n",
       "    <tr>\n",
       "      <th>small_version</th>\n",
       "      <td>0</td>\n",
       "      <td>0</td>\n",
       "      <td>0</td>\n",
       "      <td>0</td>\n",
       "      <td>0</td>\n",
       "    </tr>\n",
       "    <tr>\n",
       "      <th>large_version</th>\n",
       "      <td>1</td>\n",
       "      <td>1</td>\n",
       "      <td>1</td>\n",
       "      <td>1</td>\n",
       "      <td>1</td>\n",
       "    </tr>\n",
       "    <tr>\n",
       "      <th>split</th>\n",
       "      <td>train</td>\n",
       "      <td>train</td>\n",
       "      <td>train</td>\n",
       "      <td>train</td>\n",
       "      <td>train</td>\n",
       "    </tr>\n",
       "    <tr>\n",
       "      <th>product_title</th>\n",
       "      <td>Panasonic FV-20VQ3 WhisperCeiling 190 CFM Ceil...</td>\n",
       "      <td>Homewerks 7141-80 Bathroom Fan Integrated LED ...</td>\n",
       "      <td>Homewerks 7140-80 Bathroom Fan Ceiling Mount E...</td>\n",
       "      <td>Delta Electronics RAD80L BreezRadiance 80 CFM ...</td>\n",
       "      <td>Panasonic FV-08VRE2 Ventilation Fan with Reces...</td>\n",
       "    </tr>\n",
       "    <tr>\n",
       "      <th>product_description</th>\n",
       "      <td>None</td>\n",
       "      <td>None</td>\n",
       "      <td>None</td>\n",
       "      <td>This pre-owned or refurbished product has been...</td>\n",
       "      <td>None</td>\n",
       "    </tr>\n",
       "    <tr>\n",
       "      <th>product_bullet_point</th>\n",
       "      <td>WhisperCeiling fans feature a totally enclosed...</td>\n",
       "      <td>OUTSTANDING PERFORMANCE: This Homewerk's bath ...</td>\n",
       "      <td>OUTSTANDING PERFORMANCE: This Homewerk's bath ...</td>\n",
       "      <td>Quiet operation at 1.5 sones\\nBuilt-in thermos...</td>\n",
       "      <td>The design solution for Fan/light combinations...</td>\n",
       "    </tr>\n",
       "    <tr>\n",
       "      <th>product_brand</th>\n",
       "      <td>Panasonic</td>\n",
       "      <td>Homewerks</td>\n",
       "      <td>Homewerks</td>\n",
       "      <td>DELTA ELECTRONICS (AMERICAS) LTD.</td>\n",
       "      <td>Panasonic</td>\n",
       "    </tr>\n",
       "    <tr>\n",
       "      <th>product_color</th>\n",
       "      <td>White</td>\n",
       "      <td>80 CFM</td>\n",
       "      <td>White</td>\n",
       "      <td>White</td>\n",
       "      <td>White</td>\n",
       "    </tr>\n",
       "  </tbody>\n",
       "</table>\n",
       "</div>"
      ],
      "text/plain": [
       "                                                                      0  \\\n",
       "example_id                                                            0   \n",
       "query                                                     revent 80 cfm   \n",
       "query_id                                                              0   \n",
       "product_id                                                   B000MOO21W   \n",
       "product_locale                                                       us   \n",
       "esci_label                                                            I   \n",
       "small_version                                                         0   \n",
       "large_version                                                         1   \n",
       "split                                                             train   \n",
       "product_title         Panasonic FV-20VQ3 WhisperCeiling 190 CFM Ceil...   \n",
       "product_description                                                None   \n",
       "product_bullet_point  WhisperCeiling fans feature a totally enclosed...   \n",
       "product_brand                                                 Panasonic   \n",
       "product_color                                                     White   \n",
       "\n",
       "                                                                      1  \\\n",
       "example_id                                                            1   \n",
       "query                                                     revent 80 cfm   \n",
       "query_id                                                              0   \n",
       "product_id                                                   B07X3Y6B1V   \n",
       "product_locale                                                       us   \n",
       "esci_label                                                            E   \n",
       "small_version                                                         0   \n",
       "large_version                                                         1   \n",
       "split                                                             train   \n",
       "product_title         Homewerks 7141-80 Bathroom Fan Integrated LED ...   \n",
       "product_description                                                None   \n",
       "product_bullet_point  OUTSTANDING PERFORMANCE: This Homewerk's bath ...   \n",
       "product_brand                                                 Homewerks   \n",
       "product_color                                                    80 CFM   \n",
       "\n",
       "                                                                      2  \\\n",
       "example_id                                                            2   \n",
       "query                                                     revent 80 cfm   \n",
       "query_id                                                              0   \n",
       "product_id                                                   B07WDM7MQQ   \n",
       "product_locale                                                       us   \n",
       "esci_label                                                            E   \n",
       "small_version                                                         0   \n",
       "large_version                                                         1   \n",
       "split                                                             train   \n",
       "product_title         Homewerks 7140-80 Bathroom Fan Ceiling Mount E...   \n",
       "product_description                                                None   \n",
       "product_bullet_point  OUTSTANDING PERFORMANCE: This Homewerk's bath ...   \n",
       "product_brand                                                 Homewerks   \n",
       "product_color                                                     White   \n",
       "\n",
       "                                                                      3  \\\n",
       "example_id                                                            3   \n",
       "query                                                     revent 80 cfm   \n",
       "query_id                                                              0   \n",
       "product_id                                                   B07RH6Z8KW   \n",
       "product_locale                                                       us   \n",
       "esci_label                                                            E   \n",
       "small_version                                                         0   \n",
       "large_version                                                         1   \n",
       "split                                                             train   \n",
       "product_title         Delta Electronics RAD80L BreezRadiance 80 CFM ...   \n",
       "product_description   This pre-owned or refurbished product has been...   \n",
       "product_bullet_point  Quiet operation at 1.5 sones\\nBuilt-in thermos...   \n",
       "product_brand                         DELTA ELECTRONICS (AMERICAS) LTD.   \n",
       "product_color                                                     White   \n",
       "\n",
       "                                                                      4  \n",
       "example_id                                                            4  \n",
       "query                                                     revent 80 cfm  \n",
       "query_id                                                              0  \n",
       "product_id                                                   B07QJ7WYFQ  \n",
       "product_locale                                                       us  \n",
       "esci_label                                                            E  \n",
       "small_version                                                         0  \n",
       "large_version                                                         1  \n",
       "split                                                             train  \n",
       "product_title         Panasonic FV-08VRE2 Ventilation Fan with Reces...  \n",
       "product_description                                                None  \n",
       "product_bullet_point  The design solution for Fan/light combinations...  \n",
       "product_brand                                                 Panasonic  \n",
       "product_color                                                     White  "
      ]
     },
     "execution_count": 11,
     "metadata": {},
     "output_type": "execute_result"
    }
   ],
   "source": [
    "df_examples_products.head().T"
   ]
  },
  {
   "cell_type": "code",
   "execution_count": 12,
   "id": "8b1d44f2",
   "metadata": {},
   "outputs": [],
   "source": [
    "locale = 'us'\n",
    "df_examples_products = df_examples_products[df_examples_products[col_small_version] == 1]\n",
    "df_examples_products = df_examples_products[df_examples_products[col_split] == \"train\"]\n",
    "df_examples_products = df_examples_products[df_examples_products[col_product_locale] == locale]\n",
    "df_examples_products[col_gain] = df_examples_products[col_esci_label].apply(lambda esci_label: esci_label2gain[esci_label])"
   ]
  },
  {
   "cell_type": "code",
   "execution_count": 13,
   "id": "46f2b057",
   "metadata": {},
   "outputs": [
    {
     "data": {
      "text/plain": [
       "925"
      ]
     },
     "execution_count": 13,
     "metadata": {},
     "output_type": "execute_result"
    }
   ],
   "source": [
    "import gc\n",
    "del df_examples\n",
    "del df_products\n",
    "gc.collect()"
   ]
  },
  {
   "cell_type": "code",
   "execution_count": 14,
   "id": "616c13a1",
   "metadata": {},
   "outputs": [],
   "source": [
    "random_state = 42\n",
    "list_query_id = df_examples_products[col_query_id].unique()\n",
    "dev_size = n_dev_queries / len(list_query_id)\n",
    "list_query_id_train, list_query_id_dev = train_test_split(list_query_id, test_size=dev_size, random_state=random_state)"
   ]
  },
  {
   "cell_type": "code",
   "execution_count": 15,
   "id": "1ccd5384",
   "metadata": {},
   "outputs": [],
   "source": [
    "df_examples_products = df_examples_products[\n",
    "    [col_query_id, col_query, col_product_title, col_product_description, col_product_bullet_point, col_gain]\n",
    "]\n",
    "df_train = df_examples_products[df_examples_products[col_query_id].isin(list_query_id_train)]\n",
    "df_dev = df_examples_products[df_examples_products[col_query_id].isin(list_query_id_dev)]"
   ]
  },
  {
   "cell_type": "code",
   "execution_count": 16,
   "id": "0200b7eb",
   "metadata": {},
   "outputs": [
    {
     "data": {
      "text/html": [
       "<div>\n",
       "<style scoped>\n",
       "    .dataframe tbody tr th:only-of-type {\n",
       "        vertical-align: middle;\n",
       "    }\n",
       "\n",
       "    .dataframe tbody tr th {\n",
       "        vertical-align: top;\n",
       "    }\n",
       "\n",
       "    .dataframe thead th {\n",
       "        text-align: right;\n",
       "    }\n",
       "</style>\n",
       "<table border=\"1\" class=\"dataframe\">\n",
       "  <thead>\n",
       "    <tr style=\"text-align: right;\">\n",
       "      <th></th>\n",
       "      <th>query_id</th>\n",
       "      <th>query</th>\n",
       "      <th>product_title</th>\n",
       "      <th>product_description</th>\n",
       "      <th>product_bullet_point</th>\n",
       "      <th>gain</th>\n",
       "    </tr>\n",
       "  </thead>\n",
       "  <tbody>\n",
       "    <tr>\n",
       "      <th>16</th>\n",
       "      <td>1</td>\n",
       "      <td>!awnmower tires without rims</td>\n",
       "      <td>RamPro 10\" All Purpose Utility Air Tires/Wheel...</td>\n",
       "      <td>&lt;b&gt;About The Ram-Pro All Purpose Utility 10\" A...</td>\n",
       "      <td>✓ The Ram-Pro Ten Inch ready to install Air Ti...</td>\n",
       "      <td>0.0</td>\n",
       "    </tr>\n",
       "    <tr>\n",
       "      <th>17</th>\n",
       "      <td>1</td>\n",
       "      <td>!awnmower tires without rims</td>\n",
       "      <td>MaxAuto 2-Pack 13x5.00-6 2PLY Turf Mower Tract...</td>\n",
       "      <td>MaxAuto 2-Pack 13x5.00-6 2PLY Turf Mower Tract...</td>\n",
       "      <td>Please check your existing tire Sidewall for t...</td>\n",
       "      <td>1.0</td>\n",
       "    </tr>\n",
       "    <tr>\n",
       "      <th>18</th>\n",
       "      <td>1</td>\n",
       "      <td>!awnmower tires without rims</td>\n",
       "      <td>NEIKO 20601A 14.5 inch Steel Tire Spoon Lever ...</td>\n",
       "      <td>None</td>\n",
       "      <td>[QUALITY]: Hardened Steel-Iron construction wi...</td>\n",
       "      <td>0.0</td>\n",
       "    </tr>\n",
       "    <tr>\n",
       "      <th>19</th>\n",
       "      <td>1</td>\n",
       "      <td>!awnmower tires without rims</td>\n",
       "      <td>2PK 13x5.00-6 13x5.00x6 13x5x6 13x5-6 2PLY Tur...</td>\n",
       "      <td>Tire Size: 13 x 5.00 - 6 Axle: 3/4\" inside dia...</td>\n",
       "      <td>None</td>\n",
       "      <td>0.1</td>\n",
       "    </tr>\n",
       "    <tr>\n",
       "      <th>20</th>\n",
       "      <td>1</td>\n",
       "      <td>!awnmower tires without rims</td>\n",
       "      <td>(Set of 2) 15x6.00-6 Husqvarna/Poulan Tire Whe...</td>\n",
       "      <td>No fuss. Just take off your old assembly and r...</td>\n",
       "      <td>Tire size:15x6.00-6 Ply: 4 Tubeless\\n6x4.5 Whe...</td>\n",
       "      <td>1.0</td>\n",
       "    </tr>\n",
       "  </tbody>\n",
       "</table>\n",
       "</div>"
      ],
      "text/plain": [
       "    query_id                         query  \\\n",
       "16         1  !awnmower tires without rims   \n",
       "17         1  !awnmower tires without rims   \n",
       "18         1  !awnmower tires without rims   \n",
       "19         1  !awnmower tires without rims   \n",
       "20         1  !awnmower tires without rims   \n",
       "\n",
       "                                        product_title  \\\n",
       "16  RamPro 10\" All Purpose Utility Air Tires/Wheel...   \n",
       "17  MaxAuto 2-Pack 13x5.00-6 2PLY Turf Mower Tract...   \n",
       "18  NEIKO 20601A 14.5 inch Steel Tire Spoon Lever ...   \n",
       "19  2PK 13x5.00-6 13x5.00x6 13x5x6 13x5-6 2PLY Tur...   \n",
       "20  (Set of 2) 15x6.00-6 Husqvarna/Poulan Tire Whe...   \n",
       "\n",
       "                                  product_description  \\\n",
       "16  <b>About The Ram-Pro All Purpose Utility 10\" A...   \n",
       "17  MaxAuto 2-Pack 13x5.00-6 2PLY Turf Mower Tract...   \n",
       "18                                               None   \n",
       "19  Tire Size: 13 x 5.00 - 6 Axle: 3/4\" inside dia...   \n",
       "20  No fuss. Just take off your old assembly and r...   \n",
       "\n",
       "                                 product_bullet_point  gain  \n",
       "16  ✓ The Ram-Pro Ten Inch ready to install Air Ti...   0.0  \n",
       "17  Please check your existing tire Sidewall for t...   1.0  \n",
       "18  [QUALITY]: Hardened Steel-Iron construction wi...   0.0  \n",
       "19                                               None   0.1  \n",
       "20  Tire size:15x6.00-6 Ply: 4 Tubeless\\n6x4.5 Whe...   1.0  "
      ]
     },
     "execution_count": 16,
     "metadata": {},
     "output_type": "execute_result"
    }
   ],
   "source": [
    "df_train.head()"
   ]
  },
  {
   "cell_type": "code",
   "execution_count": 20,
   "id": "2e129267",
   "metadata": {},
   "outputs": [],
   "source": [
    "pd.set_option('display.max_colwidth', None)"
   ]
  },
  {
   "cell_type": "code",
   "execution_count": 21,
   "id": "75c12dfc",
   "metadata": {},
   "outputs": [
    {
     "data": {
      "text/plain": [
       "16                                                                                                                                                                              ✓ The Ram-Pro Ten Inch ready to install Air Tire Wheels will be the best replacement for your hand truck (or anything similar) tires and wheels with easy installation and great performance.\\n✓ SPECS: The 2 Ram-Pro Air Tires sizes are: High: 10\" - Wide: 3\" - Hole Diameter: 5/8\" - Hub Depth: 1-3/4\" with Double Sealed Bearings. Load Capacity: 300 lbs. (136 KG) - P.S.I. Rating: 30 per tire - Tube type: 2 ply 4.10/3.5-4.\\n✓ QUALITY: The high quality heavy-duty rubber will last very long. The Air stem is on the outside so you can always inflate the tires easy if needed - The Double Sealed Bearings will evenly distribute your loud on your vehicle.\\n✓ DESIGN: This air filled tires are designed with sporty look raised grips to drive the smoothest possible, and is the 4 bolt hole’s double rim tube type design for best performance and more sturdiness.\\n✓ USES: Used for handtrucks, lawn mowers, yard wagons, air compressors, power washers, child's wagons, shopping carts, wood chippers, Snow Blowers, dolly’s, go carts, golf carts, try cycles, and much more.\n",
       "17                                                                                                                                                                                                                                                                                                                                                                                                                                                                                                                                                                                                                                                                                                                       Please check your existing tire Sidewall for tire, hub and Bushing size to ensure proper replacement fit.\\n3\" Centered Hub(two sides symmetrical);3/4\" Bushings;300 lb load capacity.\\nTire size:13x5.00-6;Tire Type:Pneumatic Tires;Tire Diameter inch:13.09\";Tire Width inch:4.56\";Load Capacity:300lbs\\nRim Diameter:6\";Bearing size:3/4\";Hub Length:3\" Centered Hub with grease fitting\\nPopular Applications：Wheelbarrows,Garden carts,Hand trucks,Pressure washers,Generators,Air compressors,Lawn mower and other types of outdoor power equipment.\n",
       "18                                                                                                                                                                                                                                                                                                                                                                                                                                                                                                                                                                                                                                                                                                                                          [QUALITY]: Hardened Steel-Iron construction with curved tips provide strong and reliable durability.\\n[PROTECTION]: Three highly durable Polypropylene Rim Protector to prevent damage to the rims.\\n[POWER]: Extra long lever at 14.5\" offers more leverage and torque power.\\n[CONVENIENT]: 4 Point Valve Tool allows for quick and easy deflation of tires and valve core replacement.\\n[UNIVERSAL]: This tool is perfect for motorcycles, bikes, dirt bikes, ATV, lawn tractors, garden tractors, cars and many more vehicle types.\n",
       "19                                                                                                                                                                                                                                                                                                                                                                                                                                                                                                                                                                                                                                                                                                                                                                                                                                                                                                                                                                                                                                                                                                                                                                                                                                                                             None\n",
       "20                                                                                                                                                                                                                                                                                                                                                                                                                                                                                                                                                                                                                                                                                                                                                                                                                                                                    Tire size:15x6.00-6 Ply: 4 Tubeless\\n6x4.5 Wheel with 3/4\" Precision bearings; Hub is 3\" Long with .75\" precision ball bearings. No grease required. Color: Husqvarna Silver\\nHusqvarna wheel number: 532106732 replaces 106732x645, 106732x643, 106732x417, 532141446, 532138336, 5321383-36 532125102; Husqvarna tire number 5321122073\\nATW-001\\nTire OD: 14.96; Tire SW: 6.3; PSI: 30; Max Load: 570 lbs.\n",
       "                                                                                                                                                                                                                                                                                                                                                                                                                                                                                                                                                                                                                                             ...                                                                                                                                                                                                                                                                                                                                                                                                                                                                                                                                                                                                                                   \n",
       "2618565                                                                                                                                                                                                                                                                                                                                                                                                                                                                                                                                                                                                                    Super bright beam: High intensity 3W LED chips and clear PC lens, super bright white light dispels darkness, ensuring safety of your trip\\nCombo beam, clear view: 126w-appropriate combination of spot beam and flood beam for widespread and long distance illumination\\nAdjustable mounting bracket: The light bar can be adjusted to about 45 degrees, which makes changing direction of light beam easier\\nBetter heat dissipation: Special designed die-cast aluminum alloy cooling fins effectively extend the lifespan to over 30, 000 hours\\nPackage includes: 1Pc 126W Combo LED light bar, 4Pcs 18W spot LED light bars and mounting brackets\n",
       "2618566                                                                                                                                                                                                                                                                                                                                                                                                                                                                                                                                                                                                                                                                                                                                                                                                                                                                                                                                                                                                                                                                                                                                                                                                                                                         Sport Type: Cycling\n",
       "2618567                                                                                                                                                                                                                                                                                                                                                                                                                                                                                                                                                                                                                                                                                                                                                                                                                                                                                                                                                                                                                                                                                                                                                                                                                                                         sport type: Cycling\n",
       "2618568                                                                                                                                                                                                                                                                                                                                                                                                                                                                                                                                                                                                                                                                                                                                                                                                                                                                                                                                                                                                                                        Mold cured rubber for consistent side wall–prevents high pressure blow outs\\nHigh quality, reliably tested inner tube. Schrader valve\\nTube Weight - 160g\\nValve type & length: Schrader; 35mm with cap\\nGreat for kid and BMX tires\n",
       "2618569    STEP-THROUGH DESIGN – Featuring heavy-duty construction 14-gauge steel tubing with a powder coated finish, the step-through design allows maximum mobility during training for quick mounting and dismounting that is created easier for the knees and back. Please note: This item requires assembly\\nEIGHT RESISTANCE LEVELS – This stationary bike uses a magnetic resistance mechanism with 8 levels of resistance. The tension knobs control the difficulty to simulate riding on different terrains and customize your workout according to fitness level\\nEASY-TO-READ COMPUTER SCREEN – The ultra-functional LCD computer screen acts as a odometer and has a sharp panel display that shows time, speed, distance, and calories burned in extra-large numbers for great readability.\\nCOMFORTABLE PADDED SEAT – The equipment has an ergonomically designed saddle furnished with comfortable high-density foam. It features contoured foam-covered handles for extra support of the back and arms to help maintain proper form when exercising.\\nCOUNTERBALANCED PEDALS – Weighted pedals designed to provide maximal foot support while offering ultimate control. This bike is equipped with adjustable foot straps to create the perfect fit for your feet.\n",
       "Name: product_bullet_point, Length: 415666, dtype: object"
      ]
     },
     "execution_count": 21,
     "metadata": {},
     "output_type": "execute_result"
    }
   ],
   "source": [
    "df_train['product_bullet_point']"
   ]
  },
  {
   "cell_type": "code",
   "execution_count": 22,
   "id": "46fb477f",
   "metadata": {},
   "outputs": [],
   "source": [
    "device = \"mps\""
   ]
  },
  {
   "cell_type": "code",
   "execution_count": 23,
   "id": "aa31b25f",
   "metadata": {},
   "outputs": [],
   "source": [
    "\"\"\" 2. Prepare data loaders \"\"\"\n",
    "train_batch_size = 128\n",
    "train_samples = []\n",
    "model_save_path = f\"./models/task_1_ranking_model_product_texts/{locale}\"\n",
    "for (_, row) in df_train.iterrows():\n",
    "    query = row[col_query]\n",
    "    document = \" \".join([\n",
    "        row[col_product_title], \n",
    "        row[col_product_bullet_point] or \" \",\n",
    "        row[col_product_description] or \" \",\n",
    "    ])\n",
    "    train_samples.append(InputExample(texts=[query, document], label=float(row[col_gain])))\n",
    "    \n",
    "train_dataloader = DataLoader(train_samples, shuffle=True, batch_size=train_batch_size, drop_last=True)"
   ]
  },
  {
   "cell_type": "code",
   "execution_count": 25,
   "id": "873ccae0",
   "metadata": {},
   "outputs": [
    {
     "data": {
      "text/plain": [
       "502"
      ]
     },
     "execution_count": 25,
     "metadata": {},
     "output_type": "execute_result"
    }
   ],
   "source": [
    "del df_examples_products\n",
    "gc.collect()"
   ]
  },
  {
   "cell_type": "code",
   "execution_count": 26,
   "id": "d2276bab",
   "metadata": {},
   "outputs": [],
   "source": [
    "dev_samples = {}\n",
    "query2id = {}\n",
    "for (_, row) in df_dev.iterrows():\n",
    "    try:\n",
    "        qid = query2id[row[col_query]]\n",
    "    except KeyError:\n",
    "        qid = len(query2id)\n",
    "        query2id[row[col_query]] = qid\n",
    "    if qid not in dev_samples:\n",
    "        dev_samples[qid] = {'query': row[col_query], 'positive': set(), 'negative': set()}\n",
    "    if row[col_gain] > 0:\n",
    "        dev_samples[qid]['positive'].add(row[col_product_title])\n",
    "    else:\n",
    "        dev_samples[qid]['negative'].add(row[col_product_title])\n",
    "evaluator = CERerankingEvaluator(dev_samples, name='train-eval')\n"
   ]
  },
  {
   "cell_type": "code",
   "execution_count": null,
   "id": "dd7fea85",
   "metadata": {},
   "outputs": [
    {
     "data": {
      "application/vnd.jupyter.widget-view+json": {
       "model_id": "c24c99ba5f03447f81cedbba4f4c07d3",
       "version_major": 2,
       "version_minor": 0
      },
      "text/plain": [
       "Epoch:   0%|          | 0/1 [00:00<?, ?it/s]"
      ]
     },
     "metadata": {},
     "output_type": "display_data"
    },
    {
     "data": {
      "application/vnd.jupyter.widget-view+json": {
       "model_id": "1e00a2819ff041fe9caaa6b02b903d0b",
       "version_major": 2,
       "version_minor": 0
      },
      "text/plain": [
       "Iteration:   0%|          | 0/3247 [00:00<?, ?it/s]"
      ]
     },
     "metadata": {},
     "output_type": "display_data"
    }
   ],
   "source": [
    "\n",
    "\"\"\" 3. Prepare Cross-enconder model:\n",
    "    https://github.com/UKPLab/sentence-transformers/blob/master/examples/training/ms_marco/train_cross-encoder_kd.py\n",
    "\"\"\"\n",
    "model_name = 'cross-encoder/ms-marco-MiniLM-L-12-v2'\n",
    "num_epochs = 1\n",
    "num_labels = 1\n",
    "max_length = 512\n",
    "default_activation_function = torch.nn.Identity()\n",
    "model = CrossEncoder(\n",
    "    model_name, \n",
    "    num_labels=num_labels, \n",
    "    max_length=max_length, \n",
    "    default_activation_function=default_activation_function, \n",
    "    device=device\n",
    ")\n",
    "loss_fct=torch.nn.MSELoss()\n",
    "evaluation_steps = 5000\n",
    "warmup_steps = 5000\n",
    "lr = 7e-6\n",
    "\"\"\" 4. Train Cross-encoder model \"\"\"\n",
    "model.fit(\n",
    "    train_dataloader=train_dataloader,\n",
    "    loss_fct=loss_fct,\n",
    "    evaluator=evaluator,\n",
    "    epochs=num_epochs,\n",
    "    evaluation_steps=evaluation_steps,\n",
    "    warmup_steps=warmup_steps,\n",
    "    output_path=f\"{model_save_path}_tmp\",\n",
    "    optimizer_params={'lr': lr},\n",
    ")\n",
    "model.save(model_save_path)"
   ]
  },
  {
   "cell_type": "code",
   "execution_count": null,
   "id": "b154ecc4",
   "metadata": {},
   "outputs": [],
   "source": [
    "print(\"done\")"
   ]
  },
  {
   "cell_type": "code",
   "execution_count": null,
   "id": "c9ab158b",
   "metadata": {},
   "outputs": [],
   "source": [
    "from transformers import AutoTokenizer, AutoModelForSequenceClassification, AutoModel\n",
    "from tqdm import tqdm\n",
    "import numpy as np"
   ]
  },
  {
   "cell_type": "code",
   "execution_count": null,
   "id": "0a52a8b0",
   "metadata": {},
   "outputs": [],
   "source": [
    " \"\"\" 0. Init variables \"\"\"\n",
    "col_query = \"query\"\n",
    "col_query_id = \"query_id\"\n",
    "col_product_id = \"product_id\" \n",
    "col_product_title = \"product_title\"\n",
    "col_product_locale = \"product_locale\"\n",
    "col_small_version = \"small_version\"\n",
    "col_split = \"split\"\n",
    "col_scores = \"scores\"\n",
    "device = torch.device(\"cuda\" if torch.cuda.is_available() else \"cpu\")\n",
    "\n",
    "\"\"\" 1. Load data \"\"\"    \n",
    "df_examples = pd.read_parquet(os.path.join(dataset_path, 'shopping_queries_dataset_examples.parquet'))\n",
    "df_products = pd.read_parquet(os.path.join(dataset_path, 'shopping_queries_dataset_products.parquet'))\n",
    "\n",
    "df_examples_products = pd.merge(\n",
    "    df_examples,\n",
    "    df_products,\n",
    "    how='left',\n",
    "    left_on=[col_product_locale, col_product_id],\n",
    "    right_on=[col_product_locale, col_product_id]\n",
    ")\n",
    "df_examples_products = df_examples_products[df_examples_products[col_small_version] == 1]\n",
    "df_examples_products = df_examples_products[df_examples_products[col_split] == \"test\"]\n",
    "df_examples_products = df_examples_products[df_examples_products[col_product_locale] == locale]\n",
    "\n",
    "features_query = df_examples_products[col_query].to_list()\n",
    "features_product = df_examples_products[col_product_title].to_list()\n",
    "n_examples = len(features_query)\n",
    "scores = np.zeros(n_examples)"
   ]
  },
  {
   "cell_type": "code",
   "execution_count": null,
   "id": "2fcbabab",
   "metadata": {},
   "outputs": [],
   "source": [
    "model_path = model_save_path\n",
    "batch_size=256\n",
    "if locale == \"us\":\n",
    "    \"\"\" 2. Prepare Cross-encoder model \"\"\"\n",
    "    model = AutoModelForSequenceClassification.from_pretrained(model_path).to(device)\n",
    "    tokenizer = AutoTokenizer.from_pretrained(model_path)\n",
    "\n",
    "    \"\"\" 3. Generate hypothesis \"\"\"\n",
    "    model.eval()\n",
    "    with torch.no_grad():\n",
    "        for i in tqdm(range(0, n_examples, batch_size)):\n",
    "            j = min(i + batch_size, n_examples)\n",
    "            features_query_ = features_query[i:j]\n",
    "            features_product_ = features_product[i:j]\n",
    "            features = tokenizer(features_query_, features_product_,  padding=True, truncation=True, return_tensors=\"pt\").to(device)\n",
    "            scores[i:j] = np.squeeze(model(**features).logits.cpu().detach().numpy())\n",
    "            i = j"
   ]
  },
  {
   "cell_type": "code",
   "execution_count": null,
   "id": "25f35e7e",
   "metadata": {},
   "outputs": [],
   "source": [
    "\"\"\" 4. Prepare hypothesis file \"\"\"   \n",
    "HYPOTHESIS_TASK1_PATH=\"./hypothesis\"\n",
    "HYPOTHESIS_PATH_FILE=f\"{HYPOTHESIS_TASK1_PATH}/task_1_ranking_model_baseline_{locale}.csv\""
   ]
  },
  {
   "cell_type": "code",
   "execution_count": null,
   "id": "1b0b04aa",
   "metadata": {},
   "outputs": [],
   "source": [
    "HYPOTHESIS_PATH_FILE"
   ]
  },
  {
   "cell_type": "code",
   "execution_count": null,
   "id": "ba0536c9",
   "metadata": {},
   "outputs": [],
   "source": [
    "!mkdir -p {HYPOTHESIS_TASK1_PATH}"
   ]
  },
  {
   "cell_type": "code",
   "execution_count": null,
   "id": "033a6fb6",
   "metadata": {},
   "outputs": [],
   "source": [
    "\n",
    "df_hypothesis = pd.DataFrame({\n",
    "    col_query_id : df_examples_products[col_query_id].to_list(),\n",
    "    col_product_id : df_examples_products[col_product_id].to_list(),\n",
    "    col_scores : scores,\n",
    "})\n",
    "df_hypothesis = df_hypothesis.sort_values(by=[col_query_id, col_scores], ascending=False)\n",
    "df_hypothesis[[col_query_id, col_product_id]].to_csv(\n",
    "    HYPOTHESIS_PATH_FILE,\n",
    "    index=False,\n",
    "    sep=',',\n",
    ")"
   ]
  },
  {
   "cell_type": "code",
   "execution_count": null,
   "id": "c7195077",
   "metadata": {},
   "outputs": [],
   "source": []
  }
 ],
 "metadata": {
  "kernelspec": {
   "display_name": "Python 3 (ipykernel)",
   "language": "python",
   "name": "python3"
  },
  "language_info": {
   "codemirror_mode": {
    "name": "ipython",
    "version": 3
   },
   "file_extension": ".py",
   "mimetype": "text/x-python",
   "name": "python",
   "nbconvert_exporter": "python",
   "pygments_lexer": "ipython3",
   "version": "3.9.15"
  }
 },
 "nbformat": 4,
 "nbformat_minor": 5
}
