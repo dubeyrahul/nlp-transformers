{
 "cells": [
  {
   "cell_type": "code",
   "execution_count": 1,
   "id": "4f88845c",
   "metadata": {},
   "outputs": [],
   "source": [
    "from sentence_transformers.cross_encoder import CrossEncoder\n",
    "from sentence_transformers.cross_encoder.evaluation import CERerankingEvaluator\n",
    "from sentence_transformers import SentenceTransformer, InputExample, losses\n",
    "from sentence_transformers import evaluation\n",
    "import os\n",
    "import pandas as pd\n",
    "import torch\n",
    "from torch.utils.data import DataLoader\n",
    "from sklearn.model_selection import train_test_split"
   ]
  },
  {
   "cell_type": "code",
   "execution_count": 2,
   "id": "f25e1881",
   "metadata": {},
   "outputs": [
    {
     "name": "stdout",
     "output_type": "stream",
     "text": [
      "shopping_queries_dataset_examples.parquet\r\n",
      "shopping_queries_dataset_products.parquet\r\n",
      "shopping_queries_dataset_sources.csv\r\n"
     ]
    }
   ],
   "source": [
    "!ls ../esci-data/shopping_queries_dataset"
   ]
  },
  {
   "cell_type": "code",
   "execution_count": 3,
   "id": "7396ec2c",
   "metadata": {},
   "outputs": [
    {
     "name": "stdout",
     "output_type": "stream",
     "text": [
      "/Users/rdubey/mysrc/random-stuff/nlp-transformers\r\n"
     ]
    }
   ],
   "source": [
    "! pwd"
   ]
  },
  {
   "cell_type": "code",
   "execution_count": 4,
   "id": "b3a5a181",
   "metadata": {},
   "outputs": [],
   "source": [
    "dataset_path = \"/Users/rdubey/mysrc/random-stuff/esci-data/shopping_queries_dataset\""
   ]
  },
  {
   "cell_type": "code",
   "execution_count": 5,
   "id": "2b97d44f",
   "metadata": {},
   "outputs": [],
   "source": [
    "\"\"\" 0. Init variables \"\"\"\n",
    "col_query = \"query\"\n",
    "col_query_id = \"query_id\"\n",
    "col_product_id = \"product_id\" \n",
    "col_product_title = \"product_title\"\n",
    "col_product_locale = \"product_locale\"\n",
    "col_esci_label = \"esci_label\" \n",
    "col_product_description = \"product_description\"\n",
    "col_small_version = \"small_version\"\n",
    "col_split = \"split\"\n",
    "col_gain = 'gain'\n",
    "device = torch.device(\"cuda\" if torch.cuda.is_available() else \"cpu\")\n",
    "esci_label2gain = {\n",
    "    'E' : 1.0,\n",
    "    'S' : 0.1,\n",
    "    'C' : 0.01,\n",
    "    'I' : 0.0,\n",
    "}"
   ]
  },
  {
   "cell_type": "code",
   "execution_count": 6,
   "id": "657c0937",
   "metadata": {},
   "outputs": [
    {
     "data": {
      "text/plain": [
       "'/Users/rdubey/mysrc/random-stuff/esci-data/shopping_queries_dataset/shopping_queries_dataset_examples.parquet'"
      ]
     },
     "execution_count": 6,
     "metadata": {},
     "output_type": "execute_result"
    }
   ],
   "source": [
    "os.path.join(dataset_path, 'shopping_queries_dataset_examples.parquet')"
   ]
  },
  {
   "cell_type": "code",
   "execution_count": 7,
   "id": "3a89f1dc",
   "metadata": {},
   "outputs": [
    {
     "name": "stdout",
     "output_type": "stream",
     "text": [
      "shopping_queries_dataset_examples.parquet\r\n",
      "shopping_queries_dataset_products.parquet\r\n",
      "shopping_queries_dataset_sources.csv\r\n"
     ]
    }
   ],
   "source": [
    "! ls /Users/rdubey/mysrc/random-stuff/esci-data/shopping_queries_dataset/"
   ]
  },
  {
   "cell_type": "markdown",
   "id": "294784df",
   "metadata": {},
   "source": [
    "\n",
    "    shopping_queries_dataset_examples.parquet contains the following columns : example_id, query, query_id, product_id, product_locale, esci_label, small_version, large_version, split\n",
    "    shopping_queries_dataset_products.parquet contains the following columns : product_id, product_title, product_description, product_bullet_point, product_brand, product_color, product_locale\n",
    "    shopping_queries_dataset_sources.csv contains the following columns : query_id, source\n"
   ]
  },
  {
   "cell_type": "code",
   "execution_count": 8,
   "id": "8855a7cb",
   "metadata": {},
   "outputs": [],
   "source": [
    "\"\"\" 1. Load data \"\"\"    \n",
    "dataset_path = \"/Users/rdubey/mysrc/random-stuff/esci-data/shopping_queries_dataset\"\n",
    "n_dev_queries = 200 # default from the script\n",
    "df_examples = pd.read_parquet(os.path.join(dataset_path, 'shopping_queries_dataset_examples.parquet'))\n",
    "df_products = pd.read_parquet(os.path.join(dataset_path, 'shopping_queries_dataset_products.parquet'))\n"
   ]
  },
  {
   "cell_type": "code",
   "execution_count": 9,
   "id": "cd7c07dd",
   "metadata": {},
   "outputs": [],
   "source": [
    "df_examples_products = pd.merge(\n",
    "    df_examples,\n",
    "    df_products,\n",
    "    how='left',\n",
    "    left_on=[col_product_locale, col_product_id],\n",
    "    right_on=[col_product_locale, col_product_id]\n",
    ")"
   ]
  },
  {
   "cell_type": "code",
   "execution_count": 10,
   "id": "a1925f06",
   "metadata": {},
   "outputs": [
    {
     "data": {
      "text/html": [
       "<div>\n",
       "<style scoped>\n",
       "    .dataframe tbody tr th:only-of-type {\n",
       "        vertical-align: middle;\n",
       "    }\n",
       "\n",
       "    .dataframe tbody tr th {\n",
       "        vertical-align: top;\n",
       "    }\n",
       "\n",
       "    .dataframe thead th {\n",
       "        text-align: right;\n",
       "    }\n",
       "</style>\n",
       "<table border=\"1\" class=\"dataframe\">\n",
       "  <thead>\n",
       "    <tr style=\"text-align: right;\">\n",
       "      <th></th>\n",
       "      <th>0</th>\n",
       "      <th>1</th>\n",
       "      <th>2</th>\n",
       "      <th>3</th>\n",
       "      <th>4</th>\n",
       "    </tr>\n",
       "  </thead>\n",
       "  <tbody>\n",
       "    <tr>\n",
       "      <th>example_id</th>\n",
       "      <td>0</td>\n",
       "      <td>1</td>\n",
       "      <td>2</td>\n",
       "      <td>3</td>\n",
       "      <td>4</td>\n",
       "    </tr>\n",
       "    <tr>\n",
       "      <th>query</th>\n",
       "      <td>revent 80 cfm</td>\n",
       "      <td>revent 80 cfm</td>\n",
       "      <td>revent 80 cfm</td>\n",
       "      <td>revent 80 cfm</td>\n",
       "      <td>revent 80 cfm</td>\n",
       "    </tr>\n",
       "    <tr>\n",
       "      <th>query_id</th>\n",
       "      <td>0</td>\n",
       "      <td>0</td>\n",
       "      <td>0</td>\n",
       "      <td>0</td>\n",
       "      <td>0</td>\n",
       "    </tr>\n",
       "    <tr>\n",
       "      <th>product_id</th>\n",
       "      <td>B000MOO21W</td>\n",
       "      <td>B07X3Y6B1V</td>\n",
       "      <td>B07WDM7MQQ</td>\n",
       "      <td>B07RH6Z8KW</td>\n",
       "      <td>B07QJ7WYFQ</td>\n",
       "    </tr>\n",
       "    <tr>\n",
       "      <th>product_locale</th>\n",
       "      <td>us</td>\n",
       "      <td>us</td>\n",
       "      <td>us</td>\n",
       "      <td>us</td>\n",
       "      <td>us</td>\n",
       "    </tr>\n",
       "    <tr>\n",
       "      <th>esci_label</th>\n",
       "      <td>I</td>\n",
       "      <td>E</td>\n",
       "      <td>E</td>\n",
       "      <td>E</td>\n",
       "      <td>E</td>\n",
       "    </tr>\n",
       "    <tr>\n",
       "      <th>small_version</th>\n",
       "      <td>0</td>\n",
       "      <td>0</td>\n",
       "      <td>0</td>\n",
       "      <td>0</td>\n",
       "      <td>0</td>\n",
       "    </tr>\n",
       "    <tr>\n",
       "      <th>large_version</th>\n",
       "      <td>1</td>\n",
       "      <td>1</td>\n",
       "      <td>1</td>\n",
       "      <td>1</td>\n",
       "      <td>1</td>\n",
       "    </tr>\n",
       "    <tr>\n",
       "      <th>split</th>\n",
       "      <td>train</td>\n",
       "      <td>train</td>\n",
       "      <td>train</td>\n",
       "      <td>train</td>\n",
       "      <td>train</td>\n",
       "    </tr>\n",
       "    <tr>\n",
       "      <th>product_title</th>\n",
       "      <td>Panasonic FV-20VQ3 WhisperCeiling 190 CFM Ceil...</td>\n",
       "      <td>Homewerks 7141-80 Bathroom Fan Integrated LED ...</td>\n",
       "      <td>Homewerks 7140-80 Bathroom Fan Ceiling Mount E...</td>\n",
       "      <td>Delta Electronics RAD80L BreezRadiance 80 CFM ...</td>\n",
       "      <td>Panasonic FV-08VRE2 Ventilation Fan with Reces...</td>\n",
       "    </tr>\n",
       "    <tr>\n",
       "      <th>product_description</th>\n",
       "      <td>None</td>\n",
       "      <td>None</td>\n",
       "      <td>None</td>\n",
       "      <td>This pre-owned or refurbished product has been...</td>\n",
       "      <td>None</td>\n",
       "    </tr>\n",
       "    <tr>\n",
       "      <th>product_bullet_point</th>\n",
       "      <td>WhisperCeiling fans feature a totally enclosed...</td>\n",
       "      <td>OUTSTANDING PERFORMANCE: This Homewerk's bath ...</td>\n",
       "      <td>OUTSTANDING PERFORMANCE: This Homewerk's bath ...</td>\n",
       "      <td>Quiet operation at 1.5 sones\\nBuilt-in thermos...</td>\n",
       "      <td>The design solution for Fan/light combinations...</td>\n",
       "    </tr>\n",
       "    <tr>\n",
       "      <th>product_brand</th>\n",
       "      <td>Panasonic</td>\n",
       "      <td>Homewerks</td>\n",
       "      <td>Homewerks</td>\n",
       "      <td>DELTA ELECTRONICS (AMERICAS) LTD.</td>\n",
       "      <td>Panasonic</td>\n",
       "    </tr>\n",
       "    <tr>\n",
       "      <th>product_color</th>\n",
       "      <td>White</td>\n",
       "      <td>80 CFM</td>\n",
       "      <td>White</td>\n",
       "      <td>White</td>\n",
       "      <td>White</td>\n",
       "    </tr>\n",
       "  </tbody>\n",
       "</table>\n",
       "</div>"
      ],
      "text/plain": [
       "                                                                      0  \\\n",
       "example_id                                                            0   \n",
       "query                                                     revent 80 cfm   \n",
       "query_id                                                              0   \n",
       "product_id                                                   B000MOO21W   \n",
       "product_locale                                                       us   \n",
       "esci_label                                                            I   \n",
       "small_version                                                         0   \n",
       "large_version                                                         1   \n",
       "split                                                             train   \n",
       "product_title         Panasonic FV-20VQ3 WhisperCeiling 190 CFM Ceil...   \n",
       "product_description                                                None   \n",
       "product_bullet_point  WhisperCeiling fans feature a totally enclosed...   \n",
       "product_brand                                                 Panasonic   \n",
       "product_color                                                     White   \n",
       "\n",
       "                                                                      1  \\\n",
       "example_id                                                            1   \n",
       "query                                                     revent 80 cfm   \n",
       "query_id                                                              0   \n",
       "product_id                                                   B07X3Y6B1V   \n",
       "product_locale                                                       us   \n",
       "esci_label                                                            E   \n",
       "small_version                                                         0   \n",
       "large_version                                                         1   \n",
       "split                                                             train   \n",
       "product_title         Homewerks 7141-80 Bathroom Fan Integrated LED ...   \n",
       "product_description                                                None   \n",
       "product_bullet_point  OUTSTANDING PERFORMANCE: This Homewerk's bath ...   \n",
       "product_brand                                                 Homewerks   \n",
       "product_color                                                    80 CFM   \n",
       "\n",
       "                                                                      2  \\\n",
       "example_id                                                            2   \n",
       "query                                                     revent 80 cfm   \n",
       "query_id                                                              0   \n",
       "product_id                                                   B07WDM7MQQ   \n",
       "product_locale                                                       us   \n",
       "esci_label                                                            E   \n",
       "small_version                                                         0   \n",
       "large_version                                                         1   \n",
       "split                                                             train   \n",
       "product_title         Homewerks 7140-80 Bathroom Fan Ceiling Mount E...   \n",
       "product_description                                                None   \n",
       "product_bullet_point  OUTSTANDING PERFORMANCE: This Homewerk's bath ...   \n",
       "product_brand                                                 Homewerks   \n",
       "product_color                                                     White   \n",
       "\n",
       "                                                                      3  \\\n",
       "example_id                                                            3   \n",
       "query                                                     revent 80 cfm   \n",
       "query_id                                                              0   \n",
       "product_id                                                   B07RH6Z8KW   \n",
       "product_locale                                                       us   \n",
       "esci_label                                                            E   \n",
       "small_version                                                         0   \n",
       "large_version                                                         1   \n",
       "split                                                             train   \n",
       "product_title         Delta Electronics RAD80L BreezRadiance 80 CFM ...   \n",
       "product_description   This pre-owned or refurbished product has been...   \n",
       "product_bullet_point  Quiet operation at 1.5 sones\\nBuilt-in thermos...   \n",
       "product_brand                         DELTA ELECTRONICS (AMERICAS) LTD.   \n",
       "product_color                                                     White   \n",
       "\n",
       "                                                                      4  \n",
       "example_id                                                            4  \n",
       "query                                                     revent 80 cfm  \n",
       "query_id                                                              0  \n",
       "product_id                                                   B07QJ7WYFQ  \n",
       "product_locale                                                       us  \n",
       "esci_label                                                            E  \n",
       "small_version                                                         0  \n",
       "large_version                                                         1  \n",
       "split                                                             train  \n",
       "product_title         Panasonic FV-08VRE2 Ventilation Fan with Reces...  \n",
       "product_description                                                None  \n",
       "product_bullet_point  The design solution for Fan/light combinations...  \n",
       "product_brand                                                 Panasonic  \n",
       "product_color                                                     White  "
      ]
     },
     "execution_count": 10,
     "metadata": {},
     "output_type": "execute_result"
    }
   ],
   "source": [
    "df_examples_products.head().T"
   ]
  },
  {
   "cell_type": "code",
   "execution_count": 11,
   "id": "8b1d44f2",
   "metadata": {},
   "outputs": [],
   "source": [
    "locale = 'us'\n",
    "df_examples_products = df_examples_products[df_examples_products[col_small_version] == 1]\n",
    "df_examples_products = df_examples_products[df_examples_products[col_split] == \"train\"]\n",
    "df_examples_products = df_examples_products[df_examples_products[col_product_locale] == locale]\n",
    "df_examples_products[col_gain] = df_examples_products[col_esci_label].apply(lambda esci_label: esci_label2gain[esci_label])"
   ]
  },
  {
   "cell_type": "code",
   "execution_count": 12,
   "id": "61fac795",
   "metadata": {},
   "outputs": [],
   "source": [
    "import re\n",
    "def clean_text_column(x):\n",
    "    x = x.lower() # lowercase everything\n",
    "    x = ' '.join(x.strip().splitlines())\n",
    "    x = x.encode('ascii', 'ignore').decode()  # remove unicode characters\n",
    "    x = re.sub(r'https*\\S+', ' ', x) # remove links\n",
    "    x = re.sub(r'http*\\S+', ' ', x)\n",
    "\n",
    "    # cleaning up text\n",
    "    x = re.sub(r'\\'\\w+', '', x) \n",
    "    \n",
    "    x = re.sub(r'\\w*\\d+\\w*', '', x)\n",
    "    \n",
    "    x = re.sub(r'\\s{2,}', ' ', x)\n",
    "    \n",
    "    x = re.sub(r'\\s[^\\w\\s]\\s', '', x)\n",
    "#     print(x)\n",
    "    x = remove_html_tags(x)\n",
    "    return x\n",
    "\n",
    "def remove_html_tags(text):\n",
    "    \"\"\"Remove html tags from a string\"\"\"\n",
    "    import re\n",
    "    clean = re.compile('<.*?>')\n",
    "    return re.sub(clean, '', text)"
   ]
  },
  {
   "cell_type": "code",
   "execution_count": 13,
   "id": "0892f53f",
   "metadata": {},
   "outputs": [],
   "source": [
    "df_examples_products_clean = df_examples_products.copy()\n",
    "df_examples_products_clean['query'] = df_examples_products_clean['query'].apply(clean_text_column) \n",
    "df_examples_products_clean['product_title'] = df_examples_products_clean['product_title'].apply(clean_text_column) "
   ]
  },
  {
   "cell_type": "code",
   "execution_count": 14,
   "id": "616c13a1",
   "metadata": {},
   "outputs": [],
   "source": [
    "random_state = 42\n",
    "list_query_id = df_examples_products_clean[col_query_id].unique()\n",
    "dev_size = n_dev_queries / len(list_query_id)\n",
    "list_query_id_train, list_query_id_dev = train_test_split(list_query_id, test_size=dev_size, random_state=random_state)"
   ]
  },
  {
   "cell_type": "code",
   "execution_count": 15,
   "id": "1ccd5384",
   "metadata": {},
   "outputs": [],
   "source": [
    "df_examples_products = df_examples_products_clean[[col_query_id, col_query, col_product_title, col_gain]]\n",
    "df_train = df_examples_products[df_examples_products[col_query_id].isin(list_query_id_train)]\n",
    "df_dev = df_examples_products[df_examples_products[col_query_id].isin(list_query_id_dev)]"
   ]
  },
  {
   "cell_type": "code",
   "execution_count": 16,
   "id": "0200b7eb",
   "metadata": {},
   "outputs": [
    {
     "data": {
      "text/html": [
       "<div>\n",
       "<style scoped>\n",
       "    .dataframe tbody tr th:only-of-type {\n",
       "        vertical-align: middle;\n",
       "    }\n",
       "\n",
       "    .dataframe tbody tr th {\n",
       "        vertical-align: top;\n",
       "    }\n",
       "\n",
       "    .dataframe thead th {\n",
       "        text-align: right;\n",
       "    }\n",
       "</style>\n",
       "<table border=\"1\" class=\"dataframe\">\n",
       "  <thead>\n",
       "    <tr style=\"text-align: right;\">\n",
       "      <th></th>\n",
       "      <th>query_id</th>\n",
       "      <th>query</th>\n",
       "      <th>product_title</th>\n",
       "      <th>gain</th>\n",
       "    </tr>\n",
       "  </thead>\n",
       "  <tbody>\n",
       "    <tr>\n",
       "      <th>16</th>\n",
       "      <td>1</td>\n",
       "      <td>!awnmower tires without rims</td>\n",
       "      <td>ramproall purpose utility air tires/wheels wit...</td>\n",
       "      <td>0.0</td>\n",
       "    </tr>\n",
       "    <tr>\n",
       "      <th>17</th>\n",
       "      <td>1</td>\n",
       "      <td>!awnmower tires without rims</td>\n",
       "      <td>maxauto -pack .- turf mower tractor tire with ...</td>\n",
       "      <td>1.0</td>\n",
       "    </tr>\n",
       "    <tr>\n",
       "      <th>18</th>\n",
       "      <td>1</td>\n",
       "      <td>!awnmower tires without rims</td>\n",
       "      <td>neikoinch steel tire spoon lever iron tool kit...</td>\n",
       "      <td>0.0</td>\n",
       "    </tr>\n",
       "    <tr>\n",
       "      <th>19</th>\n",
       "      <td>1</td>\n",
       "      <td>!awnmower tires without rims</td>\n",
       "      <td>.-- turf mower tractor tire with gray rim</td>\n",
       "      <td>0.1</td>\n",
       "    </tr>\n",
       "    <tr>\n",
       "      <th>20</th>\n",
       "      <td>1</td>\n",
       "      <td>!awnmower tires without rims</td>\n",
       "      <td>(set of.- husqvarna/poulan tire wheel assy .\" ...</td>\n",
       "      <td>1.0</td>\n",
       "    </tr>\n",
       "  </tbody>\n",
       "</table>\n",
       "</div>"
      ],
      "text/plain": [
       "    query_id                         query  \\\n",
       "16         1  !awnmower tires without rims   \n",
       "17         1  !awnmower tires without rims   \n",
       "18         1  !awnmower tires without rims   \n",
       "19         1  !awnmower tires without rims   \n",
       "20         1  !awnmower tires without rims   \n",
       "\n",
       "                                        product_title  gain  \n",
       "16  ramproall purpose utility air tires/wheels wit...   0.0  \n",
       "17  maxauto -pack .- turf mower tractor tire with ...   1.0  \n",
       "18  neikoinch steel tire spoon lever iron tool kit...   0.0  \n",
       "19          .-- turf mower tractor tire with gray rim   0.1  \n",
       "20  (set of.- husqvarna/poulan tire wheel assy .\" ...   1.0  "
      ]
     },
     "execution_count": 16,
     "metadata": {},
     "output_type": "execute_result"
    }
   ],
   "source": [
    "df_train.head()"
   ]
  },
  {
   "cell_type": "code",
   "execution_count": 17,
   "id": "acec23f8",
   "metadata": {},
   "outputs": [
    {
     "data": {
      "text/plain": [
       "array([     1,      5,      6, ..., 128570, 130537, 130539])"
      ]
     },
     "execution_count": 17,
     "metadata": {},
     "output_type": "execute_result"
    }
   ],
   "source": [
    "df_train.query_id.unique()"
   ]
  },
  {
   "cell_type": "code",
   "execution_count": 18,
   "id": "edbe90f8",
   "metadata": {},
   "outputs": [
    {
     "data": {
      "text/html": [
       "<div>\n",
       "<style scoped>\n",
       "    .dataframe tbody tr th:only-of-type {\n",
       "        vertical-align: middle;\n",
       "    }\n",
       "\n",
       "    .dataframe tbody tr th {\n",
       "        vertical-align: top;\n",
       "    }\n",
       "\n",
       "    .dataframe thead th {\n",
       "        text-align: right;\n",
       "    }\n",
       "</style>\n",
       "<table border=\"1\" class=\"dataframe\">\n",
       "  <thead>\n",
       "    <tr style=\"text-align: right;\">\n",
       "      <th></th>\n",
       "      <th>query_id</th>\n",
       "      <th>query</th>\n",
       "      <th>product_title</th>\n",
       "      <th>gain</th>\n",
       "    </tr>\n",
       "  </thead>\n",
       "  <tbody>\n",
       "    <tr>\n",
       "      <th>8836</th>\n",
       "      <td>297</td>\n",
       "      <td>- withnot hole</td>\n",
       "      <td>stylemafiafuel line fuel pressure barbed push ...</td>\n",
       "      <td>1.0</td>\n",
       "    </tr>\n",
       "    <tr>\n",
       "      <th>8837</th>\n",
       "      <td>297</td>\n",
       "      <td>- withnot hole</td>\n",
       "      <td>measureman fuel line fuel pressure adapter bra...</td>\n",
       "      <td>0.0</td>\n",
       "    </tr>\n",
       "    <tr>\n",
       "      <th>8838</th>\n",
       "      <td>297</td>\n",
       "      <td>- withnot hole</td>\n",
       "      <td>/ npt to fittingdegree female adapter (steel)k...</td>\n",
       "      <td>0.0</td>\n",
       "    </tr>\n",
       "    <tr>\n",
       "      <th>8839</th>\n",
       "      <td>297</td>\n",
       "      <td>- withnot hole</td>\n",
       "      <td>mwmnun /\" npt port -/\" steam tube adapter top ...</td>\n",
       "      <td>0.0</td>\n",
       "    </tr>\n",
       "    <tr>\n",
       "      <th>8840</th>\n",
       "      <td>297</td>\n",
       "      <td>- withnot hole</td>\n",
       "      <td>mwmnunfuel line push lock fuel pressure barbed...</td>\n",
       "      <td>0.0</td>\n",
       "    </tr>\n",
       "  </tbody>\n",
       "</table>\n",
       "</div>"
      ],
      "text/plain": [
       "      query_id           query  \\\n",
       "8836       297  - withnot hole   \n",
       "8837       297  - withnot hole   \n",
       "8838       297  - withnot hole   \n",
       "8839       297  - withnot hole   \n",
       "8840       297  - withnot hole   \n",
       "\n",
       "                                          product_title  gain  \n",
       "8836  stylemafiafuel line fuel pressure barbed push ...   1.0  \n",
       "8837  measureman fuel line fuel pressure adapter bra...   0.0  \n",
       "8838  / npt to fittingdegree female adapter (steel)k...   0.0  \n",
       "8839  mwmnun /\" npt port -/\" steam tube adapter top ...   0.0  \n",
       "8840  mwmnunfuel line push lock fuel pressure barbed...   0.0  "
      ]
     },
     "execution_count": 18,
     "metadata": {},
     "output_type": "execute_result"
    }
   ],
   "source": [
    "df_dev.head()"
   ]
  },
  {
   "cell_type": "code",
   "execution_count": 59,
   "id": "4d7c25e9",
   "metadata": {},
   "outputs": [
    {
     "name": "stdout",
     "output_type": "stream",
     "text": [
      "[1 5 6]\n"
     ]
    },
    {
     "data": {
      "text/html": [
       "<div>\n",
       "<style scoped>\n",
       "    .dataframe tbody tr th:only-of-type {\n",
       "        vertical-align: middle;\n",
       "    }\n",
       "\n",
       "    .dataframe tbody tr th {\n",
       "        vertical-align: top;\n",
       "    }\n",
       "\n",
       "    .dataframe thead th {\n",
       "        text-align: right;\n",
       "    }\n",
       "</style>\n",
       "<table border=\"1\" class=\"dataframe\">\n",
       "  <thead>\n",
       "    <tr style=\"text-align: right;\">\n",
       "      <th></th>\n",
       "      <th>query_id</th>\n",
       "      <th>query</th>\n",
       "      <th>product_title</th>\n",
       "      <th>gain</th>\n",
       "    </tr>\n",
       "  </thead>\n",
       "  <tbody>\n",
       "    <tr>\n",
       "      <th>16</th>\n",
       "      <td>1</td>\n",
       "      <td>!awnmower tires without rims</td>\n",
       "      <td>ramproall purpose utility air tires/wheels wit...</td>\n",
       "      <td>0.0</td>\n",
       "    </tr>\n",
       "    <tr>\n",
       "      <th>17</th>\n",
       "      <td>1</td>\n",
       "      <td>!awnmower tires without rims</td>\n",
       "      <td>maxauto -pack .- turf mower tractor tire with ...</td>\n",
       "      <td>1.0</td>\n",
       "    </tr>\n",
       "    <tr>\n",
       "      <th>18</th>\n",
       "      <td>1</td>\n",
       "      <td>!awnmower tires without rims</td>\n",
       "      <td>neikoinch steel tire spoon lever iron tool kit...</td>\n",
       "      <td>0.0</td>\n",
       "    </tr>\n",
       "    <tr>\n",
       "      <th>19</th>\n",
       "      <td>1</td>\n",
       "      <td>!awnmower tires without rims</td>\n",
       "      <td>.-- turf mower tractor tire with gray rim</td>\n",
       "      <td>0.1</td>\n",
       "    </tr>\n",
       "    <tr>\n",
       "      <th>20</th>\n",
       "      <td>1</td>\n",
       "      <td>!awnmower tires without rims</td>\n",
       "      <td>(set of.- husqvarna/poulan tire wheel assy .\" ...</td>\n",
       "      <td>1.0</td>\n",
       "    </tr>\n",
       "  </tbody>\n",
       "</table>\n",
       "</div>"
      ],
      "text/plain": [
       "    query_id                         query  \\\n",
       "16         1  !awnmower tires without rims   \n",
       "17         1  !awnmower tires without rims   \n",
       "18         1  !awnmower tires without rims   \n",
       "19         1  !awnmower tires without rims   \n",
       "20         1  !awnmower tires without rims   \n",
       "\n",
       "                                        product_title  gain  \n",
       "16  ramproall purpose utility air tires/wheels wit...   0.0  \n",
       "17  maxauto -pack .- turf mower tractor tire with ...   1.0  \n",
       "18  neikoinch steel tire spoon lever iron tool kit...   0.0  \n",
       "19          .-- turf mower tractor tire with gray rim   0.1  \n",
       "20  (set of.- husqvarna/poulan tire wheel assy .\" ...   1.0  "
      ]
     },
     "execution_count": 59,
     "metadata": {},
     "output_type": "execute_result"
    }
   ],
   "source": [
    "df_sample = df_train[df_train.query_id.isin([1,5,6])]\n",
    "print(df_sample.query_id.unique())\n",
    "df_sample.head()"
   ]
  },
  {
   "cell_type": "code",
   "execution_count": 60,
   "id": "eab14e1d",
   "metadata": {},
   "outputs": [],
   "source": [
    "# df_sample[df_sample.query_id==1][[col_product_title, col_gain]]"
   ]
  },
  {
   "cell_type": "code",
   "execution_count": 62,
   "id": "95d2aaad",
   "metadata": {},
   "outputs": [],
   "source": [
    "from itertools import product\n",
    "import itertools\n",
    "def my_func(grouping):\n",
    "    query_id, grouped_df = grouping\n",
    "    query_text = grouped_df['query'].tolist()[0]\n",
    "    grouped_df.sort_values(col_gain, ascending=False, inplace=True)\n",
    "    text_sorted_by_relevance = zip(\n",
    "        grouped_df[col_gain].tolist(), grouped_df[col_product_title].tolist()\n",
    "    )\n",
    "    pos_neg_pair = list(\n",
    "        itertools.filterfalse(\n",
    "            lambda pair: pair[0][0]<=pair[1][0], product(text_sorted_by_relevance,repeat=2))\n",
    "    )\n",
    "    pos_neg_pair = [(t[0][1], t[1][1]) for t in pos_neg_pair]\n",
    "#     rel = grouped_df[grouped_df.gain==1.0]['product_title'].tolist()\n",
    "#     non_rel = grouped_df[grouped_df.gain<1.0]['product_title'].tolist()\n",
    "#     pos_neg_pair = list(product(rel, non_rel))\n",
    "#     print(pos_neg_pair)\n",
    "    query = [query_text]*len(pos_neg_pair)\n",
    "    pos, neg = map(list, zip(*pos_neg_pair))\n",
    "    triples = []\n",
    "    for q,p,n in zip(query, pos, neg):\n",
    "#         triples.append((q,p,n))\n",
    "        triples.append(InputExample(texts=[q, p, n]))\n",
    "    return triples\n",
    "#     return pd.DataFrame.from_dict({'query': query, 'pairs': pos_neg_pair})\n",
    "groups = df_sample.groupby('query_id')\n",
    "triplets = []\n",
    "for g in groups:\n",
    "    triplets.extend(my_func(g))\n",
    "    break\n",
    "# list(triplets)"
   ]
  },
  {
   "cell_type": "code",
   "execution_count": 65,
   "id": "3fec97d0",
   "metadata": {},
   "outputs": [],
   "source": [
    "# triplets"
   ]
  },
  {
   "cell_type": "code",
   "execution_count": 66,
   "id": "fdc3ca43",
   "metadata": {},
   "outputs": [],
   "source": [
    "train_triplets = []\n",
    "groups = df_train.groupby('query_id')\n",
    "for g in groups:\n",
    "    train_triplets.extend(my_func(g))"
   ]
  },
  {
   "cell_type": "code",
   "execution_count": 68,
   "id": "b881ba4d",
   "metadata": {},
   "outputs": [
    {
     "data": {
      "text/plain": [
       "['!awnmower tires without rims',\n",
       " 'maxauto pcs .- lawn mower tire for garden tractors ridings,tubeless',\n",
       " 'honda -- front wheels, (set of )']"
      ]
     },
     "execution_count": 68,
     "metadata": {},
     "output_type": "execute_result"
    }
   ],
   "source": [
    "train_triplets[20].texts"
   ]
  },
  {
   "cell_type": "code",
   "execution_count": 76,
   "id": "46fb477f",
   "metadata": {},
   "outputs": [],
   "source": [
    "device = \"mps\"\n",
    "train_batch_size = 64\n",
    "model_save_path = f\"./models/task_1_ranking_model_triplet_v2/{locale}\""
   ]
  },
  {
   "cell_type": "code",
   "execution_count": 77,
   "id": "86cf623f",
   "metadata": {},
   "outputs": [],
   "source": [
    "train_dataloader = DataLoader(train_triplets, shuffle=True, batch_size=train_batch_size)"
   ]
  },
  {
   "cell_type": "code",
   "execution_count": 80,
   "id": "5ccbec4d",
   "metadata": {},
   "outputs": [],
   "source": [
    "from sentence_transformers import losses\n",
    "from sentence_transformers import SentenceTransformer\n",
    "\n",
    "model_id = \"sentence-transformers/all-MiniLM-L6-v2\"\n",
    "model = SentenceTransformer(model_id, device=\"mps\")\n",
    "\n",
    "# model_name = 'all-distilroberta-v1'\n",
    "# model = SentenceTransformer(model_name, device=device)\n",
    "train_loss = losses.TripletLoss(model=model)"
   ]
  },
  {
   "cell_type": "code",
   "execution_count": 81,
   "id": "9c875d6c",
   "metadata": {},
   "outputs": [
    {
     "data": {
      "application/vnd.jupyter.widget-view+json": {
       "model_id": "2ec9b21c76e34057b7150fb8a0819c4c",
       "version_major": 2,
       "version_minor": 0
      },
      "text/plain": [
       "Epoch:   0%|          | 0/1 [00:00<?, ?it/s]"
      ]
     },
     "metadata": {},
     "output_type": "display_data"
    },
    {
     "data": {
      "application/vnd.jupyter.widget-view+json": {
       "model_id": "191066b76198462791f260b57d7d1dec",
       "version_major": 2,
       "version_minor": 0
      },
      "text/plain": [
       "Iteration:   0%|          | 0/38611 [00:00<?, ?it/s]"
      ]
     },
     "metadata": {},
     "output_type": "display_data"
    }
   ],
   "source": [
    "model.fit(train_objectives=[(train_dataloader, train_loss)], epochs=1) "
   ]
  },
  {
   "cell_type": "code",
   "execution_count": 83,
   "id": "3cb4106f",
   "metadata": {},
   "outputs": [],
   "source": [
    "model_save_path = './models/task_1_ranking_model_triplet_v3/us'"
   ]
  },
  {
   "cell_type": "code",
   "execution_count": 84,
   "id": "c0c148ce",
   "metadata": {},
   "outputs": [],
   "source": [
    "model.save(model_save_path)"
   ]
  },
  {
   "cell_type": "code",
   "execution_count": 22,
   "id": "c5a51818",
   "metadata": {},
   "outputs": [
    {
     "data": {
      "text/plain": [
       "200769"
      ]
     },
     "execution_count": 22,
     "metadata": {},
     "output_type": "execute_result"
    }
   ],
   "source": [
    "groups = df_train.groupby('query_id')\n",
    "train_samples = []\n",
    "for query_id, group_df in groups:\n",
    "    query_text = group_df[col_query].iloc[0]\n",
    "#     print(group_df)\n",
    "    pos_rows = group_df[group_df[col_gain]==1.0]\n",
    "    pos_text = pos_rows[col_product_title].tolist()\n",
    "    train_samples.append(\n",
    "        InputExample(texts=[query_text], label=query_id)\n",
    "    )\n",
    "    for pt in pos_text:\n",
    "        train_samples.append(\n",
    "            InputExample(texts=[pt], label=query_id)\n",
    "        )\n",
    "#     break\n",
    "len(train_samples)"
   ]
  },
  {
   "cell_type": "code",
   "execution_count": 23,
   "id": "e1f9e32b",
   "metadata": {},
   "outputs": [
    {
     "name": "stdout",
     "output_type": "stream",
     "text": [
      "200\n"
     ]
    },
    {
     "data": {
      "text/plain": [
       "1938"
      ]
     },
     "execution_count": 23,
     "metadata": {},
     "output_type": "execute_result"
    }
   ],
   "source": [
    "groups = df_dev.groupby('query_id')\n",
    "dev_samples = []\n",
    "print(len(groups))\n",
    "for query_id, group_df in groups:\n",
    "    query_text = group_df[col_query].iloc[0]\n",
    "#     print(group_df)\n",
    "    pos_rows = group_df[group_df[col_gain]==1.0]\n",
    "    pos_text = pos_rows[col_product_title].tolist()\n",
    "    dev_samples.append(\n",
    "        InputExample(texts=[query_text], label=query_id)\n",
    "    )\n",
    "    for i,row in group_df.iterrows():\n",
    "        if row[col_gain] == 1.0:\n",
    "            dev_samples.append(\n",
    "                InputExample(texts=[row[col_product_title], row[col_gain]], label=query_id)\n",
    "            )\n",
    "\n",
    "#     for pt in pos_text:\n",
    "#         dev_samples.append(\n",
    "#             InputExample(texts=[pt, ], label=query_id)\n",
    "#         )\n",
    "#     break\n",
    "len(dev_samples)"
   ]
  },
  {
   "cell_type": "code",
   "execution_count": null,
   "id": "7f2502f9",
   "metadata": {},
   "outputs": [],
   "source": [
    "# dev_samples[1].texts"
   ]
  },
  {
   "cell_type": "code",
   "execution_count": null,
   "id": "3c38fb6c",
   "metadata": {},
   "outputs": [],
   "source": [
    "# old strategy of creating triplets\n",
    "# for (_, row) in df_train.iterrows():\n",
    "#     if row[col_gain]==1.0:\n",
    "#         train_samples.append(InputExample(texts=[row[col_product_title]], label=float(row[col_query_id])))\n",
    "# len(train_samples)"
   ]
  },
  {
   "cell_type": "code",
   "execution_count": null,
   "id": "65475710",
   "metadata": {},
   "outputs": [],
   "source": [
    "# old strategy of creating triplets\n",
    "# dev_samples = []\n",
    "# for (_, row) in df_dev.iterrows():\n",
    "#     if row[col_gain]==1.0:\n",
    "#         dev_samples.append(InputExample(texts=[row[col_product_title]], label=float(row[col_query_id])))\n",
    "# len(dev_samples)"
   ]
  },
  {
   "cell_type": "code",
   "execution_count": 24,
   "id": "77aa974c",
   "metadata": {},
   "outputs": [],
   "source": [
    "from sentence_transformers.datasets import SentenceLabelDataset\n",
    "train_data_sampler = SentenceLabelDataset(train_samples)\n",
    "train_dataloader = DataLoader(train_data_sampler, batch_size=train_batch_size, drop_last=True)"
   ]
  },
  {
   "cell_type": "code",
   "execution_count": 25,
   "id": "1d08c76c",
   "metadata": {},
   "outputs": [],
   "source": [
    "# https://github.com/UKPLab/sentence-transformers/blob/master/examples/training/other/training_batch_hard_trec.py\n",
    "from collections import defaultdict\n",
    "import random\n",
    "def triplets_from_labeled_dataset(input_examples):\n",
    "    # Create triplets for a [(label, sentence), (label, sentence)...] dataset\n",
    "    # by using each example as an anchor and selecting randomly a\n",
    "    # positive instance with the same label and a negative instance with a different label\n",
    "    triplets = []\n",
    "    label2sentence = defaultdict(list)\n",
    "    for inp_example in input_examples:\n",
    "        label2sentence[inp_example.label].append(inp_example)\n",
    "\n",
    "    for i,inp_example in enumerate(input_examples):\n",
    "        \n",
    "        anchor = inp_example\n",
    "\n",
    "        if len(label2sentence[inp_example.label]) < 2: #We need at least 2 examples per label to create a triplet\n",
    "            continue\n",
    "\n",
    "        positive = None\n",
    "        count=0\n",
    "        while positive is None or positive.texts[0] == anchor.texts[0]:\n",
    "            count += 1\n",
    "            positive = random.choice(label2sentence[inp_example.label])\n",
    "            if count > 100:\n",
    "                print(i, inp_example)\n",
    "                break\n",
    "                \n",
    "        negative = None\n",
    "        count = 0\n",
    "        while negative is None or negative.texts[0] == anchor.texts[0]:\n",
    "            count += 1\n",
    "            if count > 100:\n",
    "                print(i, inp_example)\n",
    "                break\n",
    "            negative = random.choice(input_examples)\n",
    "\n",
    "        triplets.append(InputExample(texts=[anchor.texts[0], positive.texts[0], negative.texts[0]]))\n",
    "\n",
    "    return triplets\n",
    "dev_triplets = triplets_from_labeled_dataset(dev_samples)"
   ]
  },
  {
   "cell_type": "code",
   "execution_count": 26,
   "id": "6a385b20",
   "metadata": {},
   "outputs": [
    {
     "data": {
      "text/plain": [
       "1938"
      ]
     },
     "execution_count": 26,
     "metadata": {},
     "output_type": "execute_result"
    }
   ],
   "source": [
    "len(dev_triplets)"
   ]
  },
  {
   "cell_type": "code",
   "execution_count": 27,
   "id": "dc668bba",
   "metadata": {},
   "outputs": [
    {
     "data": {
      "text/plain": [
       "['- withnot hole',\n",
       " 'stylemafiafuel line fuel pressure barbed push lock t-fitting /- npt sensor port,/ hose clamp stainless steel fits hose withid inner diameter includes pse clamps',\n",
       " 'underwater kinetics eled () dive light, safety yellow']"
      ]
     },
     "execution_count": 27,
     "metadata": {},
     "output_type": "execute_result"
    }
   ],
   "source": [
    "dev_triplets[0].texts"
   ]
  },
  {
   "cell_type": "code",
   "execution_count": 33,
   "id": "a1682f94",
   "metadata": {},
   "outputs": [],
   "source": [
    "device='cpu'"
   ]
  },
  {
   "cell_type": "code",
   "execution_count": 42,
   "id": "9781e214",
   "metadata": {},
   "outputs": [],
   "source": [
    "model_name = 'all-distilroberta-v1'\n",
    "model = SentenceTransformer(model_name, device=device)"
   ]
  },
  {
   "cell_type": "code",
   "execution_count": 43,
   "id": "6915470e",
   "metadata": {},
   "outputs": [],
   "source": [
    "from sentence_transformers.losses import BatchHardTripletLossDistanceFunction\n",
    "train_loss = losses.BatchAllTripletLoss(\n",
    "    model=model, distance_metric=BatchHardTripletLossDistanceFunction.cosine_distance\n",
    ")"
   ]
  },
  {
   "cell_type": "code",
   "execution_count": 44,
   "id": "cec5cb72",
   "metadata": {},
   "outputs": [],
   "source": [
    "from sentence_transformers.evaluation import TripletEvaluator\n",
    "dev_evaluator = TripletEvaluator.from_input_examples(dev_triplets, name='dev-set')"
   ]
  },
  {
   "cell_type": "code",
   "execution_count": 45,
   "id": "a7777226",
   "metadata": {},
   "outputs": [
    {
     "name": "stdout",
     "output_type": "stream",
     "text": [
      "Performance before fine-tuning:\n"
     ]
    },
    {
     "data": {
      "text/plain": [
       "0.9607843137254902"
      ]
     },
     "execution_count": 45,
     "metadata": {},
     "output_type": "execute_result"
    }
   ],
   "source": [
    "print(\"Performance before fine-tuning:\")\n",
    "dev_evaluator(model)"
   ]
  },
  {
   "cell_type": "code",
   "execution_count": 49,
   "id": "33f4f833",
   "metadata": {},
   "outputs": [
    {
     "data": {
      "text/plain": [
       "(20076, 200769)"
      ]
     },
     "execution_count": 49,
     "metadata": {},
     "output_type": "execute_result"
    }
   ],
   "source": [
    "warmup_steps = int(len(train_samples) * num_epochs  * 0.1)  # 10% of train data\n",
    "warmup_steps, len(train_samples)"
   ]
  },
  {
   "cell_type": "code",
   "execution_count": 50,
   "id": "89a08350",
   "metadata": {},
   "outputs": [
    {
     "data": {
      "application/vnd.jupyter.widget-view+json": {
       "model_id": "cddbef7a02544fbcb3bfe2d044105497",
       "version_major": 2,
       "version_minor": 0
      },
      "text/plain": [
       "Epoch:   0%|          | 0/1 [00:00<?, ?it/s]"
      ]
     },
     "metadata": {},
     "output_type": "display_data"
    },
    {
     "data": {
      "application/vnd.jupyter.widget-view+json": {
       "model_id": "76180c33beae4239bd6588d37f4d646b",
       "version_major": 2,
       "version_minor": 0
      },
      "text/plain": [
       "Iteration:   0%|          | 0/3137 [00:00<?, ?it/s]"
      ]
     },
     "metadata": {},
     "output_type": "display_data"
    }
   ],
   "source": [
    "num_epochs = 1\n",
    "warmup_steps = 5000 # int(len(train_dataloader) * num_epochs  * 0.2)  # 10% of train data\n",
    "\n",
    "# Train the model\n",
    "lr = 1e-6\n",
    "model.fit(\n",
    "    train_objectives=[(train_dataloader, train_loss)],\n",
    "    evaluator=dev_evaluator,\n",
    "    epochs=num_epochs,\n",
    "    evaluation_steps=1000,\n",
    "    warmup_steps=warmup_steps,\n",
    "    output_path=f\"{model_save_path}_tmp\",\n",
    "    optimizer_params={'lr': lr},\n",
    ")"
   ]
  },
  {
   "cell_type": "code",
   "execution_count": 51,
   "id": "9da9298c",
   "metadata": {},
   "outputs": [
    {
     "data": {
      "text/plain": [
       "'./models/task_1_ranking_model_triplet_v1/us'"
      ]
     },
     "execution_count": 51,
     "metadata": {},
     "output_type": "execute_result"
    }
   ],
   "source": [
    "model_save_path"
   ]
  },
  {
   "cell_type": "code",
   "execution_count": 52,
   "id": "c10ac4f2",
   "metadata": {},
   "outputs": [],
   "source": [
    "model.save(model_save_path)"
   ]
  },
  {
   "cell_type": "code",
   "execution_count": 53,
   "id": "9562ab55",
   "metadata": {},
   "outputs": [
    {
     "name": "stdout",
     "output_type": "stream",
     "text": [
      "Performance after fine-tuning:\n"
     ]
    },
    {
     "data": {
      "text/plain": [
       "0.9607843137254902"
      ]
     },
     "execution_count": 53,
     "metadata": {},
     "output_type": "execute_result"
    }
   ],
   "source": [
    "print(\"Performance after fine-tuning:\")\n",
    "dev_evaluator(model)"
   ]
  },
  {
   "cell_type": "code",
   "execution_count": 85,
   "id": "0a52a8b0",
   "metadata": {},
   "outputs": [],
   "source": [
    " \"\"\" 0. Init variables \"\"\"\n",
    "import numpy as np\n",
    "col_query = \"query\"\n",
    "col_query_id = \"query_id\"\n",
    "col_product_id = \"product_id\" \n",
    "col_product_title = \"product_title\"\n",
    "col_product_locale = \"product_locale\"\n",
    "col_small_version = \"small_version\"\n",
    "col_split = \"split\"\n",
    "col_scores = \"scores\"\n",
    "device = torch.device(\"cuda\" if torch.cuda.is_available() else \"cpu\")\n",
    "\n",
    "\"\"\" 1. Load data \"\"\"    \n",
    "df_examples = pd.read_parquet(os.path.join(dataset_path, 'shopping_queries_dataset_examples.parquet'))\n",
    "df_products = pd.read_parquet(os.path.join(dataset_path, 'shopping_queries_dataset_products.parquet'))\n",
    "\n",
    "df_examples_products = pd.merge(\n",
    "    df_examples,\n",
    "    df_products,\n",
    "    how='left',\n",
    "    left_on=[col_product_locale, col_product_id],\n",
    "    right_on=[col_product_locale, col_product_id]\n",
    ")\n",
    "df_examples_products = df_examples_products[df_examples_products[col_small_version] == 1]\n",
    "df_examples_products = df_examples_products[df_examples_products[col_split] == \"test\"]\n",
    "df_examples_products = df_examples_products[df_examples_products[col_product_locale] == locale]\n",
    "df_examples_products_clean = df_examples_products.copy()\n",
    "df_examples_products_clean['query'] = df_examples_products_clean['query'].apply(clean_text_column) \n",
    "df_examples_products_clean['product_title'] = df_examples_products_clean['product_title'].apply(clean_text_column) \n",
    "features_query = df_examples_products_clean[col_query].to_list()\n",
    "features_product = df_examples_products_clean[col_product_title].to_list()\n",
    "n_examples = len(features_query)\n",
    "scores = np.zeros(n_examples)"
   ]
  },
  {
   "cell_type": "code",
   "execution_count": 86,
   "id": "4c70507f",
   "metadata": {},
   "outputs": [
    {
     "name": "stderr",
     "output_type": "stream",
     "text": [
      "100%|████████████████████████████████████████████████████████████████████████| 8956/8956 [48:58<00:00,  3.05it/s]\n"
     ]
    }
   ],
   "source": [
    "from tqdm import tqdm\n",
    "\n",
    "def embed_query_products(grouping):\n",
    "    i, group_df = grouping\n",
    "    features_query = group_df['query']\n",
    "    features_product = group_df['product_title']\n",
    "    q_ids = [i]*len(group_df)\n",
    "    p_ids = group_df['product_id']\n",
    "    query_emb = torch.tensor(model.encode(features_query.tolist()))\n",
    "    prod_emb = torch.tensor(model.encode(features_product.tolist()))\n",
    "    q_scores = torch.diagonal(torch.mm(query_emb, prod_emb.transpose(0, 1)).to('cpu'))\n",
    "    return pd.DataFrame({col_query_id: q_ids, col_product_id: p_ids, col_scores: q_scores})\n",
    "groups = df_examples_products_clean.groupby('query_id')\n",
    "triplets = []\n",
    "for g in tqdm(groups):\n",
    "    triplets.append(embed_query_products(g))\n",
    "\n",
    "result_df = pd.concat(triplets)"
   ]
  },
  {
   "cell_type": "code",
   "execution_count": 87,
   "id": "564da4f7",
   "metadata": {},
   "outputs": [
    {
     "data": {
      "text/html": [
       "<div>\n",
       "<style scoped>\n",
       "    .dataframe tbody tr th:only-of-type {\n",
       "        vertical-align: middle;\n",
       "    }\n",
       "\n",
       "    .dataframe tbody tr th {\n",
       "        vertical-align: top;\n",
       "    }\n",
       "\n",
       "    .dataframe thead th {\n",
       "        text-align: right;\n",
       "    }\n",
       "</style>\n",
       "<table border=\"1\" class=\"dataframe\">\n",
       "  <thead>\n",
       "    <tr style=\"text-align: right;\">\n",
       "      <th></th>\n",
       "      <th>query_id</th>\n",
       "      <th>product_id</th>\n",
       "      <th>scores</th>\n",
       "    </tr>\n",
       "  </thead>\n",
       "  <tbody>\n",
       "    <tr>\n",
       "      <th>2614586</th>\n",
       "      <td>130378</td>\n",
       "      <td>B08181G6MP</td>\n",
       "      <td>0.996258</td>\n",
       "    </tr>\n",
       "    <tr>\n",
       "      <th>2614585</th>\n",
       "      <td>130378</td>\n",
       "      <td>B01E7KBXWC</td>\n",
       "      <td>0.995996</td>\n",
       "    </tr>\n",
       "    <tr>\n",
       "      <th>2614580</th>\n",
       "      <td>130378</td>\n",
       "      <td>B077XC7K7V</td>\n",
       "      <td>0.995936</td>\n",
       "    </tr>\n",
       "    <tr>\n",
       "      <th>2614578</th>\n",
       "      <td>130378</td>\n",
       "      <td>B083XVHBVR</td>\n",
       "      <td>0.995841</td>\n",
       "    </tr>\n",
       "    <tr>\n",
       "      <th>2614589</th>\n",
       "      <td>130378</td>\n",
       "      <td>B00NAGVL7W</td>\n",
       "      <td>0.995625</td>\n",
       "    </tr>\n",
       "    <tr>\n",
       "      <th>2614581</th>\n",
       "      <td>130378</td>\n",
       "      <td>B074DK734G</td>\n",
       "      <td>0.995611</td>\n",
       "    </tr>\n",
       "    <tr>\n",
       "      <th>2614593</th>\n",
       "      <td>130378</td>\n",
       "      <td>B081X6DRRT</td>\n",
       "      <td>0.995533</td>\n",
       "    </tr>\n",
       "    <tr>\n",
       "      <th>2614592</th>\n",
       "      <td>130378</td>\n",
       "      <td>B0010POWEE</td>\n",
       "      <td>0.995264</td>\n",
       "    </tr>\n",
       "    <tr>\n",
       "      <th>2614583</th>\n",
       "      <td>130378</td>\n",
       "      <td>B00KFKDOYO</td>\n",
       "      <td>0.994900</td>\n",
       "    </tr>\n",
       "    <tr>\n",
       "      <th>2614590</th>\n",
       "      <td>130378</td>\n",
       "      <td>B00HJZT0YQ</td>\n",
       "      <td>0.993277</td>\n",
       "    </tr>\n",
       "    <tr>\n",
       "      <th>2614582</th>\n",
       "      <td>130378</td>\n",
       "      <td>B01M7W1MIU</td>\n",
       "      <td>0.993218</td>\n",
       "    </tr>\n",
       "    <tr>\n",
       "      <th>2614584</th>\n",
       "      <td>130378</td>\n",
       "      <td>B0054LHI5A</td>\n",
       "      <td>0.869787</td>\n",
       "    </tr>\n",
       "    <tr>\n",
       "      <th>2614591</th>\n",
       "      <td>130378</td>\n",
       "      <td>B006IB5T4W</td>\n",
       "      <td>-0.987123</td>\n",
       "    </tr>\n",
       "    <tr>\n",
       "      <th>2614579</th>\n",
       "      <td>130378</td>\n",
       "      <td>B07KFLL4X7</td>\n",
       "      <td>-0.992526</td>\n",
       "    </tr>\n",
       "    <tr>\n",
       "      <th>2614587</th>\n",
       "      <td>130378</td>\n",
       "      <td>B01HFH4DAI</td>\n",
       "      <td>-0.995015</td>\n",
       "    </tr>\n",
       "    <tr>\n",
       "      <th>2614588</th>\n",
       "      <td>130378</td>\n",
       "      <td>B00NIQGQAQ</td>\n",
       "      <td>-0.995238</td>\n",
       "    </tr>\n",
       "    <tr>\n",
       "      <th>2261066</th>\n",
       "      <td>115952</td>\n",
       "      <td>B088WCS9QV</td>\n",
       "      <td>0.999715</td>\n",
       "    </tr>\n",
       "    <tr>\n",
       "      <th>2261075</th>\n",
       "      <td>115952</td>\n",
       "      <td>B07X6HDSDY</td>\n",
       "      <td>0.999706</td>\n",
       "    </tr>\n",
       "    <tr>\n",
       "      <th>2261074</th>\n",
       "      <td>115952</td>\n",
       "      <td>B00SAYCVTQ</td>\n",
       "      <td>0.999665</td>\n",
       "    </tr>\n",
       "    <tr>\n",
       "      <th>2261071</th>\n",
       "      <td>115952</td>\n",
       "      <td>B07R5QD598</td>\n",
       "      <td>0.999551</td>\n",
       "    </tr>\n",
       "    <tr>\n",
       "      <th>2261067</th>\n",
       "      <td>115952</td>\n",
       "      <td>B085VX9JY7</td>\n",
       "      <td>0.999493</td>\n",
       "    </tr>\n",
       "    <tr>\n",
       "      <th>2261065</th>\n",
       "      <td>115952</td>\n",
       "      <td>B098QJMF6K</td>\n",
       "      <td>0.999385</td>\n",
       "    </tr>\n",
       "    <tr>\n",
       "      <th>2261073</th>\n",
       "      <td>115952</td>\n",
       "      <td>B07F1DMJMY</td>\n",
       "      <td>0.999081</td>\n",
       "    </tr>\n",
       "    <tr>\n",
       "      <th>2261070</th>\n",
       "      <td>115952</td>\n",
       "      <td>B07FZVXS8H</td>\n",
       "      <td>0.997552</td>\n",
       "    </tr>\n",
       "    <tr>\n",
       "      <th>2261069</th>\n",
       "      <td>115952</td>\n",
       "      <td>B07XHGLSGF</td>\n",
       "      <td>0.512844</td>\n",
       "    </tr>\n",
       "    <tr>\n",
       "      <th>2261072</th>\n",
       "      <td>115952</td>\n",
       "      <td>B07L3SXCL9</td>\n",
       "      <td>-0.135716</td>\n",
       "    </tr>\n",
       "    <tr>\n",
       "      <th>2261068</th>\n",
       "      <td>115952</td>\n",
       "      <td>B083Q6Q41G</td>\n",
       "      <td>-0.993415</td>\n",
       "    </tr>\n",
       "    <tr>\n",
       "      <th>2259576</th>\n",
       "      <td>115878</td>\n",
       "      <td>B014YHKCE8</td>\n",
       "      <td>0.998651</td>\n",
       "    </tr>\n",
       "    <tr>\n",
       "      <th>2259566</th>\n",
       "      <td>115878</td>\n",
       "      <td>B086VLR9V6</td>\n",
       "      <td>0.998602</td>\n",
       "    </tr>\n",
       "    <tr>\n",
       "      <th>2259572</th>\n",
       "      <td>115878</td>\n",
       "      <td>B077MYFXFQ</td>\n",
       "      <td>0.998549</td>\n",
       "    </tr>\n",
       "    <tr>\n",
       "      <th>2259571</th>\n",
       "      <td>115878</td>\n",
       "      <td>B07KBQN1R7</td>\n",
       "      <td>0.998526</td>\n",
       "    </tr>\n",
       "    <tr>\n",
       "      <th>2259573</th>\n",
       "      <td>115878</td>\n",
       "      <td>B076KKF6T1</td>\n",
       "      <td>0.998514</td>\n",
       "    </tr>\n",
       "    <tr>\n",
       "      <th>2259578</th>\n",
       "      <td>115878</td>\n",
       "      <td>B00AN0BLKA</td>\n",
       "      <td>0.998389</td>\n",
       "    </tr>\n",
       "    <tr>\n",
       "      <th>2259570</th>\n",
       "      <td>115878</td>\n",
       "      <td>B07KBTBLQ5</td>\n",
       "      <td>0.998224</td>\n",
       "    </tr>\n",
       "    <tr>\n",
       "      <th>2259574</th>\n",
       "      <td>115878</td>\n",
       "      <td>B017LGXJ7Q</td>\n",
       "      <td>0.998195</td>\n",
       "    </tr>\n",
       "    <tr>\n",
       "      <th>2259575</th>\n",
       "      <td>115878</td>\n",
       "      <td>B017LGXIYA</td>\n",
       "      <td>0.998114</td>\n",
       "    </tr>\n",
       "    <tr>\n",
       "      <th>2259567</th>\n",
       "      <td>115878</td>\n",
       "      <td>B081KRTJJ9</td>\n",
       "      <td>0.997077</td>\n",
       "    </tr>\n",
       "    <tr>\n",
       "      <th>2259568</th>\n",
       "      <td>115878</td>\n",
       "      <td>B081KQJMFS</td>\n",
       "      <td>0.997077</td>\n",
       "    </tr>\n",
       "    <tr>\n",
       "      <th>2259577</th>\n",
       "      <td>115878</td>\n",
       "      <td>B00PY3EHVQ</td>\n",
       "      <td>0.997077</td>\n",
       "    </tr>\n",
       "    <tr>\n",
       "      <th>2259579</th>\n",
       "      <td>115878</td>\n",
       "      <td>B00AMZEHSY</td>\n",
       "      <td>0.996274</td>\n",
       "    </tr>\n",
       "    <tr>\n",
       "      <th>2259569</th>\n",
       "      <td>115878</td>\n",
       "      <td>B0817GNWR8</td>\n",
       "      <td>0.995127</td>\n",
       "    </tr>\n",
       "    <tr>\n",
       "      <th>2259565</th>\n",
       "      <td>115878</td>\n",
       "      <td>B088RC8GGN</td>\n",
       "      <td>0.991974</td>\n",
       "    </tr>\n",
       "    <tr>\n",
       "      <th>2259580</th>\n",
       "      <td>115878</td>\n",
       "      <td>3943945197</td>\n",
       "      <td>-0.982867</td>\n",
       "    </tr>\n",
       "    <tr>\n",
       "      <th>2259106</th>\n",
       "      <td>115851</td>\n",
       "      <td>B017JR56AU</td>\n",
       "      <td>0.999719</td>\n",
       "    </tr>\n",
       "    <tr>\n",
       "      <th>2259107</th>\n",
       "      <td>115851</td>\n",
       "      <td>B0169M0NIQ</td>\n",
       "      <td>0.998869</td>\n",
       "    </tr>\n",
       "    <tr>\n",
       "      <th>2259097</th>\n",
       "      <td>115851</td>\n",
       "      <td>B07Y8J7WBC</td>\n",
       "      <td>0.997831</td>\n",
       "    </tr>\n",
       "    <tr>\n",
       "      <th>2259096</th>\n",
       "      <td>115851</td>\n",
       "      <td>B01M5DS0Z7</td>\n",
       "      <td>0.997728</td>\n",
       "    </tr>\n",
       "    <tr>\n",
       "      <th>2259101</th>\n",
       "      <td>115851</td>\n",
       "      <td>B075RPBNHQ</td>\n",
       "      <td>0.997112</td>\n",
       "    </tr>\n",
       "    <tr>\n",
       "      <th>2259110</th>\n",
       "      <td>115851</td>\n",
       "      <td>B0056V9S4M</td>\n",
       "      <td>0.996355</td>\n",
       "    </tr>\n",
       "    <tr>\n",
       "      <th>2259108</th>\n",
       "      <td>115851</td>\n",
       "      <td>B007B6VU50</td>\n",
       "      <td>0.996123</td>\n",
       "    </tr>\n",
       "  </tbody>\n",
       "</table>\n",
       "</div>"
      ],
      "text/plain": [
       "         query_id  product_id    scores\n",
       "2614586    130378  B08181G6MP  0.996258\n",
       "2614585    130378  B01E7KBXWC  0.995996\n",
       "2614580    130378  B077XC7K7V  0.995936\n",
       "2614578    130378  B083XVHBVR  0.995841\n",
       "2614589    130378  B00NAGVL7W  0.995625\n",
       "2614581    130378  B074DK734G  0.995611\n",
       "2614593    130378  B081X6DRRT  0.995533\n",
       "2614592    130378  B0010POWEE  0.995264\n",
       "2614583    130378  B00KFKDOYO  0.994900\n",
       "2614590    130378  B00HJZT0YQ  0.993277\n",
       "2614582    130378  B01M7W1MIU  0.993218\n",
       "2614584    130378  B0054LHI5A  0.869787\n",
       "2614591    130378  B006IB5T4W -0.987123\n",
       "2614579    130378  B07KFLL4X7 -0.992526\n",
       "2614587    130378  B01HFH4DAI -0.995015\n",
       "2614588    130378  B00NIQGQAQ -0.995238\n",
       "2261066    115952  B088WCS9QV  0.999715\n",
       "2261075    115952  B07X6HDSDY  0.999706\n",
       "2261074    115952  B00SAYCVTQ  0.999665\n",
       "2261071    115952  B07R5QD598  0.999551\n",
       "2261067    115952  B085VX9JY7  0.999493\n",
       "2261065    115952  B098QJMF6K  0.999385\n",
       "2261073    115952  B07F1DMJMY  0.999081\n",
       "2261070    115952  B07FZVXS8H  0.997552\n",
       "2261069    115952  B07XHGLSGF  0.512844\n",
       "2261072    115952  B07L3SXCL9 -0.135716\n",
       "2261068    115952  B083Q6Q41G -0.993415\n",
       "2259576    115878  B014YHKCE8  0.998651\n",
       "2259566    115878  B086VLR9V6  0.998602\n",
       "2259572    115878  B077MYFXFQ  0.998549\n",
       "2259571    115878  B07KBQN1R7  0.998526\n",
       "2259573    115878  B076KKF6T1  0.998514\n",
       "2259578    115878  B00AN0BLKA  0.998389\n",
       "2259570    115878  B07KBTBLQ5  0.998224\n",
       "2259574    115878  B017LGXJ7Q  0.998195\n",
       "2259575    115878  B017LGXIYA  0.998114\n",
       "2259567    115878  B081KRTJJ9  0.997077\n",
       "2259568    115878  B081KQJMFS  0.997077\n",
       "2259577    115878  B00PY3EHVQ  0.997077\n",
       "2259579    115878  B00AMZEHSY  0.996274\n",
       "2259569    115878  B0817GNWR8  0.995127\n",
       "2259565    115878  B088RC8GGN  0.991974\n",
       "2259580    115878  3943945197 -0.982867\n",
       "2259106    115851  B017JR56AU  0.999719\n",
       "2259107    115851  B0169M0NIQ  0.998869\n",
       "2259097    115851  B07Y8J7WBC  0.997831\n",
       "2259096    115851  B01M5DS0Z7  0.997728\n",
       "2259101    115851  B075RPBNHQ  0.997112\n",
       "2259110    115851  B0056V9S4M  0.996355\n",
       "2259108    115851  B007B6VU50  0.996123"
      ]
     },
     "execution_count": 87,
     "metadata": {},
     "output_type": "execute_result"
    }
   ],
   "source": [
    "df_hypothesis = result_df.sort_values(by=[col_query_id, col_scores], ascending=False)\n",
    "df_hypothesis.head(50)"
   ]
  },
  {
   "cell_type": "code",
   "execution_count": 92,
   "id": "2fcbabab",
   "metadata": {},
   "outputs": [],
   "source": [
    "\"\"\" 4. Prepare hypothesis file \"\"\"\n",
    "HYPOTHESIS_TASK1_PATH=\"./hypothesis\"\n",
    "HYPOTHESIS_PATH_FILE=f\"{HYPOTHESIS_TASK1_PATH}/task_1_ranking_model_fine_tuned_triplet_v3_{locale}.csv\""
   ]
  },
  {
   "cell_type": "code",
   "execution_count": 93,
   "id": "033a6fb6",
   "metadata": {},
   "outputs": [],
   "source": [
    "df_hypothesis[[col_query_id, col_product_id]].to_csv(\n",
    "    HYPOTHESIS_PATH_FILE,\n",
    "    index=False,\n",
    "    sep=',',\n",
    ")"
   ]
  },
  {
   "cell_type": "code",
   "execution_count": null,
   "id": "c7195077",
   "metadata": {},
   "outputs": [],
   "source": []
  }
 ],
 "metadata": {
  "kernelspec": {
   "display_name": "Python 3 (ipykernel)",
   "language": "python",
   "name": "python3"
  },
  "language_info": {
   "codemirror_mode": {
    "name": "ipython",
    "version": 3
   },
   "file_extension": ".py",
   "mimetype": "text/x-python",
   "name": "python",
   "nbconvert_exporter": "python",
   "pygments_lexer": "ipython3",
   "version": "3.9.15"
  }
 },
 "nbformat": 4,
 "nbformat_minor": 5
}
