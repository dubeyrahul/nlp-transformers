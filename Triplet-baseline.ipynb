{
 "cells": [
  {
   "cell_type": "code",
   "execution_count": 2,
   "id": "93eb2898",
   "metadata": {},
   "outputs": [],
   "source": [
    "import pandas as pd\n",
    "import numpy as np\n",
    "import torch\n",
    "import os\n",
    "dataset_path = \"/Users/rdubey/mysrc/random-stuff/esci-data/shopping_queries_dataset\"\n",
    "\n",
    "\"\"\" 0. Init variables \"\"\"\n",
    "col_query = \"query\"\n",
    "col_query_id = \"query_id\"\n",
    "col_product_id = \"product_id\" \n",
    "col_product_title = \"product_title\"\n",
    "col_product_locale = \"product_locale\"\n",
    "col_small_version = \"small_version\"\n",
    "col_split = \"split\"\n",
    "col_scores = \"scores\"\n",
    "device = torch.device(\"cuda\" if torch.cuda.is_available() else \"cpu\")\n",
    "locale = 'us'\n",
    "\"\"\" 1. Load data \"\"\"    \n",
    "df_examples = pd.read_parquet(os.path.join(dataset_path, 'shopping_queries_dataset_examples.parquet'))\n",
    "df_products = pd.read_parquet(os.path.join(dataset_path, 'shopping_queries_dataset_products.parquet'))\n",
    "\n",
    "df_examples_products = pd.merge(\n",
    "    df_examples,\n",
    "    df_products,\n",
    "    how='left',\n",
    "    left_on=[col_product_locale, col_product_id],\n",
    "    right_on=[col_product_locale, col_product_id]\n",
    ")\n",
    "df_examples_products = df_examples_products[df_examples_products[col_small_version] == 1]\n",
    "df_examples_products = df_examples_products[df_examples_products[col_split] == \"test\"]\n",
    "df_examples_products = df_examples_products[df_examples_products[col_product_locale] == locale]\n",
    "\n",
    "features_query = df_examples_products[col_query].to_list()\n",
    "features_product = df_examples_products[col_product_title].to_list()\n",
    "n_examples = len(features_query)\n",
    "scores = np.zeros(n_examples)"
   ]
  },
  {
   "cell_type": "code",
   "execution_count": 3,
   "id": "992b5993",
   "metadata": {},
   "outputs": [
    {
     "data": {
      "text/plain": [
       "Index(['product_id', 'product_title', 'product_description',\n",
       "       'product_bullet_point', 'product_brand', 'product_color',\n",
       "       'product_locale'],\n",
       "      dtype='object')"
      ]
     },
     "execution_count": 3,
     "metadata": {},
     "output_type": "execute_result"
    }
   ],
   "source": [
    "df_products.columns"
   ]
  },
  {
   "cell_type": "code",
   "execution_count": 4,
   "id": "42baa24d",
   "metadata": {},
   "outputs": [],
   "source": [
    "pd.set_option('display.max_colwidth', None)"
   ]
  },
  {
   "cell_type": "code",
   "execution_count": 5,
   "id": "f179e83a",
   "metadata": {},
   "outputs": [],
   "source": [
    "# df_examples_products[['query_id', 'query', 'product_title','esci_label', 'product_bullet_point', 'product_description']]"
   ]
  },
  {
   "cell_type": "code",
   "execution_count": 6,
   "id": "16ed38e6",
   "metadata": {},
   "outputs": [
    {
     "data": {
      "text/html": [
       "<div>\n",
       "<style scoped>\n",
       "    .dataframe tbody tr th:only-of-type {\n",
       "        vertical-align: middle;\n",
       "    }\n",
       "\n",
       "    .dataframe tbody tr th {\n",
       "        vertical-align: top;\n",
       "    }\n",
       "\n",
       "    .dataframe thead th {\n",
       "        text-align: right;\n",
       "    }\n",
       "</style>\n",
       "<table border=\"1\" class=\"dataframe\">\n",
       "  <thead>\n",
       "    <tr style=\"text-align: right;\">\n",
       "      <th></th>\n",
       "      <th>example_id</th>\n",
       "      <th>query</th>\n",
       "      <th>query_id</th>\n",
       "      <th>product_id</th>\n",
       "      <th>product_locale</th>\n",
       "      <th>esci_label</th>\n",
       "      <th>small_version</th>\n",
       "      <th>large_version</th>\n",
       "      <th>split</th>\n",
       "      <th>product_title</th>\n",
       "      <th>product_description</th>\n",
       "      <th>product_bullet_point</th>\n",
       "      <th>product_brand</th>\n",
       "      <th>product_color</th>\n",
       "    </tr>\n",
       "  </thead>\n",
       "  <tbody>\n",
       "    <tr>\n",
       "      <th>32</th>\n",
       "      <td>32</td>\n",
       "      <td>!qscreen fence without holes</td>\n",
       "      <td>2</td>\n",
       "      <td>B07D7TBSGH</td>\n",
       "      <td>us</td>\n",
       "      <td>I</td>\n",
       "      <td>1</td>\n",
       "      <td>1</td>\n",
       "      <td>test</td>\n",
       "      <td>FOTMISHU 6Pcs Greenhouse Hoops Rust-Free Grow Tunnel Tunnel, 4ft Long Steel with Plastic Coated Plant Supports for Garden Fabric, Plant Support Garden Stakes</td>\n",
       "      <td>&lt;p&gt;&lt;b&gt;Description:&lt;/b&gt;&lt;br&gt;&lt;b&gt;Material:&lt;/b&gt;plastic coated steel pipe&lt;b&gt;Size&lt;/b&gt;Length 120 (the size before bending), width 50 * height 48CM(The size after bending)&lt;b&gt;Weight:&lt;/b&gt; 720g&lt;b&gt;Color:&lt;/b&gt;green&lt;b&gt;Packing includ:&lt;/b&gt;6pcs hoops/bag&lt;b&gt;Product Usage:&lt;/b&gt;&lt;br&gt;1, can be used for the traction of Tomatoes vine, vines and some natural climbing plants. with support&lt;br&gt;2, can be used as a support for the greenhouse&lt;br&gt;3, Garden Hoops provide convenience for your garden plant work&lt;br&gt;&lt;b&gt;Features:&lt;/b&gt;&lt;br&gt;1, unique and handsome in appearance&lt;br&gt;2, good material, strong antioxidant capacity&lt;br&gt;3, green and health.&lt;br&gt;&lt;b&gt;Installation steps:&lt;/b&gt;&lt;br&gt;►Gathering all materials&lt;br&gt;►Bend the hoops&lt;br&gt;►Outline Your Low Tunnel Greenhouse&lt;br&gt;►Put Your Hoops in Place&lt;br&gt;►Tie a Ridgeline&lt;br&gt;►Time to Place the cover&lt;br&gt;►Tie Down the Ends with pins&lt;br&gt;►The distination between 2 hoops should be less than 23.6 inches</td>\n",
       "      <td>►Material -- High-quality plastic coated steel pipe, not easy to rust, can be used for a long time.\\n►Size -- Curved tube long 120cm/4ft (the size before bending), wide 50cm/19.7inch, high 48cm/18.9inch (the size after bending), Tube diameter 11mm/0.43inch. Each package contains 6 Hoops.Garden Fabric Not Included.\\n►Easy to set up -- Comes complete With sharpened points on both sides for ease of placement. Washable, Reusable, Flat for storage. Creates a favorable microclimate for your plants.\\n►Protecting Plants -- Use hoops to support garden row covers, protecting plants from frost, insects, birds, or intense sun. Can be used with insect-proof nets, shading nets, insulation film and so on.\\n►Features -- Design for plant cover, frost protection cover and mini greenhouse,provides ideal environment for rapid germination and growth of young plants</td>\n",
       "      <td>FOTMISHU</td>\n",
       "      <td>green</td>\n",
       "    </tr>\n",
       "    <tr>\n",
       "      <th>33</th>\n",
       "      <td>33</td>\n",
       "      <td>!qscreen fence without holes</td>\n",
       "      <td>2</td>\n",
       "      <td>B07DHT2WZK</td>\n",
       "      <td>us</td>\n",
       "      <td>I</td>\n",
       "      <td>1</td>\n",
       "      <td>1</td>\n",
       "      <td>test</td>\n",
       "      <td>Zippity Outdoor Products ZP19028 Unassembled Madison Vinyl Gate Kit with Fence Wings, White</td>\n",
       "      <td>None</td>\n",
       "      <td>Designed for the Madison Vinyl Fence (item ZP19001)\\nTo install, dig holes and secure the extended posts into the ground; use gravel or concrete for extra stability (optional)\\nKit includes small stainless latch (1), hinges (2), supporting posts (2), decorative fence wings with posts (2) and post caps (6)\\nThe entire gate kit with wings spans 61-3/8in. Gate without wings is 36-7/8in. Gate must be installed with wings for optimal stability\\nAssembly and installation required</td>\n",
       "      <td>Zippity Outdoor Products</td>\n",
       "      <td>White</td>\n",
       "    </tr>\n",
       "    <tr>\n",
       "      <th>34</th>\n",
       "      <td>34</td>\n",
       "      <td>!qscreen fence without holes</td>\n",
       "      <td>2</td>\n",
       "      <td>B07DHX8YH2</td>\n",
       "      <td>us</td>\n",
       "      <td>E</td>\n",
       "      <td>1</td>\n",
       "      <td>1</td>\n",
       "      <td>test</td>\n",
       "      <td>Zippity Outdoor Products ZP19026 Lightweight Portable Vinyl Picket Fence Kit w/Metal Base(42\" H x 92\" W), White</td>\n",
       "      <td>None</td>\n",
       "      <td>Designed as a portable fence for temporary events\\nRust-free metal bases are included; bases have small holes if you need to screw the base into wood or concrete (fence will stand on its own without screws)\\nThis fence should not be used for serious crowd control or child or pet safety; it is designed to be used as a psychological or aesthetic barrier and not a physical one\\nEach panel includes a connector piece to attach to an adjacent panel in a straight line or at a right angle; this makes this fence fully scalable to add as many panels as you need for your event\\nAssembly required. Top Shape-Flat</td>\n",
       "      <td>Zippity Outdoor Products</td>\n",
       "      <td>White</td>\n",
       "    </tr>\n",
       "    <tr>\n",
       "      <th>35</th>\n",
       "      <td>35</td>\n",
       "      <td>!qscreen fence without holes</td>\n",
       "      <td>2</td>\n",
       "      <td>B07DS1YCRZ</td>\n",
       "      <td>us</td>\n",
       "      <td>S</td>\n",
       "      <td>1</td>\n",
       "      <td>1</td>\n",
       "      <td>test</td>\n",
       "      <td>ColourTree 4' x 50' Green Fence Privacy Screen Windscreen Cover Fabric Shade Tarp Netting Mesh Cloth - Commercial Grade 170 GSM - Cable Zip Ties Included - We Make Custom Size</td>\n",
       "      <td>None</td>\n",
       "      <td>★【Virgin, UV Stabilized Compounds &amp; Thick Material】: The only fence screen product on the market that are made of 170 GSM 100% virgin (Non-recycled) HDPE material. Our virgin HDPE fabric went through 20000 hours of laboratory UV testing and it is proved to be 70% more durable compared to recycled HDPE under sun exposure, fabric has been treated with UV stabilized compound, preventing fence screen from dried out, tearing and fading, significantly extend the lifespan.\\n★【Privacy Solution 90% Visibility Blockage】: Most economical way for privacy over chain link fence, porous decorative concealment, existing cyclone wire fence, wood retaining wall, welded wire fence, chain link fence, privacy barrier around swimming pool, block nose neighbor see through, add privacy to acre back yard backdrop, front yard, patio, garden and porch; hide street, road, construction site, pet kennel pen, block surrounding noise and street view, stops dogs from barking at neighb\\n★【Comes with the Extra Stainless Grommets and Reinforced Binding】: Grommets are made of stainless copper, each corner has 4 grommets (compares to similar products on the market only have 1-3 grommets), more grommets are placed evenly along all edges, 12 inches apart vertically, 24 inches horizontally. All edges are covered with black reinforced 3-inch binding (1.5-inch on each side). The grommets and bindings help the screen to hold up in the wind.\\n★【Can be Used as Shades or Greenhouse Solution】: Can be used there are lots of different ways to use: protection for vegetable garden plants, greenhouse covering, wind blocking for plant nursery area, window shades, tennis court, shades for pet pen / kennel, construction site, etc. Breathable weaving fabric allows water and air to go through freely, resistant to both UV and water, no maintenance needed.\\n★【3 Years Warranty】: Limited 3 years warranty under normal usage and weather. Free consultation. All ColourTree brand products come with warranty, the terms of warranty may vary.</td>\n",
       "      <td>ColourTree</td>\n",
       "      <td>Green 2nd Generation</td>\n",
       "    </tr>\n",
       "    <tr>\n",
       "      <th>36</th>\n",
       "      <td>36</td>\n",
       "      <td>!qscreen fence without holes</td>\n",
       "      <td>2</td>\n",
       "      <td>B07DS3J3MB</td>\n",
       "      <td>us</td>\n",
       "      <td>S</td>\n",
       "      <td>1</td>\n",
       "      <td>1</td>\n",
       "      <td>test</td>\n",
       "      <td>ColourTree 6' x 50' Black Fence Privacy Screen Windscreen Cover Fabric Shade Tarp Netting Mesh Cloth - Commercial Grade 170 GSM - Cable Zip Ties Included - We Make Custom Size</td>\n",
       "      <td>None</td>\n",
       "      <td>★【Virgin, UV Stabilized Compounds &amp; Thick Material】: Actual height is 5' 9\", fits perfectly on 6 footer fence. The only fence screen product on the market that are made of 160 GSM 100% virgin (Non-recycled) HDPE material. Went through 20000 hours of laboratory UV testing and it is proved to be 70% more durable than recycled HDPE under sun exposure, fabric has been treated with UV stabilized compound, preventing fence screen from dried out, tearing and fading, significantly extend the lifes\\n★【Privacy Solution 90% Visibility Blockage】: Most economical way for privacy over chain link fence, porous decorative concealment, existing cyclone wire fence, wood retaining wall, welded wire fence, chain link fence, privacy barrier around swimming pool, block nose neighbor see through, add privacy to acre back yard backdrop, front yard, patio, garden and porch; hide street, road, construction site, pet kennel pen, block surrounding noise and street view, stops dogs from barking at neighb\\n★【Comes with the Extra Stainless Grommets and Reinforced Binding】: Grommets are made of stainless copper, each corner has 4 grommets (compares to similar products on the market only have 1-3 grommets), more grommets are placed evenly along all edges, 12 inches apart vertically, 24 inches horizontally. All edges are covered with black reinforced 3-inch binding (1.5-inch on each side). The grommets and bindings help the screen to hold up in the wind.\\n★【Can be Used as Shades or Greenhouse Solution】: Can be used there are lots of different ways to use: protection for vegetable garden plants, greenhouse covering, wind blocking for plant nursery area, window shades, tennis court, shades for pet pen / kennel, construction site, etc. Breathable weaving fabric allows water and air to go through freely, resistant to both UV and water, no maintenance needed.\\n★【3 Years Warranty】: Limited 3 years warranty under normal usage and weather. Free consultation. All ColourTree brand products come with warranty, the terms of warranty may vary.</td>\n",
       "      <td>ColourTree</td>\n",
       "      <td>Black 2nd Generation</td>\n",
       "    </tr>\n",
       "  </tbody>\n",
       "</table>\n",
       "</div>"
      ],
      "text/plain": [
       "    example_id                         query  query_id  product_id  \\\n",
       "32          32  !qscreen fence without holes         2  B07D7TBSGH   \n",
       "33          33  !qscreen fence without holes         2  B07DHT2WZK   \n",
       "34          34  !qscreen fence without holes         2  B07DHX8YH2   \n",
       "35          35  !qscreen fence without holes         2  B07DS1YCRZ   \n",
       "36          36  !qscreen fence without holes         2  B07DS3J3MB   \n",
       "\n",
       "   product_locale esci_label  small_version  large_version split  \\\n",
       "32             us          I              1              1  test   \n",
       "33             us          I              1              1  test   \n",
       "34             us          E              1              1  test   \n",
       "35             us          S              1              1  test   \n",
       "36             us          S              1              1  test   \n",
       "\n",
       "                                                                                                                                                                      product_title  \\\n",
       "32                    FOTMISHU 6Pcs Greenhouse Hoops Rust-Free Grow Tunnel Tunnel, 4ft Long Steel with Plastic Coated Plant Supports for Garden Fabric, Plant Support Garden Stakes   \n",
       "33                                                                                      Zippity Outdoor Products ZP19028 Unassembled Madison Vinyl Gate Kit with Fence Wings, White   \n",
       "34                                                                  Zippity Outdoor Products ZP19026 Lightweight Portable Vinyl Picket Fence Kit w/Metal Base(42\" H x 92\" W), White   \n",
       "35  ColourTree 4' x 50' Green Fence Privacy Screen Windscreen Cover Fabric Shade Tarp Netting Mesh Cloth - Commercial Grade 170 GSM - Cable Zip Ties Included - We Make Custom Size   \n",
       "36  ColourTree 6' x 50' Black Fence Privacy Screen Windscreen Cover Fabric Shade Tarp Netting Mesh Cloth - Commercial Grade 170 GSM - Cable Zip Ties Included - We Make Custom Size   \n",
       "\n",
       "                                                                                                                                                                                                                                                                                                                                                                                                                                                                                                                                                                                                                                                                                                                                                                                                                                                                                                                        product_description  \\\n",
       "32  <p><b>Description:</b><br><b>Material:</b>plastic coated steel pipe<b>Size</b>Length 120 (the size before bending), width 50 * height 48CM(The size after bending)<b>Weight:</b> 720g<b>Color:</b>green<b>Packing includ:</b>6pcs hoops/bag<b>Product Usage:</b><br>1, can be used for the traction of Tomatoes vine, vines and some natural climbing plants. with support<br>2, can be used as a support for the greenhouse<br>3, Garden Hoops provide convenience for your garden plant work<br><b>Features:</b><br>1, unique and handsome in appearance<br>2, good material, strong antioxidant capacity<br>3, green and health.<br><b>Installation steps:</b><br>►Gathering all materials<br>►Bend the hoops<br>►Outline Your Low Tunnel Greenhouse<br>►Put Your Hoops in Place<br>►Tie a Ridgeline<br>►Time to Place the cover<br>►Tie Down the Ends with pins<br>►The distination between 2 hoops should be less than 23.6 inches   \n",
       "33                                                                                                                                                                                                                                                                                                                                                                                                                                                                                                                                                                                                                                                                                                                                                                                                                                                                                                                                     None   \n",
       "34                                                                                                                                                                                                                                                                                                                                                                                                                                                                                                                                                                                                                                                                                                                                                                                                                                                                                                                                     None   \n",
       "35                                                                                                                                                                                                                                                                                                                                                                                                                                                                                                                                                                                                                                                                                                                                                                                                                                                                                                                                     None   \n",
       "36                                                                                                                                                                                                                                                                                                                                                                                                                                                                                                                                                                                                                                                                                                                                                                                                                                                                                                                                     None   \n",
       "\n",
       "                                                                                                                                                                                                                                                                                                                                                                                                                                                                                                                                                                                                                                                                                                                                                                                                                                                                                                                                                                                                                                                                                                                                                                                                                                                                                                                                                                                                                                                                                                                                                                                                                                                                                                                                                                                                                                                                                                                                                                                                                                                                                                product_bullet_point  \\\n",
       "32                                                                                                                                                                                                                                                                                                                                                                                                                                                                                                                                                                                                                                                                                                                                                                                                                                                                                                                                                                                                                                                                                                                                                                                                                          ►Material -- High-quality plastic coated steel pipe, not easy to rust, can be used for a long time.\\n►Size -- Curved tube long 120cm/4ft (the size before bending), wide 50cm/19.7inch, high 48cm/18.9inch (the size after bending), Tube diameter 11mm/0.43inch. Each package contains 6 Hoops.Garden Fabric Not Included.\\n►Easy to set up -- Comes complete With sharpened points on both sides for ease of placement. Washable, Reusable, Flat for storage. Creates a favorable microclimate for your plants.\\n►Protecting Plants -- Use hoops to support garden row covers, protecting plants from frost, insects, birds, or intense sun. Can be used with insect-proof nets, shading nets, insulation film and so on.\\n►Features -- Design for plant cover, frost protection cover and mini greenhouse,provides ideal environment for rapid germination and growth of young plants   \n",
       "33                                                                                                                                                                                                                                                                                                                                                                                                                                                                                                                                                                                                                                                                                                                                                                                                                                                                                                                                                                                                                                                                                                                                                                                                                                                                                                                                                                                                                                                                                                                                                                                                                    Designed for the Madison Vinyl Fence (item ZP19001)\\nTo install, dig holes and secure the extended posts into the ground; use gravel or concrete for extra stability (optional)\\nKit includes small stainless latch (1), hinges (2), supporting posts (2), decorative fence wings with posts (2) and post caps (6)\\nThe entire gate kit with wings spans 61-3/8in. Gate without wings is 36-7/8in. Gate must be installed with wings for optimal stability\\nAssembly and installation required   \n",
       "34                                                                                                                                                                                                                                                                                                                                                                                                                                                                                                                                                                                                                                                                                                                                                                                                                                                                                                                                                                                                                                                                                                                                                                                                                                                                                                                                                                                                                                                                                   Designed as a portable fence for temporary events\\nRust-free metal bases are included; bases have small holes if you need to screw the base into wood or concrete (fence will stand on its own without screws)\\nThis fence should not be used for serious crowd control or child or pet safety; it is designed to be used as a psychological or aesthetic barrier and not a physical one\\nEach panel includes a connector piece to attach to an adjacent panel in a straight line or at a right angle; this makes this fence fully scalable to add as many panels as you need for your event\\nAssembly required. Top Shape-Flat   \n",
       "35                          ★【Virgin, UV Stabilized Compounds & Thick Material】: The only fence screen product on the market that are made of 170 GSM 100% virgin (Non-recycled) HDPE material. Our virgin HDPE fabric went through 20000 hours of laboratory UV testing and it is proved to be 70% more durable compared to recycled HDPE under sun exposure, fabric has been treated with UV stabilized compound, preventing fence screen from dried out, tearing and fading, significantly extend the lifespan.\\n★【Privacy Solution 90% Visibility Blockage】: Most economical way for privacy over chain link fence, porous decorative concealment, existing cyclone wire fence, wood retaining wall, welded wire fence, chain link fence, privacy barrier around swimming pool, block nose neighbor see through, add privacy to acre back yard backdrop, front yard, patio, garden and porch; hide street, road, construction site, pet kennel pen, block surrounding noise and street view, stops dogs from barking at neighb\\n★【Comes with the Extra Stainless Grommets and Reinforced Binding】: Grommets are made of stainless copper, each corner has 4 grommets (compares to similar products on the market only have 1-3 grommets), more grommets are placed evenly along all edges, 12 inches apart vertically, 24 inches horizontally. All edges are covered with black reinforced 3-inch binding (1.5-inch on each side). The grommets and bindings help the screen to hold up in the wind.\\n★【Can be Used as Shades or Greenhouse Solution】: Can be used there are lots of different ways to use: protection for vegetable garden plants, greenhouse covering, wind blocking for plant nursery area, window shades, tennis court, shades for pet pen / kennel, construction site, etc. Breathable weaving fabric allows water and air to go through freely, resistant to both UV and water, no maintenance needed.\\n★【3 Years Warranty】: Limited 3 years warranty under normal usage and weather. Free consultation. All ColourTree brand products come with warranty, the terms of warranty may vary.   \n",
       "36  ★【Virgin, UV Stabilized Compounds & Thick Material】: Actual height is 5' 9\", fits perfectly on 6 footer fence. The only fence screen product on the market that are made of 160 GSM 100% virgin (Non-recycled) HDPE material. Went through 20000 hours of laboratory UV testing and it is proved to be 70% more durable than recycled HDPE under sun exposure, fabric has been treated with UV stabilized compound, preventing fence screen from dried out, tearing and fading, significantly extend the lifes\\n★【Privacy Solution 90% Visibility Blockage】: Most economical way for privacy over chain link fence, porous decorative concealment, existing cyclone wire fence, wood retaining wall, welded wire fence, chain link fence, privacy barrier around swimming pool, block nose neighbor see through, add privacy to acre back yard backdrop, front yard, patio, garden and porch; hide street, road, construction site, pet kennel pen, block surrounding noise and street view, stops dogs from barking at neighb\\n★【Comes with the Extra Stainless Grommets and Reinforced Binding】: Grommets are made of stainless copper, each corner has 4 grommets (compares to similar products on the market only have 1-3 grommets), more grommets are placed evenly along all edges, 12 inches apart vertically, 24 inches horizontally. All edges are covered with black reinforced 3-inch binding (1.5-inch on each side). The grommets and bindings help the screen to hold up in the wind.\\n★【Can be Used as Shades or Greenhouse Solution】: Can be used there are lots of different ways to use: protection for vegetable garden plants, greenhouse covering, wind blocking for plant nursery area, window shades, tennis court, shades for pet pen / kennel, construction site, etc. Breathable weaving fabric allows water and air to go through freely, resistant to both UV and water, no maintenance needed.\\n★【3 Years Warranty】: Limited 3 years warranty under normal usage and weather. Free consultation. All ColourTree brand products come with warranty, the terms of warranty may vary.   \n",
       "\n",
       "               product_brand         product_color  \n",
       "32                  FOTMISHU                 green  \n",
       "33  Zippity Outdoor Products                 White  \n",
       "34  Zippity Outdoor Products                 White  \n",
       "35                ColourTree  Green 2nd Generation  \n",
       "36                ColourTree  Black 2nd Generation  "
      ]
     },
     "execution_count": 6,
     "metadata": {},
     "output_type": "execute_result"
    }
   ],
   "source": [
    "df_examples_products.head()"
   ]
  },
  {
   "cell_type": "code",
   "execution_count": 7,
   "id": "dcbca14f",
   "metadata": {},
   "outputs": [
    {
     "data": {
      "text/plain": [
       "example_id              False\n",
       "query                   False\n",
       "query_id                False\n",
       "product_id              False\n",
       "product_locale          False\n",
       "esci_label              False\n",
       "small_version           False\n",
       "large_version           False\n",
       "split                   False\n",
       "product_title           False\n",
       "product_description      True\n",
       "product_bullet_point     True\n",
       "product_brand            True\n",
       "product_color            True\n",
       "dtype: bool"
      ]
     },
     "execution_count": 7,
     "metadata": {},
     "output_type": "execute_result"
    }
   ],
   "source": [
    "df_examples_products.isna().any()"
   ]
  },
  {
   "cell_type": "code",
   "execution_count": 8,
   "id": "163930b4",
   "metadata": {},
   "outputs": [],
   "source": [
    "df_examples_products['product_description'].fillna(\" \", inplace=True)\n",
    "df_examples_products['product_bullet_point'].fillna(\" \", inplace=True)\n",
    "df_examples_products['product_brand'].fillna(\" \", inplace=True)\n",
    "df_examples_products['product_color'].fillna(\" \", inplace=True)"
   ]
  },
  {
   "cell_type": "code",
   "execution_count": 9,
   "id": "589613b2",
   "metadata": {},
   "outputs": [],
   "source": [
    "import re\n",
    "def clean_text_column(x):\n",
    "    x = x.lower() # lowercase everything\n",
    "    x = ' '.join(x.strip().splitlines())\n",
    "    x = x.encode('ascii', 'ignore').decode()  # remove unicode characters\n",
    "    x = re.sub(r'https*\\S+', ' ', x) # remove links\n",
    "    x = re.sub(r'http*\\S+', ' ', x)\n",
    "\n",
    "    # cleaning up text\n",
    "    x = re.sub(r'\\'\\w+', '', x) \n",
    "    \n",
    "    x = re.sub(r'\\w*\\d+\\w*', '', x)\n",
    "    \n",
    "    x = re.sub(r'\\s{2,}', ' ', x)\n",
    "    \n",
    "    x = re.sub(r'\\s[^\\w\\s]\\s', '', x)\n",
    "#     print(x)\n",
    "    x = remove_html_tags(x)\n",
    "    return x\n",
    "\n",
    "def remove_html_tags(text):\n",
    "    \"\"\"Remove html tags from a string\"\"\"\n",
    "    import re\n",
    "    clean = re.compile('<.*?>')\n",
    "    return re.sub(clean, '', text)"
   ]
  },
  {
   "cell_type": "code",
   "execution_count": 10,
   "id": "38b74a59",
   "metadata": {},
   "outputs": [
    {
     "data": {
      "text/plain": [
       "'description:material:plastic coated steel pipesizelength (the size before bending), widthheight (the size after bending)weight: color:greenpacking includ: hoops/bagproduct usage:, can be used for the traction of tomatoes vine, vines and some natural climbing plants. with support, can be used as a support for the greenhouse, garden hoops provide convenience for your garden plant workfeatures:, unique and handsome in appearance, good material, strong antioxidant capacity, green and health.installation steps:gathering all materialsbend the hoopsoutline your low tunnel greenhouseput your hoops in placetie a ridgelinetime to place the covertie down the ends with pinsthe distination between hoops should be less thaninches'"
      ]
     },
     "execution_count": 10,
     "metadata": {},
     "output_type": "execute_result"
    }
   ],
   "source": [
    "s = u\"\"\"<p><b>Description:</b><br><b>Material:</b>plastic coated steel pipe<b>Size</b>Length 120 (the size before bending), width 50 * height 48CM(The size after bending)<b>Weight:</b> 720g<b>Color:</b>green<b>Packing includ:</b>6pcs hoops/bag<b>Product Usage:</b><br>1, can be used for the traction of Tomatoes vine, vines and some natural climbing plants. with support<br>2, can be used as a support for the greenhouse<br>3, Garden Hoops provide convenience for your garden plant work<br><b>Features:</b><br>1, unique and handsome in appearance<br>2, good material, strong antioxidant capacity<br>3, green and health.<br><b>Installation steps:</b><br>►Gathering all materials<br>►Bend the hoops<br>►Outline Your Low Tunnel Greenhouse<br>►Put Your Hoops in Place<br>►Tie a Ridgeline<br>►Time to Place the cover<br>►Tie Down the Ends with pins<br>►The distination between 2 hoops should be less than 23.6 inches\"\"\"\n",
    "clean_text_column(s)"
   ]
  },
  {
   "cell_type": "code",
   "execution_count": 11,
   "id": "9d8ce6d2",
   "metadata": {},
   "outputs": [],
   "source": [
    "df_examples_products_clean = df_examples_products.copy()"
   ]
  },
  {
   "cell_type": "code",
   "execution_count": 12,
   "id": "45e4d167",
   "metadata": {},
   "outputs": [
    {
     "data": {
      "text/html": [
       "<div>\n",
       "<style scoped>\n",
       "    .dataframe tbody tr th:only-of-type {\n",
       "        vertical-align: middle;\n",
       "    }\n",
       "\n",
       "    .dataframe tbody tr th {\n",
       "        vertical-align: top;\n",
       "    }\n",
       "\n",
       "    .dataframe thead th {\n",
       "        text-align: right;\n",
       "    }\n",
       "</style>\n",
       "<table border=\"1\" class=\"dataframe\">\n",
       "  <thead>\n",
       "    <tr style=\"text-align: right;\">\n",
       "      <th></th>\n",
       "      <th>query</th>\n",
       "      <th>product_title</th>\n",
       "      <th>product_bullet_point</th>\n",
       "      <th>product_description</th>\n",
       "    </tr>\n",
       "  </thead>\n",
       "  <tbody>\n",
       "    <tr>\n",
       "      <th>32</th>\n",
       "      <td>!qscreen fence without holes</td>\n",
       "      <td>fotmishu greenhouse hoops rust-free grow tunnel tunnel, long steel with plastic coated plant supports for garden fabric, plant support garden stakes</td>\n",
       "      <td>material--high-qualityplasticcoatedsteelpipe,noteasytorust,canbeusedforalongtime. size--/(thesizebeforebending),/.,/.(thesizeafterbending),/...gardenfabricnotincluded. easytosetup--comescompletewithsharpenedpointsonbothsidesforeaseofplacement.washable,reusable,flatforstorage.createsafavorablemicroclimateforyourplants. protectingplants--usehoopstosupportgardenrowcovers,protectingplantsfromfrost,insects,birds,orintensesun.canbeusedwithinsect-proofnets,shadingnets,insulationfilmandsoon. features--designforplantcover,frostprotectioncoverandminigreenhouse,providesidealenvironmentforrapidgerminationandgrowthofyoungplants</td>\n",
       "      <td>description:material:plasticcoatedsteelpipesize(thesizebeforebending),*(thesizeafterbending)weight:color:greenpackinginclud:/bagproductusage:,canbeusedforthetractionoftomatoesvine,vinesandsomenaturalclimbingplants.withsupport,canbeusedasasupportforthegreenhouse,gardenhoopsprovideconvenienceforyourgardenplantworkfeatures:,uniqueandhandsomeinappearance,goodmaterial,strongantioxidantcapacity,greenandhealth.installationsteps:gatheringallmaterialsbendthehoopsoutlineyourlowtunnelgreenhouseputyourhoopsinplacetiearidgelinetimetoplacethecovertiedowntheendswithpins.</td>\n",
       "    </tr>\n",
       "    <tr>\n",
       "      <th>33</th>\n",
       "      <td>!qscreen fence without holes</td>\n",
       "      <td>zippity outdoor products unassembled madison vinyl gate kit with fence wings, white</td>\n",
       "      <td>designed for the madison vinyl fence (itemto install, dig holes and secure the extended posts into the ground; use gravel or concrete for extra stability (optional) kit includes small stainless latch (), hinges (), supporting posts (), decorative fence wings with posts () and post caps () the entire gate kit with wings spans -/. gate without wings is -/. gate must be installed with wings for optimal stability assembly and installation required</td>\n",
       "      <td></td>\n",
       "    </tr>\n",
       "    <tr>\n",
       "      <th>34</th>\n",
       "      <td>!qscreen fence without holes</td>\n",
       "      <td>zippity outdoor products lightweight portable vinyl picket fence kit w/metal base(\" h xw), white</td>\n",
       "      <td>designed as a portable fence for temporary events rust-free metal bases are included; bases have small holes if you need to screw the base into wood or concrete (fence will stand on its own without screws) this fence should not be used for serious crowd control or child or pet safety; it is designed to be used as a psychological or aesthetic barrier and not a physical one each panel includes a connector piece to attach to an adjacent panel in a straight line or at a right angle; this makes this fence fully scalable to add as many panels as you need for your event assembly required. top shape-flat</td>\n",
       "      <td></td>\n",
       "    </tr>\n",
       "    <tr>\n",
       "      <th>35</th>\n",
       "      <td>!qscreen fence without holes</td>\n",
       "      <td>colourtreexgreen fence privacy screen windscreen cover fabric shade tarp netting mesh clothcommercial grade gsmcable zip ties includedwe make custom size</td>\n",
       "      <td>virgin, uv stabilized compoundsthick material: the only fence screen product on the market that are made of gsmvirgin (non-recycled) hdpe material. our virgin hdpe fabric went through hours of laboratory uv testing and it is proved to bemore durable compared to recycled hdpe under sun exposure, fabric has been treated with uv stabilized compound, preventing fence screen from dried out, tearing and fading, significantly extend the lifespan. privacy solutionvisibility blockage: most economical way for privacy over chain link fence, porous decorative concealment, existing cyclone wire fence, wood retaining wall, welded wire fence, chain link fence, privacy barrier around swimming pool, block nose neighbor see through, add privacy to acre back yard backdrop, front yard, patio, garden and porch; hide street, road, construction site, pet kennel pen, block surrounding noise and street view, stops dogs from barking at neighb comes with the extra stainless grommets and reinforced binding: grommets are made of stainless copper, each corner has grommets (compares to similar products on the market only havegrommets), more grommets are placed evenly along all edges, inches apart vertically, inches horizontally. all edges are covered with black reinforced -inch binding (.-inch on each side). the grommets and bindings help the screen to hold up in the wind. can be used as shades or greenhouse solution: can be used there are lots of different ways to use: protection for vegetable garden plants, greenhouse covering, wind blocking for plant nursery area, window shades, tennis court, shades for pet penkennel, construction site, etc. breathable weaving fabric allows water and air to go through freely, resistant to both uv and water, no maintenance needed. years warranty: limited years warranty under normal usage and weather. free consultation. all colourtree brand products come with warranty, the terms of warranty may vary.</td>\n",
       "      <td></td>\n",
       "    </tr>\n",
       "    <tr>\n",
       "      <th>36</th>\n",
       "      <td>!qscreen fence without holes</td>\n",
       "      <td>colourtreexblack fence privacy screen windscreen cover fabric shade tarp netting mesh clothcommercial grade gsmcable zip ties includedwe make custom size</td>\n",
       "      <td>virgin, uv stabilized compoundsthick material: actual height is\", fits perfectly on footer fence. the only fence screen product on the market that are made of gsmvirgin (non-recycled) hdpe material. went through hours of laboratory uv testing and it is proved to bemore durable than recycled hdpe under sun exposure, fabric has been treated with uv stabilized compound, preventing fence screen from dried out, tearing and fading, significantly extend the lifes privacy solutionvisibility blockage: most economical way for privacy over chain link fence, porous decorative concealment, existing cyclone wire fence, wood retaining wall, welded wire fence, chain link fence, privacy barrier around swimming pool, block nose neighbor see through, add privacy to acre back yard backdrop, front yard, patio, garden and porch; hide street, road, construction site, pet kennel pen, block surrounding noise and street view, stops dogs from barking at neighb comes with the extra stainless grommets and reinforced binding: grommets are made of stainless copper, each corner has grommets (compares to similar products on the market only havegrommets), more grommets are placed evenly along all edges, inches apart vertically, inches horizontally. all edges are covered with black reinforced -inch binding (.-inch on each side). the grommets and bindings help the screen to hold up in the wind. can be used as shades or greenhouse solution: can be used there are lots of different ways to use: protection for vegetable garden plants, greenhouse covering, wind blocking for plant nursery area, window shades, tennis court, shades for pet penkennel, construction site, etc. breathable weaving fabric allows water and air to go through freely, resistant to both uv and water, no maintenance needed. years warranty: limited years warranty under normal usage and weather. free consultation. all colourtree brand products come with warranty, the terms of warranty may vary.</td>\n",
       "      <td></td>\n",
       "    </tr>\n",
       "    <tr>\n",
       "      <th>37</th>\n",
       "      <td>!qscreen fence without holes</td>\n",
       "      <td>mixc -pack seed trays seedling starter tray, humidity adjustable plant starter kit with dome and base greenhouse grow trays mini propagator for seeds growing startingcells per tray)</td>\n",
       "      <td>keep and eye on your growth: the only design in the market- high quality clear plastic trays of this seed grow kit make it easy to observe your plants without interrupting the process. total control: adjustable vents of this seed trays allow you to regulate the temperature and humidity of your seedling environment, so you have total control over the growing process perfect size for seed starting: size of the cells:length andwide, these seed trays are suitable for small seeds, such as flowers, vegetables, fruits, tobacco and other plants. grow health and efficientwith drain hole at bottom of each cell for proper drainage, reduce roots oversaturating. reusable and a great way to foster a beautiful and healthy garden. what you get mixc seed starter tray contains: x seed tray, x watertight base tray, x humidity dome, x plant labels (a must have for seedling)</td>\n",
       "      <td>mixc seedling starter trays kit it your best choice for creating a greenhouse environment with high humidity and warm air for your seeds  what is the difference between our seedling starter trays and others?  -transparent trays of our seed grow kit make it easy to observe your plants without interrupting the process, you can visually observe the growth of root.  -built-in adjustable vents of this seed trays allow you to regulate the temperature and humidity of your seedling environment. the green design makes our seedling trays more compatible with your garden. with drain hole at bottom of each cell for proper drainage, reduce roots oversaturating, the base provides the space for excess water draining without plants sitting in water, avoid seedling drowning, gives warmth to the seed bed and balances moisture level   specifications:  tray size:x .\" x \" cell size: .\" x\"x \" base size:xx dome size:xx   package content:  x seed trays x watertight base tray x humidity dome x plant label</td>\n",
       "    </tr>\n",
       "    <tr>\n",
       "      <th>38</th>\n",
       "      <td>!qscreen fence without holes</td>\n",
       "      <td>candyhome green anti bird protection net mesh garden plant netting protect seedlings plants flowers fruit trees vegetables from rodents birds deer reusable fencingx )</td>\n",
       "      <td>excellent materialqualityour anti bird net is made of strong and durable nylon with high stretch, light-weight but not tear easily. it is anti-uv and tough enough to withstand the effects of the sun and bad weather conditions. so you can use the garden net repeatedly until the end of the season. the size of the net refers to the measured length straightened from the far left to the far right. protect garden plantsfruit treesour fruit tree netting are large in size and can provides maximum protection without harming birds and small animals or interfering with plant growth. it can effectively prevent damage and protect fruit trees, berries, bushes, shrubs, plants, flowers and vegetables. easy to install, practical and securethis fruit tree net is easy to fold and unfold, can be use easily. can be cut to any size without fraying to suit multiple garden purposes, such as tree nets for fruit trees, garden mesh for garden and bird mesh netting for eaves. enjoy the fruits of your laborwhen you have a deer netting you don have to worry about birds, deer and other critters destroying your crop. this powerful anti bird netting is ideal for protecting tomatoes, strawberries, blueberries, figs, cherries and other fruit trees, etc. intimate serviceif you have any questions or are not satisfied with garden bird netting, contact us at any time, and we will reply to your message as soon as possible.</td>\n",
       "      <td></td>\n",
       "    </tr>\n",
       "    <tr>\n",
       "      <th>39</th>\n",
       "      <td>!qscreen fence without holes</td>\n",
       "      <td>sunnyglade feet x feet privacy screen fence heavy duty fencing mesh shade net cover for wall garden yard backyardft x ft, green)</td>\n",
       "      <td>privacy solution: most economical way for privacy over chain link fence, porous decorative concealment, existing cyclone wire fence, wood retaining wall, welded wire fence, chain link fence, privacy barrier around swimming pool, block nose neighbor see through, add privacy to acre back yard backdrop, front yard, patio, garden and porch; hide street, road, construction site, pet kennel pen, block surrounding noise and street view, stops dogs from barking at neighbors. high quality material: privacy fence screen is constructed of sun protected hdpe fabric with durable brass grommets on each side. the fence privacy screen measures exactlyxmultifunction: there are lots of different ways to use, protection for vegetable garden plants, greenhouse covering, wind blocking for plant nursery area, window shades, tennis court, shades for pet penkennel, construction site, etc. breathable weaving fabric allows water and air to go through freely, resistant to both sun and water, no maintenance needed. more intensive grommets: grommets are made of copper, more grommets are placed evenly along all edges,inches apart vertically,inches horizontally. all edges are covered with black reinforced .\" binding. the grommets and bindings help the screen to hold up in the wind. easy to install: use zip ties to fasten the grommets to the fence in each side. our fence screen is equipped with denser grommets and straps to keep the fence closer to your fence.</td>\n",
       "      <td></td>\n",
       "    </tr>\n",
       "    <tr>\n",
       "      <th>40</th>\n",
       "      <td>!qscreen fence without holes</td>\n",
       "      <td>easybaby products indoor outdoor retractable baby gate,tall, extends up towide, black</td>\n",
       "      <td>indoor and outdoor: can be installed at top and bottom of stairways, doorways, hallways, indoor and outdoor use. includes components for easy installation: stainless steel screws, catch mounts, wall spacers and installation guide templates. must be fitted between rigid surfaces such as plasterboard, timber or hardwall. this retractable gate is hardware mounted gate, drill a pilot hole for timber surface and for hardwall drill a hole for installation. product size: this retractable gate fits openings up towide and istall. can be adjusted to fit your openings according to your needs. mesh can be completely retracted away when not in use. one handed operation to open and close: push and turn clockwise to unlock gate, grasp handle to pull and hook handle onto catches, push and turn counter-clockwise to lock gate. fits your purpose: perfect solution for doorways and stairs locking the way for babies and pets needed to provide safety and security in the whole house. the stair gates is used for children and pets blocking off their way out or in. standard approved: all gate lines are tested to the safety standards, meeting or exceeding both astm or en standards.</td>\n",
       "      <td>this retractable gate fits openings up towide and istall. enjoy the full walk-through space of your homes entryways and stairways with easybaby retractable gate. can be installed at top and bottom of stairways, doorways, hallways, indoor and outdoor use. includes components for easy installation: stainless steel screws, catch mounts, wall spacers for the skirting board or baseboard and installation guide templates. must be fitted between rigid surfaces such as plasterboard, timber or hardwall. the surfaces that the retractable gate is to be installed to must be suitable for the purpose and must be structurally sound, must be installed to walls, door frames or posts tightly and flatly. the easybaby retractable safety gate is a sturdy and durable mesh barrier. the gate retracts out of the way when not in use and is space efficient. this retractable gate works as both an infant gate and a pet gate, intended for use with children frommonths or small to medium pets.  this retractable gate is hardware mounted gate, drill a pilot hole for timber surface and for hardwall drill a hole for installation. one additional set of spare mounting brackets included for convenient relocation.</td>\n",
       "    </tr>\n",
       "    <tr>\n",
       "      <th>41</th>\n",
       "      <td>!qscreen fence without holes</td>\n",
       "      <td>amgoxblack fence privacy screen windscreen,with bindingsgrommets, heavy duty for commercial and residential,blockage, cable zip ties included, (available for custom sizes)</td>\n",
       "      <td>fence privacy screen fits perfectly on ft fence, actual height is\", cable zip ties are included for installation. edges are finished with heavy duty black bindings and stainless copper grommets, all stitching are reinforced, grommets are placed every ft vertically, ft horizontally, each corner has grommets, easy to install with included cable zip ties.blockage, great for privacy and allows water and airflow to pass through at the meantime, fabric is made of knitted virgin hdpe material. custom sizes are available, select size from drop-down or contact us for other colorssizes, we are the manufacturer who is focusing on making quality and durable fence screen at low price. years limited warranty under normal usage and weather.</td>\n",
       "      <td>package included: x fence privacy screen. pcs cable zip ties.  specifications  size:x '  color: black  fabric material: high-density polyethylene,recycled material, waterair permeable  blockage: %  finish: black bindingsgrommets all around, apart vertically, apart horizontally.  warranty: years full warranty.  why choose our product?  quality  price  warranty  hassle-free customer service and return</td>\n",
       "    </tr>\n",
       "    <tr>\n",
       "      <th>42</th>\n",
       "      <td>!qscreen fence without holes</td>\n",
       "      <td>amgoxblack fence privacy screen windscreen,with bindingsgrommets, heavy duty for commercial and residential,blockage, cable zip ties included, (available for custom sizes)</td>\n",
       "      <td>fence privacy screen fits perfectly on ft fence, actual height is\", cable zip ties are included for installation. edges are finished with heavy duty black bindings and stainless copper grommets, all stitching are reinforced, grommets are placed every ft vertically, ft horizontally, each corner has grommets, easy to install with included cable zip ties. edges are finished with heavy duty black bindings and stainless copper grommets, all stitching are reinforced, grommets are placed every ft vertically, ft horizontally, each corner has grommets, easy to install with included cable zip ties. custom sizes are available, select size from drop-down or contact us for other colorssizes, we are the manufacturer who is focusing on making quality and durable fence screen at low price. years limited warranty under normal usage and weather.</td>\n",
       "      <td>package included: ' xfence privacy screen. pcs cable zip ties.  specifications  size:x '  color: black  fabric material: high-density polyethylene,recycled material, waterair permeable  blockage: %  finish: black bindingsgrommets all around, apart vertically, apart horizontally.  warranty: years full warranty.  why choose our product?  quality  price  warranty  hassle-free customer service and return</td>\n",
       "    </tr>\n",
       "    <tr>\n",
       "      <th>43</th>\n",
       "      <td>!qscreen fence without holes</td>\n",
       "      <td>dearhouse artificial ivy privacy fence screen,artificial hedges fence and faux ivy vine leaf decoration for outdoor garden decor</td>\n",
       "      <td>realistic green ivy look: artificial ivy leaves are natural looking to provide every indoor or outdoor space a blooming, earthy feel without the need for watering,use zip ties or tape to install, it can be cut to get the size and shape you want, can be used as wall decoration, fence screen, privacy screen. functional: decorate your home while ensuring privacy from the outside world by strategically placing the fence in areas that may be exposed, artificial leaf privacy decor is intended for both interior and exterior usage.provides extra privacy without gaps. densely packed leaves: privacy fence leaves are placed closely enough to provide blockage from harsh sunlight while also allowing air flow through the open net back, the added mesh backing easily beautify landscaping with our artificial ivy leaf privacy decor panels. providing more privacy windscreen protection to its users. fade-resistant look: durable, fresh looking plastic and polyester leaves keep their evergreen look year-round and are easy to clean and maintain. live up any space: easy to put on a fence, trellis, wall, or other area lightweight design makes it easy to move around to redecorate and beautify and room or space; overall dimensions: .(l) x (w) .</td>\n",
       "      <td>artificial ivy privacy fence screen, enjoy privacy in your yard while upgrading it with a natural look using this faux ivy privacy fence screen. simply put it on a fence in the backyard or on a balcony railing to block the view of neighbors.</td>\n",
       "    </tr>\n",
       "    <tr>\n",
       "      <th>44</th>\n",
       "      <td>!qscreen fence without holes</td>\n",
       "      <td>( pack) vinyl siding clips hooks no-hole needed outdoor siding screws hanger for mount home security camera</td>\n",
       "      <td>no holes or tools required. very easy to put up and move cameras to get the best positioning. no drilling. just roll the hook into any seam in vinyl or aluminum siding. stainless steel vinyl siding hooks won rust or stain. great for all seasons. holds up to lb per hook. no damage to siding. set ofcontact us if you have any issues, we will offer the best solution for you.</td>\n",
       "      <td>these hooks for mounting home security cameras on vinyl siding without drilling or using adhesives.  simple to use, you just roll the hook into any seam in the vinyl siding.  easy to put up and move cameras to get the best positioning.  low profile slight bend design. rust-free, no stains on your siding. each hook holds up to ten pounds .  specifications:  material: high quality stainless steel size: approximately -/\"(.)  maximum bearing weight: lbs quantity: pcs vinyl siding security camera mounted hooks per pack</td>\n",
       "    </tr>\n",
       "    <tr>\n",
       "      <th>45</th>\n",
       "      <td>!qscreen fence without holes</td>\n",
       "      <td>orgrimmar green fence privacy screen heavy duty garden fence mesh shade net cover for outdoor wall porch patio backyard balcony</td>\n",
       "      <td>premium quality: this heavy duty privacy screen is constructed of hdpe fabric and brass grommets finished with reinforced black bindings. product measures x ft(hxl)perfect fits for ft tall fence. the zip ties are included. brass grommets: each hole of our fence covering is reinforced with brass grommets. the grommets run along the entire perimeter of the screen and are evenly spaced to ensure strength. the holes are spacedinches apart vertically,inches horizontally. privacy solution: garden fence mesh allows water and airflow to pass through but not opaque. if you wanted these to be thick enough to block the view almost completely you could buy a one and stack them for use. easy to install: grommets are generously distributed so the screen can fasten securely to established fencing. best to extend the screen as much as possible when adding the zip ties to get it to fit perfectly to the fence. multi-function: the fence privacy screen can be applied in backyard, patio, greenhouse, swimming pool, tennis court, pet kennel, chicken run, construction site etc. block surrounding nosy neighbor and street view, stops dogs from barking at passersby.</td>\n",
       "      <td>privacy fence screen measurestall xlong, perfect fit for a fence thats tall. breathable fabric allows breeze to go through, made of uvwater resistant heavy duty hdpe (high-density polyethylene), made to last under sun exposure and all weather condition.blockage gives you the privacy you deserve, not completely block out but the right amount of privacy and blockage, keep the dogs from barking. ideal for condo apartment balconies, backyards patio, gathering areas, swimming pool, or anywhere you need a bit of privacy. specification: material: hdpe+brass color: green size(l x w): about package included: garden fence privacy screen* straps* note: .due to the light and screen difference, the item color may be slightly different from the pictures. .please allow .- differences due to manual measurement.</td>\n",
       "    </tr>\n",
       "    <tr>\n",
       "      <th>46</th>\n",
       "      <td>!qscreen fence without holes</td>\n",
       "      <td>pack plastic growing trays,xxgrowing trays without holes, hydroponic tray for flowers, seedlings, plants, wheatgrass, microgreens</td>\n",
       "      <td>enlarge and deepen the design: pcs plastic growing trays, the tray can be operated uniformly, and can also hold different plants to meet your gardening needs. plant growing trays no drain holes: size:xx ., perfect for hydroponic growing and seed starting, help keep soil, fertilizer and water contained inside. multiple uses: used as an essential tool for seedlings, grow tray, or planting tray! suitable for seedling, greenhouse, potting work, germination wheatgrass, microgreens and more. heavy dut: thickness(.), weight (.), sturdy, durable plastic construction will last through many uses. our reusable trays are an eco-friendly investment to cut down your costs and reduce waste. versatile garden tray: great for potting, mixing, growing and more, this tray brings garden work into the house cleanly and quickly, our one piece potting tray makes life easier.</td>\n",
       "      <td></td>\n",
       "    </tr>\n",
       "    <tr>\n",
       "      <th>47</th>\n",
       "      <td>!qscreen fence without holes</td>\n",
       "      <td>large let freedom ring banner for fence of july independence day decor american patriotic decoration and supplies for memorial day veterans day</td>\n",
       "      <td>material: polyester fabric,durable and reusable waterproof without fading package listing: pcs banners size:*() open to use,easy to hang windbreak design perfect for of july decorations outdoor indoor front porch window for the home ,own it and take your memorable photos to share with your family and friends</td>\n",
       "      <td></td>\n",
       "    </tr>\n",
       "    <tr>\n",
       "      <th>48</th>\n",
       "      <td>!qscreen fence without holes</td>\n",
       "      <td>magzo magnetic screen door fit door size xreinforced fiberglass mesh curtain back door mesh with full frame hook&amp;loop-grey</td>\n",
       "      <td>magnetic screen door size screen door size: x inch--fit door size: x inch.how to choose a suitable size: before purchase, please carefully measure your door size and order that size (only door size, doesn include door frame partunique hook and loop hasp designwe are the only seller with windproof sticker hasp design on the middle and bottom of the screen door curtain, after many tests about wind resistance level, windproof sticker hasp can effectively consolidate and refrain the magnet screen door from being blown open by the wind. excellent workmanship guarantees the screen door lasts a long life. pet friendly screen mesh doorlets your pets freely go in/out/keeps sealed, your lovely pets could push their way in and out of mesh screen whenever they want, and close up right after they go through itsave your time to get up and down to let pets out everytime. take minutes to assemble and detachabletruly ready to stick right on and go. come with an installation manual helps you install like a breeze! remove easily and you can rolled it up during the off seasons. screen mesh door with strong magnets go all the way down the entire middle from top to bottom, sturdy adhesive strip with extra push pins to secure. economical choicecompared to the previous nylon screen doors mesh with magnets, fiberglass material with better durability,fireproof,good shape. a good replacement for an actual door, much economical choice for you!</td>\n",
       "      <td>this fiberglass mesh is the main material for making invisible door screen. good light transmittance, is one of the most commonly used high-end door screen series. on the market called [fireproof mesh], because it is the material of glass fiber flame retardant material, and with a colloidal coating. has a slight odor, not easy to break, and not leave a crease, can be burned in fire, burning part is the colloidal coating, glass fiber will not burn. mainly used to refrain cigarette butts. after the experiment, the cigarette stays in the fiberglass screen doorseconds will not have holes and other damage      fiberglass screen door colorgrey mesh+black frame      features. automatic open and close, free your hands.. super sturdy and durable fiberglass mesh, no breaks.. super strong attraction magnets construction with extra hook and loop hasp, no gaps. . strong reinforced hook and loop with the full frame, avoid falling. . big enough for sliding door, double door, screen door hardware. lifetime replacement guarantee. package include. a fiberglass screen door. a roll of hook and loop. a pack of push pins</td>\n",
       "    </tr>\n",
       "    <tr>\n",
       "      <th>49</th>\n",
       "      <td>!qscreen fence without holes</td>\n",
       "      <td>asurion year home improvement protection plan $-.</td>\n",
       "      <td>no additional cost: you payfor repairs parts, labor and shipping included. coverage: plan starts on the date of purchase. drops, spills and cracked screens due to normal use covered for portable products and power surges covered from day one. malfunctions covered after the manufacturer warranty. product eligibility: plans cover products purchased in the last days. easy claims process: file a claim anytime online or by phone. most claims approved within minutes. we will send you an amazon e-gift card for the purchase price of your covered product. in some cases, we will replace or repair it.</td>\n",
       "      <td>asurion is taking the guesswork out of finding product protection plans to fit your needs. products failoften at the most inconvenient time. its a good thing youre covered because no other plan can protect your stuff the way an asurion protection plan can. simply put, asurion protection plans cover your products when you need it most with a fast and easy claims process. buy a protection plan from a company that you know and trust. add an asurion protection plan to your cart today! please see \"user guide [pdf]\" below for detailed terms and conditions related to this plan.</td>\n",
       "    </tr>\n",
       "    <tr>\n",
       "      <th>50</th>\n",
       "      <td>!qscreen fence without holes</td>\n",
       "      <td>vivosun -pack elastic trellis netting with hooks for grow tents</td>\n",
       "      <td>strong support for growing plants: vivosun elastic trellis netting provides a sturdy support structure that effortlessly bears the weight of your precious stalks, leaves, buds, fruits and flowers long-lasting, strong and stretchy: vivosun surpasses the market standard by using imported ultra-durable elastic strands in a stretchy fabric cover and anti-rust s hooks sized for grow tents: designed to hook onto the frame of a grow tent, this trellis also easily stretches to and can even be folded to fit and other tents easy to install and adjust: each trellis square is inches but the knots can be slid in any direction to exactly accommodate your plants as they grow guaranteed quality: vivosun guarantees your satisfaction with this trellis, backing our confidence with a -year warranty and -day hassle-free return guarantee</td>\n",
       "      <td></td>\n",
       "    </tr>\n",
       "    <tr>\n",
       "      <th>51</th>\n",
       "      <td>!qscreen fence without holes</td>\n",
       "      <td>zippity outdoor products premium vinyl privacy screen, \"w x \"h (unassembled), white</td>\n",
       "      <td>privacy screen is completely solid for maximum privacy not only will this screen hide your unmentionables, but it will also add curb appeal to your home crafted with premium pvc vinyl, this privacy screen looks the same from both sides to install, simply drive the included stakes into the ground using a sledge hammer set includes sections to make a right angle. not recommended for side by side installation unless you use concrete to cement into the ground</td>\n",
       "      <td></td>\n",
       "    </tr>\n",
       "    <tr>\n",
       "      <th>52</th>\n",
       "      <td>!qscreen fence without holes</td>\n",
       "      <td>hp .-inch full hd ips led monitor with built-in speakers and vesa mounting, rotating portraitlandscape, tilt, and hdmivga ports ()black</td>\n",
       "      <td>resolutionpanel .-inch full hd monitorx at hz) withaspect ratio and an anti-glare matte ips led-backlit panelmillion pixels,million colors) response time with overdrive for a smooth picture that looks crisp and fluid without motion blur built-in speakers integrated audio speakers provide great sound for your contentwatts per channel) thin bezel-less frame a thin and virtually frameless ultra-widescreen monitor provides a seamless multi-monitor set-up with -sided narrow bezels -way ergonomic viewing rotation for horizontal (landscape) and vertical (portrait) viewing modes, adjustable height and tilt (- to ), and positional viewing for the best quality at any angle</td>\n",
       "      <td></td>\n",
       "    </tr>\n",
       "    <tr>\n",
       "      <th>53</th>\n",
       "      <td>!qscreen fence without holes</td>\n",
       "      <td>dap inc platinum patch filler,fl oz, white</td>\n",
       "      <td>-ounce package use on metal, composite, pvc, fiber cement, wood, and more easy to apply, sandable, and paintable exceptional weatherproofing and uv protection</td>\n",
       "      <td></td>\n",
       "    </tr>\n",
       "    <tr>\n",
       "      <th>54</th>\n",
       "      <td>!qscreen fence without holes</td>\n",
       "      <td>tenax multi-purpose net,x ', black</td>\n",
       "      <td>mesh .\"x.\" virtually invisible will not rust or corrode available in black</td>\n",
       "      <td></td>\n",
       "    </tr>\n",
       "    <tr>\n",
       "      <th>55</th>\n",
       "      <td>!qscreen fence without holes</td>\n",
       "      <td>garden creations extendable instant fence</td>\n",
       "      <td>expandable flexi-screen stretch your fence to the width compatable with your home esthetic design easily place your fence inside or outdoors, wood finish is a perfect match for interior home designs as well as porch finishes plant divider perfect for flowerbeds, easily separate your plants while maintaining visual garden appeal portable light weight design, easy to move from room to room durable fence stands on two wooden platforms, no digging or support needed</td>\n",
       "      <td></td>\n",
       "    </tr>\n",
       "    <tr>\n",
       "      <th>56</th>\n",
       "      <td>!qscreen fence without holes</td>\n",
       "      <td>heavy duty privacy screen fence in color solid blackxbrass grommets gsmcustomized</td>\n",
       "      <td>product measures exactlylong xtall, perfect fit for a fence thats ft tall. constructed of new high density material- polyethylene, allows maximum air to go through. prevents harmful uv sun lights from damaging for up to %, and fabric has aenforced binding, so its able to hold up even in extreme weather condition. grommets on each side of fabric to ensure strength, and its easy to install. has a year limited warranty under normal usage and weather.</td>\n",
       "      <td></td>\n",
       "    </tr>\n",
       "    <tr>\n",
       "      <th>57</th>\n",
       "      <td>!qscreen fence without holes</td>\n",
       "      <td>richell freestanding pet gate, large, origami white</td>\n",
       "      <td>freestanding gate with side panels for safely confining pets no installation necessary; adjustable width fromtoinches wide base prevents tipping; rubber feet protect floors; folds for storing low enough for people to stride over; beautiful hardwood finish. made from rubberwood measurestobybyinches.inch space between wire slats, wire is gage orinch</td>\n",
       "      <td></td>\n",
       "    </tr>\n",
       "    <tr>\n",
       "      <th>58</th>\n",
       "      <td>!qscreen fence without holes</td>\n",
       "      <td>regalo -inch super wide adjustable baby gate and play yard, -in-, bonus kit, includes pack of wall mounts</td>\n",
       "      <td>superwide: fits opens up to inches wide and stands inches tall -in-: can convert from a super-wide gate to an -panel play yard. no tools require, quick and easy. includes pack of wall mounts configurable: each panel can be adjusted to fit almost any opening. great for wide spaces, angled openings, hallway, doorway, bottom of stairs or barrier. folds flat for storage.wipes clean durable and convenient: the all steel design is durable and convenient with a walk-through door safety: designed with a walk-through door with safety locking feature. wall mounted for added security and protection. meets all current safety standards. for children up to months and great for pets too</td>\n",
       "      <td></td>\n",
       "    </tr>\n",
       "    <tr>\n",
       "      <th>59</th>\n",
       "      <td>!qscreen fence without holes</td>\n",
       "      <td>zareba -z -mile solar low impedance electric fence charger, black</td>\n",
       "      <td>energizes up to miles of electric fencing operates up to weeks without sun built in mounting bracket for tposts, yposts, and round wood posts degree rotation allows charger to rotate on t-post to face sunlight built in usa full load tested in the u.s. after manufacturing</td>\n",
       "      <td></td>\n",
       "    </tr>\n",
       "    <tr>\n",
       "      <th>60</th>\n",
       "      <td>!qscreen fence without holes</td>\n",
       "      <td>tenax guardian warning barrier,x ', green</td>\n",
       "      <td>visual barrier for use on construction sites, crowd control, hazardous areas and utility work sites made in the usa withselected materials plus years of use available in orange, green and fluorescent colors</td>\n",
       "      <td></td>\n",
       "    </tr>\n",
       "    <tr>\n",
       "      <th>61</th>\n",
       "      <td>!qscreen fence without holes</td>\n",
       "      <td>zareba -z -mile solar low impedance electric fence fence charger</td>\n",
       "      <td>energizes up to miles of electric fencing operates up to weeks without sun built-in mounting bracket for t-posts, y-posts, and round-wood posts built in usafull-load tested in the u.s. after manufacturing -year limited warranty including lightning damage</td>\n",
       "      <td></td>\n",
       "    </tr>\n",
       "    <tr>\n",
       "      <th>62</th>\n",
       "      <td>!qscreen fence without holes</td>\n",
       "      <td>zippity outdoor products no dig madison vinyl picket fence, white,x( box, panels), x pack of</td>\n",
       "      <td>this fence is designed for semi-permanent residential applications that are not subject to intense wear and tear. package comes with units for a total of of fence assembles and installs with relative ease- no digging required! simply insert pointed stakes into the ground perfect to contain small pets or small children; not recommended for large dogs made with weather resistant vinyl with a year warranty. won crack, warp, yellow, splinter, or rot. no painting, staining or maintaining required! search \"\" for compatible gate option to pair with this fence</td>\n",
       "      <td></td>\n",
       "    </tr>\n",
       "    <tr>\n",
       "      <th>63</th>\n",
       "      <td>!qscreen fence without holes</td>\n",
       "      <td>zippity outdoor products no dig fence newport, \"h x \"w, white</td>\n",
       "      <td>installs without digging holes, pouring concrete, or tearing up your yard; use a sledgehammer or post pounder to install the no-dig pipe anchor crafted from premium weather resistant vinyl with a year warranty- won crack, warp, yellow, splinter, etc. virtually maintenance-free; no painting, staining or maintaining required; assembles with relative ease each unit includes fence panel, post, no-dig pipe anchor and () cap; this product is designed to scale, so you will need to order a finishing post to complete your fence project (itemthis fence is strong and sturdy and designed to be a permanent structure in your yard once installed; it is not easily removed</td>\n",
       "      <td></td>\n",
       "    </tr>\n",
       "    <tr>\n",
       "      <th>64</th>\n",
       "      <td>!qscreen fence without holes</td>\n",
       "      <td>flux phenom magnetic screen doorretractable mesh with self sealing magnetskeeps nature out</td>\n",
       "      <td>installs in an instant: our magnetic door screen comes with everything you need to install it quickly; black all metal thumbtacks, a large roll of hook and loop backing, plus video tutorial fits doorways up to inches: door net works on fixed, sliding, metal or wood doors as long as they measure up to inches. important: measure your door before ordering to ensure fit opens and closes like magic: our retractable screen door features a middle seam lined with magnets for walking through any doorway with ease durable, heavy duty magnetic mesh screen door: our patio screen door heavy duty polyester mesh and reinforced edges are designed to withstand constant use by you, your pets, and the elements keeps nature out: our mesh door screen is perfect for letting fresh air in while keeping pesky outdoor irritants out. fine mesh won hinder your views of the happenings outside</td>\n",
       "      <td>the flux phenom magnetic screen door is made for any household. the instant screen door installs in just a few minutes in any doorway of your home. it keeps irritants out, lets fresh air in, and allows your dog or cat to freely go in and out of the house. it the perfect shield to fight off constant irritation from nature. the fine mesh of our screen for doors is small enough to keep them out while letting air flow freely. the mesh is fine, but not so fine as to block your vision from the happenings going on outdoors. our magnetic door curtain features reinforced edges that ensure your door will stay in place even when hit with heavy gusts of wind. the strong, durable mesh and superior strength edges of our magnetic curtain will keep you experiencing outdoor freshness for years to come. all hardware included (for metal or wood door frames), instructions, and a video installation guide. no more dealing with claw marks on your expensive screen door from your pets. our magnetic screen door opens easily with just a nudge of a head or hand (for you humans). the middle seam of the screen door is lined with magnets that allow it to close like magic. it fits all door sizes up to xand is not intended to reach the ground upon installation. we value your business and back our flex screen with a lifetime replacement policy. if anything should happen to your temporary door, sliding screen door, or pet screen for any reason, we send you another one at no extra charge. note: product packaging design may vary.</td>\n",
       "    </tr>\n",
       "    <tr>\n",
       "      <th>65</th>\n",
       "      <td>!qscreen fence without holes</td>\n",
       "      <td>amagabeli decorative garden fence outdoor coated metal rustproof x landscape wrought iron wire border folding patio fences flower bed fencing barrier section panels decor picket edging black</td>\n",
       "      <td>sizerustproof material: decorative garden fence panels metal with single panel sizehigh xwide, panels in total. this metal decorative flower bed fencing panels for front yard is made of black iron with vinyl pvc powder coated surface will enable you to use the garden fence outdoors durably; the decorative black iron garden fencing animal barrier is made of rustproof and weather resistant metal material. easy to useflexible set-up: each piece of temporary movable border fencing can be easily interlocked with the ring on the side and folds flat for easy storage; no additional tools required to install this patio landscape edging fence: simply stick and secure the spiked feet of this decor no dig fence sections into ground. these no dig metal fence panels can be extended to different shapes according to your special uses of this path edging fence, one straight line, l, o or zigzag s foldable moveable portableeasy to store: amagabeli patio steel picket folding fencing is foldable and folds flat for easy storage. amagabeli garden fence barrier for dogs is movable and removable. no additional tools to remove this temporary wire garden fencing for pets for reinstallation in another place. simply pull the spiked feet of this flower garden border fencing out from the ground where you stick this vegetable garden fencing then reinstall. decor and sturdy: the arched iron arts make this ornamental steel garden border fence itself a decorative element for your garden and add more delights to your life, accent border with classic rod iron design to fit any decor; stylish look of this flower garden border fencing will add a modern touch to your garden, patio or yard. the vinyl rustproof coated garden wire fence is welded with thick wires and it is an architectural structure that is durable and sturdy. customer care: we offer premium products for you while exceeding highest industry standards and offer thoughtful and considerate customer care.</td>\n",
       "      <td></td>\n",
       "    </tr>\n",
       "    <tr>\n",
       "      <th>66</th>\n",
       "      <td>!qscreen fence without holes</td>\n",
       "      <td>houseables plastic mesh fence, construction barrier netting, green,feet, roll, garden fencing, fences wrap, above ground, for snow, poultry, chicken, safety, deer, patio, garden netting</td>\n",
       "      <td>lightweight mesh safety netting: comes to your rescue when youre in need of instant skirting around gardens, seeded lawns, newly laid concrete sidewalks, or freshly painted surfaces that are easily reachable. vibrant visual barrier: great for establishing a secondary fence for landscaping purposes, protecting flowerbeds and gardens from being trampled on. or, put it up to keep toddlers away from your pool and other unsavory areas of your yard. easy to install/remove: best used with metal t-posts or wooden stakes positioned four-feet apart to prevent sagging and collapsing caused from wind stress, animal gnawing, and pressure from snow build up. just as simple to remove, roll up, and stow away for future use. feet in length: an economic alternative for those who lack the time or funds for building a traditional fence. multifunctional enough for crowd control use at sporting events, concerts, festivals, carnivals, and other social gatherings where distinct visual barriers are necessary. rein over your domain: control what goes in and out of your garden or property. keep your animals in and those pesky pests out!</td>\n",
       "      <td>mesh safety netting roll measuring high and long lightweight uv-protected mesh safety netting comes to your rescue when youre in need of instant skirting around gardens, seeded lawns, newly laid concrete sidewalks, or freshly painted low surfaces. easy to install with t-posts or stakes made from wood or bamboo set four feet apart for heightened stability. this will prevent sagging or collapsing caused from wind stress, animal gnawing, or snow buildup (doubling up on the thickness of netting is recommended for those who live in rural areas prone to frigid weather conditions). once its set up, you will have a vibrant visual barrier with maximum visibility that is just as easy to remove, roll up, and stow away in the garage or garden shed for future use. keeps wanted things in, keeps unwanted things out our mesh visual barrier netting helps prevent small pets from wandering off or accessing areas of your lawn or garden that are off limits. great for establishing a secondary fence for landscaping purposes, protecting flowerbeds and gardens from being trampled on. or, put it up to keep toddlers away from your pool and other unsavory areas of your yard. its multifunctional enough for crowd control use at sporting events, concerts, festivals, carnivals, and other social gatherings where distinct visual barriers are necessary. highly affordable and easily adjustable an economic alternative for those who lack the time or funds for building a traditional fence. suitable for many other uses and projects, such as securing strawberries and raised beds in your garden, acting as a baseboard around tents while camping, establishing a walking path or a warning perimeter during minor sidewalk construction projects where open trenches are exposed.</td>\n",
       "    </tr>\n",
       "    <tr>\n",
       "      <th>67</th>\n",
       "      <td>!qscreen fence without holes</td>\n",
       "      <td>tespo pet playpen, small animal cage indoor portable metal wire yd fence for small animals, guinea pigs, rabbits kennel crate fence tent, black panels</td>\n",
       "      <td>upgrade version: cable ties and anti-slip pieces added in. cable ties help build doors or ramps or reinforce the whole structure. anti-slip pieces prevent connectors from slipping on the floor. diy expandable: make qualified metal wire grids into different shapes, a low wide exercise pen, or a two-storey premium villa for various animals: hedgehogs, hamsters, guinea pigs or rabbits, they can all have fun in this fence. easy to keep an eye on them from any angle easy assembly: easy to put together with the illustrated instruction and included mallet. use cable ties to achieve even more features like doors or rampssatisfaction guarantee: we are always available to provide professional customer service before and after your purchase, so don wait any longer and enjoy it right now</td>\n",
       "      <td></td>\n",
       "    </tr>\n",
       "    <tr>\n",
       "      <th>68</th>\n",
       "      <td>!qscreen fence without holes</td>\n",
       "      <td>baxia technology bx-sl- solar lights outdoor led wireless waterproof security solar motion sensor lights, (, packs)</td>\n",
       "      <td>[pir motion lights and no dim mode]- designed with no dim mode to increase product life span. when motion is detected within -, the motion sensor lights will turn on automatically in darkness or at night, which provides your illumination for security and safety protection.led ultra-bright solar powered lights]-there are powerful leds and the motion angle is degrees which can provide excellent illumination and turn the dark space into a bright lighted space. with a lampshade covering the led, well designed to longer its performance life. [high efficiency and eco-friendly]- by exposure to sunlight for around hours in daytime, the solar light is able to work for you by motion detecting at night. [waterproof and durable]- the solar outdoor lights is water resistant and heat-resistant. a great solar security light for outdoor patio, garden, deck, yard, drive, outside wall, fence etc</td>\n",
       "      <td></td>\n",
       "    </tr>\n",
       "    <tr>\n",
       "      <th>69</th>\n",
       "      <td>!qscreen fence without holes</td>\n",
       "      <td>zippity outdoor products wilmington vinyl privacy screen,xwhite- pack</td>\n",
       "      <td>installs without digging holes, pouring concrete, or tearing up your yard. crafted from premium weather resistant vinyl with a year warranty. looks the same from both sides. each screen measures w x h installed. screens per package. virtually maintenance-free! no painting, staining or maintaining required. installation and assembly requireda cordless drill is needed for assembly. installs by inserting pointed end stakes into the ground.</td>\n",
       "      <td></td>\n",
       "    </tr>\n",
       "    <tr>\n",
       "      <th>402</th>\n",
       "      <td># black natural hair dye without ammonia or peroxide</td>\n",
       "      <td>l paris excellence creme permanent hair color, natural black, percent gray coverage hair dye, pack of</td>\n",
       "      <td>gray coverage hair color with triple protection: no hair color cares more than excellence crme; with our triple protection system that seals, replenishes and conditions, plus percent gray coverage even on stubborn grays. excellence in hair protection: our weekly conditioning treatment with collagen helps protect hair until your next appointment for long lasting rich color; for percent gray coverage and gorgeous root-to-tip color. l permanent hair color: l paris hair color comes in multiple formulations and styles to deliver long-lasting color, from fade-defying superior preference, to bold, stylish feria, and gray-coverage from excellence crme long lasting hair color: get beautiful color from l paris hair color; permanent, semi-permanent, temporary hair color, and root cover up; cover gray hair, highlight, go bold with bright color, or even try an ombre hair color l paris innovation: we are a total beauty care company that combines the latest in technology with the highest in quality for the ultimate in hair color, hair care, hair style, skin care and cosmetics</td>\n",
       "      <td></td>\n",
       "    </tr>\n",
       "    <tr>\n",
       "      <th>403</th>\n",
       "      <td># black natural hair dye without ammonia or peroxide</td>\n",
       "      <td>naturcolor haircolor hair dyelight burdock, ounce ()</td>\n",
       "      <td>contains no ammonia, resorcinol or parabens available in colors, each color can be used alone or blended to create personalized hair colors fast and easy, complete application takes less than an hour safe to use over color treated or permed hair. gives natural looking color variation, will not fade like other hair products.</td>\n",
       "      <td>naturcolor light burdock permanent herbal based haircolor gel utilizes herbs to cover grey as opposed to chemicals. with ingredients such as burdock root and nettle leaf extract along with chamomile flower extract, our formula seeks to achieve a glossy, natural effect. this box contains fl oz of herbal hair color that uses plant extract as its active ingredients.</td>\n",
       "    </tr>\n",
       "    <tr>\n",
       "      <th>404</th>\n",
       "      <td># black natural hair dye without ammonia or peroxide</td>\n",
       "      <td>nisha natural henna based hair color (natural black) pack of</td>\n",
       "      <td>packaging includes: pieces of nisha henna-based hair color natural black gram (pack ofdiscover colored hair thats naturally beautiful herbal based hair color with the goodness of amla, shikakai, aloe verahibiscus. gives natural looking hair color for a longer period. natural looking hair color which makes your hair smooth, silkystrong. please don use for coloring eyebrows. and please use the content immediately after opening the sachet.</td>\n",
       "      <td>nisha henna based hair colour is a premium quality powder hair colour enriched with ancient indian herbs like amla, aloe vera, hibiscusshikakai. it is one of the best hair colour powder available in the market which is made from herbal henna extracts. nisha is an ammonia free unisex hair colour, which is safe for your hair. nisha hair color makes your hair soft, glossynatural looking. discover colored hair thats naturally beautiful with nisha powder hair color.  nisha hair color is available in shades in&amp; ):  -natural black  -natural brown  -burgundy</td>\n",
       "    </tr>\n",
       "    <tr>\n",
       "      <th>405</th>\n",
       "      <td># black natural hair dye without ammonia or peroxide</td>\n",
       "      <td>indus valley damage free permanent gel hair color (black .)</td>\n",
       "      <td>organically natural hair color: no hydrogen peroxide (bleach), no ammonia and no harmful chemicals to provide damage-free hair coloring super-exotic -herb formula: enriched with a unique blend of natural herbs to nourish and color your hair gently without any damages or side effects especially developed for normal skin: a damage-free hair color for women and men, it works best on normal skin and on all hair types forgrey hair coverage with a single application with pleasant aroma of sweet oranges a no-ammonia hair color: prevents your hair from becoming dry, rough and brittle, locks in its natural shine and strength to make your hair look vibrant and healthy</td>\n",
       "      <td>indus valley new damage-free gel colour is innovatively designed as a no-peroxide hair color to give you a damage-free coloring experience. it addresses the most damaging issue associated with chemical hair colorsturning naturally colored hair into permanent greys from prolonged usage of chemical hair dyes. the no-bleach hair color is made with exotic- natural herbs that repair and nourish your hair strands during coloration and prevent them from turning grey anytime soon. the rich, vibrant hair color lasts forweeks and effectively covers grey strands in a single application without damaging your hair.</td>\n",
       "    </tr>\n",
       "    <tr>\n",
       "      <th>406</th>\n",
       "      <td># black natural hair dye without ammonia or peroxide</td>\n",
       "      <td>garnier hair color nutrisse nourishing creme, soft black (black tea), count</td>\n",
       "      <td>nourishing hair color: discover thenourishing color creme. nutrisse color is formulated with color boost technologya blend of triple fruit oils--avocado, oliveshea--to deliver permanent hair color, even to dark hair. permanent hair dye: garnier nutrisse hair color creme, with grape seed and avocado oil, comes in a complete hair dye kit and nourishes while it colors with a rich, non drip creme formula. garnier hair color: for nourishing, easy-to-use permanent hair dye, temporary hair color, root touch up, or to enhance your natural hair color, turn to garnier hair color. over years of pioneering in hair care: since garnier has blended naturally inspiredderived ingredients into breakthrough formulas. nourish your hair with hair colorhair care from garnier. garnier is incomparable: try express retouch gray hair concealer for a temporary hair color solution to cover gray hair in between uses of your favorite garnier hair dye shade.</td>\n",
       "      <td></td>\n",
       "    </tr>\n",
       "    <tr>\n",
       "      <th>407</th>\n",
       "      <td># black natural hair dye without ammonia or peroxide</td>\n",
       "      <td>herb speedy ppd free hair dye, ammonia free hair color natural black contains sun protection odorless no more eye and/or scalp irritations from coloring for sensitive scalp</td>\n",
       "      <td>special formula to minimize the allergy reactionherb speedy does not contain allergy reactant such as ppd (p-phenylenediamine), diamine and suitable for users with extremely sensitive scalp. made with natural herbal ingredientscontains herbal extracts with licorice root, paeonia albiflora root, sage, matricaria, rosemary extracts, and camellia japonica seed oil to provide rich nutrition to your hair and scalp.( ammonia and paraben free) revolutionary speedy color creamwhile conventional natural hair color dye requires to minutes to complete the coloring, herb speedy color cream offers satisfactory result in just minutesminutes each for&amp;cream). sunlight protectionherb speedy has patented (korea patent no.sunscreen agent which prevent color fading from sunlight damage. made in koreadongsung bio pharm co.,ltd is manufacturer in south korea. they are in the business since .</td>\n",
       "      <td>are you afraid of using hair color because of the allergy symptoms? herb speedy permanent color cream is suitable for people with extremely sensitive scalp and has been specially formulated to be free of allergy. this product does not contain ppd (p-phenylenediamine), a commonly found ingredient for permanent hair dyes called oxidative dyes which leads to allergic reactions. no more eye and/or scalp irritations from coloring. this product is odorless and easy-to apply hair color, which anyone may use at ease. quick hair coloring is possible in just minutes. brilliant color lasts more than weeks.ppd free, ammonia and paraben free with naturally derived dye ingredients.natural herbal extracts help prevent hair loss. herb speedy contains sunscreen agent which protects against hair damage and prevent discoloration of hair from repeated exposures to uv. contents : x cream:oz x cream: . x brush. x head cap. x pair of disposable gloves. x divided container. x instruction. directions : \" for the best results, please follow the instructions step by step \"squeeze an equal amount of creamandonto the included plastic container. unlike other permanent color creams never mix creamandtogether. apply creamon hair.leave it on for minutes. apply creamon hair and leave that on for minutes as well. make sure that the amount drawn out is used in its entirety or the color will not develop properly. after the desired color is obtained, wash and rinse several times with lukewarm water until water runs clear.safety information patch test strongly recommendedto help minimize your risk, perform the skin allergy test hours before coloring.</td>\n",
       "    </tr>\n",
       "    <tr>\n",
       "      <th>408</th>\n",
       "      <td># black natural hair dye without ammonia or peroxide</td>\n",
       "      <td>herb speedy ppd free hair dye, ammonia free hair color dark brown contains sun protection odorless no more eye and/or scalp irritations from coloring for sensitive scalp</td>\n",
       "      <td>special formula to minimize the allergy reactionherb speedy does not contain allergy reactant such as ppd (p-phenylenediamine), diamine and suitable for users with extremely sensitive scalp. made with natural herbal ingredientscontains herbal extracts with licorice root, paeonia albiflora root, sage, matricaria, rosemary extracts, and camellia japonica seed oil to provide rich nutrition to your hair and scalp.( ammonia and paraben free) revolutionary speedy color creamwhile conventional natural hair color dye requires to minutes to complete the coloring, herb speedy color cream offers satisfactory result in just minutesminutes each for&amp;cream). sunlight protectionherb speedy has patented (korea patent no.sunscreen agent which prevent color fading from sunlight damage. made in koreadongsung bio pharm co.,ltd is manufacturer in south korea. they are in the business since .</td>\n",
       "      <td>are you afraid of using hair color because of the allergy symptoms? herb speedy permanent color cream is suitable for people with extremely sensitive scalp and has been specially formulated to be free of allergy. this product does not contain ppd (p-phenylenediamine), a commonly found ingredient for permanent hair dyes called oxidative dyes which leads to allergic reactions. no more eye and/or scalp irritations from coloring. this product is odorless and easy-to apply hair color, which anyone may use at ease. quick hair coloring is possible in just minutes. brilliant color lasts more than weeks.ppd free, ammonia and paraben free with naturally derived dye ingredients.natural herbal extracts help prevent hair loss. herb speedy contains sunscreen agent which protects against hair damage and prevent discoloration of hair from repeated exposures to uv. contents : x cream:oz x cream: . x brush. x head cap. x pair of disposable gloves. x divided container. x instruction. directions : \" for the best results, please follow the instructions step by step \"squeeze an equal amount of creamandonto the included plastic container. unlike other permanent color creams never mix creamandtogether. apply creamon hair.leave it on for minutes. apply creamon hair and leave that on for minutes as well. make sure that the amount drawn out is used in its entirety or the color will not develop properly. after the desired color is obtained, wash and rinse several times with lukewarm water until water runs clear.safety information patch test strongly recommendedto help minimize your risk, perform the skin allergy test hours before coloring.</td>\n",
       "    </tr>\n",
       "    <tr>\n",
       "      <th>409</th>\n",
       "      <td># black natural hair dye without ammonia or peroxide</td>\n",
       "      <td>permanent hair color by revlon, permanent hair dye, colorsilk withgray coverage, ammonia-free, keratin and amino acids, soft black,oz (pack of )</td>\n",
       "      <td>permanent at-home hair dye: convenient hair color kit for at-home use co-developed with salon experts for long-lasting gray coverage keratin enriched hair color: nourishing, ammonia-free hair color formula is infused with keratin and silk amino acid to leave hair in better condition than before you colored itgray coverage: revlons color gel technology delivers rich, natural-looking, multidimensional color with shine that lasts easy to use hair color kit: changing your look or covering greys is simple with an easy at-home process from root to tip natural looking shades: with shades of black, brown, blonde, red, and platinum hair dye, there are so many beautiful colors to choose from</td>\n",
       "      <td></td>\n",
       "    </tr>\n",
       "    <tr>\n",
       "      <th>410</th>\n",
       "      <td># black natural hair dye without ammonia or peroxide</td>\n",
       "      <td>naturcolor haircolor hair dyeburdock, fl oz ()</td>\n",
       "      <td>contains no ammonia, resorcinol or parabens available in colors, each color can be used alone or blended to create personalized hair colors fast and easy, complete application takes less than an hour safe to use over color treated or permed hair. gives natural looking color variation, will not fade like other hair products.</td>\n",
       "      <td>herbaceuticals naturcolor permanent burdock haircolor gel gently infuses your hair with herbal extracts and plant-based ingredients for a rich dark brown finish. our formula covers one application for long hair and two applications for short hair. go guilt-free in your haircolor routine knowing that our product is not tested on animals. this box contains fl oz of herbaceuticals naturcolor permanent burdock haircolor gel and uses zero parabens or ammonia.</td>\n",
       "    </tr>\n",
       "    <tr>\n",
       "      <th>411</th>\n",
       "      <td># black natural hair dye without ammonia or peroxide</td>\n",
       "      <td>clairol natural instincts semi-permanent hair dye, black hair color, count</td>\n",
       "      <td>get a rush color and a boost of shine for radiant, healthy-looking hair our most gentle color to the hair, withnaturally derived ingredients! perfect for all hair types and textures</td>\n",
       "      <td></td>\n",
       "    </tr>\n",
       "    <tr>\n",
       "      <th>412</th>\n",
       "      <td># black natural hair dye without ammonia or peroxide</td>\n",
       "      <td>clairol natural instincts semi-permanent hair dye, medium golden blonde hair color, count</td>\n",
       "      <td>get a rush color and a boost of shine for radiant, healthy-looking hair our most gentle color to the hair, withnaturally derived ingredients perfect for all hair types and textures</td>\n",
       "      <td></td>\n",
       "    </tr>\n",
       "    <tr>\n",
       "      <th>413</th>\n",
       "      <td># black natural hair dye without ammonia or peroxide</td>\n",
       "      <td>clairol professional beautiful advanced gray solutions midnight black, oz</td>\n",
       "      <td>suitable for all hair types. contains no ammonia or peroxide. gentle enough to use immediately after relaxing.</td>\n",
       "      <td></td>\n",
       "    </tr>\n",
       "  </tbody>\n",
       "</table>\n",
       "</div>"
      ],
      "text/plain": [
       "                                                    query  \\\n",
       "32                           !qscreen fence without holes   \n",
       "33                           !qscreen fence without holes   \n",
       "34                           !qscreen fence without holes   \n",
       "35                           !qscreen fence without holes   \n",
       "36                           !qscreen fence without holes   \n",
       "37                           !qscreen fence without holes   \n",
       "38                           !qscreen fence without holes   \n",
       "39                           !qscreen fence without holes   \n",
       "40                           !qscreen fence without holes   \n",
       "41                           !qscreen fence without holes   \n",
       "42                           !qscreen fence without holes   \n",
       "43                           !qscreen fence without holes   \n",
       "44                           !qscreen fence without holes   \n",
       "45                           !qscreen fence without holes   \n",
       "46                           !qscreen fence without holes   \n",
       "47                           !qscreen fence without holes   \n",
       "48                           !qscreen fence without holes   \n",
       "49                           !qscreen fence without holes   \n",
       "50                           !qscreen fence without holes   \n",
       "51                           !qscreen fence without holes   \n",
       "52                           !qscreen fence without holes   \n",
       "53                           !qscreen fence without holes   \n",
       "54                           !qscreen fence without holes   \n",
       "55                           !qscreen fence without holes   \n",
       "56                           !qscreen fence without holes   \n",
       "57                           !qscreen fence without holes   \n",
       "58                           !qscreen fence without holes   \n",
       "59                           !qscreen fence without holes   \n",
       "60                           !qscreen fence without holes   \n",
       "61                           !qscreen fence without holes   \n",
       "62                           !qscreen fence without holes   \n",
       "63                           !qscreen fence without holes   \n",
       "64                           !qscreen fence without holes   \n",
       "65                           !qscreen fence without holes   \n",
       "66                           !qscreen fence without holes   \n",
       "67                           !qscreen fence without holes   \n",
       "68                           !qscreen fence without holes   \n",
       "69                           !qscreen fence without holes   \n",
       "402  # black natural hair dye without ammonia or peroxide   \n",
       "403  # black natural hair dye without ammonia or peroxide   \n",
       "404  # black natural hair dye without ammonia or peroxide   \n",
       "405  # black natural hair dye without ammonia or peroxide   \n",
       "406  # black natural hair dye without ammonia or peroxide   \n",
       "407  # black natural hair dye without ammonia or peroxide   \n",
       "408  # black natural hair dye without ammonia or peroxide   \n",
       "409  # black natural hair dye without ammonia or peroxide   \n",
       "410  # black natural hair dye without ammonia or peroxide   \n",
       "411  # black natural hair dye without ammonia or peroxide   \n",
       "412  # black natural hair dye without ammonia or peroxide   \n",
       "413  # black natural hair dye without ammonia or peroxide   \n",
       "\n",
       "                                                                                                                                                                                      product_title  \\\n",
       "32                                             fotmishu greenhouse hoops rust-free grow tunnel tunnel, long steel with plastic coated plant supports for garden fabric, plant support garden stakes   \n",
       "33                                                                                                              zippity outdoor products unassembled madison vinyl gate kit with fence wings, white   \n",
       "34                                                                                                 zippity outdoor products lightweight portable vinyl picket fence kit w/metal base(\" h xw), white   \n",
       "35                                        colourtreexgreen fence privacy screen windscreen cover fabric shade tarp netting mesh clothcommercial grade gsmcable zip ties includedwe make custom size   \n",
       "36                                        colourtreexblack fence privacy screen windscreen cover fabric shade tarp netting mesh clothcommercial grade gsmcable zip ties includedwe make custom size   \n",
       "37            mixc -pack seed trays seedling starter tray, humidity adjustable plant starter kit with dome and base greenhouse grow trays mini propagator for seeds growing startingcells per tray)   \n",
       "38                           candyhome green anti bird protection net mesh garden plant netting protect seedlings plants flowers fruit trees vegetables from rodents birds deer reusable fencingx )   \n",
       "39                                                                 sunnyglade feet x feet privacy screen fence heavy duty fencing mesh shade net cover for wall garden yard backyardft x ft, green)   \n",
       "40                                                                                                            easybaby products indoor outdoor retractable baby gate,tall, extends up towide, black   \n",
       "41                      amgoxblack fence privacy screen windscreen,with bindingsgrommets, heavy duty for commercial and residential,blockage, cable zip ties included, (available for custom sizes)   \n",
       "42                      amgoxblack fence privacy screen windscreen,with bindingsgrommets, heavy duty for commercial and residential,blockage, cable zip ties included, (available for custom sizes)   \n",
       "43                                                                 dearhouse artificial ivy privacy fence screen,artificial hedges fence and faux ivy vine leaf decoration for outdoor garden decor   \n",
       "44                                                                                      ( pack) vinyl siding clips hooks no-hole needed outdoor siding screws hanger for mount home security camera   \n",
       "45                                                                  orgrimmar green fence privacy screen heavy duty garden fence mesh shade net cover for outdoor wall porch patio backyard balcony   \n",
       "46                                                                pack plastic growing trays,xxgrowing trays without holes, hydroponic tray for flowers, seedlings, plants, wheatgrass, microgreens   \n",
       "47                                                  large let freedom ring banner for fence of july independence day decor american patriotic decoration and supplies for memorial day veterans day   \n",
       "48                                                                       magzo magnetic screen door fit door size xreinforced fiberglass mesh curtain back door mesh with full frame hook&loop-grey   \n",
       "49                                                                                                                                                asurion year home improvement protection plan $-.   \n",
       "50                                                                                                                                  vivosun -pack elastic trellis netting with hooks for grow tents   \n",
       "51                                                                                                              zippity outdoor products premium vinyl privacy screen, \"w x \"h (unassembled), white   \n",
       "52                                                          hp .-inch full hd ips led monitor with built-in speakers and vesa mounting, rotating portraitlandscape, tilt, and hdmivga ports ()black   \n",
       "53                                                                                                                                                       dap inc platinum patch filler,fl oz, white   \n",
       "54                                                                                                                                                               tenax multi-purpose net,x ', black   \n",
       "55                                                                                                                                                        garden creations extendable instant fence   \n",
       "56                                                                                                                heavy duty privacy screen fence in color solid blackxbrass grommets gsmcustomized   \n",
       "57                                                                                                                                              richell freestanding pet gate, large, origami white   \n",
       "58                                                                                        regalo -inch super wide adjustable baby gate and play yard, -in-, bonus kit, includes pack of wall mounts   \n",
       "59                                                                                                                                zareba -z -mile solar low impedance electric fence charger, black   \n",
       "60                                                                                                                                                        tenax guardian warning barrier,x ', green   \n",
       "61                                                                                                                                 zareba -z -mile solar low impedance electric fence fence charger   \n",
       "62                                                                                                    zippity outdoor products no dig madison vinyl picket fence, white,x( box, panels), x pack of    \n",
       "63                                                                                                                                    zippity outdoor products no dig fence newport, \"h x \"w, white   \n",
       "64                                                                                                       flux phenom magnetic screen doorretractable mesh with self sealing magnetskeeps nature out   \n",
       "65   amagabeli decorative garden fence outdoor coated metal rustproof x landscape wrought iron wire border folding patio fences flower bed fencing barrier section panels decor picket edging black   \n",
       "66        houseables plastic mesh fence, construction barrier netting, green,feet, roll, garden fencing, fences wrap, above ground, for snow, poultry, chicken, safety, deer, patio, garden netting   \n",
       "67                                           tespo pet playpen, small animal cage indoor portable metal wire yd fence for small animals, guinea pigs, rabbits kennel crate fence tent, black panels   \n",
       "68                                                                              baxia technology bx-sl- solar lights outdoor led wireless waterproof security solar motion sensor lights, (, packs)   \n",
       "69                                                                                                                            zippity outdoor products wilmington vinyl privacy screen,xwhite- pack   \n",
       "402                                                                                          l paris excellence creme permanent hair color, natural black, percent gray coverage hair dye, pack of    \n",
       "403                                                                                                                                            naturcolor haircolor hair dyelight burdock, ounce ()   \n",
       "404                                                                                                                                   nisha natural henna based hair color (natural black) pack of    \n",
       "405                                                                                                                                     indus valley damage free permanent gel hair color (black .)   \n",
       "406                                                                                                                     garnier hair color nutrisse nourishing creme, soft black (black tea), count   \n",
       "407                    herb speedy ppd free hair dye, ammonia free hair color natural black contains sun protection odorless no more eye and/or scalp irritations from coloring for sensitive scalp   \n",
       "408                       herb speedy ppd free hair dye, ammonia free hair color dark brown contains sun protection odorless no more eye and/or scalp irritations from coloring for sensitive scalp   \n",
       "409                                                permanent hair color by revlon, permanent hair dye, colorsilk withgray coverage, ammonia-free, keratin and amino acids, soft black,oz (pack of )   \n",
       "410                                                                                                                                                  naturcolor haircolor hair dyeburdock, fl oz ()   \n",
       "411                                                                                                                      clairol natural instincts semi-permanent hair dye, black hair color, count   \n",
       "412                                                                                                       clairol natural instincts semi-permanent hair dye, medium golden blonde hair color, count   \n",
       "413                                                                                                                       clairol professional beautiful advanced gray solutions midnight black, oz   \n",
       "\n",
       "                                                                                                                                                                                                                                                                                                                                                                                                                                                                                                                                                                                                                                                                                                                                                                                                                                                                                                                                                                                                                                                                                                                                                                                                                                                                                                                                                                                                                                                                                                                                                                                                                                                                                                                                                                                                                                                                                                                                                                                                                         product_bullet_point  \\\n",
       "32                                                                                                                                                                                                                                                                                                                                                                                                                                                                                                                                                                                                                                                                                                                                                                                                                                                                                                                                                                                                                                                                                                                                                                                                                                                                                                                                                                                             material--high-qualityplasticcoatedsteelpipe,noteasytorust,canbeusedforalongtime. size--/(thesizebeforebending),/.,/.(thesizeafterbending),/...gardenfabricnotincluded. easytosetup--comescompletewithsharpenedpointsonbothsidesforeaseofplacement.washable,reusable,flatforstorage.createsafavorablemicroclimateforyourplants. protectingplants--usehoopstosupportgardenrowcovers,protectingplantsfromfrost,insects,birds,orintensesun.canbeusedwithinsect-proofnets,shadingnets,insulationfilmandsoon. features--designforplantcover,frostprotectioncoverandminigreenhouse,providesidealenvironmentforrapidgerminationandgrowthofyoungplants   \n",
       "33                                                                                                                                                                                                                                                                                                                                                                                                                                                                                                                                                                                                                                                                                                                                                                                                                                                                                                                                                                                                                                                                                                                                                                                                                                                                                                                                                                                                                                                                                                                                                                            designed for the madison vinyl fence (itemto install, dig holes and secure the extended posts into the ground; use gravel or concrete for extra stability (optional) kit includes small stainless latch (), hinges (), supporting posts (), decorative fence wings with posts () and post caps () the entire gate kit with wings spans -/. gate without wings is -/. gate must be installed with wings for optimal stability assembly and installation required   \n",
       "34                                                                                                                                                                                                                                                                                                                                                                                                                                                                                                                                                                                                                                                                                                                                                                                                                                                                                                                                                                                                                                                                                                                                                                                                                                                                                                                                                                                                                designed as a portable fence for temporary events rust-free metal bases are included; bases have small holes if you need to screw the base into wood or concrete (fence will stand on its own without screws) this fence should not be used for serious crowd control or child or pet safety; it is designed to be used as a psychological or aesthetic barrier and not a physical one each panel includes a connector piece to attach to an adjacent panel in a straight line or at a right angle; this makes this fence fully scalable to add as many panels as you need for your event assembly required. top shape-flat   \n",
       "35                          virgin, uv stabilized compoundsthick material: the only fence screen product on the market that are made of gsmvirgin (non-recycled) hdpe material. our virgin hdpe fabric went through hours of laboratory uv testing and it is proved to bemore durable compared to recycled hdpe under sun exposure, fabric has been treated with uv stabilized compound, preventing fence screen from dried out, tearing and fading, significantly extend the lifespan. privacy solutionvisibility blockage: most economical way for privacy over chain link fence, porous decorative concealment, existing cyclone wire fence, wood retaining wall, welded wire fence, chain link fence, privacy barrier around swimming pool, block nose neighbor see through, add privacy to acre back yard backdrop, front yard, patio, garden and porch; hide street, road, construction site, pet kennel pen, block surrounding noise and street view, stops dogs from barking at neighb comes with the extra stainless grommets and reinforced binding: grommets are made of stainless copper, each corner has grommets (compares to similar products on the market only havegrommets), more grommets are placed evenly along all edges, inches apart vertically, inches horizontally. all edges are covered with black reinforced -inch binding (.-inch on each side). the grommets and bindings help the screen to hold up in the wind. can be used as shades or greenhouse solution: can be used there are lots of different ways to use: protection for vegetable garden plants, greenhouse covering, wind blocking for plant nursery area, window shades, tennis court, shades for pet penkennel, construction site, etc. breathable weaving fabric allows water and air to go through freely, resistant to both uv and water, no maintenance needed. years warranty: limited years warranty under normal usage and weather. free consultation. all colourtree brand products come with warranty, the terms of warranty may vary.   \n",
       "36         virgin, uv stabilized compoundsthick material: actual height is\", fits perfectly on footer fence. the only fence screen product on the market that are made of gsmvirgin (non-recycled) hdpe material. went through hours of laboratory uv testing and it is proved to bemore durable than recycled hdpe under sun exposure, fabric has been treated with uv stabilized compound, preventing fence screen from dried out, tearing and fading, significantly extend the lifes privacy solutionvisibility blockage: most economical way for privacy over chain link fence, porous decorative concealment, existing cyclone wire fence, wood retaining wall, welded wire fence, chain link fence, privacy barrier around swimming pool, block nose neighbor see through, add privacy to acre back yard backdrop, front yard, patio, garden and porch; hide street, road, construction site, pet kennel pen, block surrounding noise and street view, stops dogs from barking at neighb comes with the extra stainless grommets and reinforced binding: grommets are made of stainless copper, each corner has grommets (compares to similar products on the market only havegrommets), more grommets are placed evenly along all edges, inches apart vertically, inches horizontally. all edges are covered with black reinforced -inch binding (.-inch on each side). the grommets and bindings help the screen to hold up in the wind. can be used as shades or greenhouse solution: can be used there are lots of different ways to use: protection for vegetable garden plants, greenhouse covering, wind blocking for plant nursery area, window shades, tennis court, shades for pet penkennel, construction site, etc. breathable weaving fabric allows water and air to go through freely, resistant to both uv and water, no maintenance needed. years warranty: limited years warranty under normal usage and weather. free consultation. all colourtree brand products come with warranty, the terms of warranty may vary.   \n",
       "37                                                                                                                                                                                                                                                                                                                                                                                                                                                                                                                                                                                                                                                                                                                                                                                                                                                                                                                                                                                                                                                                                                                                         keep and eye on your growth: the only design in the market- high quality clear plastic trays of this seed grow kit make it easy to observe your plants without interrupting the process. total control: adjustable vents of this seed trays allow you to regulate the temperature and humidity of your seedling environment, so you have total control over the growing process perfect size for seed starting: size of the cells:length andwide, these seed trays are suitable for small seeds, such as flowers, vegetables, fruits, tobacco and other plants. grow health and efficientwith drain hole at bottom of each cell for proper drainage, reduce roots oversaturating. reusable and a great way to foster a beautiful and healthy garden. what you get mixc seed starter tray contains: x seed tray, x watertight base tray, x humidity dome, x plant labels (a must have for seedling)   \n",
       "38                                                                                                                                                                                                                                                                                                                                                                                                                                                                                                                                                                             excellent materialqualityour anti bird net is made of strong and durable nylon with high stretch, light-weight but not tear easily. it is anti-uv and tough enough to withstand the effects of the sun and bad weather conditions. so you can use the garden net repeatedly until the end of the season. the size of the net refers to the measured length straightened from the far left to the far right. protect garden plantsfruit treesour fruit tree netting are large in size and can provides maximum protection without harming birds and small animals or interfering with plant growth. it can effectively prevent damage and protect fruit trees, berries, bushes, shrubs, plants, flowers and vegetables. easy to install, practical and securethis fruit tree net is easy to fold and unfold, can be use easily. can be cut to any size without fraying to suit multiple garden purposes, such as tree nets for fruit trees, garden mesh for garden and bird mesh netting for eaves. enjoy the fruits of your laborwhen you have a deer netting you don have to worry about birds, deer and other critters destroying your crop. this powerful anti bird netting is ideal for protecting tomatoes, strawberries, blueberries, figs, cherries and other fruit trees, etc. intimate serviceif you have any questions or are not satisfied with garden bird netting, contact us at any time, and we will reply to your message as soon as possible.   \n",
       "39                                                                                                                                                                                                                                                                                                                                                                                                                                                                                                                               privacy solution: most economical way for privacy over chain link fence, porous decorative concealment, existing cyclone wire fence, wood retaining wall, welded wire fence, chain link fence, privacy barrier around swimming pool, block nose neighbor see through, add privacy to acre back yard backdrop, front yard, patio, garden and porch; hide street, road, construction site, pet kennel pen, block surrounding noise and street view, stops dogs from barking at neighbors. high quality material: privacy fence screen is constructed of sun protected hdpe fabric with durable brass grommets on each side. the fence privacy screen measures exactlyxmultifunction: there are lots of different ways to use, protection for vegetable garden plants, greenhouse covering, wind blocking for plant nursery area, window shades, tennis court, shades for pet penkennel, construction site, etc. breathable weaving fabric allows water and air to go through freely, resistant to both sun and water, no maintenance needed. more intensive grommets: grommets are made of copper, more grommets are placed evenly along all edges,inches apart vertically,inches horizontally. all edges are covered with black reinforced .\" binding. the grommets and bindings help the screen to hold up in the wind. easy to install: use zip ties to fasten the grommets to the fence in each side. our fence screen is equipped with denser grommets and straps to keep the fence closer to your fence.   \n",
       "40                                                                                                                                                                                                                                                                                                                                                                                                                                                                                                                                                                                                                                                                                                                                                                                                                       indoor and outdoor: can be installed at top and bottom of stairways, doorways, hallways, indoor and outdoor use. includes components for easy installation: stainless steel screws, catch mounts, wall spacers and installation guide templates. must be fitted between rigid surfaces such as plasterboard, timber or hardwall. this retractable gate is hardware mounted gate, drill a pilot hole for timber surface and for hardwall drill a hole for installation. product size: this retractable gate fits openings up towide and istall. can be adjusted to fit your openings according to your needs. mesh can be completely retracted away when not in use. one handed operation to open and close: push and turn clockwise to unlock gate, grasp handle to pull and hook handle onto catches, push and turn counter-clockwise to lock gate. fits your purpose: perfect solution for doorways and stairs locking the way for babies and pets needed to provide safety and security in the whole house. the stair gates is used for children and pets blocking off their way out or in. standard approved: all gate lines are tested to the safety standards, meeting or exceeding both astm or en standards.   \n",
       "41                                                                                                                                                                                                                                                                                                                                                                                                                                                                                                                                                                                                                                                                                                                                                                                                                                                                                                                                                                                                                                                                                                                                                                                                                                                                            fence privacy screen fits perfectly on ft fence, actual height is\", cable zip ties are included for installation. edges are finished with heavy duty black bindings and stainless copper grommets, all stitching are reinforced, grommets are placed every ft vertically, ft horizontally, each corner has grommets, easy to install with included cable zip ties.blockage, great for privacy and allows water and airflow to pass through at the meantime, fabric is made of knitted virgin hdpe material. custom sizes are available, select size from drop-down or contact us for other colorssizes, we are the manufacturer who is focusing on making quality and durable fence screen at low price. years limited warranty under normal usage and weather.   \n",
       "42                                                                                                                                                                                                                                                                                                                                                                                                                                                                                                                                                                                                                                                                                                                                                                                                                                                                                                                                                                                                                                                                                                                                                                    fence privacy screen fits perfectly on ft fence, actual height is\", cable zip ties are included for installation. edges are finished with heavy duty black bindings and stainless copper grommets, all stitching are reinforced, grommets are placed every ft vertically, ft horizontally, each corner has grommets, easy to install with included cable zip ties. edges are finished with heavy duty black bindings and stainless copper grommets, all stitching are reinforced, grommets are placed every ft vertically, ft horizontally, each corner has grommets, easy to install with included cable zip ties. custom sizes are available, select size from drop-down or contact us for other colorssizes, we are the manufacturer who is focusing on making quality and durable fence screen at low price. years limited warranty under normal usage and weather.   \n",
       "43                                                                                                                                                                                                                                                                                                                                                                                                                                                                                                                                                                                                                                                                                                                                                      realistic green ivy look: artificial ivy leaves are natural looking to provide every indoor or outdoor space a blooming, earthy feel without the need for watering,use zip ties or tape to install, it can be cut to get the size and shape you want, can be used as wall decoration, fence screen, privacy screen. functional: decorate your home while ensuring privacy from the outside world by strategically placing the fence in areas that may be exposed, artificial leaf privacy decor is intended for both interior and exterior usage.provides extra privacy without gaps. densely packed leaves: privacy fence leaves are placed closely enough to provide blockage from harsh sunlight while also allowing air flow through the open net back, the added mesh backing easily beautify landscaping with our artificial ivy leaf privacy decor panels. providing more privacy windscreen protection to its users. fade-resistant look: durable, fresh looking plastic and polyester leaves keep their evergreen look year-round and are easy to clean and maintain. live up any space: easy to put on a fence, trellis, wall, or other area lightweight design makes it easy to move around to redecorate and beautify and room or space; overall dimensions: .(l) x (w) .   \n",
       "44                                                                                                                                                                                                                                                                                                                                                                                                                                                                                                                                                                                                                                                                                                                                                                                                                                                                                                                                                                                                                                                                                                                                                                                                                                                                                                                                                                                                                                                                                                                                                                                                                                                      no holes or tools required. very easy to put up and move cameras to get the best positioning. no drilling. just roll the hook into any seam in vinyl or aluminum siding. stainless steel vinyl siding hooks won rust or stain. great for all seasons. holds up to lb per hook. no damage to siding. set ofcontact us if you have any issues, we will offer the best solution for you.   \n",
       "45                                                                                                                                                                                                                                                                                                                                                                                                                                                                                                                                                                                                                                                                                                                                                                                                                                      premium quality: this heavy duty privacy screen is constructed of hdpe fabric and brass grommets finished with reinforced black bindings. product measures x ft(hxl)perfect fits for ft tall fence. the zip ties are included. brass grommets: each hole of our fence covering is reinforced with brass grommets. the grommets run along the entire perimeter of the screen and are evenly spaced to ensure strength. the holes are spacedinches apart vertically,inches horizontally. privacy solution: garden fence mesh allows water and airflow to pass through but not opaque. if you wanted these to be thick enough to block the view almost completely you could buy a one and stack them for use. easy to install: grommets are generously distributed so the screen can fasten securely to established fencing. best to extend the screen as much as possible when adding the zip ties to get it to fit perfectly to the fence. multi-function: the fence privacy screen can be applied in backyard, patio, greenhouse, swimming pool, tennis court, pet kennel, chicken run, construction site etc. block surrounding nosy neighbor and street view, stops dogs from barking at passersby.   \n",
       "46                                                                                                                                                                                                                                                                                                                                                                                                                                                                                                                                                                                                                                                                                                                                                                                                                                                                                                                                                                                                                                                                                                                                            enlarge and deepen the design: pcs plastic growing trays, the tray can be operated uniformly, and can also hold different plants to meet your gardening needs. plant growing trays no drain holes: size:xx ., perfect for hydroponic growing and seed starting, help keep soil, fertilizer and water contained inside. multiple uses: used as an essential tool for seedlings, grow tray, or planting tray! suitable for seedling, greenhouse, potting work, germination wheatgrass, microgreens and more. heavy dut: thickness(.), weight (.), sturdy, durable plastic construction will last through many uses. our reusable trays are an eco-friendly investment to cut down your costs and reduce waste. versatile garden tray: great for potting, mixing, growing and more, this tray brings garden work into the house cleanly and quickly, our one piece potting tray makes life easier.   \n",
       "47                                                                                                                                                                                                                                                                                                                                                                                                                                                                                                                                                                                                                                                                                                                                                                                                                                                                                                                                                                                                                                                                                                                                                                                                                                                                                                                                                                                                                                                                                                                                                                                                                                                                                                                      material: polyester fabric,durable and reusable waterproof without fading package listing: pcs banners size:*() open to use,easy to hang windbreak design perfect for of july decorations outdoor indoor front porch window for the home ,own it and take your memorable photos to share with your family and friends   \n",
       "48                                                                                                                                                                                                                                                                                                                                                                                                                                                                                                                                            magnetic screen door size screen door size: x inch--fit door size: x inch.how to choose a suitable size: before purchase, please carefully measure your door size and order that size (only door size, doesn include door frame partunique hook and loop hasp designwe are the only seller with windproof sticker hasp design on the middle and bottom of the screen door curtain, after many tests about wind resistance level, windproof sticker hasp can effectively consolidate and refrain the magnet screen door from being blown open by the wind. excellent workmanship guarantees the screen door lasts a long life. pet friendly screen mesh doorlets your pets freely go in/out/keeps sealed, your lovely pets could push their way in and out of mesh screen whenever they want, and close up right after they go through itsave your time to get up and down to let pets out everytime. take minutes to assemble and detachabletruly ready to stick right on and go. come with an installation manual helps you install like a breeze! remove easily and you can rolled it up during the off seasons. screen mesh door with strong magnets go all the way down the entire middle from top to bottom, sturdy adhesive strip with extra push pins to secure. economical choicecompared to the previous nylon screen doors mesh with magnets, fiberglass material with better durability,fireproof,good shape. a good replacement for an actual door, much economical choice for you!   \n",
       "49                                                                                                                                                                                                                                                                                                                                                                                                                                                                                                                                                                                                                                                                                                                                                                                                                                                                                                                                                                                                                                                                                                                                                                                                                                                                                                                                                                                                                      no additional cost: you payfor repairs parts, labor and shipping included. coverage: plan starts on the date of purchase. drops, spills and cracked screens due to normal use covered for portable products and power surges covered from day one. malfunctions covered after the manufacturer warranty. product eligibility: plans cover products purchased in the last days. easy claims process: file a claim anytime online or by phone. most claims approved within minutes. we will send you an amazon e-gift card for the purchase price of your covered product. in some cases, we will replace or repair it.   \n",
       "50                                                                                                                                                                                                                                                                                                                                                                                                                                                                                                                                                                                                                                                                                                                                                                                                                                                                                                                                                                                                                                                                                                                                                                                strong support for growing plants: vivosun elastic trellis netting provides a sturdy support structure that effortlessly bears the weight of your precious stalks, leaves, buds, fruits and flowers long-lasting, strong and stretchy: vivosun surpasses the market standard by using imported ultra-durable elastic strands in a stretchy fabric cover and anti-rust s hooks sized for grow tents: designed to hook onto the frame of a grow tent, this trellis also easily stretches to and can even be folded to fit and other tents easy to install and adjust: each trellis square is inches but the knots can be slid in any direction to exactly accommodate your plants as they grow guaranteed quality: vivosun guarantees your satisfaction with this trellis, backing our confidence with a -year warranty and -day hassle-free return guarantee   \n",
       "51                                                                                                                                                                                                                                                                                                                                                                                                                                                                                                                                                                                                                                                                                                                                                                                                                                                                                                                                                                                                                                                                                                                                                                                                                                                                                                                                                                                                                                                                                                                                                                privacy screen is completely solid for maximum privacy not only will this screen hide your unmentionables, but it will also add curb appeal to your home crafted with premium pvc vinyl, this privacy screen looks the same from both sides to install, simply drive the included stakes into the ground using a sledge hammer set includes sections to make a right angle. not recommended for side by side installation unless you use concrete to cement into the ground   \n",
       "52                                                                                                                                                                                                                                                                                                                                                                                                                                                                                                                                                                                                                                                                                                                                                                                                                                                                                                                                                                                                                                                                                                                                                                                                                                                                                                                                            resolutionpanel .-inch full hd monitorx at hz) withaspect ratio and an anti-glare matte ips led-backlit panelmillion pixels,million colors) response time with overdrive for a smooth picture that looks crisp and fluid without motion blur built-in speakers integrated audio speakers provide great sound for your contentwatts per channel) thin bezel-less frame a thin and virtually frameless ultra-widescreen monitor provides a seamless multi-monitor set-up with -sided narrow bezels -way ergonomic viewing rotation for horizontal (landscape) and vertical (portrait) viewing modes, adjustable height and tilt (- to ), and positional viewing for the best quality at any angle   \n",
       "53                                                                                                                                                                                                                                                                                                                                                                                                                                                                                                                                                                                                                                                                                                                                                                                                                                                                                                                                                                                                                                                                                                                                                                                                                                                                                                                                                                                                                                                                                                                                                                                                                                                                                                                                                                                                                                                                             -ounce package use on metal, composite, pvc, fiber cement, wood, and more easy to apply, sandable, and paintable exceptional weatherproofing and uv protection   \n",
       "54                                                                                                                                                                                                                                                                                                                                                                                                                                                                                                                                                                                                                                                                                                                                                                                                                                                                                                                                                                                                                                                                                                                                                                                                                                                                                                                                                                                                                                                                                                                                                                                                                                                                                                                                                                                                                                                                                                                                                                 mesh .\"x.\" virtually invisible will not rust or corrode available in black   \n",
       "55                                                                                                                                                                                                                                                                                                                                                                                                                                                                                                                                                                                                                                                                                                                                                                                                                                                                                                                                                                                                                                                                                                                                                                                                                                                                                                                                                                                                                                                                                                                                                          expandable flexi-screen stretch your fence to the width compatable with your home esthetic design easily place your fence inside or outdoors, wood finish is a perfect match for interior home designs as well as porch finishes plant divider perfect for flowerbeds, easily separate your plants while maintaining visual garden appeal portable light weight design, easy to move from room to room durable fence stands on two wooden platforms, no digging or support needed   \n",
       "56                                                                                                                                                                                                                                                                                                                                                                                                                                                                                                                                                                                                                                                                                                                                                                                                                                                                                                                                                                                                                                                                                                                                                                                                                                                                                                                                                                                                                                                                                                                                                                        product measures exactlylong xtall, perfect fit for a fence thats ft tall. constructed of new high density material- polyethylene, allows maximum air to go through. prevents harmful uv sun lights from damaging for up to %, and fabric has aenforced binding, so its able to hold up even in extreme weather condition. grommets on each side of fabric to ensure strength, and its easy to install. has a year limited warranty under normal usage and weather.   \n",
       "57                                                                                                                                                                                                                                                                                                                                                                                                                                                                                                                                                                                                                                                                                                                                                                                                                                                                                                                                                                                                                                                                                                                                                                                                                                                                                                                                                                                                                                                                                                                                                                                                                                                                              freestanding gate with side panels for safely confining pets no installation necessary; adjustable width fromtoinches wide base prevents tipping; rubber feet protect floors; folds for storing low enough for people to stride over; beautiful hardwood finish. made from rubberwood measurestobybyinches.inch space between wire slats, wire is gage orinch   \n",
       "58                                                                                                                                                                                                                                                                                                                                                                                                                                                                                                                                                                                                                                                                                                                                                                                                                                                                                                                                                                                                                                                                                                                                                                                                                                                                                                                                   superwide: fits opens up to inches wide and stands inches tall -in-: can convert from a super-wide gate to an -panel play yard. no tools require, quick and easy. includes pack of wall mounts configurable: each panel can be adjusted to fit almost any opening. great for wide spaces, angled openings, hallway, doorway, bottom of stairs or barrier. folds flat for storage.wipes clean durable and convenient: the all steel design is durable and convenient with a walk-through door safety: designed with a walk-through door with safety locking feature. wall mounted for added security and protection. meets all current safety standards. for children up to months and great for pets too   \n",
       "59                                                                                                                                                                                                                                                                                                                                                                                                                                                                                                                                                                                                                                                                                                                                                                                                                                                                                                                                                                                                                                                                                                                                                                                                                                                                                                                                                                                                                                                                                                                                                                                                                                                                                                                                                            energizes up to miles of electric fencing operates up to weeks without sun built in mounting bracket for tposts, yposts, and round wood posts degree rotation allows charger to rotate on t-post to face sunlight built in usa full load tested in the u.s. after manufacturing   \n",
       "60                                                                                                                                                                                                                                                                                                                                                                                                                                                                                                                                                                                                                                                                                                                                                                                                                                                                                                                                                                                                                                                                                                                                                                                                                                                                                                                                                                                                                                                                                                                                                                                                                                                                                                                                                                                                                             visual barrier for use on construction sites, crowd control, hazardous areas and utility work sites made in the usa withselected materials plus years of use available in orange, green and fluorescent colors   \n",
       "61                                                                                                                                                                                                                                                                                                                                                                                                                                                                                                                                                                                                                                                                                                                                                                                                                                                                                                                                                                                                                                                                                                                                                                                                                                                                                                                                                                                                                                                                                                                                                                                                                                                                                                                                                                             energizes up to miles of electric fencing operates up to weeks without sun built-in mounting bracket for t-posts, y-posts, and round-wood posts built in usafull-load tested in the u.s. after manufacturing -year limited warranty including lightning damage   \n",
       "62                                                                                                                                                                                                                                                                                                                                                                                                                                                                                                                                                                                                                                                                                                                                                                                                                                                                                                                                                                                                                                                                                                                                                                                                                                                                                                                                                                                                                                                             this fence is designed for semi-permanent residential applications that are not subject to intense wear and tear. package comes with units for a total of of fence assembles and installs with relative ease- no digging required! simply insert pointed stakes into the ground perfect to contain small pets or small children; not recommended for large dogs made with weather resistant vinyl with a year warranty. won crack, warp, yellow, splinter, or rot. no painting, staining or maintaining required! search \"\" for compatible gate option to pair with this fence   \n",
       "63                                                                                                                                                                                                                                                                                                                                                                                                                                                                                                                                                                                                                                                                                                                                                                                                                                                                                                                                                                                                                                                                                                                                                                                                                                                                                                                                                   installs without digging holes, pouring concrete, or tearing up your yard; use a sledgehammer or post pounder to install the no-dig pipe anchor crafted from premium weather resistant vinyl with a year warranty- won crack, warp, yellow, splinter, etc. virtually maintenance-free; no painting, staining or maintaining required; assembles with relative ease each unit includes fence panel, post, no-dig pipe anchor and () cap; this product is designed to scale, so you will need to order a finishing post to complete your fence project (itemthis fence is strong and sturdy and designed to be a permanent structure in your yard once installed; it is not easily removed   \n",
       "64                                                                                                                                                                                                                                                                                                                                                                                                                                                                                                                                                                                                                                                                                                                                                                                                                                                                                                                                                                                                                                                                                                                               installs in an instant: our magnetic door screen comes with everything you need to install it quickly; black all metal thumbtacks, a large roll of hook and loop backing, plus video tutorial fits doorways up to inches: door net works on fixed, sliding, metal or wood doors as long as they measure up to inches. important: measure your door before ordering to ensure fit opens and closes like magic: our retractable screen door features a middle seam lined with magnets for walking through any doorway with ease durable, heavy duty magnetic mesh screen door: our patio screen door heavy duty polyester mesh and reinforced edges are designed to withstand constant use by you, your pets, and the elements keeps nature out: our mesh door screen is perfect for letting fresh air in while keeping pesky outdoor irritants out. fine mesh won hinder your views of the happenings outside   \n",
       "65   sizerustproof material: decorative garden fence panels metal with single panel sizehigh xwide, panels in total. this metal decorative flower bed fencing panels for front yard is made of black iron with vinyl pvc powder coated surface will enable you to use the garden fence outdoors durably; the decorative black iron garden fencing animal barrier is made of rustproof and weather resistant metal material. easy to useflexible set-up: each piece of temporary movable border fencing can be easily interlocked with the ring on the side and folds flat for easy storage; no additional tools required to install this patio landscape edging fence: simply stick and secure the spiked feet of this decor no dig fence sections into ground. these no dig metal fence panels can be extended to different shapes according to your special uses of this path edging fence, one straight line, l, o or zigzag s foldable moveable portableeasy to store: amagabeli patio steel picket folding fencing is foldable and folds flat for easy storage. amagabeli garden fence barrier for dogs is movable and removable. no additional tools to remove this temporary wire garden fencing for pets for reinstallation in another place. simply pull the spiked feet of this flower garden border fencing out from the ground where you stick this vegetable garden fencing then reinstall. decor and sturdy: the arched iron arts make this ornamental steel garden border fence itself a decorative element for your garden and add more delights to your life, accent border with classic rod iron design to fit any decor; stylish look of this flower garden border fencing will add a modern touch to your garden, patio or yard. the vinyl rustproof coated garden wire fence is welded with thick wires and it is an architectural structure that is durable and sturdy. customer care: we offer premium products for you while exceeding highest industry standards and offer thoughtful and considerate customer care.   \n",
       "66                                                                                                                                                                                                                                                                                                                                                                                                                                                                                                                                                                                                                                                                                                                                                                                                                                                                    lightweight mesh safety netting: comes to your rescue when youre in need of instant skirting around gardens, seeded lawns, newly laid concrete sidewalks, or freshly painted surfaces that are easily reachable. vibrant visual barrier: great for establishing a secondary fence for landscaping purposes, protecting flowerbeds and gardens from being trampled on. or, put it up to keep toddlers away from your pool and other unsavory areas of your yard. easy to install/remove: best used with metal t-posts or wooden stakes positioned four-feet apart to prevent sagging and collapsing caused from wind stress, animal gnawing, and pressure from snow build up. just as simple to remove, roll up, and stow away for future use. feet in length: an economic alternative for those who lack the time or funds for building a traditional fence. multifunctional enough for crowd control use at sporting events, concerts, festivals, carnivals, and other social gatherings where distinct visual barriers are necessary. rein over your domain: control what goes in and out of your garden or property. keep your animals in and those pesky pests out!   \n",
       "67                                                                                                                                                                                                                                                                                                                                                                                                                                                                                                                                                                                                                                                                                                                                                                                                                                                                                                                                                                                                                                                                                                                                                                                                                         upgrade version: cable ties and anti-slip pieces added in. cable ties help build doors or ramps or reinforce the whole structure. anti-slip pieces prevent connectors from slipping on the floor. diy expandable: make qualified metal wire grids into different shapes, a low wide exercise pen, or a two-storey premium villa for various animals: hedgehogs, hamsters, guinea pigs or rabbits, they can all have fun in this fence. easy to keep an eye on them from any angle easy assembly: easy to put together with the illustrated instruction and included mallet. use cable ties to achieve even more features like doors or rampssatisfaction guarantee: we are always available to provide professional customer service before and after your purchase, so don wait any longer and enjoy it right now   \n",
       "68                                                                                                                                                                                                                                                                                                                                                                                                                                                                                                                                                                                                                                                                                                                                                                                                                                                                                                                                                                                                                                                                                                                 [pir motion lights and no dim mode]- designed with no dim mode to increase product life span. when motion is detected within -, the motion sensor lights will turn on automatically in darkness or at night, which provides your illumination for security and safety protection.led ultra-bright solar powered lights]-there are powerful leds and the motion angle is degrees which can provide excellent illumination and turn the dark space into a bright lighted space. with a lampshade covering the led, well designed to longer its performance life. [high efficiency and eco-friendly]- by exposure to sunlight for around hours in daytime, the solar light is able to work for you by motion detecting at night. [waterproof and durable]- the solar outdoor lights is water resistant and heat-resistant. a great solar security light for outdoor patio, garden, deck, yard, drive, outside wall, fence etc   \n",
       "69                                                                                                                                                                                                                                                                                                                                                                                                                                                                                                                                                                                                                                                                                                                                                                                                                                                                                                                                                                                                                                                                                                                                                                                                                                                                                                                                                                                                                                                                                                                                                                                   installs without digging holes, pouring concrete, or tearing up your yard. crafted from premium weather resistant vinyl with a year warranty. looks the same from both sides. each screen measures w x h installed. screens per package. virtually maintenance-free! no painting, staining or maintaining required. installation and assembly requireda cordless drill is needed for assembly. installs by inserting pointed end stakes into the ground.   \n",
       "402                                                                                                                                                                                                                                                                                                                                                                                                                                                                                                                                                                                                                                                                                                                                                                                                                                                                                                                     gray coverage hair color with triple protection: no hair color cares more than excellence crme; with our triple protection system that seals, replenishes and conditions, plus percent gray coverage even on stubborn grays. excellence in hair protection: our weekly conditioning treatment with collagen helps protect hair until your next appointment for long lasting rich color; for percent gray coverage and gorgeous root-to-tip color. l permanent hair color: l paris hair color comes in multiple formulations and styles to deliver long-lasting color, from fade-defying superior preference, to bold, stylish feria, and gray-coverage from excellence crme long lasting hair color: get beautiful color from l paris hair color; permanent, semi-permanent, temporary hair color, and root cover up; cover gray hair, highlight, go bold with bright color, or even try an ombre hair color l paris innovation: we are a total beauty care company that combines the latest in technology with the highest in quality for the ultimate in hair color, hair care, hair style, skin care and cosmetics   \n",
       "403                                                                                                                                                                                                                                                                                                                                                                                                                                                                                                                                                                                                                                                                                                                                                                                                                                                                                                                                                                                                                                                                                                                                                                                                                                                                                                                                                                                                                                                                                                                                                                                                                                                                                                     contains no ammonia, resorcinol or parabens available in colors, each color can be used alone or blended to create personalized hair colors fast and easy, complete application takes less than an hour safe to use over color treated or permed hair. gives natural looking color variation, will not fade like other hair products.   \n",
       "404                                                                                                                                                                                                                                                                                                                                                                                                                                                                                                                                                                                                                                                                                                                                                                                                                                                                                                                                                                                                                                                                                                                                                                                                                                                                                                                                                                                                                                                                                                                                                                                  packaging includes: pieces of nisha henna-based hair color natural black gram (pack ofdiscover colored hair thats naturally beautiful herbal based hair color with the goodness of amla, shikakai, aloe verahibiscus. gives natural looking hair color for a longer period. natural looking hair color which makes your hair smooth, silkystrong. please don use for coloring eyebrows. and please use the content immediately after opening the sachet.   \n",
       "405                                                                                                                                                                                                                                                                                                                                                                                                                                                                                                                                                                                                                                                                                                                                                                                                                                                                                                                                                                                                                                                                                                                                                                                                                                                                                                                                                organically natural hair color: no hydrogen peroxide (bleach), no ammonia and no harmful chemicals to provide damage-free hair coloring super-exotic -herb formula: enriched with a unique blend of natural herbs to nourish and color your hair gently without any damages or side effects especially developed for normal skin: a damage-free hair color for women and men, it works best on normal skin and on all hair types forgrey hair coverage with a single application with pleasant aroma of sweet oranges a no-ammonia hair color: prevents your hair from becoming dry, rough and brittle, locks in its natural shine and strength to make your hair look vibrant and healthy   \n",
       "406                                                                                                                                                                                                                                                                                                                                                                                                                                                                                                                                                                                                                                                                                                                                                                                                                                                                                                                                                                                                                                                             nourishing hair color: discover thenourishing color creme. nutrisse color is formulated with color boost technologya blend of triple fruit oils--avocado, oliveshea--to deliver permanent hair color, even to dark hair. permanent hair dye: garnier nutrisse hair color creme, with grape seed and avocado oil, comes in a complete hair dye kit and nourishes while it colors with a rich, non drip creme formula. garnier hair color: for nourishing, easy-to-use permanent hair dye, temporary hair color, root touch up, or to enhance your natural hair color, turn to garnier hair color. over years of pioneering in hair care: since garnier has blended naturally inspiredderived ingredients into breakthrough formulas. nourish your hair with hair colorhair care from garnier. garnier is incomparable: try express retouch gray hair concealer for a temporary hair color solution to cover gray hair in between uses of your favorite garnier hair dye shade.   \n",
       "407                                                                                                                                                                                                                                                                                                                                                                                                                                                                                                                                                                                                                                                                                                                                                                                                                                                                                                                                                                                                                                                                                                                        special formula to minimize the allergy reactionherb speedy does not contain allergy reactant such as ppd (p-phenylenediamine), diamine and suitable for users with extremely sensitive scalp. made with natural herbal ingredientscontains herbal extracts with licorice root, paeonia albiflora root, sage, matricaria, rosemary extracts, and camellia japonica seed oil to provide rich nutrition to your hair and scalp.( ammonia and paraben free) revolutionary speedy color creamwhile conventional natural hair color dye requires to minutes to complete the coloring, herb speedy color cream offers satisfactory result in just minutesminutes each for&cream). sunlight protectionherb speedy has patented (korea patent no.sunscreen agent which prevent color fading from sunlight damage. made in koreadongsung bio pharm co.,ltd is manufacturer in south korea. they are in the business since .   \n",
       "408                                                                                                                                                                                                                                                                                                                                                                                                                                                                                                                                                                                                                                                                                                                                                                                                                                                                                                                                                                                                                                                                                                                        special formula to minimize the allergy reactionherb speedy does not contain allergy reactant such as ppd (p-phenylenediamine), diamine and suitable for users with extremely sensitive scalp. made with natural herbal ingredientscontains herbal extracts with licorice root, paeonia albiflora root, sage, matricaria, rosemary extracts, and camellia japonica seed oil to provide rich nutrition to your hair and scalp.( ammonia and paraben free) revolutionary speedy color creamwhile conventional natural hair color dye requires to minutes to complete the coloring, herb speedy color cream offers satisfactory result in just minutesminutes each for&cream). sunlight protectionherb speedy has patented (korea patent no.sunscreen agent which prevent color fading from sunlight damage. made in koreadongsung bio pharm co.,ltd is manufacturer in south korea. they are in the business since .   \n",
       "409                                                                                                                                                                                                                                                                                                                                                                                                                                                                                                                                                                                                                                                                                                                                                                                                                                                                                                                                                                                                                                                                                                                                                                                                                                                                                                                        permanent at-home hair dye: convenient hair color kit for at-home use co-developed with salon experts for long-lasting gray coverage keratin enriched hair color: nourishing, ammonia-free hair color formula is infused with keratin and silk amino acid to leave hair in better condition than before you colored itgray coverage: revlons color gel technology delivers rich, natural-looking, multidimensional color with shine that lasts easy to use hair color kit: changing your look or covering greys is simple with an easy at-home process from root to tip natural looking shades: with shades of black, brown, blonde, red, and platinum hair dye, there are so many beautiful colors to choose from   \n",
       "410                                                                                                                                                                                                                                                                                                                                                                                                                                                                                                                                                                                                                                                                                                                                                                                                                                                                                                                                                                                                                                                                                                                                                                                                                                                                                                                                                                                                                                                                                                                                                                                                                                                                                                     contains no ammonia, resorcinol or parabens available in colors, each color can be used alone or blended to create personalized hair colors fast and easy, complete application takes less than an hour safe to use over color treated or permed hair. gives natural looking color variation, will not fade like other hair products.   \n",
       "411                                                                                                                                                                                                                                                                                                                                                                                                                                                                                                                                                                                                                                                                                                                                                                                                                                                                                                                                                                                                                                                                                                                                                                                                                                                                                                                                                                                                                                                                                                                                                                                                                                                                                                                                                                                                                                                     get a rush color and a boost of shine for radiant, healthy-looking hair our most gentle color to the hair, withnaturally derived ingredients! perfect for all hair types and textures   \n",
       "412                                                                                                                                                                                                                                                                                                                                                                                                                                                                                                                                                                                                                                                                                                                                                                                                                                                                                                                                                                                                                                                                                                                                                                                                                                                                                                                                                                                                                                                                                                                                                                                                                                                                                                                                                                                                                                                      get a rush color and a boost of shine for radiant, healthy-looking hair our most gentle color to the hair, withnaturally derived ingredients perfect for all hair types and textures   \n",
       "413                                                                                                                                                                                                                                                                                                                                                                                                                                                                                                                                                                                                                                                                                                                                                                                                                                                                                                                                                                                                                                                                                                                                                                                                                                                                                                                                                                                                                                                                                                                                                                                                                                                                                                                                                                                                                                                                                                                            suitable for all hair types. contains no ammonia or peroxide. gentle enough to use immediately after relaxing.   \n",
       "\n",
       "                                                                                                                                                                                                                                                                                                                                                                                                                                                                                                                                                                                                                                                                                                                                                                                                                                                                                                                                                                                                                                                                                                                                                                                                                                                                                                                                                                                                                                                                                                                                                                                                                                                                                                                                                                                                                product_description  \n",
       "32                                                                                                                                                                                                                                                                                                                                                                                                                                                                                                                                                                                                                                                                                                                                                                                                                                                                                                                                                                                                                                                                                                                                                                                                                                               description:material:plasticcoatedsteelpipesize(thesizebeforebending),*(thesizeafterbending)weight:color:greenpackinginclud:/bagproductusage:,canbeusedforthetractionoftomatoesvine,vinesandsomenaturalclimbingplants.withsupport,canbeusedasasupportforthegreenhouse,gardenhoopsprovideconvenienceforyourgardenplantworkfeatures:,uniqueandhandsomeinappearance,goodmaterial,strongantioxidantcapacity,greenandhealth.installationsteps:gatheringallmaterialsbendthehoopsoutlineyourlowtunnelgreenhouseputyourhoopsinplacetiearidgelinetimetoplacethecovertiedowntheendswithpins.  \n",
       "33                                                                                                                                                                                                                                                                                                                                                                                                                                                                                                                                                                                                                                                                                                                                                                                                                                                                                                                                                                                                                                                                                                                                                                                                                                                                                                                                                                                                                                                                                                                                                                                                                                                                                                                                                                                                                                   \n",
       "34                                                                                                                                                                                                                                                                                                                                                                                                                                                                                                                                                                                                                                                                                                                                                                                                                                                                                                                                                                                                                                                                                                                                                                                                                                                                                                                                                                                                                                                                                                                                                                                                                                                                                                                                                                                                                                   \n",
       "35                                                                                                                                                                                                                                                                                                                                                                                                                                                                                                                                                                                                                                                                                                                                                                                                                                                                                                                                                                                                                                                                                                                                                                                                                                                                                                                                                                                                                                                                                                                                                                                                                                                                                                                                                                                                                                   \n",
       "36                                                                                                                                                                                                                                                                                                                                                                                                                                                                                                                                                                                                                                                                                                                                                                                                                                                                                                                                                                                                                                                                                                                                                                                                                                                                                                                                                                                                                                                                                                                                                                                                                                                                                                                                                                                                                                   \n",
       "37                                                                                                                                                                                                                                                                                                                                                                                                                                                                                                                                                                                                                                                                                                                                                                                              mixc seedling starter trays kit it your best choice for creating a greenhouse environment with high humidity and warm air for your seeds  what is the difference between our seedling starter trays and others?  -transparent trays of our seed grow kit make it easy to observe your plants without interrupting the process, you can visually observe the growth of root.  -built-in adjustable vents of this seed trays allow you to regulate the temperature and humidity of your seedling environment. the green design makes our seedling trays more compatible with your garden. with drain hole at bottom of each cell for proper drainage, reduce roots oversaturating, the base provides the space for excess water draining without plants sitting in water, avoid seedling drowning, gives warmth to the seed bed and balances moisture level   specifications:  tray size:x .\" x \" cell size: .\" x\"x \" base size:xx dome size:xx   package content:  x seed trays x watertight base tray x humidity dome x plant label  \n",
       "38                                                                                                                                                                                                                                                                                                                                                                                                                                                                                                                                                                                                                                                                                                                                                                                                                                                                                                                                                                                                                                                                                                                                                                                                                                                                                                                                                                                                                                                                                                                                                                                                                                                                                                                                                                                                                                   \n",
       "39                                                                                                                                                                                                                                                                                                                                                                                                                                                                                                                                                                                                                                                                                                                                                                                                                                                                                                                                                                                                                                                                                                                                                                                                                                                                                                                                                                                                                                                                                                                                                                                                                                                                                                                                                                                                                                   \n",
       "40                                                                                                                                                                                                                                                                                                                                                                                                                                                                                                                                                                                         this retractable gate fits openings up towide and istall. enjoy the full walk-through space of your homes entryways and stairways with easybaby retractable gate. can be installed at top and bottom of stairways, doorways, hallways, indoor and outdoor use. includes components for easy installation: stainless steel screws, catch mounts, wall spacers for the skirting board or baseboard and installation guide templates. must be fitted between rigid surfaces such as plasterboard, timber or hardwall. the surfaces that the retractable gate is to be installed to must be suitable for the purpose and must be structurally sound, must be installed to walls, door frames or posts tightly and flatly. the easybaby retractable safety gate is a sturdy and durable mesh barrier. the gate retracts out of the way when not in use and is space efficient. this retractable gate works as both an infant gate and a pet gate, intended for use with children frommonths or small to medium pets.  this retractable gate is hardware mounted gate, drill a pilot hole for timber surface and for hardwall drill a hole for installation. one additional set of spare mounting brackets included for convenient relocation.  \n",
       "41                                                                                                                                                                                                                                                                                                                                                                                                                                                                                                                                                                                                                                                                                                                                                                                                                                                                                                                                                                                                                                                                                                                                                                                                                                                                                                                                                                                                               package included: x fence privacy screen. pcs cable zip ties.  specifications  size:x '  color: black  fabric material: high-density polyethylene,recycled material, waterair permeable  blockage: %  finish: black bindingsgrommets all around, apart vertically, apart horizontally.  warranty: years full warranty.  why choose our product?  quality  price  warranty  hassle-free customer service and return  \n",
       "42                                                                                                                                                                                                                                                                                                                                                                                                                                                                                                                                                                                                                                                                                                                                                                                                                                                                                                                                                                                                                                                                                                                                                                                                                                                                                                                                                                                                              package included: ' xfence privacy screen. pcs cable zip ties.  specifications  size:x '  color: black  fabric material: high-density polyethylene,recycled material, waterair permeable  blockage: %  finish: black bindingsgrommets all around, apart vertically, apart horizontally.  warranty: years full warranty.  why choose our product?  quality  price  warranty  hassle-free customer service and return  \n",
       "43                                                                                                                                                                                                                                                                                                                                                                                                                                                                                                                                                                                                                                                                                                                                                                                                                                                                                                                                                                                                                                                                                                                                                                                                                                                                                                                                                                                                                                                                                                                                                                                artificial ivy privacy fence screen, enjoy privacy in your yard while upgrading it with a natural look using this faux ivy privacy fence screen. simply put it on a fence in the backyard or on a balcony railing to block the view of neighbors.  \n",
       "44                                                                                                                                                                                                                                                                                                                                                                                                                                                                                                                                                                                                                                                                                                                                                                                                                                                                                                                                                                                                                                                                                                                                                                                                                                                                                          these hooks for mounting home security cameras on vinyl siding without drilling or using adhesives.  simple to use, you just roll the hook into any seam in the vinyl siding.  easy to put up and move cameras to get the best positioning.  low profile slight bend design. rust-free, no stains on your siding. each hook holds up to ten pounds .  specifications:  material: high quality stainless steel size: approximately -/\"(.)  maximum bearing weight: lbs quantity: pcs vinyl siding security camera mounted hooks per pack  \n",
       "45                                                                                                                                                                                                                                                                                                                                                                                                                                                                                                                                                                                                                                                                                                                                                                                                                                                                                                                                                                                           privacy fence screen measurestall xlong, perfect fit for a fence thats tall. breathable fabric allows breeze to go through, made of uvwater resistant heavy duty hdpe (high-density polyethylene), made to last under sun exposure and all weather condition.blockage gives you the privacy you deserve, not completely block out but the right amount of privacy and blockage, keep the dogs from barking. ideal for condo apartment balconies, backyards patio, gathering areas, swimming pool, or anywhere you need a bit of privacy. specification: material: hdpe+brass color: green size(l x w): about package included: garden fence privacy screen* straps* note: .due to the light and screen difference, the item color may be slightly different from the pictures. .please allow .- differences due to manual measurement.  \n",
       "46                                                                                                                                                                                                                                                                                                                                                                                                                                                                                                                                                                                                                                                                                                                                                                                                                                                                                                                                                                                                                                                                                                                                                                                                                                                                                                                                                                                                                                                                                                                                                                                                                                                                                                                                                                                                                                   \n",
       "47                                                                                                                                                                                                                                                                                                                                                                                                                                                                                                                                                                                                                                                                                                                                                                                                                                                                                                                                                                                                                                                                                                                                                                                                                                                                                                                                                                                                                                                                                                                                                                                                                                                                                                                                                                                                                                   \n",
       "48                                                                                                                                                                                                                                                                                                                                                                                                                                                                                                                                                                                                                                                                    this fiberglass mesh is the main material for making invisible door screen. good light transmittance, is one of the most commonly used high-end door screen series. on the market called [fireproof mesh], because it is the material of glass fiber flame retardant material, and with a colloidal coating. has a slight odor, not easy to break, and not leave a crease, can be burned in fire, burning part is the colloidal coating, glass fiber will not burn. mainly used to refrain cigarette butts. after the experiment, the cigarette stays in the fiberglass screen doorseconds will not have holes and other damage      fiberglass screen door colorgrey mesh+black frame      features. automatic open and close, free your hands.. super sturdy and durable fiberglass mesh, no breaks.. super strong attraction magnets construction with extra hook and loop hasp, no gaps. . strong reinforced hook and loop with the full frame, avoid falling. . big enough for sliding door, double door, screen door hardware. lifetime replacement guarantee. package include. a fiberglass screen door. a roll of hook and loop. a pack of push pins   \n",
       "49                                                                                                                                                                                                                                                                                                                                                                                                                                                                                                                                                                                                                                                                                                                                                                                                                                                                                                                                                                                                                                                                                                                                                                                                                                asurion is taking the guesswork out of finding product protection plans to fit your needs. products failoften at the most inconvenient time. its a good thing youre covered because no other plan can protect your stuff the way an asurion protection plan can. simply put, asurion protection plans cover your products when you need it most with a fast and easy claims process. buy a protection plan from a company that you know and trust. add an asurion protection plan to your cart today! please see \"user guide [pdf]\" below for detailed terms and conditions related to this plan.  \n",
       "50                                                                                                                                                                                                                                                                                                                                                                                                                                                                                                                                                                                                                                                                                                                                                                                                                                                                                                                                                                                                                                                                                                                                                                                                                                                                                                                                                                                                                                                                                                                                                                                                                                                                                                                                                                                                                                   \n",
       "51                                                                                                                                                                                                                                                                                                                                                                                                                                                                                                                                                                                                                                                                                                                                                                                                                                                                                                                                                                                                                                                                                                                                                                                                                                                                                                                                                                                                                                                                                                                                                                                                                                                                                                                                                                                                                                   \n",
       "52                                                                                                                                                                                                                                                                                                                                                                                                                                                                                                                                                                                                                                                                                                                                                                                                                                                                                                                                                                                                                                                                                                                                                                                                                                                                                                                                                                                                                                                                                                                                                                                                                                                                                                                                                                                                                                   \n",
       "53                                                                                                                                                                                                                                                                                                                                                                                                                                                                                                                                                                                                                                                                                                                                                                                                                                                                                                                                                                                                                                                                                                                                                                                                                                                                                                                                                                                                                                                                                                                                                                                                                                                                                                                                                                                                                                   \n",
       "54                                                                                                                                                                                                                                                                                                                                                                                                                                                                                                                                                                                                                                                                                                                                                                                                                                                                                                                                                                                                                                                                                                                                                                                                                                                                                                                                                                                                                                                                                                                                                                                                                                                                                                                                                                                                                                   \n",
       "55                                                                                                                                                                                                                                                                                                                                                                                                                                                                                                                                                                                                                                                                                                                                                                                                                                                                                                                                                                                                                                                                                                                                                                                                                                                                                                                                                                                                                                                                                                                                                                                                                                                                                                                                                                                                                                   \n",
       "56                                                                                                                                                                                                                                                                                                                                                                                                                                                                                                                                                                                                                                                                                                                                                                                                                                                                                                                                                                                                                                                                                                                                                                                                                                                                                                                                                                                                                                                                                                                                                                                                                                                                                                                                                                                                                                   \n",
       "57                                                                                                                                                                                                                                                                                                                                                                                                                                                                                                                                                                                                                                                                                                                                                                                                                                                                                                                                                                                                                                                                                                                                                                                                                                                                                                                                                                                                                                                                                                                                                                                                                                                                                                                                                                                                                                   \n",
       "58                                                                                                                                                                                                                                                                                                                                                                                                                                                                                                                                                                                                                                                                                                                                                                                                                                                                                                                                                                                                                                                                                                                                                                                                                                                                                                                                                                                                                                                                                                                                                                                                                                                                                                                                                                                                                                   \n",
       "59                                                                                                                                                                                                                                                                                                                                                                                                                                                                                                                                                                                                                                                                                                                                                                                                                                                                                                                                                                                                                                                                                                                                                                                                                                                                                                                                                                                                                                                                                                                                                                                                                                                                                                                                                                                                                                   \n",
       "60                                                                                                                                                                                                                                                                                                                                                                                                                                                                                                                                                                                                                                                                                                                                                                                                                                                                                                                                                                                                                                                                                                                                                                                                                                                                                                                                                                                                                                                                                                                                                                                                                                                                                                                                                                                                                                   \n",
       "61                                                                                                                                                                                                                                                                                                                                                                                                                                                                                                                                                                                                                                                                                                                                                                                                                                                                                                                                                                                                                                                                                                                                                                                                                                                                                                                                                                                                                                                                                                                                                                                                                                                                                                                                                                                                                                   \n",
       "62                                                                                                                                                                                                                                                                                                                                                                                                                                                                                                                                                                                                                                                                                                                                                                                                                                                                                                                                                                                                                                                                                                                                                                                                                                                                                                                                                                                                                                                                                                                                                                                                                                                                                                                                                                                                                                   \n",
       "63                                                                                                                                                                                                                                                                                                                                                                                                                                                                                                                                                                                                                                                                                                                                                                                                                                                                                                                                                                                                                                                                                                                                                                                                                                                                                                                                                                                                                                                                                                                                                                                                                                                                                                                                                                                                                                   \n",
       "64                                                                                                                                                                                                                                                   the flux phenom magnetic screen door is made for any household. the instant screen door installs in just a few minutes in any doorway of your home. it keeps irritants out, lets fresh air in, and allows your dog or cat to freely go in and out of the house. it the perfect shield to fight off constant irritation from nature. the fine mesh of our screen for doors is small enough to keep them out while letting air flow freely. the mesh is fine, but not so fine as to block your vision from the happenings going on outdoors. our magnetic door curtain features reinforced edges that ensure your door will stay in place even when hit with heavy gusts of wind. the strong, durable mesh and superior strength edges of our magnetic curtain will keep you experiencing outdoor freshness for years to come. all hardware included (for metal or wood door frames), instructions, and a video installation guide. no more dealing with claw marks on your expensive screen door from your pets. our magnetic screen door opens easily with just a nudge of a head or hand (for you humans). the middle seam of the screen door is lined with magnets that allow it to close like magic. it fits all door sizes up to xand is not intended to reach the ground upon installation. we value your business and back our flex screen with a lifetime replacement policy. if anything should happen to your temporary door, sliding screen door, or pet screen for any reason, we send you another one at no extra charge. note: product packaging design may vary.  \n",
       "65                                                                                                                                                                                                                                                                                                                                                                                                                                                                                                                                                                                                                                                                                                                                                                                                                                                                                                                                                                                                                                                                                                                                                                                                                                                                                                                                                                                                                                                                                                                                                                                                                                                                                                                                                                                                                                   \n",
       "66   mesh safety netting roll measuring high and long lightweight uv-protected mesh safety netting comes to your rescue when youre in need of instant skirting around gardens, seeded lawns, newly laid concrete sidewalks, or freshly painted low surfaces. easy to install with t-posts or stakes made from wood or bamboo set four feet apart for heightened stability. this will prevent sagging or collapsing caused from wind stress, animal gnawing, or snow buildup (doubling up on the thickness of netting is recommended for those who live in rural areas prone to frigid weather conditions). once its set up, you will have a vibrant visual barrier with maximum visibility that is just as easy to remove, roll up, and stow away in the garage or garden shed for future use. keeps wanted things in, keeps unwanted things out our mesh visual barrier netting helps prevent small pets from wandering off or accessing areas of your lawn or garden that are off limits. great for establishing a secondary fence for landscaping purposes, protecting flowerbeds and gardens from being trampled on. or, put it up to keep toddlers away from your pool and other unsavory areas of your yard. its multifunctional enough for crowd control use at sporting events, concerts, festivals, carnivals, and other social gatherings where distinct visual barriers are necessary. highly affordable and easily adjustable an economic alternative for those who lack the time or funds for building a traditional fence. suitable for many other uses and projects, such as securing strawberries and raised beds in your garden, acting as a baseboard around tents while camping, establishing a walking path or a warning perimeter during minor sidewalk construction projects where open trenches are exposed.  \n",
       "67                                                                                                                                                                                                                                                                                                                                                                                                                                                                                                                                                                                                                                                                                                                                                                                                                                                                                                                                                                                                                                                                                                                                                                                                                                                                                                                                                                                                                                                                                                                                                                                                                                                                                                                                                                                                                                   \n",
       "68                                                                                                                                                                                                                                                                                                                                                                                                                                                                                                                                                                                                                                                                                                                                                                                                                                                                                                                                                                                                                                                                                                                                                                                                                                                                                                                                                                                                                                                                                                                                                                                                                                                                                                                                                                                                                                   \n",
       "69                                                                                                                                                                                                                                                                                                                                                                                                                                                                                                                                                                                                                                                                                                                                                                                                                                                                                                                                                                                                                                                                                                                                                                                                                                                                                                                                                                                                                                                                                                                                                                                                                                                                                                                                                                                                                                   \n",
       "402                                                                                                                                                                                                                                                                                                                                                                                                                                                                                                                                                                                                                                                                                                                                                                                                                                                                                                                                                                                                                                                                                                                                                                                                                                                                                                                                                                                                                                                                                                                                                                                                                                                                                                                                                                                                                                  \n",
       "403                                                                                                                                                                                                                                                                                                                                                                                                                                                                                                                                                                                                                                                                                                                                                                                                                                                                                                                                                                                                                                                                                                                                                                                                                                                                                                                                                                                                                                                   naturcolor light burdock permanent herbal based haircolor gel utilizes herbs to cover grey as opposed to chemicals. with ingredients such as burdock root and nettle leaf extract along with chamomile flower extract, our formula seeks to achieve a glossy, natural effect. this box contains fl oz of herbal hair color that uses plant extract as its active ingredients.  \n",
       "404                                                                                                                                                                                                                                                                                                                                                                                                                                                                                                                                                                                                                                                                                                                                                                                                                                                                                                                                                                                                                                                                                                                                                                                                                                                    nisha henna based hair colour is a premium quality powder hair colour enriched with ancient indian herbs like amla, aloe vera, hibiscusshikakai. it is one of the best hair colour powder available in the market which is made from herbal henna extracts. nisha is an ammonia free unisex hair colour, which is safe for your hair. nisha hair color makes your hair soft, glossynatural looking. discover colored hair thats naturally beautiful with nisha powder hair color.  nisha hair color is available in shades in& ):  -natural black  -natural brown  -burgundy  \n",
       "405                                                                                                                                                                                                                                                                                                                                                                                                                                                                                                                                                                                                                                                                                                                                                                                                                                                                                                                                                                                                                                                                                                                                                                                               indus valley new damage-free gel colour is innovatively designed as a no-peroxide hair color to give you a damage-free coloring experience. it addresses the most damaging issue associated with chemical hair colorsturning naturally colored hair into permanent greys from prolonged usage of chemical hair dyes. the no-bleach hair color is made with exotic- natural herbs that repair and nourish your hair strands during coloration and prevent them from turning grey anytime soon. the rich, vibrant hair color lasts forweeks and effectively covers grey strands in a single application without damaging your hair.  \n",
       "406                                                                                                                                                                                                                                                                                                                                                                                                                                                                                                                                                                                                                                                                                                                                                                                                                                                                                                                                                                                                                                                                                                                                                                                                                                                                                                                                                                                                                                                                                                                                                                                                                                                                                                                                                                                                                                  \n",
       "407                                                                                                                         are you afraid of using hair color because of the allergy symptoms? herb speedy permanent color cream is suitable for people with extremely sensitive scalp and has been specially formulated to be free of allergy. this product does not contain ppd (p-phenylenediamine), a commonly found ingredient for permanent hair dyes called oxidative dyes which leads to allergic reactions. no more eye and/or scalp irritations from coloring. this product is odorless and easy-to apply hair color, which anyone may use at ease. quick hair coloring is possible in just minutes. brilliant color lasts more than weeks.ppd free, ammonia and paraben free with naturally derived dye ingredients.natural herbal extracts help prevent hair loss. herb speedy contains sunscreen agent which protects against hair damage and prevent discoloration of hair from repeated exposures to uv. contents : x cream:oz x cream: . x brush. x head cap. x pair of disposable gloves. x divided container. x instruction. directions : \" for the best results, please follow the instructions step by step \"squeeze an equal amount of creamandonto the included plastic container. unlike other permanent color creams never mix creamandtogether. apply creamon hair.leave it on for minutes. apply creamon hair and leave that on for minutes as well. make sure that the amount drawn out is used in its entirety or the color will not develop properly. after the desired color is obtained, wash and rinse several times with lukewarm water until water runs clear.safety information patch test strongly recommendedto help minimize your risk, perform the skin allergy test hours before coloring.  \n",
       "408                                                                                                                         are you afraid of using hair color because of the allergy symptoms? herb speedy permanent color cream is suitable for people with extremely sensitive scalp and has been specially formulated to be free of allergy. this product does not contain ppd (p-phenylenediamine), a commonly found ingredient for permanent hair dyes called oxidative dyes which leads to allergic reactions. no more eye and/or scalp irritations from coloring. this product is odorless and easy-to apply hair color, which anyone may use at ease. quick hair coloring is possible in just minutes. brilliant color lasts more than weeks.ppd free, ammonia and paraben free with naturally derived dye ingredients.natural herbal extracts help prevent hair loss. herb speedy contains sunscreen agent which protects against hair damage and prevent discoloration of hair from repeated exposures to uv. contents : x cream:oz x cream: . x brush. x head cap. x pair of disposable gloves. x divided container. x instruction. directions : \" for the best results, please follow the instructions step by step \"squeeze an equal amount of creamandonto the included plastic container. unlike other permanent color creams never mix creamandtogether. apply creamon hair.leave it on for minutes. apply creamon hair and leave that on for minutes as well. make sure that the amount drawn out is used in its entirety or the color will not develop properly. after the desired color is obtained, wash and rinse several times with lukewarm water until water runs clear.safety information patch test strongly recommendedto help minimize your risk, perform the skin allergy test hours before coloring.  \n",
       "409                                                                                                                                                                                                                                                                                                                                                                                                                                                                                                                                                                                                                                                                                                                                                                                                                                                                                                                                                                                                                                                                                                                                                                                                                                                                                                                                                                                                                                                                                                                                                                                                                                                                                                                                                                                                                                  \n",
       "410                                                                                                                                                                                                                                                                                                                                                                                                                                                                                                                                                                                                                                                                                                                                                                                                                                                                                                                                                                                                                                                                                                                                                                                                                                                                                                                                                      herbaceuticals naturcolor permanent burdock haircolor gel gently infuses your hair with herbal extracts and plant-based ingredients for a rich dark brown finish. our formula covers one application for long hair and two applications for short hair. go guilt-free in your haircolor routine knowing that our product is not tested on animals. this box contains fl oz of herbaceuticals naturcolor permanent burdock haircolor gel and uses zero parabens or ammonia.  \n",
       "411                                                                                                                                                                                                                                                                                                                                                                                                                                                                                                                                                                                                                                                                                                                                                                                                                                                                                                                                                                                                                                                                                                                                                                                                                                                                                                                                                                                                                                                                                                                                                                                                                                                                                                                                                                                                                                  \n",
       "412                                                                                                                                                                                                                                                                                                                                                                                                                                                                                                                                                                                                                                                                                                                                                                                                                                                                                                                                                                                                                                                                                                                                                                                                                                                                                                                                                                                                                                                                                                                                                                                                                                                                                                                                                                                                                                  \n",
       "413                                                                                                                                                                                                                                                                                                                                                                                                                                                                                                                                                                                                                                                                                                                                                                                                                                                                                                                                                                                                                                                                                                                                                                                                                                                                                                                                                                                                                                                                                                                                                                                                                                                                                                                                                                                                                                  "
      ]
     },
     "execution_count": 12,
     "metadata": {},
     "output_type": "execute_result"
    }
   ],
   "source": [
    "df_examples_products_clean['query'] = df_examples_products_clean['query'].apply(clean_text_column) \n",
    "df_examples_products_clean['product_title'] = df_examples_products_clean['product_title'].apply(clean_text_column) \n",
    "df_examples_products_clean['product_description'] = df_examples_products_clean['product_description'].apply(clean_text_column) \n",
    "df_examples_products_clean['product_bullet_point'] = df_examples_products_clean['product_bullet_point'].apply(clean_text_column) \n",
    "df_examples_products_clean[['query', 'product_title', 'product_bullet_point', 'product_description']].head(50)"
   ]
  },
  {
   "cell_type": "code",
   "execution_count": 13,
   "id": "8fc6d0b6",
   "metadata": {},
   "outputs": [
    {
     "data": {
      "text/html": [
       "<div>\n",
       "<style scoped>\n",
       "    .dataframe tbody tr th:only-of-type {\n",
       "        vertical-align: middle;\n",
       "    }\n",
       "\n",
       "    .dataframe tbody tr th {\n",
       "        vertical-align: top;\n",
       "    }\n",
       "\n",
       "    .dataframe thead th {\n",
       "        text-align: right;\n",
       "    }\n",
       "</style>\n",
       "<table border=\"1\" class=\"dataframe\">\n",
       "  <thead>\n",
       "    <tr style=\"text-align: right;\">\n",
       "      <th></th>\n",
       "      <th>example_id</th>\n",
       "      <th>query</th>\n",
       "      <th>query_id</th>\n",
       "      <th>product_id</th>\n",
       "      <th>product_locale</th>\n",
       "      <th>esci_label</th>\n",
       "      <th>small_version</th>\n",
       "      <th>large_version</th>\n",
       "      <th>split</th>\n",
       "      <th>product_title</th>\n",
       "      <th>product_description</th>\n",
       "      <th>product_bullet_point</th>\n",
       "      <th>product_brand</th>\n",
       "      <th>product_color</th>\n",
       "    </tr>\n",
       "  </thead>\n",
       "  <tbody>\n",
       "    <tr>\n",
       "      <th>32</th>\n",
       "      <td>32</td>\n",
       "      <td>!qscreen fence without holes</td>\n",
       "      <td>2</td>\n",
       "      <td>B07D7TBSGH</td>\n",
       "      <td>us</td>\n",
       "      <td>I</td>\n",
       "      <td>1</td>\n",
       "      <td>1</td>\n",
       "      <td>test</td>\n",
       "      <td>fotmishu greenhouse hoops rust-free grow tunnel tunnel, long steel with plastic coated plant supports for garden fabric, plant support garden stakes</td>\n",
       "      <td>description:material:plasticcoatedsteelpipesize(thesizebeforebending),*(thesizeafterbending)weight:color:greenpackinginclud:/bagproductusage:,canbeusedforthetractionoftomatoesvine,vinesandsomenaturalclimbingplants.withsupport,canbeusedasasupportforthegreenhouse,gardenhoopsprovideconvenienceforyourgardenplantworkfeatures:,uniqueandhandsomeinappearance,goodmaterial,strongantioxidantcapacity,greenandhealth.installationsteps:gatheringallmaterialsbendthehoopsoutlineyourlowtunnelgreenhouseputyourhoopsinplacetiearidgelinetimetoplacethecovertiedowntheendswithpins.</td>\n",
       "      <td>material--high-qualityplasticcoatedsteelpipe,noteasytorust,canbeusedforalongtime. size--/(thesizebeforebending),/.,/.(thesizeafterbending),/...gardenfabricnotincluded. easytosetup--comescompletewithsharpenedpointsonbothsidesforeaseofplacement.washable,reusable,flatforstorage.createsafavorablemicroclimateforyourplants. protectingplants--usehoopstosupportgardenrowcovers,protectingplantsfromfrost,insects,birds,orintensesun.canbeusedwithinsect-proofnets,shadingnets,insulationfilmandsoon. features--designforplantcover,frostprotectioncoverandminigreenhouse,providesidealenvironmentforrapidgerminationandgrowthofyoungplants</td>\n",
       "      <td>FOTMISHU</td>\n",
       "      <td>green</td>\n",
       "    </tr>\n",
       "    <tr>\n",
       "      <th>33</th>\n",
       "      <td>33</td>\n",
       "      <td>!qscreen fence without holes</td>\n",
       "      <td>2</td>\n",
       "      <td>B07DHT2WZK</td>\n",
       "      <td>us</td>\n",
       "      <td>I</td>\n",
       "      <td>1</td>\n",
       "      <td>1</td>\n",
       "      <td>test</td>\n",
       "      <td>zippity outdoor products unassembled madison vinyl gate kit with fence wings, white</td>\n",
       "      <td></td>\n",
       "      <td>designed for the madison vinyl fence (itemto install, dig holes and secure the extended posts into the ground; use gravel or concrete for extra stability (optional) kit includes small stainless latch (), hinges (), supporting posts (), decorative fence wings with posts () and post caps () the entire gate kit with wings spans -/. gate without wings is -/. gate must be installed with wings for optimal stability assembly and installation required</td>\n",
       "      <td>Zippity Outdoor Products</td>\n",
       "      <td>White</td>\n",
       "    </tr>\n",
       "    <tr>\n",
       "      <th>34</th>\n",
       "      <td>34</td>\n",
       "      <td>!qscreen fence without holes</td>\n",
       "      <td>2</td>\n",
       "      <td>B07DHX8YH2</td>\n",
       "      <td>us</td>\n",
       "      <td>E</td>\n",
       "      <td>1</td>\n",
       "      <td>1</td>\n",
       "      <td>test</td>\n",
       "      <td>zippity outdoor products lightweight portable vinyl picket fence kit w/metal base(\" h xw), white</td>\n",
       "      <td></td>\n",
       "      <td>designed as a portable fence for temporary events rust-free metal bases are included; bases have small holes if you need to screw the base into wood or concrete (fence will stand on its own without screws) this fence should not be used for serious crowd control or child or pet safety; it is designed to be used as a psychological or aesthetic barrier and not a physical one each panel includes a connector piece to attach to an adjacent panel in a straight line or at a right angle; this makes this fence fully scalable to add as many panels as you need for your event assembly required. top shape-flat</td>\n",
       "      <td>Zippity Outdoor Products</td>\n",
       "      <td>White</td>\n",
       "    </tr>\n",
       "    <tr>\n",
       "      <th>35</th>\n",
       "      <td>35</td>\n",
       "      <td>!qscreen fence without holes</td>\n",
       "      <td>2</td>\n",
       "      <td>B07DS1YCRZ</td>\n",
       "      <td>us</td>\n",
       "      <td>S</td>\n",
       "      <td>1</td>\n",
       "      <td>1</td>\n",
       "      <td>test</td>\n",
       "      <td>colourtreexgreen fence privacy screen windscreen cover fabric shade tarp netting mesh clothcommercial grade gsmcable zip ties includedwe make custom size</td>\n",
       "      <td></td>\n",
       "      <td>virgin, uv stabilized compoundsthick material: the only fence screen product on the market that are made of gsmvirgin (non-recycled) hdpe material. our virgin hdpe fabric went through hours of laboratory uv testing and it is proved to bemore durable compared to recycled hdpe under sun exposure, fabric has been treated with uv stabilized compound, preventing fence screen from dried out, tearing and fading, significantly extend the lifespan. privacy solutionvisibility blockage: most economical way for privacy over chain link fence, porous decorative concealment, existing cyclone wire fence, wood retaining wall, welded wire fence, chain link fence, privacy barrier around swimming pool, block nose neighbor see through, add privacy to acre back yard backdrop, front yard, patio, garden and porch; hide street, road, construction site, pet kennel pen, block surrounding noise and street view, stops dogs from barking at neighb comes with the extra stainless grommets and reinforced binding: grommets are made of stainless copper, each corner has grommets (compares to similar products on the market only havegrommets), more grommets are placed evenly along all edges, inches apart vertically, inches horizontally. all edges are covered with black reinforced -inch binding (.-inch on each side). the grommets and bindings help the screen to hold up in the wind. can be used as shades or greenhouse solution: can be used there are lots of different ways to use: protection for vegetable garden plants, greenhouse covering, wind blocking for plant nursery area, window shades, tennis court, shades for pet penkennel, construction site, etc. breathable weaving fabric allows water and air to go through freely, resistant to both uv and water, no maintenance needed. years warranty: limited years warranty under normal usage and weather. free consultation. all colourtree brand products come with warranty, the terms of warranty may vary.</td>\n",
       "      <td>ColourTree</td>\n",
       "      <td>Green 2nd Generation</td>\n",
       "    </tr>\n",
       "    <tr>\n",
       "      <th>36</th>\n",
       "      <td>36</td>\n",
       "      <td>!qscreen fence without holes</td>\n",
       "      <td>2</td>\n",
       "      <td>B07DS3J3MB</td>\n",
       "      <td>us</td>\n",
       "      <td>S</td>\n",
       "      <td>1</td>\n",
       "      <td>1</td>\n",
       "      <td>test</td>\n",
       "      <td>colourtreexblack fence privacy screen windscreen cover fabric shade tarp netting mesh clothcommercial grade gsmcable zip ties includedwe make custom size</td>\n",
       "      <td></td>\n",
       "      <td>virgin, uv stabilized compoundsthick material: actual height is\", fits perfectly on footer fence. the only fence screen product on the market that are made of gsmvirgin (non-recycled) hdpe material. went through hours of laboratory uv testing and it is proved to bemore durable than recycled hdpe under sun exposure, fabric has been treated with uv stabilized compound, preventing fence screen from dried out, tearing and fading, significantly extend the lifes privacy solutionvisibility blockage: most economical way for privacy over chain link fence, porous decorative concealment, existing cyclone wire fence, wood retaining wall, welded wire fence, chain link fence, privacy barrier around swimming pool, block nose neighbor see through, add privacy to acre back yard backdrop, front yard, patio, garden and porch; hide street, road, construction site, pet kennel pen, block surrounding noise and street view, stops dogs from barking at neighb comes with the extra stainless grommets and reinforced binding: grommets are made of stainless copper, each corner has grommets (compares to similar products on the market only havegrommets), more grommets are placed evenly along all edges, inches apart vertically, inches horizontally. all edges are covered with black reinforced -inch binding (.-inch on each side). the grommets and bindings help the screen to hold up in the wind. can be used as shades or greenhouse solution: can be used there are lots of different ways to use: protection for vegetable garden plants, greenhouse covering, wind blocking for plant nursery area, window shades, tennis court, shades for pet penkennel, construction site, etc. breathable weaving fabric allows water and air to go through freely, resistant to both uv and water, no maintenance needed. years warranty: limited years warranty under normal usage and weather. free consultation. all colourtree brand products come with warranty, the terms of warranty may vary.</td>\n",
       "      <td>ColourTree</td>\n",
       "      <td>Black 2nd Generation</td>\n",
       "    </tr>\n",
       "    <tr>\n",
       "      <th>37</th>\n",
       "      <td>37</td>\n",
       "      <td>!qscreen fence without holes</td>\n",
       "      <td>2</td>\n",
       "      <td>B07L41H13T</td>\n",
       "      <td>us</td>\n",
       "      <td>I</td>\n",
       "      <td>1</td>\n",
       "      <td>1</td>\n",
       "      <td>test</td>\n",
       "      <td>mixc -pack seed trays seedling starter tray, humidity adjustable plant starter kit with dome and base greenhouse grow trays mini propagator for seeds growing startingcells per tray)</td>\n",
       "      <td>mixc seedling starter trays kit it your best choice for creating a greenhouse environment with high humidity and warm air for your seeds  what is the difference between our seedling starter trays and others?  -transparent trays of our seed grow kit make it easy to observe your plants without interrupting the process, you can visually observe the growth of root.  -built-in adjustable vents of this seed trays allow you to regulate the temperature and humidity of your seedling environment. the green design makes our seedling trays more compatible with your garden. with drain hole at bottom of each cell for proper drainage, reduce roots oversaturating, the base provides the space for excess water draining without plants sitting in water, avoid seedling drowning, gives warmth to the seed bed and balances moisture level   specifications:  tray size:x .\" x \" cell size: .\" x\"x \" base size:xx dome size:xx   package content:  x seed trays x watertight base tray x humidity dome x plant label</td>\n",
       "      <td>keep and eye on your growth: the only design in the market- high quality clear plastic trays of this seed grow kit make it easy to observe your plants without interrupting the process. total control: adjustable vents of this seed trays allow you to regulate the temperature and humidity of your seedling environment, so you have total control over the growing process perfect size for seed starting: size of the cells:length andwide, these seed trays are suitable for small seeds, such as flowers, vegetables, fruits, tobacco and other plants. grow health and efficientwith drain hole at bottom of each cell for proper drainage, reduce roots oversaturating. reusable and a great way to foster a beautiful and healthy garden. what you get mixc seed starter tray contains: x seed tray, x watertight base tray, x humidity dome, x plant labels (a must have for seedling)</td>\n",
       "      <td>MIXC</td>\n",
       "      <td>Green</td>\n",
       "    </tr>\n",
       "    <tr>\n",
       "      <th>38</th>\n",
       "      <td>38</td>\n",
       "      <td>!qscreen fence without holes</td>\n",
       "      <td>2</td>\n",
       "      <td>B07L6W8HBL</td>\n",
       "      <td>us</td>\n",
       "      <td>I</td>\n",
       "      <td>1</td>\n",
       "      <td>1</td>\n",
       "      <td>test</td>\n",
       "      <td>candyhome green anti bird protection net mesh garden plant netting protect seedlings plants flowers fruit trees vegetables from rodents birds deer reusable fencingx )</td>\n",
       "      <td></td>\n",
       "      <td>excellent materialqualityour anti bird net is made of strong and durable nylon with high stretch, light-weight but not tear easily. it is anti-uv and tough enough to withstand the effects of the sun and bad weather conditions. so you can use the garden net repeatedly until the end of the season. the size of the net refers to the measured length straightened from the far left to the far right. protect garden plantsfruit treesour fruit tree netting are large in size and can provides maximum protection without harming birds and small animals or interfering with plant growth. it can effectively prevent damage and protect fruit trees, berries, bushes, shrubs, plants, flowers and vegetables. easy to install, practical and securethis fruit tree net is easy to fold and unfold, can be use easily. can be cut to any size without fraying to suit multiple garden purposes, such as tree nets for fruit trees, garden mesh for garden and bird mesh netting for eaves. enjoy the fruits of your laborwhen you have a deer netting you don have to worry about birds, deer and other critters destroying your crop. this powerful anti bird netting is ideal for protecting tomatoes, strawberries, blueberries, figs, cherries and other fruit trees, etc. intimate serviceif you have any questions or are not satisfied with garden bird netting, contact us at any time, and we will reply to your message as soon as possible.</td>\n",
       "      <td>CandyHome</td>\n",
       "      <td>1 Pack (Green)</td>\n",
       "    </tr>\n",
       "    <tr>\n",
       "      <th>39</th>\n",
       "      <td>39</td>\n",
       "      <td>!qscreen fence without holes</td>\n",
       "      <td>2</td>\n",
       "      <td>B07MFP4PPQ</td>\n",
       "      <td>us</td>\n",
       "      <td>E</td>\n",
       "      <td>1</td>\n",
       "      <td>1</td>\n",
       "      <td>test</td>\n",
       "      <td>sunnyglade feet x feet privacy screen fence heavy duty fencing mesh shade net cover for wall garden yard backyardft x ft, green)</td>\n",
       "      <td></td>\n",
       "      <td>privacy solution: most economical way for privacy over chain link fence, porous decorative concealment, existing cyclone wire fence, wood retaining wall, welded wire fence, chain link fence, privacy barrier around swimming pool, block nose neighbor see through, add privacy to acre back yard backdrop, front yard, patio, garden and porch; hide street, road, construction site, pet kennel pen, block surrounding noise and street view, stops dogs from barking at neighbors. high quality material: privacy fence screen is constructed of sun protected hdpe fabric with durable brass grommets on each side. the fence privacy screen measures exactlyxmultifunction: there are lots of different ways to use, protection for vegetable garden plants, greenhouse covering, wind blocking for plant nursery area, window shades, tennis court, shades for pet penkennel, construction site, etc. breathable weaving fabric allows water and air to go through freely, resistant to both sun and water, no maintenance needed. more intensive grommets: grommets are made of copper, more grommets are placed evenly along all edges,inches apart vertically,inches horizontally. all edges are covered with black reinforced .\" binding. the grommets and bindings help the screen to hold up in the wind. easy to install: use zip ties to fasten the grommets to the fence in each side. our fence screen is equipped with denser grommets and straps to keep the fence closer to your fence.</td>\n",
       "      <td>Sunnyglade</td>\n",
       "      <td>Green</td>\n",
       "    </tr>\n",
       "    <tr>\n",
       "      <th>40</th>\n",
       "      <td>40</td>\n",
       "      <td>!qscreen fence without holes</td>\n",
       "      <td>2</td>\n",
       "      <td>B07S7LGN9S</td>\n",
       "      <td>us</td>\n",
       "      <td>I</td>\n",
       "      <td>1</td>\n",
       "      <td>1</td>\n",
       "      <td>test</td>\n",
       "      <td>easybaby products indoor outdoor retractable baby gate,tall, extends up towide, black</td>\n",
       "      <td>this retractable gate fits openings up towide and istall. enjoy the full walk-through space of your homes entryways and stairways with easybaby retractable gate. can be installed at top and bottom of stairways, doorways, hallways, indoor and outdoor use. includes components for easy installation: stainless steel screws, catch mounts, wall spacers for the skirting board or baseboard and installation guide templates. must be fitted between rigid surfaces such as plasterboard, timber or hardwall. the surfaces that the retractable gate is to be installed to must be suitable for the purpose and must be structurally sound, must be installed to walls, door frames or posts tightly and flatly. the easybaby retractable safety gate is a sturdy and durable mesh barrier. the gate retracts out of the way when not in use and is space efficient. this retractable gate works as both an infant gate and a pet gate, intended for use with children frommonths or small to medium pets.  this retractable gate is hardware mounted gate, drill a pilot hole for timber surface and for hardwall drill a hole for installation. one additional set of spare mounting brackets included for convenient relocation.</td>\n",
       "      <td>indoor and outdoor: can be installed at top and bottom of stairways, doorways, hallways, indoor and outdoor use. includes components for easy installation: stainless steel screws, catch mounts, wall spacers and installation guide templates. must be fitted between rigid surfaces such as plasterboard, timber or hardwall. this retractable gate is hardware mounted gate, drill a pilot hole for timber surface and for hardwall drill a hole for installation. product size: this retractable gate fits openings up towide and istall. can be adjusted to fit your openings according to your needs. mesh can be completely retracted away when not in use. one handed operation to open and close: push and turn clockwise to unlock gate, grasp handle to pull and hook handle onto catches, push and turn counter-clockwise to lock gate. fits your purpose: perfect solution for doorways and stairs locking the way for babies and pets needed to provide safety and security in the whole house. the stair gates is used for children and pets blocking off their way out or in. standard approved: all gate lines are tested to the safety standards, meeting or exceeding both astm or en standards.</td>\n",
       "      <td>EasyBaby</td>\n",
       "      <td>Black</td>\n",
       "    </tr>\n",
       "    <tr>\n",
       "      <th>41</th>\n",
       "      <td>41</td>\n",
       "      <td>!qscreen fence without holes</td>\n",
       "      <td>2</td>\n",
       "      <td>B07R3TNQDM</td>\n",
       "      <td>us</td>\n",
       "      <td>E</td>\n",
       "      <td>1</td>\n",
       "      <td>1</td>\n",
       "      <td>test</td>\n",
       "      <td>amgoxblack fence privacy screen windscreen,with bindingsgrommets, heavy duty for commercial and residential,blockage, cable zip ties included, (available for custom sizes)</td>\n",
       "      <td>package included: x fence privacy screen. pcs cable zip ties.  specifications  size:x '  color: black  fabric material: high-density polyethylene,recycled material, waterair permeable  blockage: %  finish: black bindingsgrommets all around, apart vertically, apart horizontally.  warranty: years full warranty.  why choose our product?  quality  price  warranty  hassle-free customer service and return</td>\n",
       "      <td>fence privacy screen fits perfectly on ft fence, actual height is\", cable zip ties are included for installation. edges are finished with heavy duty black bindings and stainless copper grommets, all stitching are reinforced, grommets are placed every ft vertically, ft horizontally, each corner has grommets, easy to install with included cable zip ties.blockage, great for privacy and allows water and airflow to pass through at the meantime, fabric is made of knitted virgin hdpe material. custom sizes are available, select size from drop-down or contact us for other colorssizes, we are the manufacturer who is focusing on making quality and durable fence screen at low price. years limited warranty under normal usage and weather.</td>\n",
       "      <td>Amgo</td>\n",
       "      <td>Black</td>\n",
       "    </tr>\n",
       "    <tr>\n",
       "      <th>42</th>\n",
       "      <td>42</td>\n",
       "      <td>!qscreen fence without holes</td>\n",
       "      <td>2</td>\n",
       "      <td>B07R6P8TK8</td>\n",
       "      <td>us</td>\n",
       "      <td>E</td>\n",
       "      <td>1</td>\n",
       "      <td>1</td>\n",
       "      <td>test</td>\n",
       "      <td>amgoxblack fence privacy screen windscreen,with bindingsgrommets, heavy duty for commercial and residential,blockage, cable zip ties included, (available for custom sizes)</td>\n",
       "      <td>package included: ' xfence privacy screen. pcs cable zip ties.  specifications  size:x '  color: black  fabric material: high-density polyethylene,recycled material, waterair permeable  blockage: %  finish: black bindingsgrommets all around, apart vertically, apart horizontally.  warranty: years full warranty.  why choose our product?  quality  price  warranty  hassle-free customer service and return</td>\n",
       "      <td>fence privacy screen fits perfectly on ft fence, actual height is\", cable zip ties are included for installation. edges are finished with heavy duty black bindings and stainless copper grommets, all stitching are reinforced, grommets are placed every ft vertically, ft horizontally, each corner has grommets, easy to install with included cable zip ties. edges are finished with heavy duty black bindings and stainless copper grommets, all stitching are reinforced, grommets are placed every ft vertically, ft horizontally, each corner has grommets, easy to install with included cable zip ties. custom sizes are available, select size from drop-down or contact us for other colorssizes, we are the manufacturer who is focusing on making quality and durable fence screen at low price. years limited warranty under normal usage and weather.</td>\n",
       "      <td>Amgo</td>\n",
       "      <td>Black</td>\n",
       "    </tr>\n",
       "    <tr>\n",
       "      <th>43</th>\n",
       "      <td>43</td>\n",
       "      <td>!qscreen fence without holes</td>\n",
       "      <td>2</td>\n",
       "      <td>B07TVHBMZS</td>\n",
       "      <td>us</td>\n",
       "      <td>I</td>\n",
       "      <td>1</td>\n",
       "      <td>1</td>\n",
       "      <td>test</td>\n",
       "      <td>dearhouse artificial ivy privacy fence screen,artificial hedges fence and faux ivy vine leaf decoration for outdoor garden decor</td>\n",
       "      <td>artificial ivy privacy fence screen, enjoy privacy in your yard while upgrading it with a natural look using this faux ivy privacy fence screen. simply put it on a fence in the backyard or on a balcony railing to block the view of neighbors.</td>\n",
       "      <td>realistic green ivy look: artificial ivy leaves are natural looking to provide every indoor or outdoor space a blooming, earthy feel without the need for watering,use zip ties or tape to install, it can be cut to get the size and shape you want, can be used as wall decoration, fence screen, privacy screen. functional: decorate your home while ensuring privacy from the outside world by strategically placing the fence in areas that may be exposed, artificial leaf privacy decor is intended for both interior and exterior usage.provides extra privacy without gaps. densely packed leaves: privacy fence leaves are placed closely enough to provide blockage from harsh sunlight while also allowing air flow through the open net back, the added mesh backing easily beautify landscaping with our artificial ivy leaf privacy decor panels. providing more privacy windscreen protection to its users. fade-resistant look: durable, fresh looking plastic and polyester leaves keep their evergreen look year-round and are easy to clean and maintain. live up any space: easy to put on a fence, trellis, wall, or other area lightweight design makes it easy to move around to redecorate and beautify and room or space; overall dimensions: .(l) x (w) .</td>\n",
       "      <td>DearHouse</td>\n",
       "      <td>Green</td>\n",
       "    </tr>\n",
       "    <tr>\n",
       "      <th>44</th>\n",
       "      <td>44</td>\n",
       "      <td>!qscreen fence without holes</td>\n",
       "      <td>2</td>\n",
       "      <td>B07XG17SPY</td>\n",
       "      <td>us</td>\n",
       "      <td>I</td>\n",
       "      <td>1</td>\n",
       "      <td>1</td>\n",
       "      <td>test</td>\n",
       "      <td>( pack) vinyl siding clips hooks no-hole needed outdoor siding screws hanger for mount home security camera</td>\n",
       "      <td>these hooks for mounting home security cameras on vinyl siding without drilling or using adhesives.  simple to use, you just roll the hook into any seam in the vinyl siding.  easy to put up and move cameras to get the best positioning.  low profile slight bend design. rust-free, no stains on your siding. each hook holds up to ten pounds .  specifications:  material: high quality stainless steel size: approximately -/\"(.)  maximum bearing weight: lbs quantity: pcs vinyl siding security camera mounted hooks per pack</td>\n",
       "      <td>no holes or tools required. very easy to put up and move cameras to get the best positioning. no drilling. just roll the hook into any seam in vinyl or aluminum siding. stainless steel vinyl siding hooks won rust or stain. great for all seasons. holds up to lb per hook. no damage to siding. set ofcontact us if you have any issues, we will offer the best solution for you.</td>\n",
       "      <td>HUXOR</td>\n",
       "      <td></td>\n",
       "    </tr>\n",
       "    <tr>\n",
       "      <th>45</th>\n",
       "      <td>45</td>\n",
       "      <td>!qscreen fence without holes</td>\n",
       "      <td>2</td>\n",
       "      <td>B08NG85RHL</td>\n",
       "      <td>us</td>\n",
       "      <td>E</td>\n",
       "      <td>1</td>\n",
       "      <td>1</td>\n",
       "      <td>test</td>\n",
       "      <td>orgrimmar green fence privacy screen heavy duty garden fence mesh shade net cover for outdoor wall porch patio backyard balcony</td>\n",
       "      <td>privacy fence screen measurestall xlong, perfect fit for a fence thats tall. breathable fabric allows breeze to go through, made of uvwater resistant heavy duty hdpe (high-density polyethylene), made to last under sun exposure and all weather condition.blockage gives you the privacy you deserve, not completely block out but the right amount of privacy and blockage, keep the dogs from barking. ideal for condo apartment balconies, backyards patio, gathering areas, swimming pool, or anywhere you need a bit of privacy. specification: material: hdpe+brass color: green size(l x w): about package included: garden fence privacy screen* straps* note: .due to the light and screen difference, the item color may be slightly different from the pictures. .please allow .- differences due to manual measurement.</td>\n",
       "      <td>premium quality: this heavy duty privacy screen is constructed of hdpe fabric and brass grommets finished with reinforced black bindings. product measures x ft(hxl)perfect fits for ft tall fence. the zip ties are included. brass grommets: each hole of our fence covering is reinforced with brass grommets. the grommets run along the entire perimeter of the screen and are evenly spaced to ensure strength. the holes are spacedinches apart vertically,inches horizontally. privacy solution: garden fence mesh allows water and airflow to pass through but not opaque. if you wanted these to be thick enough to block the view almost completely you could buy a one and stack them for use. easy to install: grommets are generously distributed so the screen can fasten securely to established fencing. best to extend the screen as much as possible when adding the zip ties to get it to fit perfectly to the fence. multi-function: the fence privacy screen can be applied in backyard, patio, greenhouse, swimming pool, tennis court, pet kennel, chicken run, construction site etc. block surrounding nosy neighbor and street view, stops dogs from barking at passersby.</td>\n",
       "      <td>Orgrimmar</td>\n",
       "      <td>Green</td>\n",
       "    </tr>\n",
       "    <tr>\n",
       "      <th>46</th>\n",
       "      <td>46</td>\n",
       "      <td>!qscreen fence without holes</td>\n",
       "      <td>2</td>\n",
       "      <td>B08TBSXMTF</td>\n",
       "      <td>us</td>\n",
       "      <td>I</td>\n",
       "      <td>1</td>\n",
       "      <td>1</td>\n",
       "      <td>test</td>\n",
       "      <td>pack plastic growing trays,xxgrowing trays without holes, hydroponic tray for flowers, seedlings, plants, wheatgrass, microgreens</td>\n",
       "      <td></td>\n",
       "      <td>enlarge and deepen the design: pcs plastic growing trays, the tray can be operated uniformly, and can also hold different plants to meet your gardening needs. plant growing trays no drain holes: size:xx ., perfect for hydroponic growing and seed starting, help keep soil, fertilizer and water contained inside. multiple uses: used as an essential tool for seedlings, grow tray, or planting tray! suitable for seedling, greenhouse, potting work, germination wheatgrass, microgreens and more. heavy dut: thickness(.), weight (.), sturdy, durable plastic construction will last through many uses. our reusable trays are an eco-friendly investment to cut down your costs and reduce waste. versatile garden tray: great for potting, mixing, growing and more, this tray brings garden work into the house cleanly and quickly, our one piece potting tray makes life easier.</td>\n",
       "      <td>wudee</td>\n",
       "      <td></td>\n",
       "    </tr>\n",
       "    <tr>\n",
       "      <th>47</th>\n",
       "      <td>47</td>\n",
       "      <td>!qscreen fence without holes</td>\n",
       "      <td>2</td>\n",
       "      <td>B0948KVQW3</td>\n",
       "      <td>us</td>\n",
       "      <td>I</td>\n",
       "      <td>1</td>\n",
       "      <td>1</td>\n",
       "      <td>test</td>\n",
       "      <td>large let freedom ring banner for fence of july independence day decor american patriotic decoration and supplies for memorial day veterans day</td>\n",
       "      <td></td>\n",
       "      <td>material: polyester fabric,durable and reusable waterproof without fading package listing: pcs banners size:*() open to use,easy to hang windbreak design perfect for of july decorations outdoor indoor front porch window for the home ,own it and take your memorable photos to share with your family and friends</td>\n",
       "      <td>Sunwer</td>\n",
       "      <td></td>\n",
       "    </tr>\n",
       "    <tr>\n",
       "      <th>48</th>\n",
       "      <td>48</td>\n",
       "      <td>!qscreen fence without holes</td>\n",
       "      <td>2</td>\n",
       "      <td>B078TL7LJ2</td>\n",
       "      <td>us</td>\n",
       "      <td>I</td>\n",
       "      <td>1</td>\n",
       "      <td>1</td>\n",
       "      <td>test</td>\n",
       "      <td>magzo magnetic screen door fit door size xreinforced fiberglass mesh curtain back door mesh with full frame hook&amp;loop-grey</td>\n",
       "      <td>this fiberglass mesh is the main material for making invisible door screen. good light transmittance, is one of the most commonly used high-end door screen series. on the market called [fireproof mesh], because it is the material of glass fiber flame retardant material, and with a colloidal coating. has a slight odor, not easy to break, and not leave a crease, can be burned in fire, burning part is the colloidal coating, glass fiber will not burn. mainly used to refrain cigarette butts. after the experiment, the cigarette stays in the fiberglass screen doorseconds will not have holes and other damage      fiberglass screen door colorgrey mesh+black frame      features. automatic open and close, free your hands.. super sturdy and durable fiberglass mesh, no breaks.. super strong attraction magnets construction with extra hook and loop hasp, no gaps. . strong reinforced hook and loop with the full frame, avoid falling. . big enough for sliding door, double door, screen door hardware. lifetime replacement guarantee. package include. a fiberglass screen door. a roll of hook and loop. a pack of push pins</td>\n",
       "      <td>magnetic screen door size screen door size: x inch--fit door size: x inch.how to choose a suitable size: before purchase, please carefully measure your door size and order that size (only door size, doesn include door frame partunique hook and loop hasp designwe are the only seller with windproof sticker hasp design on the middle and bottom of the screen door curtain, after many tests about wind resistance level, windproof sticker hasp can effectively consolidate and refrain the magnet screen door from being blown open by the wind. excellent workmanship guarantees the screen door lasts a long life. pet friendly screen mesh doorlets your pets freely go in/out/keeps sealed, your lovely pets could push their way in and out of mesh screen whenever they want, and close up right after they go through itsave your time to get up and down to let pets out everytime. take minutes to assemble and detachabletruly ready to stick right on and go. come with an installation manual helps you install like a breeze! remove easily and you can rolled it up during the off seasons. screen mesh door with strong magnets go all the way down the entire middle from top to bottom, sturdy adhesive strip with extra push pins to secure. economical choicecompared to the previous nylon screen doors mesh with magnets, fiberglass material with better durability,fireproof,good shape. a good replacement for an actual door, much economical choice for you!</td>\n",
       "      <td>MAGZO</td>\n",
       "      <td>Gray</td>\n",
       "    </tr>\n",
       "    <tr>\n",
       "      <th>49</th>\n",
       "      <td>49</td>\n",
       "      <td>!qscreen fence without holes</td>\n",
       "      <td>2</td>\n",
       "      <td>B07QC4X29H</td>\n",
       "      <td>us</td>\n",
       "      <td>I</td>\n",
       "      <td>1</td>\n",
       "      <td>1</td>\n",
       "      <td>test</td>\n",
       "      <td>asurion year home improvement protection plan $-.</td>\n",
       "      <td>asurion is taking the guesswork out of finding product protection plans to fit your needs. products failoften at the most inconvenient time. its a good thing youre covered because no other plan can protect your stuff the way an asurion protection plan can. simply put, asurion protection plans cover your products when you need it most with a fast and easy claims process. buy a protection plan from a company that you know and trust. add an asurion protection plan to your cart today! please see \"user guide [pdf]\" below for detailed terms and conditions related to this plan.</td>\n",
       "      <td>no additional cost: you payfor repairs parts, labor and shipping included. coverage: plan starts on the date of purchase. drops, spills and cracked screens due to normal use covered for portable products and power surges covered from day one. malfunctions covered after the manufacturer warranty. product eligibility: plans cover products purchased in the last days. easy claims process: file a claim anytime online or by phone. most claims approved within minutes. we will send you an amazon e-gift card for the purchase price of your covered product. in some cases, we will replace or repair it.</td>\n",
       "      <td>ASURION</td>\n",
       "      <td></td>\n",
       "    </tr>\n",
       "    <tr>\n",
       "      <th>50</th>\n",
       "      <td>50</td>\n",
       "      <td>!qscreen fence without holes</td>\n",
       "      <td>2</td>\n",
       "      <td>B078RHZTVK</td>\n",
       "      <td>us</td>\n",
       "      <td>I</td>\n",
       "      <td>1</td>\n",
       "      <td>1</td>\n",
       "      <td>test</td>\n",
       "      <td>vivosun -pack elastic trellis netting with hooks for grow tents</td>\n",
       "      <td></td>\n",
       "      <td>strong support for growing plants: vivosun elastic trellis netting provides a sturdy support structure that effortlessly bears the weight of your precious stalks, leaves, buds, fruits and flowers long-lasting, strong and stretchy: vivosun surpasses the market standard by using imported ultra-durable elastic strands in a stretchy fabric cover and anti-rust s hooks sized for grow tents: designed to hook onto the frame of a grow tent, this trellis also easily stretches to and can even be folded to fit and other tents easy to install and adjust: each trellis square is inches but the knots can be slid in any direction to exactly accommodate your plants as they grow guaranteed quality: vivosun guarantees your satisfaction with this trellis, backing our confidence with a -year warranty and -day hassle-free return guarantee</td>\n",
       "      <td>VIVOSUN</td>\n",
       "      <td>1-Pack</td>\n",
       "    </tr>\n",
       "    <tr>\n",
       "      <th>51</th>\n",
       "      <td>51</td>\n",
       "      <td>!qscreen fence without holes</td>\n",
       "      <td>2</td>\n",
       "      <td>B01EYHHO2G</td>\n",
       "      <td>us</td>\n",
       "      <td>E</td>\n",
       "      <td>1</td>\n",
       "      <td>1</td>\n",
       "      <td>test</td>\n",
       "      <td>zippity outdoor products premium vinyl privacy screen, \"w x \"h (unassembled), white</td>\n",
       "      <td></td>\n",
       "      <td>privacy screen is completely solid for maximum privacy not only will this screen hide your unmentionables, but it will also add curb appeal to your home crafted with premium pvc vinyl, this privacy screen looks the same from both sides to install, simply drive the included stakes into the ground using a sledge hammer set includes sections to make a right angle. not recommended for side by side installation unless you use concrete to cement into the ground</td>\n",
       "      <td>Enclo Privacy Screens</td>\n",
       "      <td>White</td>\n",
       "    </tr>\n",
       "    <tr>\n",
       "      <th>52</th>\n",
       "      <td>52</td>\n",
       "      <td>!qscreen fence without holes</td>\n",
       "      <td>2</td>\n",
       "      <td>B072M34RQC</td>\n",
       "      <td>us</td>\n",
       "      <td>I</td>\n",
       "      <td>1</td>\n",
       "      <td>1</td>\n",
       "      <td>test</td>\n",
       "      <td>hp .-inch full hd ips led monitor with built-in speakers and vesa mounting, rotating portraitlandscape, tilt, and hdmivga ports ()black</td>\n",
       "      <td></td>\n",
       "      <td>resolutionpanel .-inch full hd monitorx at hz) withaspect ratio and an anti-glare matte ips led-backlit panelmillion pixels,million colors) response time with overdrive for a smooth picture that looks crisp and fluid without motion blur built-in speakers integrated audio speakers provide great sound for your contentwatts per channel) thin bezel-less frame a thin and virtually frameless ultra-widescreen monitor provides a seamless multi-monitor set-up with -sided narrow bezels -way ergonomic viewing rotation for horizontal (landscape) and vertical (portrait) viewing modes, adjustable height and tilt (- to ), and positional viewing for the best quality at any angle</td>\n",
       "      <td>HP</td>\n",
       "      <td>Black</td>\n",
       "    </tr>\n",
       "    <tr>\n",
       "      <th>53</th>\n",
       "      <td>53</td>\n",
       "      <td>!qscreen fence without holes</td>\n",
       "      <td>2</td>\n",
       "      <td>B077Z8Z8D8</td>\n",
       "      <td>us</td>\n",
       "      <td>E</td>\n",
       "      <td>1</td>\n",
       "      <td>1</td>\n",
       "      <td>test</td>\n",
       "      <td>dap inc platinum patch filler,fl oz, white</td>\n",
       "      <td></td>\n",
       "      <td>-ounce package use on metal, composite, pvc, fiber cement, wood, and more easy to apply, sandable, and paintable exceptional weatherproofing and uv protection</td>\n",
       "      <td>DAP</td>\n",
       "      <td>White</td>\n",
       "    </tr>\n",
       "    <tr>\n",
       "      <th>54</th>\n",
       "      <td>54</td>\n",
       "      <td>!qscreen fence without holes</td>\n",
       "      <td>2</td>\n",
       "      <td>B000HMCA7W</td>\n",
       "      <td>us</td>\n",
       "      <td>I</td>\n",
       "      <td>1</td>\n",
       "      <td>1</td>\n",
       "      <td>test</td>\n",
       "      <td>tenax multi-purpose net,x ', black</td>\n",
       "      <td></td>\n",
       "      <td>mesh .\"x.\" virtually invisible will not rust or corrode available in black</td>\n",
       "      <td>Tenax</td>\n",
       "      <td>Black</td>\n",
       "    </tr>\n",
       "    <tr>\n",
       "      <th>55</th>\n",
       "      <td>55</td>\n",
       "      <td>!qscreen fence without holes</td>\n",
       "      <td>2</td>\n",
       "      <td>B0019Y6TTC</td>\n",
       "      <td>us</td>\n",
       "      <td>E</td>\n",
       "      <td>1</td>\n",
       "      <td>1</td>\n",
       "      <td>test</td>\n",
       "      <td>garden creations extendable instant fence</td>\n",
       "      <td></td>\n",
       "      <td>expandable flexi-screen stretch your fence to the width compatable with your home esthetic design easily place your fence inside or outdoors, wood finish is a perfect match for interior home designs as well as porch finishes plant divider perfect for flowerbeds, easily separate your plants while maintaining visual garden appeal portable light weight design, easy to move from room to room durable fence stands on two wooden platforms, no digging or support needed</td>\n",
       "      <td>Creation's Garden Natural Products, Inc</td>\n",
       "      <td>Brown</td>\n",
       "    </tr>\n",
       "    <tr>\n",
       "      <th>56</th>\n",
       "      <td>56</td>\n",
       "      <td>!qscreen fence without holes</td>\n",
       "      <td>2</td>\n",
       "      <td>B001OJXVKW</td>\n",
       "      <td>us</td>\n",
       "      <td>E</td>\n",
       "      <td>1</td>\n",
       "      <td>1</td>\n",
       "      <td>test</td>\n",
       "      <td>heavy duty privacy screen fence in color solid blackxbrass grommets gsmcustomized</td>\n",
       "      <td></td>\n",
       "      <td>product measures exactlylong xtall, perfect fit for a fence thats ft tall. constructed of new high density material- polyethylene, allows maximum air to go through. prevents harmful uv sun lights from damaging for up to %, and fabric has aenforced binding, so its able to hold up even in extreme weather condition. grommets on each side of fabric to ensure strength, and its easy to install. has a year limited warranty under normal usage and weather.</td>\n",
       "      <td>Windscreen4less</td>\n",
       "      <td>Black</td>\n",
       "    </tr>\n",
       "    <tr>\n",
       "      <th>57</th>\n",
       "      <td>57</td>\n",
       "      <td>!qscreen fence without holes</td>\n",
       "      <td>2</td>\n",
       "      <td>B0030E1WLE</td>\n",
       "      <td>us</td>\n",
       "      <td>I</td>\n",
       "      <td>1</td>\n",
       "      <td>1</td>\n",
       "      <td>test</td>\n",
       "      <td>richell freestanding pet gate, large, origami white</td>\n",
       "      <td></td>\n",
       "      <td>freestanding gate with side panels for safely confining pets no installation necessary; adjustable width fromtoinches wide base prevents tipping; rubber feet protect floors; folds for storing low enough for people to stride over; beautiful hardwood finish. made from rubberwood measurestobybyinches.inch space between wire slats, wire is gage orinch</td>\n",
       "      <td>Richell</td>\n",
       "      <td>Origami White</td>\n",
       "    </tr>\n",
       "    <tr>\n",
       "      <th>58</th>\n",
       "      <td>58</td>\n",
       "      <td>!qscreen fence without holes</td>\n",
       "      <td>2</td>\n",
       "      <td>B003VNKLIY</td>\n",
       "      <td>us</td>\n",
       "      <td>I</td>\n",
       "      <td>1</td>\n",
       "      <td>1</td>\n",
       "      <td>test</td>\n",
       "      <td>regalo -inch super wide adjustable baby gate and play yard, -in-, bonus kit, includes pack of wall mounts</td>\n",
       "      <td></td>\n",
       "      <td>superwide: fits opens up to inches wide and stands inches tall -in-: can convert from a super-wide gate to an -panel play yard. no tools require, quick and easy. includes pack of wall mounts configurable: each panel can be adjusted to fit almost any opening. great for wide spaces, angled openings, hallway, doorway, bottom of stairs or barrier. folds flat for storage.wipes clean durable and convenient: the all steel design is durable and convenient with a walk-through door safety: designed with a walk-through door with safety locking feature. wall mounted for added security and protection. meets all current safety standards. for children up to months and great for pets too</td>\n",
       "      <td>Regalo</td>\n",
       "      <td>White</td>\n",
       "    </tr>\n",
       "    <tr>\n",
       "      <th>59</th>\n",
       "      <td>59</td>\n",
       "      <td>!qscreen fence without holes</td>\n",
       "      <td>2</td>\n",
       "      <td>B0079GH86C</td>\n",
       "      <td>us</td>\n",
       "      <td>I</td>\n",
       "      <td>1</td>\n",
       "      <td>1</td>\n",
       "      <td>test</td>\n",
       "      <td>zareba -z -mile solar low impedance electric fence charger, black</td>\n",
       "      <td></td>\n",
       "      <td>energizes up to miles of electric fencing operates up to weeks without sun built in mounting bracket for tposts, yposts, and round wood posts degree rotation allows charger to rotate on t-post to face sunlight built in usa full load tested in the u.s. after manufacturing</td>\n",
       "      <td>Zareba</td>\n",
       "      <td>Black</td>\n",
       "    </tr>\n",
       "    <tr>\n",
       "      <th>60</th>\n",
       "      <td>60</td>\n",
       "      <td>!qscreen fence without holes</td>\n",
       "      <td>2</td>\n",
       "      <td>B00JNTYX3Y</td>\n",
       "      <td>us</td>\n",
       "      <td>I</td>\n",
       "      <td>1</td>\n",
       "      <td>1</td>\n",
       "      <td>test</td>\n",
       "      <td>tenax guardian warning barrier,x ', green</td>\n",
       "      <td></td>\n",
       "      <td>visual barrier for use on construction sites, crowd control, hazardous areas and utility work sites made in the usa withselected materials plus years of use available in orange, green and fluorescent colors</td>\n",
       "      <td>Tenax</td>\n",
       "      <td>Green</td>\n",
       "    </tr>\n",
       "    <tr>\n",
       "      <th>61</th>\n",
       "      <td>61</td>\n",
       "      <td>!qscreen fence without holes</td>\n",
       "      <td>2</td>\n",
       "      <td>B0079GH6J6</td>\n",
       "      <td>us</td>\n",
       "      <td>C</td>\n",
       "      <td>1</td>\n",
       "      <td>1</td>\n",
       "      <td>test</td>\n",
       "      <td>zareba -z -mile solar low impedance electric fence fence charger</td>\n",
       "      <td></td>\n",
       "      <td>energizes up to miles of electric fencing operates up to weeks without sun built-in mounting bracket for t-posts, y-posts, and round-wood posts built in usafull-load tested in the u.s. after manufacturing -year limited warranty including lightning damage</td>\n",
       "      <td>Zareba</td>\n",
       "      <td>Yellow/Black</td>\n",
       "    </tr>\n",
       "    <tr>\n",
       "      <th>62</th>\n",
       "      <td>62</td>\n",
       "      <td>!qscreen fence without holes</td>\n",
       "      <td>2</td>\n",
       "      <td>B018JYCD80</td>\n",
       "      <td>us</td>\n",
       "      <td>E</td>\n",
       "      <td>1</td>\n",
       "      <td>1</td>\n",
       "      <td>test</td>\n",
       "      <td>zippity outdoor products no dig madison vinyl picket fence, white,x( box, panels), x pack of</td>\n",
       "      <td></td>\n",
       "      <td>this fence is designed for semi-permanent residential applications that are not subject to intense wear and tear. package comes with units for a total of of fence assembles and installs with relative ease- no digging required! simply insert pointed stakes into the ground perfect to contain small pets or small children; not recommended for large dogs made with weather resistant vinyl with a year warranty. won crack, warp, yellow, splinter, or rot. no painting, staining or maintaining required! search \"\" for compatible gate option to pair with this fence</td>\n",
       "      <td>Zippity Outdoor Products</td>\n",
       "      <td>White</td>\n",
       "    </tr>\n",
       "    <tr>\n",
       "      <th>63</th>\n",
       "      <td>63</td>\n",
       "      <td>!qscreen fence without holes</td>\n",
       "      <td>2</td>\n",
       "      <td>B018JYCD9Y</td>\n",
       "      <td>us</td>\n",
       "      <td>S</td>\n",
       "      <td>1</td>\n",
       "      <td>1</td>\n",
       "      <td>test</td>\n",
       "      <td>zippity outdoor products no dig fence newport, \"h x \"w, white</td>\n",
       "      <td></td>\n",
       "      <td>installs without digging holes, pouring concrete, or tearing up your yard; use a sledgehammer or post pounder to install the no-dig pipe anchor crafted from premium weather resistant vinyl with a year warranty- won crack, warp, yellow, splinter, etc. virtually maintenance-free; no painting, staining or maintaining required; assembles with relative ease each unit includes fence panel, post, no-dig pipe anchor and () cap; this product is designed to scale, so you will need to order a finishing post to complete your fence project (itemthis fence is strong and sturdy and designed to be a permanent structure in your yard once installed; it is not easily removed</td>\n",
       "      <td>Zippity Outdoor Products</td>\n",
       "      <td>White</td>\n",
       "    </tr>\n",
       "    <tr>\n",
       "      <th>64</th>\n",
       "      <td>64</td>\n",
       "      <td>!qscreen fence without holes</td>\n",
       "      <td>2</td>\n",
       "      <td>B01ESSA9VO</td>\n",
       "      <td>us</td>\n",
       "      <td>I</td>\n",
       "      <td>1</td>\n",
       "      <td>1</td>\n",
       "      <td>test</td>\n",
       "      <td>flux phenom magnetic screen doorretractable mesh with self sealing magnetskeeps nature out</td>\n",
       "      <td>the flux phenom magnetic screen door is made for any household. the instant screen door installs in just a few minutes in any doorway of your home. it keeps irritants out, lets fresh air in, and allows your dog or cat to freely go in and out of the house. it the perfect shield to fight off constant irritation from nature. the fine mesh of our screen for doors is small enough to keep them out while letting air flow freely. the mesh is fine, but not so fine as to block your vision from the happenings going on outdoors. our magnetic door curtain features reinforced edges that ensure your door will stay in place even when hit with heavy gusts of wind. the strong, durable mesh and superior strength edges of our magnetic curtain will keep you experiencing outdoor freshness for years to come. all hardware included (for metal or wood door frames), instructions, and a video installation guide. no more dealing with claw marks on your expensive screen door from your pets. our magnetic screen door opens easily with just a nudge of a head or hand (for you humans). the middle seam of the screen door is lined with magnets that allow it to close like magic. it fits all door sizes up to xand is not intended to reach the ground upon installation. we value your business and back our flex screen with a lifetime replacement policy. if anything should happen to your temporary door, sliding screen door, or pet screen for any reason, we send you another one at no extra charge. note: product packaging design may vary.</td>\n",
       "      <td>installs in an instant: our magnetic door screen comes with everything you need to install it quickly; black all metal thumbtacks, a large roll of hook and loop backing, plus video tutorial fits doorways up to inches: door net works on fixed, sliding, metal or wood doors as long as they measure up to inches. important: measure your door before ordering to ensure fit opens and closes like magic: our retractable screen door features a middle seam lined with magnets for walking through any doorway with ease durable, heavy duty magnetic mesh screen door: our patio screen door heavy duty polyester mesh and reinforced edges are designed to withstand constant use by you, your pets, and the elements keeps nature out: our mesh door screen is perfect for letting fresh air in while keeping pesky outdoor irritants out. fine mesh won hinder your views of the happenings outside</td>\n",
       "      <td>Flux Phenom</td>\n",
       "      <td>Black</td>\n",
       "    </tr>\n",
       "    <tr>\n",
       "      <th>65</th>\n",
       "      <td>65</td>\n",
       "      <td>!qscreen fence without holes</td>\n",
       "      <td>2</td>\n",
       "      <td>B01JLK7L56</td>\n",
       "      <td>us</td>\n",
       "      <td>I</td>\n",
       "      <td>1</td>\n",
       "      <td>1</td>\n",
       "      <td>test</td>\n",
       "      <td>amagabeli decorative garden fence outdoor coated metal rustproof x landscape wrought iron wire border folding patio fences flower bed fencing barrier section panels decor picket edging black</td>\n",
       "      <td></td>\n",
       "      <td>sizerustproof material: decorative garden fence panels metal with single panel sizehigh xwide, panels in total. this metal decorative flower bed fencing panels for front yard is made of black iron with vinyl pvc powder coated surface will enable you to use the garden fence outdoors durably; the decorative black iron garden fencing animal barrier is made of rustproof and weather resistant metal material. easy to useflexible set-up: each piece of temporary movable border fencing can be easily interlocked with the ring on the side and folds flat for easy storage; no additional tools required to install this patio landscape edging fence: simply stick and secure the spiked feet of this decor no dig fence sections into ground. these no dig metal fence panels can be extended to different shapes according to your special uses of this path edging fence, one straight line, l, o or zigzag s foldable moveable portableeasy to store: amagabeli patio steel picket folding fencing is foldable and folds flat for easy storage. amagabeli garden fence barrier for dogs is movable and removable. no additional tools to remove this temporary wire garden fencing for pets for reinstallation in another place. simply pull the spiked feet of this flower garden border fencing out from the ground where you stick this vegetable garden fencing then reinstall. decor and sturdy: the arched iron arts make this ornamental steel garden border fence itself a decorative element for your garden and add more delights to your life, accent border with classic rod iron design to fit any decor; stylish look of this flower garden border fencing will add a modern touch to your garden, patio or yard. the vinyl rustproof coated garden wire fence is welded with thick wires and it is an architectural structure that is durable and sturdy. customer care: we offer premium products for you while exceeding highest industry standards and offer thoughtful and considerate customer care.</td>\n",
       "      <td>AMAGABELI GARDEN &amp; HOME</td>\n",
       "      <td>Black</td>\n",
       "    </tr>\n",
       "    <tr>\n",
       "      <th>66</th>\n",
       "      <td>66</td>\n",
       "      <td>!qscreen fence without holes</td>\n",
       "      <td>2</td>\n",
       "      <td>B01N4AMZ8Y</td>\n",
       "      <td>us</td>\n",
       "      <td>S</td>\n",
       "      <td>1</td>\n",
       "      <td>1</td>\n",
       "      <td>test</td>\n",
       "      <td>houseables plastic mesh fence, construction barrier netting, green,feet, roll, garden fencing, fences wrap, above ground, for snow, poultry, chicken, safety, deer, patio, garden netting</td>\n",
       "      <td>mesh safety netting roll measuring high and long lightweight uv-protected mesh safety netting comes to your rescue when youre in need of instant skirting around gardens, seeded lawns, newly laid concrete sidewalks, or freshly painted low surfaces. easy to install with t-posts or stakes made from wood or bamboo set four feet apart for heightened stability. this will prevent sagging or collapsing caused from wind stress, animal gnawing, or snow buildup (doubling up on the thickness of netting is recommended for those who live in rural areas prone to frigid weather conditions). once its set up, you will have a vibrant visual barrier with maximum visibility that is just as easy to remove, roll up, and stow away in the garage or garden shed for future use. keeps wanted things in, keeps unwanted things out our mesh visual barrier netting helps prevent small pets from wandering off or accessing areas of your lawn or garden that are off limits. great for establishing a secondary fence for landscaping purposes, protecting flowerbeds and gardens from being trampled on. or, put it up to keep toddlers away from your pool and other unsavory areas of your yard. its multifunctional enough for crowd control use at sporting events, concerts, festivals, carnivals, and other social gatherings where distinct visual barriers are necessary. highly affordable and easily adjustable an economic alternative for those who lack the time or funds for building a traditional fence. suitable for many other uses and projects, such as securing strawberries and raised beds in your garden, acting as a baseboard around tents while camping, establishing a walking path or a warning perimeter during minor sidewalk construction projects where open trenches are exposed.</td>\n",
       "      <td>lightweight mesh safety netting: comes to your rescue when youre in need of instant skirting around gardens, seeded lawns, newly laid concrete sidewalks, or freshly painted surfaces that are easily reachable. vibrant visual barrier: great for establishing a secondary fence for landscaping purposes, protecting flowerbeds and gardens from being trampled on. or, put it up to keep toddlers away from your pool and other unsavory areas of your yard. easy to install/remove: best used with metal t-posts or wooden stakes positioned four-feet apart to prevent sagging and collapsing caused from wind stress, animal gnawing, and pressure from snow build up. just as simple to remove, roll up, and stow away for future use. feet in length: an economic alternative for those who lack the time or funds for building a traditional fence. multifunctional enough for crowd control use at sporting events, concerts, festivals, carnivals, and other social gatherings where distinct visual barriers are necessary. rein over your domain: control what goes in and out of your garden or property. keep your animals in and those pesky pests out!</td>\n",
       "      <td>Houseables</td>\n",
       "      <td>Green</td>\n",
       "    </tr>\n",
       "    <tr>\n",
       "      <th>67</th>\n",
       "      <td>67</td>\n",
       "      <td>!qscreen fence without holes</td>\n",
       "      <td>2</td>\n",
       "      <td>B06XTWZ857</td>\n",
       "      <td>us</td>\n",
       "      <td>I</td>\n",
       "      <td>1</td>\n",
       "      <td>1</td>\n",
       "      <td>test</td>\n",
       "      <td>tespo pet playpen, small animal cage indoor portable metal wire yd fence for small animals, guinea pigs, rabbits kennel crate fence tent, black panels</td>\n",
       "      <td></td>\n",
       "      <td>upgrade version: cable ties and anti-slip pieces added in. cable ties help build doors or ramps or reinforce the whole structure. anti-slip pieces prevent connectors from slipping on the floor. diy expandable: make qualified metal wire grids into different shapes, a low wide exercise pen, or a two-storey premium villa for various animals: hedgehogs, hamsters, guinea pigs or rabbits, they can all have fun in this fence. easy to keep an eye on them from any angle easy assembly: easy to put together with the illustrated instruction and included mallet. use cable ties to achieve even more features like doors or rampssatisfaction guarantee: we are always available to provide professional customer service before and after your purchase, so don wait any longer and enjoy it right now</td>\n",
       "      <td>Tespo</td>\n",
       "      <td>Metal Wire Playpen</td>\n",
       "    </tr>\n",
       "    <tr>\n",
       "      <th>68</th>\n",
       "      <td>68</td>\n",
       "      <td>!qscreen fence without holes</td>\n",
       "      <td>2</td>\n",
       "      <td>B071HW515B</td>\n",
       "      <td>us</td>\n",
       "      <td>I</td>\n",
       "      <td>1</td>\n",
       "      <td>1</td>\n",
       "      <td>test</td>\n",
       "      <td>baxia technology bx-sl- solar lights outdoor led wireless waterproof security solar motion sensor lights, (, packs)</td>\n",
       "      <td></td>\n",
       "      <td>[pir motion lights and no dim mode]- designed with no dim mode to increase product life span. when motion is detected within -, the motion sensor lights will turn on automatically in darkness or at night, which provides your illumination for security and safety protection.led ultra-bright solar powered lights]-there are powerful leds and the motion angle is degrees which can provide excellent illumination and turn the dark space into a bright lighted space. with a lampshade covering the led, well designed to longer its performance life. [high efficiency and eco-friendly]- by exposure to sunlight for around hours in daytime, the solar light is able to work for you by motion detecting at night. [waterproof and durable]- the solar outdoor lights is water resistant and heat-resistant. a great solar security light for outdoor patio, garden, deck, yard, drive, outside wall, fence etc</td>\n",
       "      <td>BAXIA TECHNOLOGY</td>\n",
       "      <td>White</td>\n",
       "    </tr>\n",
       "    <tr>\n",
       "      <th>69</th>\n",
       "      <td>69</td>\n",
       "      <td>!qscreen fence without holes</td>\n",
       "      <td>2</td>\n",
       "      <td>B018JYCBWI</td>\n",
       "      <td>us</td>\n",
       "      <td>I</td>\n",
       "      <td>1</td>\n",
       "      <td>1</td>\n",
       "      <td>test</td>\n",
       "      <td>zippity outdoor products wilmington vinyl privacy screen,xwhite- pack</td>\n",
       "      <td></td>\n",
       "      <td>installs without digging holes, pouring concrete, or tearing up your yard. crafted from premium weather resistant vinyl with a year warranty. looks the same from both sides. each screen measures w x h installed. screens per package. virtually maintenance-free! no painting, staining or maintaining required. installation and assembly requireda cordless drill is needed for assembly. installs by inserting pointed end stakes into the ground.</td>\n",
       "      <td>Enclo Privacy Screens</td>\n",
       "      <td>White</td>\n",
       "    </tr>\n",
       "    <tr>\n",
       "      <th>402</th>\n",
       "      <td>402</td>\n",
       "      <td># black natural hair dye without ammonia or peroxide</td>\n",
       "      <td>12</td>\n",
       "      <td>B07D9P7S14</td>\n",
       "      <td>us</td>\n",
       "      <td>E</td>\n",
       "      <td>1</td>\n",
       "      <td>1</td>\n",
       "      <td>test</td>\n",
       "      <td>l paris excellence creme permanent hair color, natural black, percent gray coverage hair dye, pack of</td>\n",
       "      <td></td>\n",
       "      <td>gray coverage hair color with triple protection: no hair color cares more than excellence crme; with our triple protection system that seals, replenishes and conditions, plus percent gray coverage even on stubborn grays. excellence in hair protection: our weekly conditioning treatment with collagen helps protect hair until your next appointment for long lasting rich color; for percent gray coverage and gorgeous root-to-tip color. l permanent hair color: l paris hair color comes in multiple formulations and styles to deliver long-lasting color, from fade-defying superior preference, to bold, stylish feria, and gray-coverage from excellence crme long lasting hair color: get beautiful color from l paris hair color; permanent, semi-permanent, temporary hair color, and root cover up; cover gray hair, highlight, go bold with bright color, or even try an ombre hair color l paris innovation: we are a total beauty care company that combines the latest in technology with the highest in quality for the ultimate in hair color, hair care, hair style, skin care and cosmetics</td>\n",
       "      <td>L'Oreal Paris</td>\n",
       "      <td>3 Natural Black</td>\n",
       "    </tr>\n",
       "    <tr>\n",
       "      <th>403</th>\n",
       "      <td>403</td>\n",
       "      <td># black natural hair dye without ammonia or peroxide</td>\n",
       "      <td>12</td>\n",
       "      <td>B078WSD1NW</td>\n",
       "      <td>us</td>\n",
       "      <td>E</td>\n",
       "      <td>1</td>\n",
       "      <td>1</td>\n",
       "      <td>test</td>\n",
       "      <td>naturcolor haircolor hair dyelight burdock, ounce ()</td>\n",
       "      <td>naturcolor light burdock permanent herbal based haircolor gel utilizes herbs to cover grey as opposed to chemicals. with ingredients such as burdock root and nettle leaf extract along with chamomile flower extract, our formula seeks to achieve a glossy, natural effect. this box contains fl oz of herbal hair color that uses plant extract as its active ingredients.</td>\n",
       "      <td>contains no ammonia, resorcinol or parabens available in colors, each color can be used alone or blended to create personalized hair colors fast and easy, complete application takes less than an hour safe to use over color treated or permed hair. gives natural looking color variation, will not fade like other hair products.</td>\n",
       "      <td>naturcolor</td>\n",
       "      <td>5N - Light Burdock</td>\n",
       "    </tr>\n",
       "    <tr>\n",
       "      <th>404</th>\n",
       "      <td>404</td>\n",
       "      <td># black natural hair dye without ammonia or peroxide</td>\n",
       "      <td>12</td>\n",
       "      <td>B0798QYSCW</td>\n",
       "      <td>us</td>\n",
       "      <td>E</td>\n",
       "      <td>1</td>\n",
       "      <td>1</td>\n",
       "      <td>test</td>\n",
       "      <td>nisha natural henna based hair color (natural black) pack of</td>\n",
       "      <td>nisha henna based hair colour is a premium quality powder hair colour enriched with ancient indian herbs like amla, aloe vera, hibiscusshikakai. it is one of the best hair colour powder available in the market which is made from herbal henna extracts. nisha is an ammonia free unisex hair colour, which is safe for your hair. nisha hair color makes your hair soft, glossynatural looking. discover colored hair thats naturally beautiful with nisha powder hair color.  nisha hair color is available in shades in&amp; ):  -natural black  -natural brown  -burgundy</td>\n",
       "      <td>packaging includes: pieces of nisha henna-based hair color natural black gram (pack ofdiscover colored hair thats naturally beautiful herbal based hair color with the goodness of amla, shikakai, aloe verahibiscus. gives natural looking hair color for a longer period. natural looking hair color which makes your hair smooth, silkystrong. please don use for coloring eyebrows. and please use the content immediately after opening the sachet.</td>\n",
       "      <td>Nisha</td>\n",
       "      <td>Natural Black</td>\n",
       "    </tr>\n",
       "    <tr>\n",
       "      <th>405</th>\n",
       "      <td>405</td>\n",
       "      <td># black natural hair dye without ammonia or peroxide</td>\n",
       "      <td>12</td>\n",
       "      <td>B07B9Y13C6</td>\n",
       "      <td>us</td>\n",
       "      <td>E</td>\n",
       "      <td>1</td>\n",
       "      <td>1</td>\n",
       "      <td>test</td>\n",
       "      <td>indus valley damage free permanent gel hair color (black .)</td>\n",
       "      <td>indus valley new damage-free gel colour is innovatively designed as a no-peroxide hair color to give you a damage-free coloring experience. it addresses the most damaging issue associated with chemical hair colorsturning naturally colored hair into permanent greys from prolonged usage of chemical hair dyes. the no-bleach hair color is made with exotic- natural herbs that repair and nourish your hair strands during coloration and prevent them from turning grey anytime soon. the rich, vibrant hair color lasts forweeks and effectively covers grey strands in a single application without damaging your hair.</td>\n",
       "      <td>organically natural hair color: no hydrogen peroxide (bleach), no ammonia and no harmful chemicals to provide damage-free hair coloring super-exotic -herb formula: enriched with a unique blend of natural herbs to nourish and color your hair gently without any damages or side effects especially developed for normal skin: a damage-free hair color for women and men, it works best on normal skin and on all hair types forgrey hair coverage with a single application with pleasant aroma of sweet oranges a no-ammonia hair color: prevents your hair from becoming dry, rough and brittle, locks in its natural shine and strength to make your hair look vibrant and healthy</td>\n",
       "      <td>INDUS VALLEY</td>\n",
       "      <td>Black 1.0</td>\n",
       "    </tr>\n",
       "    <tr>\n",
       "      <th>406</th>\n",
       "      <td>406</td>\n",
       "      <td># black natural hair dye without ammonia or peroxide</td>\n",
       "      <td>12</td>\n",
       "      <td>B07BVV4MMW</td>\n",
       "      <td>us</td>\n",
       "      <td>I</td>\n",
       "      <td>1</td>\n",
       "      <td>1</td>\n",
       "      <td>test</td>\n",
       "      <td>garnier hair color nutrisse nourishing creme, soft black (black tea), count</td>\n",
       "      <td></td>\n",
       "      <td>nourishing hair color: discover thenourishing color creme. nutrisse color is formulated with color boost technologya blend of triple fruit oils--avocado, oliveshea--to deliver permanent hair color, even to dark hair. permanent hair dye: garnier nutrisse hair color creme, with grape seed and avocado oil, comes in a complete hair dye kit and nourishes while it colors with a rich, non drip creme formula. garnier hair color: for nourishing, easy-to-use permanent hair dye, temporary hair color, root touch up, or to enhance your natural hair color, turn to garnier hair color. over years of pioneering in hair care: since garnier has blended naturally inspiredderived ingredients into breakthrough formulas. nourish your hair with hair colorhair care from garnier. garnier is incomparable: try express retouch gray hair concealer for a temporary hair color solution to cover gray hair in between uses of your favorite garnier hair dye shade.</td>\n",
       "      <td>Garnier</td>\n",
       "      <td>20 Soft Black (Black Tea)</td>\n",
       "    </tr>\n",
       "    <tr>\n",
       "      <th>407</th>\n",
       "      <td>407</td>\n",
       "      <td># black natural hair dye without ammonia or peroxide</td>\n",
       "      <td>12</td>\n",
       "      <td>B07C4QR12V</td>\n",
       "      <td>us</td>\n",
       "      <td>E</td>\n",
       "      <td>1</td>\n",
       "      <td>1</td>\n",
       "      <td>test</td>\n",
       "      <td>herb speedy ppd free hair dye, ammonia free hair color natural black contains sun protection odorless no more eye and/or scalp irritations from coloring for sensitive scalp</td>\n",
       "      <td>are you afraid of using hair color because of the allergy symptoms? herb speedy permanent color cream is suitable for people with extremely sensitive scalp and has been specially formulated to be free of allergy. this product does not contain ppd (p-phenylenediamine), a commonly found ingredient for permanent hair dyes called oxidative dyes which leads to allergic reactions. no more eye and/or scalp irritations from coloring. this product is odorless and easy-to apply hair color, which anyone may use at ease. quick hair coloring is possible in just minutes. brilliant color lasts more than weeks.ppd free, ammonia and paraben free with naturally derived dye ingredients.natural herbal extracts help prevent hair loss. herb speedy contains sunscreen agent which protects against hair damage and prevent discoloration of hair from repeated exposures to uv. contents : x cream:oz x cream: . x brush. x head cap. x pair of disposable gloves. x divided container. x instruction. directions : \" for the best results, please follow the instructions step by step \"squeeze an equal amount of creamandonto the included plastic container. unlike other permanent color creams never mix creamandtogether. apply creamon hair.leave it on for minutes. apply creamon hair and leave that on for minutes as well. make sure that the amount drawn out is used in its entirety or the color will not develop properly. after the desired color is obtained, wash and rinse several times with lukewarm water until water runs clear.safety information patch test strongly recommendedto help minimize your risk, perform the skin allergy test hours before coloring.</td>\n",
       "      <td>special formula to minimize the allergy reactionherb speedy does not contain allergy reactant such as ppd (p-phenylenediamine), diamine and suitable for users with extremely sensitive scalp. made with natural herbal ingredientscontains herbal extracts with licorice root, paeonia albiflora root, sage, matricaria, rosemary extracts, and camellia japonica seed oil to provide rich nutrition to your hair and scalp.( ammonia and paraben free) revolutionary speedy color creamwhile conventional natural hair color dye requires to minutes to complete the coloring, herb speedy color cream offers satisfactory result in just minutesminutes each for&amp;cream). sunlight protectionherb speedy has patented (korea patent no.sunscreen agent which prevent color fading from sunlight damage. made in koreadongsung bio pharm co.,ltd is manufacturer in south korea. they are in the business since .</td>\n",
       "      <td>Herb Speedy</td>\n",
       "      <td>Natural Black</td>\n",
       "    </tr>\n",
       "    <tr>\n",
       "      <th>408</th>\n",
       "      <td>408</td>\n",
       "      <td># black natural hair dye without ammonia or peroxide</td>\n",
       "      <td>12</td>\n",
       "      <td>B07CCDV8TJ</td>\n",
       "      <td>us</td>\n",
       "      <td>E</td>\n",
       "      <td>1</td>\n",
       "      <td>1</td>\n",
       "      <td>test</td>\n",
       "      <td>herb speedy ppd free hair dye, ammonia free hair color dark brown contains sun protection odorless no more eye and/or scalp irritations from coloring for sensitive scalp</td>\n",
       "      <td>are you afraid of using hair color because of the allergy symptoms? herb speedy permanent color cream is suitable for people with extremely sensitive scalp and has been specially formulated to be free of allergy. this product does not contain ppd (p-phenylenediamine), a commonly found ingredient for permanent hair dyes called oxidative dyes which leads to allergic reactions. no more eye and/or scalp irritations from coloring. this product is odorless and easy-to apply hair color, which anyone may use at ease. quick hair coloring is possible in just minutes. brilliant color lasts more than weeks.ppd free, ammonia and paraben free with naturally derived dye ingredients.natural herbal extracts help prevent hair loss. herb speedy contains sunscreen agent which protects against hair damage and prevent discoloration of hair from repeated exposures to uv. contents : x cream:oz x cream: . x brush. x head cap. x pair of disposable gloves. x divided container. x instruction. directions : \" for the best results, please follow the instructions step by step \"squeeze an equal amount of creamandonto the included plastic container. unlike other permanent color creams never mix creamandtogether. apply creamon hair.leave it on for minutes. apply creamon hair and leave that on for minutes as well. make sure that the amount drawn out is used in its entirety or the color will not develop properly. after the desired color is obtained, wash and rinse several times with lukewarm water until water runs clear.safety information patch test strongly recommendedto help minimize your risk, perform the skin allergy test hours before coloring.</td>\n",
       "      <td>special formula to minimize the allergy reactionherb speedy does not contain allergy reactant such as ppd (p-phenylenediamine), diamine and suitable for users with extremely sensitive scalp. made with natural herbal ingredientscontains herbal extracts with licorice root, paeonia albiflora root, sage, matricaria, rosemary extracts, and camellia japonica seed oil to provide rich nutrition to your hair and scalp.( ammonia and paraben free) revolutionary speedy color creamwhile conventional natural hair color dye requires to minutes to complete the coloring, herb speedy color cream offers satisfactory result in just minutesminutes each for&amp;cream). sunlight protectionherb speedy has patented (korea patent no.sunscreen agent which prevent color fading from sunlight damage. made in koreadongsung bio pharm co.,ltd is manufacturer in south korea. they are in the business since .</td>\n",
       "      <td>Herb Speedy</td>\n",
       "      <td>Dark Brown</td>\n",
       "    </tr>\n",
       "    <tr>\n",
       "      <th>409</th>\n",
       "      <td>409</td>\n",
       "      <td># black natural hair dye without ammonia or peroxide</td>\n",
       "      <td>12</td>\n",
       "      <td>B07DG84Z8R</td>\n",
       "      <td>us</td>\n",
       "      <td>E</td>\n",
       "      <td>1</td>\n",
       "      <td>1</td>\n",
       "      <td>test</td>\n",
       "      <td>permanent hair color by revlon, permanent hair dye, colorsilk withgray coverage, ammonia-free, keratin and amino acids, soft black,oz (pack of )</td>\n",
       "      <td></td>\n",
       "      <td>permanent at-home hair dye: convenient hair color kit for at-home use co-developed with salon experts for long-lasting gray coverage keratin enriched hair color: nourishing, ammonia-free hair color formula is infused with keratin and silk amino acid to leave hair in better condition than before you colored itgray coverage: revlons color gel technology delivers rich, natural-looking, multidimensional color with shine that lasts easy to use hair color kit: changing your look or covering greys is simple with an easy at-home process from root to tip natural looking shades: with shades of black, brown, blonde, red, and platinum hair dye, there are so many beautiful colors to choose from</td>\n",
       "      <td>REVLON</td>\n",
       "      <td>011 Soft Black</td>\n",
       "    </tr>\n",
       "    <tr>\n",
       "      <th>410</th>\n",
       "      <td>410</td>\n",
       "      <td># black natural hair dye without ammonia or peroxide</td>\n",
       "      <td>12</td>\n",
       "      <td>B078WS99YM</td>\n",
       "      <td>us</td>\n",
       "      <td>E</td>\n",
       "      <td>1</td>\n",
       "      <td>1</td>\n",
       "      <td>test</td>\n",
       "      <td>naturcolor haircolor hair dyeburdock, fl oz ()</td>\n",
       "      <td>herbaceuticals naturcolor permanent burdock haircolor gel gently infuses your hair with herbal extracts and plant-based ingredients for a rich dark brown finish. our formula covers one application for long hair and two applications for short hair. go guilt-free in your haircolor routine knowing that our product is not tested on animals. this box contains fl oz of herbaceuticals naturcolor permanent burdock haircolor gel and uses zero parabens or ammonia.</td>\n",
       "      <td>contains no ammonia, resorcinol or parabens available in colors, each color can be used alone or blended to create personalized hair colors fast and easy, complete application takes less than an hour safe to use over color treated or permed hair. gives natural looking color variation, will not fade like other hair products.</td>\n",
       "      <td>naturcolor</td>\n",
       "      <td>4N - Burdock</td>\n",
       "    </tr>\n",
       "    <tr>\n",
       "      <th>411</th>\n",
       "      <td>411</td>\n",
       "      <td># black natural hair dye without ammonia or peroxide</td>\n",
       "      <td>12</td>\n",
       "      <td>B07L1PCSXT</td>\n",
       "      <td>us</td>\n",
       "      <td>E</td>\n",
       "      <td>1</td>\n",
       "      <td>1</td>\n",
       "      <td>test</td>\n",
       "      <td>clairol natural instincts semi-permanent hair dye, black hair color, count</td>\n",
       "      <td></td>\n",
       "      <td>get a rush color and a boost of shine for radiant, healthy-looking hair our most gentle color to the hair, withnaturally derived ingredients! perfect for all hair types and textures</td>\n",
       "      <td>Clairol</td>\n",
       "      <td>2 Black</td>\n",
       "    </tr>\n",
       "    <tr>\n",
       "      <th>412</th>\n",
       "      <td>412</td>\n",
       "      <td># black natural hair dye without ammonia or peroxide</td>\n",
       "      <td>12</td>\n",
       "      <td>B07L1PL7TV</td>\n",
       "      <td>us</td>\n",
       "      <td>S</td>\n",
       "      <td>1</td>\n",
       "      <td>1</td>\n",
       "      <td>test</td>\n",
       "      <td>clairol natural instincts semi-permanent hair dye, medium golden blonde hair color, count</td>\n",
       "      <td></td>\n",
       "      <td>get a rush color and a boost of shine for radiant, healthy-looking hair our most gentle color to the hair, withnaturally derived ingredients perfect for all hair types and textures</td>\n",
       "      <td>Clairol</td>\n",
       "      <td>8G Medium Golden Blonde</td>\n",
       "    </tr>\n",
       "    <tr>\n",
       "      <th>413</th>\n",
       "      <td>413</td>\n",
       "      <td># black natural hair dye without ammonia or peroxide</td>\n",
       "      <td>12</td>\n",
       "      <td>B07SBTDXV4</td>\n",
       "      <td>us</td>\n",
       "      <td>E</td>\n",
       "      <td>1</td>\n",
       "      <td>1</td>\n",
       "      <td>test</td>\n",
       "      <td>clairol professional beautiful advanced gray solutions midnight black, oz</td>\n",
       "      <td></td>\n",
       "      <td>suitable for all hair types. contains no ammonia or peroxide. gentle enough to use immediately after relaxing.</td>\n",
       "      <td>Clairol Professional</td>\n",
       "      <td>Advanced Gray Solutions 1a Midnight Black</td>\n",
       "    </tr>\n",
       "  </tbody>\n",
       "</table>\n",
       "</div>"
      ],
      "text/plain": [
       "     example_id                                                 query  \\\n",
       "32           32                          !qscreen fence without holes   \n",
       "33           33                          !qscreen fence without holes   \n",
       "34           34                          !qscreen fence without holes   \n",
       "35           35                          !qscreen fence without holes   \n",
       "36           36                          !qscreen fence without holes   \n",
       "37           37                          !qscreen fence without holes   \n",
       "38           38                          !qscreen fence without holes   \n",
       "39           39                          !qscreen fence without holes   \n",
       "40           40                          !qscreen fence without holes   \n",
       "41           41                          !qscreen fence without holes   \n",
       "42           42                          !qscreen fence without holes   \n",
       "43           43                          !qscreen fence without holes   \n",
       "44           44                          !qscreen fence without holes   \n",
       "45           45                          !qscreen fence without holes   \n",
       "46           46                          !qscreen fence without holes   \n",
       "47           47                          !qscreen fence without holes   \n",
       "48           48                          !qscreen fence without holes   \n",
       "49           49                          !qscreen fence without holes   \n",
       "50           50                          !qscreen fence without holes   \n",
       "51           51                          !qscreen fence without holes   \n",
       "52           52                          !qscreen fence without holes   \n",
       "53           53                          !qscreen fence without holes   \n",
       "54           54                          !qscreen fence without holes   \n",
       "55           55                          !qscreen fence without holes   \n",
       "56           56                          !qscreen fence without holes   \n",
       "57           57                          !qscreen fence without holes   \n",
       "58           58                          !qscreen fence without holes   \n",
       "59           59                          !qscreen fence without holes   \n",
       "60           60                          !qscreen fence without holes   \n",
       "61           61                          !qscreen fence without holes   \n",
       "62           62                          !qscreen fence without holes   \n",
       "63           63                          !qscreen fence without holes   \n",
       "64           64                          !qscreen fence without holes   \n",
       "65           65                          !qscreen fence without holes   \n",
       "66           66                          !qscreen fence without holes   \n",
       "67           67                          !qscreen fence without holes   \n",
       "68           68                          !qscreen fence without holes   \n",
       "69           69                          !qscreen fence without holes   \n",
       "402         402  # black natural hair dye without ammonia or peroxide   \n",
       "403         403  # black natural hair dye without ammonia or peroxide   \n",
       "404         404  # black natural hair dye without ammonia or peroxide   \n",
       "405         405  # black natural hair dye without ammonia or peroxide   \n",
       "406         406  # black natural hair dye without ammonia or peroxide   \n",
       "407         407  # black natural hair dye without ammonia or peroxide   \n",
       "408         408  # black natural hair dye without ammonia or peroxide   \n",
       "409         409  # black natural hair dye without ammonia or peroxide   \n",
       "410         410  # black natural hair dye without ammonia or peroxide   \n",
       "411         411  # black natural hair dye without ammonia or peroxide   \n",
       "412         412  # black natural hair dye without ammonia or peroxide   \n",
       "413         413  # black natural hair dye without ammonia or peroxide   \n",
       "\n",
       "     query_id  product_id product_locale esci_label  small_version  \\\n",
       "32          2  B07D7TBSGH             us          I              1   \n",
       "33          2  B07DHT2WZK             us          I              1   \n",
       "34          2  B07DHX8YH2             us          E              1   \n",
       "35          2  B07DS1YCRZ             us          S              1   \n",
       "36          2  B07DS3J3MB             us          S              1   \n",
       "37          2  B07L41H13T             us          I              1   \n",
       "38          2  B07L6W8HBL             us          I              1   \n",
       "39          2  B07MFP4PPQ             us          E              1   \n",
       "40          2  B07S7LGN9S             us          I              1   \n",
       "41          2  B07R3TNQDM             us          E              1   \n",
       "42          2  B07R6P8TK8             us          E              1   \n",
       "43          2  B07TVHBMZS             us          I              1   \n",
       "44          2  B07XG17SPY             us          I              1   \n",
       "45          2  B08NG85RHL             us          E              1   \n",
       "46          2  B08TBSXMTF             us          I              1   \n",
       "47          2  B0948KVQW3             us          I              1   \n",
       "48          2  B078TL7LJ2             us          I              1   \n",
       "49          2  B07QC4X29H             us          I              1   \n",
       "50          2  B078RHZTVK             us          I              1   \n",
       "51          2  B01EYHHO2G             us          E              1   \n",
       "52          2  B072M34RQC             us          I              1   \n",
       "53          2  B077Z8Z8D8             us          E              1   \n",
       "54          2  B000HMCA7W             us          I              1   \n",
       "55          2  B0019Y6TTC             us          E              1   \n",
       "56          2  B001OJXVKW             us          E              1   \n",
       "57          2  B0030E1WLE             us          I              1   \n",
       "58          2  B003VNKLIY             us          I              1   \n",
       "59          2  B0079GH86C             us          I              1   \n",
       "60          2  B00JNTYX3Y             us          I              1   \n",
       "61          2  B0079GH6J6             us          C              1   \n",
       "62          2  B018JYCD80             us          E              1   \n",
       "63          2  B018JYCD9Y             us          S              1   \n",
       "64          2  B01ESSA9VO             us          I              1   \n",
       "65          2  B01JLK7L56             us          I              1   \n",
       "66          2  B01N4AMZ8Y             us          S              1   \n",
       "67          2  B06XTWZ857             us          I              1   \n",
       "68          2  B071HW515B             us          I              1   \n",
       "69          2  B018JYCBWI             us          I              1   \n",
       "402        12  B07D9P7S14             us          E              1   \n",
       "403        12  B078WSD1NW             us          E              1   \n",
       "404        12  B0798QYSCW             us          E              1   \n",
       "405        12  B07B9Y13C6             us          E              1   \n",
       "406        12  B07BVV4MMW             us          I              1   \n",
       "407        12  B07C4QR12V             us          E              1   \n",
       "408        12  B07CCDV8TJ             us          E              1   \n",
       "409        12  B07DG84Z8R             us          E              1   \n",
       "410        12  B078WS99YM             us          E              1   \n",
       "411        12  B07L1PCSXT             us          E              1   \n",
       "412        12  B07L1PL7TV             us          S              1   \n",
       "413        12  B07SBTDXV4             us          E              1   \n",
       "\n",
       "     large_version split  \\\n",
       "32               1  test   \n",
       "33               1  test   \n",
       "34               1  test   \n",
       "35               1  test   \n",
       "36               1  test   \n",
       "37               1  test   \n",
       "38               1  test   \n",
       "39               1  test   \n",
       "40               1  test   \n",
       "41               1  test   \n",
       "42               1  test   \n",
       "43               1  test   \n",
       "44               1  test   \n",
       "45               1  test   \n",
       "46               1  test   \n",
       "47               1  test   \n",
       "48               1  test   \n",
       "49               1  test   \n",
       "50               1  test   \n",
       "51               1  test   \n",
       "52               1  test   \n",
       "53               1  test   \n",
       "54               1  test   \n",
       "55               1  test   \n",
       "56               1  test   \n",
       "57               1  test   \n",
       "58               1  test   \n",
       "59               1  test   \n",
       "60               1  test   \n",
       "61               1  test   \n",
       "62               1  test   \n",
       "63               1  test   \n",
       "64               1  test   \n",
       "65               1  test   \n",
       "66               1  test   \n",
       "67               1  test   \n",
       "68               1  test   \n",
       "69               1  test   \n",
       "402              1  test   \n",
       "403              1  test   \n",
       "404              1  test   \n",
       "405              1  test   \n",
       "406              1  test   \n",
       "407              1  test   \n",
       "408              1  test   \n",
       "409              1  test   \n",
       "410              1  test   \n",
       "411              1  test   \n",
       "412              1  test   \n",
       "413              1  test   \n",
       "\n",
       "                                                                                                                                                                                      product_title  \\\n",
       "32                                             fotmishu greenhouse hoops rust-free grow tunnel tunnel, long steel with plastic coated plant supports for garden fabric, plant support garden stakes   \n",
       "33                                                                                                              zippity outdoor products unassembled madison vinyl gate kit with fence wings, white   \n",
       "34                                                                                                 zippity outdoor products lightweight portable vinyl picket fence kit w/metal base(\" h xw), white   \n",
       "35                                        colourtreexgreen fence privacy screen windscreen cover fabric shade tarp netting mesh clothcommercial grade gsmcable zip ties includedwe make custom size   \n",
       "36                                        colourtreexblack fence privacy screen windscreen cover fabric shade tarp netting mesh clothcommercial grade gsmcable zip ties includedwe make custom size   \n",
       "37            mixc -pack seed trays seedling starter tray, humidity adjustable plant starter kit with dome and base greenhouse grow trays mini propagator for seeds growing startingcells per tray)   \n",
       "38                           candyhome green anti bird protection net mesh garden plant netting protect seedlings plants flowers fruit trees vegetables from rodents birds deer reusable fencingx )   \n",
       "39                                                                 sunnyglade feet x feet privacy screen fence heavy duty fencing mesh shade net cover for wall garden yard backyardft x ft, green)   \n",
       "40                                                                                                            easybaby products indoor outdoor retractable baby gate,tall, extends up towide, black   \n",
       "41                      amgoxblack fence privacy screen windscreen,with bindingsgrommets, heavy duty for commercial and residential,blockage, cable zip ties included, (available for custom sizes)   \n",
       "42                      amgoxblack fence privacy screen windscreen,with bindingsgrommets, heavy duty for commercial and residential,blockage, cable zip ties included, (available for custom sizes)   \n",
       "43                                                                 dearhouse artificial ivy privacy fence screen,artificial hedges fence and faux ivy vine leaf decoration for outdoor garden decor   \n",
       "44                                                                                      ( pack) vinyl siding clips hooks no-hole needed outdoor siding screws hanger for mount home security camera   \n",
       "45                                                                  orgrimmar green fence privacy screen heavy duty garden fence mesh shade net cover for outdoor wall porch patio backyard balcony   \n",
       "46                                                                pack plastic growing trays,xxgrowing trays without holes, hydroponic tray for flowers, seedlings, plants, wheatgrass, microgreens   \n",
       "47                                                  large let freedom ring banner for fence of july independence day decor american patriotic decoration and supplies for memorial day veterans day   \n",
       "48                                                                       magzo magnetic screen door fit door size xreinforced fiberglass mesh curtain back door mesh with full frame hook&loop-grey   \n",
       "49                                                                                                                                                asurion year home improvement protection plan $-.   \n",
       "50                                                                                                                                  vivosun -pack elastic trellis netting with hooks for grow tents   \n",
       "51                                                                                                              zippity outdoor products premium vinyl privacy screen, \"w x \"h (unassembled), white   \n",
       "52                                                          hp .-inch full hd ips led monitor with built-in speakers and vesa mounting, rotating portraitlandscape, tilt, and hdmivga ports ()black   \n",
       "53                                                                                                                                                       dap inc platinum patch filler,fl oz, white   \n",
       "54                                                                                                                                                               tenax multi-purpose net,x ', black   \n",
       "55                                                                                                                                                        garden creations extendable instant fence   \n",
       "56                                                                                                                heavy duty privacy screen fence in color solid blackxbrass grommets gsmcustomized   \n",
       "57                                                                                                                                              richell freestanding pet gate, large, origami white   \n",
       "58                                                                                        regalo -inch super wide adjustable baby gate and play yard, -in-, bonus kit, includes pack of wall mounts   \n",
       "59                                                                                                                                zareba -z -mile solar low impedance electric fence charger, black   \n",
       "60                                                                                                                                                        tenax guardian warning barrier,x ', green   \n",
       "61                                                                                                                                 zareba -z -mile solar low impedance electric fence fence charger   \n",
       "62                                                                                                    zippity outdoor products no dig madison vinyl picket fence, white,x( box, panels), x pack of    \n",
       "63                                                                                                                                    zippity outdoor products no dig fence newport, \"h x \"w, white   \n",
       "64                                                                                                       flux phenom magnetic screen doorretractable mesh with self sealing magnetskeeps nature out   \n",
       "65   amagabeli decorative garden fence outdoor coated metal rustproof x landscape wrought iron wire border folding patio fences flower bed fencing barrier section panels decor picket edging black   \n",
       "66        houseables plastic mesh fence, construction barrier netting, green,feet, roll, garden fencing, fences wrap, above ground, for snow, poultry, chicken, safety, deer, patio, garden netting   \n",
       "67                                           tespo pet playpen, small animal cage indoor portable metal wire yd fence for small animals, guinea pigs, rabbits kennel crate fence tent, black panels   \n",
       "68                                                                              baxia technology bx-sl- solar lights outdoor led wireless waterproof security solar motion sensor lights, (, packs)   \n",
       "69                                                                                                                            zippity outdoor products wilmington vinyl privacy screen,xwhite- pack   \n",
       "402                                                                                          l paris excellence creme permanent hair color, natural black, percent gray coverage hair dye, pack of    \n",
       "403                                                                                                                                            naturcolor haircolor hair dyelight burdock, ounce ()   \n",
       "404                                                                                                                                   nisha natural henna based hair color (natural black) pack of    \n",
       "405                                                                                                                                     indus valley damage free permanent gel hair color (black .)   \n",
       "406                                                                                                                     garnier hair color nutrisse nourishing creme, soft black (black tea), count   \n",
       "407                    herb speedy ppd free hair dye, ammonia free hair color natural black contains sun protection odorless no more eye and/or scalp irritations from coloring for sensitive scalp   \n",
       "408                       herb speedy ppd free hair dye, ammonia free hair color dark brown contains sun protection odorless no more eye and/or scalp irritations from coloring for sensitive scalp   \n",
       "409                                                permanent hair color by revlon, permanent hair dye, colorsilk withgray coverage, ammonia-free, keratin and amino acids, soft black,oz (pack of )   \n",
       "410                                                                                                                                                  naturcolor haircolor hair dyeburdock, fl oz ()   \n",
       "411                                                                                                                      clairol natural instincts semi-permanent hair dye, black hair color, count   \n",
       "412                                                                                                       clairol natural instincts semi-permanent hair dye, medium golden blonde hair color, count   \n",
       "413                                                                                                                       clairol professional beautiful advanced gray solutions midnight black, oz   \n",
       "\n",
       "                                                                                                                                                                                                                                                                                                                                                                                                                                                                                                                                                                                                                                                                                                                                                                                                                                                                                                                                                                                                                                                                                                                                                                                                                                                                                                                                                                                                                                                                                                                                                                                                                                                                                                                                                                                                                product_description  \\\n",
       "32                                                                                                                                                                                                                                                                                                                                                                                                                                                                                                                                                                                                                                                                                                                                                                                                                                                                                                                                                                                                                                                                                                                                                                                                                                               description:material:plasticcoatedsteelpipesize(thesizebeforebending),*(thesizeafterbending)weight:color:greenpackinginclud:/bagproductusage:,canbeusedforthetractionoftomatoesvine,vinesandsomenaturalclimbingplants.withsupport,canbeusedasasupportforthegreenhouse,gardenhoopsprovideconvenienceforyourgardenplantworkfeatures:,uniqueandhandsomeinappearance,goodmaterial,strongantioxidantcapacity,greenandhealth.installationsteps:gatheringallmaterialsbendthehoopsoutlineyourlowtunnelgreenhouseputyourhoopsinplacetiearidgelinetimetoplacethecovertiedowntheendswithpins.   \n",
       "33                                                                                                                                                                                                                                                                                                                                                                                                                                                                                                                                                                                                                                                                                                                                                                                                                                                                                                                                                                                                                                                                                                                                                                                                                                                                                                                                                                                                                                                                                                                                                                                                                                                                                                                                                                                                                                    \n",
       "34                                                                                                                                                                                                                                                                                                                                                                                                                                                                                                                                                                                                                                                                                                                                                                                                                                                                                                                                                                                                                                                                                                                                                                                                                                                                                                                                                                                                                                                                                                                                                                                                                                                                                                                                                                                                                                    \n",
       "35                                                                                                                                                                                                                                                                                                                                                                                                                                                                                                                                                                                                                                                                                                                                                                                                                                                                                                                                                                                                                                                                                                                                                                                                                                                                                                                                                                                                                                                                                                                                                                                                                                                                                                                                                                                                                                    \n",
       "36                                                                                                                                                                                                                                                                                                                                                                                                                                                                                                                                                                                                                                                                                                                                                                                                                                                                                                                                                                                                                                                                                                                                                                                                                                                                                                                                                                                                                                                                                                                                                                                                                                                                                                                                                                                                                                    \n",
       "37                                                                                                                                                                                                                                                                                                                                                                                                                                                                                                                                                                                                                                                                                                                                                                                              mixc seedling starter trays kit it your best choice for creating a greenhouse environment with high humidity and warm air for your seeds  what is the difference between our seedling starter trays and others?  -transparent trays of our seed grow kit make it easy to observe your plants without interrupting the process, you can visually observe the growth of root.  -built-in adjustable vents of this seed trays allow you to regulate the temperature and humidity of your seedling environment. the green design makes our seedling trays more compatible with your garden. with drain hole at bottom of each cell for proper drainage, reduce roots oversaturating, the base provides the space for excess water draining without plants sitting in water, avoid seedling drowning, gives warmth to the seed bed and balances moisture level   specifications:  tray size:x .\" x \" cell size: .\" x\"x \" base size:xx dome size:xx   package content:  x seed trays x watertight base tray x humidity dome x plant label   \n",
       "38                                                                                                                                                                                                                                                                                                                                                                                                                                                                                                                                                                                                                                                                                                                                                                                                                                                                                                                                                                                                                                                                                                                                                                                                                                                                                                                                                                                                                                                                                                                                                                                                                                                                                                                                                                                                                                    \n",
       "39                                                                                                                                                                                                                                                                                                                                                                                                                                                                                                                                                                                                                                                                                                                                                                                                                                                                                                                                                                                                                                                                                                                                                                                                                                                                                                                                                                                                                                                                                                                                                                                                                                                                                                                                                                                                                                    \n",
       "40                                                                                                                                                                                                                                                                                                                                                                                                                                                                                                                                                                                         this retractable gate fits openings up towide and istall. enjoy the full walk-through space of your homes entryways and stairways with easybaby retractable gate. can be installed at top and bottom of stairways, doorways, hallways, indoor and outdoor use. includes components for easy installation: stainless steel screws, catch mounts, wall spacers for the skirting board or baseboard and installation guide templates. must be fitted between rigid surfaces such as plasterboard, timber or hardwall. the surfaces that the retractable gate is to be installed to must be suitable for the purpose and must be structurally sound, must be installed to walls, door frames or posts tightly and flatly. the easybaby retractable safety gate is a sturdy and durable mesh barrier. the gate retracts out of the way when not in use and is space efficient. this retractable gate works as both an infant gate and a pet gate, intended for use with children frommonths or small to medium pets.  this retractable gate is hardware mounted gate, drill a pilot hole for timber surface and for hardwall drill a hole for installation. one additional set of spare mounting brackets included for convenient relocation.   \n",
       "41                                                                                                                                                                                                                                                                                                                                                                                                                                                                                                                                                                                                                                                                                                                                                                                                                                                                                                                                                                                                                                                                                                                                                                                                                                                                                                                                                                                                               package included: x fence privacy screen. pcs cable zip ties.  specifications  size:x '  color: black  fabric material: high-density polyethylene,recycled material, waterair permeable  blockage: %  finish: black bindingsgrommets all around, apart vertically, apart horizontally.  warranty: years full warranty.  why choose our product?  quality  price  warranty  hassle-free customer service and return   \n",
       "42                                                                                                                                                                                                                                                                                                                                                                                                                                                                                                                                                                                                                                                                                                                                                                                                                                                                                                                                                                                                                                                                                                                                                                                                                                                                                                                                                                                                              package included: ' xfence privacy screen. pcs cable zip ties.  specifications  size:x '  color: black  fabric material: high-density polyethylene,recycled material, waterair permeable  blockage: %  finish: black bindingsgrommets all around, apart vertically, apart horizontally.  warranty: years full warranty.  why choose our product?  quality  price  warranty  hassle-free customer service and return   \n",
       "43                                                                                                                                                                                                                                                                                                                                                                                                                                                                                                                                                                                                                                                                                                                                                                                                                                                                                                                                                                                                                                                                                                                                                                                                                                                                                                                                                                                                                                                                                                                                                                                artificial ivy privacy fence screen, enjoy privacy in your yard while upgrading it with a natural look using this faux ivy privacy fence screen. simply put it on a fence in the backyard or on a balcony railing to block the view of neighbors.   \n",
       "44                                                                                                                                                                                                                                                                                                                                                                                                                                                                                                                                                                                                                                                                                                                                                                                                                                                                                                                                                                                                                                                                                                                                                                                                                                                                                          these hooks for mounting home security cameras on vinyl siding without drilling or using adhesives.  simple to use, you just roll the hook into any seam in the vinyl siding.  easy to put up and move cameras to get the best positioning.  low profile slight bend design. rust-free, no stains on your siding. each hook holds up to ten pounds .  specifications:  material: high quality stainless steel size: approximately -/\"(.)  maximum bearing weight: lbs quantity: pcs vinyl siding security camera mounted hooks per pack   \n",
       "45                                                                                                                                                                                                                                                                                                                                                                                                                                                                                                                                                                                                                                                                                                                                                                                                                                                                                                                                                                                           privacy fence screen measurestall xlong, perfect fit for a fence thats tall. breathable fabric allows breeze to go through, made of uvwater resistant heavy duty hdpe (high-density polyethylene), made to last under sun exposure and all weather condition.blockage gives you the privacy you deserve, not completely block out but the right amount of privacy and blockage, keep the dogs from barking. ideal for condo apartment balconies, backyards patio, gathering areas, swimming pool, or anywhere you need a bit of privacy. specification: material: hdpe+brass color: green size(l x w): about package included: garden fence privacy screen* straps* note: .due to the light and screen difference, the item color may be slightly different from the pictures. .please allow .- differences due to manual measurement.   \n",
       "46                                                                                                                                                                                                                                                                                                                                                                                                                                                                                                                                                                                                                                                                                                                                                                                                                                                                                                                                                                                                                                                                                                                                                                                                                                                                                                                                                                                                                                                                                                                                                                                                                                                                                                                                                                                                                                    \n",
       "47                                                                                                                                                                                                                                                                                                                                                                                                                                                                                                                                                                                                                                                                                                                                                                                                                                                                                                                                                                                                                                                                                                                                                                                                                                                                                                                                                                                                                                                                                                                                                                                                                                                                                                                                                                                                                                    \n",
       "48                                                                                                                                                                                                                                                                                                                                                                                                                                                                                                                                                                                                                                                                    this fiberglass mesh is the main material for making invisible door screen. good light transmittance, is one of the most commonly used high-end door screen series. on the market called [fireproof mesh], because it is the material of glass fiber flame retardant material, and with a colloidal coating. has a slight odor, not easy to break, and not leave a crease, can be burned in fire, burning part is the colloidal coating, glass fiber will not burn. mainly used to refrain cigarette butts. after the experiment, the cigarette stays in the fiberglass screen doorseconds will not have holes and other damage      fiberglass screen door colorgrey mesh+black frame      features. automatic open and close, free your hands.. super sturdy and durable fiberglass mesh, no breaks.. super strong attraction magnets construction with extra hook and loop hasp, no gaps. . strong reinforced hook and loop with the full frame, avoid falling. . big enough for sliding door, double door, screen door hardware. lifetime replacement guarantee. package include. a fiberglass screen door. a roll of hook and loop. a pack of push pins    \n",
       "49                                                                                                                                                                                                                                                                                                                                                                                                                                                                                                                                                                                                                                                                                                                                                                                                                                                                                                                                                                                                                                                                                                                                                                                                                                asurion is taking the guesswork out of finding product protection plans to fit your needs. products failoften at the most inconvenient time. its a good thing youre covered because no other plan can protect your stuff the way an asurion protection plan can. simply put, asurion protection plans cover your products when you need it most with a fast and easy claims process. buy a protection plan from a company that you know and trust. add an asurion protection plan to your cart today! please see \"user guide [pdf]\" below for detailed terms and conditions related to this plan.   \n",
       "50                                                                                                                                                                                                                                                                                                                                                                                                                                                                                                                                                                                                                                                                                                                                                                                                                                                                                                                                                                                                                                                                                                                                                                                                                                                                                                                                                                                                                                                                                                                                                                                                                                                                                                                                                                                                                                    \n",
       "51                                                                                                                                                                                                                                                                                                                                                                                                                                                                                                                                                                                                                                                                                                                                                                                                                                                                                                                                                                                                                                                                                                                                                                                                                                                                                                                                                                                                                                                                                                                                                                                                                                                                                                                                                                                                                                    \n",
       "52                                                                                                                                                                                                                                                                                                                                                                                                                                                                                                                                                                                                                                                                                                                                                                                                                                                                                                                                                                                                                                                                                                                                                                                                                                                                                                                                                                                                                                                                                                                                                                                                                                                                                                                                                                                                                                    \n",
       "53                                                                                                                                                                                                                                                                                                                                                                                                                                                                                                                                                                                                                                                                                                                                                                                                                                                                                                                                                                                                                                                                                                                                                                                                                                                                                                                                                                                                                                                                                                                                                                                                                                                                                                                                                                                                                                    \n",
       "54                                                                                                                                                                                                                                                                                                                                                                                                                                                                                                                                                                                                                                                                                                                                                                                                                                                                                                                                                                                                                                                                                                                                                                                                                                                                                                                                                                                                                                                                                                                                                                                                                                                                                                                                                                                                                                    \n",
       "55                                                                                                                                                                                                                                                                                                                                                                                                                                                                                                                                                                                                                                                                                                                                                                                                                                                                                                                                                                                                                                                                                                                                                                                                                                                                                                                                                                                                                                                                                                                                                                                                                                                                                                                                                                                                                                    \n",
       "56                                                                                                                                                                                                                                                                                                                                                                                                                                                                                                                                                                                                                                                                                                                                                                                                                                                                                                                                                                                                                                                                                                                                                                                                                                                                                                                                                                                                                                                                                                                                                                                                                                                                                                                                                                                                                                    \n",
       "57                                                                                                                                                                                                                                                                                                                                                                                                                                                                                                                                                                                                                                                                                                                                                                                                                                                                                                                                                                                                                                                                                                                                                                                                                                                                                                                                                                                                                                                                                                                                                                                                                                                                                                                                                                                                                                    \n",
       "58                                                                                                                                                                                                                                                                                                                                                                                                                                                                                                                                                                                                                                                                                                                                                                                                                                                                                                                                                                                                                                                                                                                                                                                                                                                                                                                                                                                                                                                                                                                                                                                                                                                                                                                                                                                                                                    \n",
       "59                                                                                                                                                                                                                                                                                                                                                                                                                                                                                                                                                                                                                                                                                                                                                                                                                                                                                                                                                                                                                                                                                                                                                                                                                                                                                                                                                                                                                                                                                                                                                                                                                                                                                                                                                                                                                                    \n",
       "60                                                                                                                                                                                                                                                                                                                                                                                                                                                                                                                                                                                                                                                                                                                                                                                                                                                                                                                                                                                                                                                                                                                                                                                                                                                                                                                                                                                                                                                                                                                                                                                                                                                                                                                                                                                                                                    \n",
       "61                                                                                                                                                                                                                                                                                                                                                                                                                                                                                                                                                                                                                                                                                                                                                                                                                                                                                                                                                                                                                                                                                                                                                                                                                                                                                                                                                                                                                                                                                                                                                                                                                                                                                                                                                                                                                                    \n",
       "62                                                                                                                                                                                                                                                                                                                                                                                                                                                                                                                                                                                                                                                                                                                                                                                                                                                                                                                                                                                                                                                                                                                                                                                                                                                                                                                                                                                                                                                                                                                                                                                                                                                                                                                                                                                                                                    \n",
       "63                                                                                                                                                                                                                                                                                                                                                                                                                                                                                                                                                                                                                                                                                                                                                                                                                                                                                                                                                                                                                                                                                                                                                                                                                                                                                                                                                                                                                                                                                                                                                                                                                                                                                                                                                                                                                                    \n",
       "64                                                                                                                                                                                                                                                   the flux phenom magnetic screen door is made for any household. the instant screen door installs in just a few minutes in any doorway of your home. it keeps irritants out, lets fresh air in, and allows your dog or cat to freely go in and out of the house. it the perfect shield to fight off constant irritation from nature. the fine mesh of our screen for doors is small enough to keep them out while letting air flow freely. the mesh is fine, but not so fine as to block your vision from the happenings going on outdoors. our magnetic door curtain features reinforced edges that ensure your door will stay in place even when hit with heavy gusts of wind. the strong, durable mesh and superior strength edges of our magnetic curtain will keep you experiencing outdoor freshness for years to come. all hardware included (for metal or wood door frames), instructions, and a video installation guide. no more dealing with claw marks on your expensive screen door from your pets. our magnetic screen door opens easily with just a nudge of a head or hand (for you humans). the middle seam of the screen door is lined with magnets that allow it to close like magic. it fits all door sizes up to xand is not intended to reach the ground upon installation. we value your business and back our flex screen with a lifetime replacement policy. if anything should happen to your temporary door, sliding screen door, or pet screen for any reason, we send you another one at no extra charge. note: product packaging design may vary.   \n",
       "65                                                                                                                                                                                                                                                                                                                                                                                                                                                                                                                                                                                                                                                                                                                                                                                                                                                                                                                                                                                                                                                                                                                                                                                                                                                                                                                                                                                                                                                                                                                                                                                                                                                                                                                                                                                                                                    \n",
       "66   mesh safety netting roll measuring high and long lightweight uv-protected mesh safety netting comes to your rescue when youre in need of instant skirting around gardens, seeded lawns, newly laid concrete sidewalks, or freshly painted low surfaces. easy to install with t-posts or stakes made from wood or bamboo set four feet apart for heightened stability. this will prevent sagging or collapsing caused from wind stress, animal gnawing, or snow buildup (doubling up on the thickness of netting is recommended for those who live in rural areas prone to frigid weather conditions). once its set up, you will have a vibrant visual barrier with maximum visibility that is just as easy to remove, roll up, and stow away in the garage or garden shed for future use. keeps wanted things in, keeps unwanted things out our mesh visual barrier netting helps prevent small pets from wandering off or accessing areas of your lawn or garden that are off limits. great for establishing a secondary fence for landscaping purposes, protecting flowerbeds and gardens from being trampled on. or, put it up to keep toddlers away from your pool and other unsavory areas of your yard. its multifunctional enough for crowd control use at sporting events, concerts, festivals, carnivals, and other social gatherings where distinct visual barriers are necessary. highly affordable and easily adjustable an economic alternative for those who lack the time or funds for building a traditional fence. suitable for many other uses and projects, such as securing strawberries and raised beds in your garden, acting as a baseboard around tents while camping, establishing a walking path or a warning perimeter during minor sidewalk construction projects where open trenches are exposed.   \n",
       "67                                                                                                                                                                                                                                                                                                                                                                                                                                                                                                                                                                                                                                                                                                                                                                                                                                                                                                                                                                                                                                                                                                                                                                                                                                                                                                                                                                                                                                                                                                                                                                                                                                                                                                                                                                                                                                    \n",
       "68                                                                                                                                                                                                                                                                                                                                                                                                                                                                                                                                                                                                                                                                                                                                                                                                                                                                                                                                                                                                                                                                                                                                                                                                                                                                                                                                                                                                                                                                                                                                                                                                                                                                                                                                                                                                                                    \n",
       "69                                                                                                                                                                                                                                                                                                                                                                                                                                                                                                                                                                                                                                                                                                                                                                                                                                                                                                                                                                                                                                                                                                                                                                                                                                                                                                                                                                                                                                                                                                                                                                                                                                                                                                                                                                                                                                    \n",
       "402                                                                                                                                                                                                                                                                                                                                                                                                                                                                                                                                                                                                                                                                                                                                                                                                                                                                                                                                                                                                                                                                                                                                                                                                                                                                                                                                                                                                                                                                                                                                                                                                                                                                                                                                                                                                                                   \n",
       "403                                                                                                                                                                                                                                                                                                                                                                                                                                                                                                                                                                                                                                                                                                                                                                                                                                                                                                                                                                                                                                                                                                                                                                                                                                                                                                                                                                                                                                                   naturcolor light burdock permanent herbal based haircolor gel utilizes herbs to cover grey as opposed to chemicals. with ingredients such as burdock root and nettle leaf extract along with chamomile flower extract, our formula seeks to achieve a glossy, natural effect. this box contains fl oz of herbal hair color that uses plant extract as its active ingredients.   \n",
       "404                                                                                                                                                                                                                                                                                                                                                                                                                                                                                                                                                                                                                                                                                                                                                                                                                                                                                                                                                                                                                                                                                                                                                                                                                                                    nisha henna based hair colour is a premium quality powder hair colour enriched with ancient indian herbs like amla, aloe vera, hibiscusshikakai. it is one of the best hair colour powder available in the market which is made from herbal henna extracts. nisha is an ammonia free unisex hair colour, which is safe for your hair. nisha hair color makes your hair soft, glossynatural looking. discover colored hair thats naturally beautiful with nisha powder hair color.  nisha hair color is available in shades in& ):  -natural black  -natural brown  -burgundy   \n",
       "405                                                                                                                                                                                                                                                                                                                                                                                                                                                                                                                                                                                                                                                                                                                                                                                                                                                                                                                                                                                                                                                                                                                                                                                               indus valley new damage-free gel colour is innovatively designed as a no-peroxide hair color to give you a damage-free coloring experience. it addresses the most damaging issue associated with chemical hair colorsturning naturally colored hair into permanent greys from prolonged usage of chemical hair dyes. the no-bleach hair color is made with exotic- natural herbs that repair and nourish your hair strands during coloration and prevent them from turning grey anytime soon. the rich, vibrant hair color lasts forweeks and effectively covers grey strands in a single application without damaging your hair.   \n",
       "406                                                                                                                                                                                                                                                                                                                                                                                                                                                                                                                                                                                                                                                                                                                                                                                                                                                                                                                                                                                                                                                                                                                                                                                                                                                                                                                                                                                                                                                                                                                                                                                                                                                                                                                                                                                                                                   \n",
       "407                                                                                                                         are you afraid of using hair color because of the allergy symptoms? herb speedy permanent color cream is suitable for people with extremely sensitive scalp and has been specially formulated to be free of allergy. this product does not contain ppd (p-phenylenediamine), a commonly found ingredient for permanent hair dyes called oxidative dyes which leads to allergic reactions. no more eye and/or scalp irritations from coloring. this product is odorless and easy-to apply hair color, which anyone may use at ease. quick hair coloring is possible in just minutes. brilliant color lasts more than weeks.ppd free, ammonia and paraben free with naturally derived dye ingredients.natural herbal extracts help prevent hair loss. herb speedy contains sunscreen agent which protects against hair damage and prevent discoloration of hair from repeated exposures to uv. contents : x cream:oz x cream: . x brush. x head cap. x pair of disposable gloves. x divided container. x instruction. directions : \" for the best results, please follow the instructions step by step \"squeeze an equal amount of creamandonto the included plastic container. unlike other permanent color creams never mix creamandtogether. apply creamon hair.leave it on for minutes. apply creamon hair and leave that on for minutes as well. make sure that the amount drawn out is used in its entirety or the color will not develop properly. after the desired color is obtained, wash and rinse several times with lukewarm water until water runs clear.safety information patch test strongly recommendedto help minimize your risk, perform the skin allergy test hours before coloring.   \n",
       "408                                                                                                                         are you afraid of using hair color because of the allergy symptoms? herb speedy permanent color cream is suitable for people with extremely sensitive scalp and has been specially formulated to be free of allergy. this product does not contain ppd (p-phenylenediamine), a commonly found ingredient for permanent hair dyes called oxidative dyes which leads to allergic reactions. no more eye and/or scalp irritations from coloring. this product is odorless and easy-to apply hair color, which anyone may use at ease. quick hair coloring is possible in just minutes. brilliant color lasts more than weeks.ppd free, ammonia and paraben free with naturally derived dye ingredients.natural herbal extracts help prevent hair loss. herb speedy contains sunscreen agent which protects against hair damage and prevent discoloration of hair from repeated exposures to uv. contents : x cream:oz x cream: . x brush. x head cap. x pair of disposable gloves. x divided container. x instruction. directions : \" for the best results, please follow the instructions step by step \"squeeze an equal amount of creamandonto the included plastic container. unlike other permanent color creams never mix creamandtogether. apply creamon hair.leave it on for minutes. apply creamon hair and leave that on for minutes as well. make sure that the amount drawn out is used in its entirety or the color will not develop properly. after the desired color is obtained, wash and rinse several times with lukewarm water until water runs clear.safety information patch test strongly recommendedto help minimize your risk, perform the skin allergy test hours before coloring.   \n",
       "409                                                                                                                                                                                                                                                                                                                                                                                                                                                                                                                                                                                                                                                                                                                                                                                                                                                                                                                                                                                                                                                                                                                                                                                                                                                                                                                                                                                                                                                                                                                                                                                                                                                                                                                                                                                                                                   \n",
       "410                                                                                                                                                                                                                                                                                                                                                                                                                                                                                                                                                                                                                                                                                                                                                                                                                                                                                                                                                                                                                                                                                                                                                                                                                                                                                                                                                      herbaceuticals naturcolor permanent burdock haircolor gel gently infuses your hair with herbal extracts and plant-based ingredients for a rich dark brown finish. our formula covers one application for long hair and two applications for short hair. go guilt-free in your haircolor routine knowing that our product is not tested on animals. this box contains fl oz of herbaceuticals naturcolor permanent burdock haircolor gel and uses zero parabens or ammonia.   \n",
       "411                                                                                                                                                                                                                                                                                                                                                                                                                                                                                                                                                                                                                                                                                                                                                                                                                                                                                                                                                                                                                                                                                                                                                                                                                                                                                                                                                                                                                                                                                                                                                                                                                                                                                                                                                                                                                                   \n",
       "412                                                                                                                                                                                                                                                                                                                                                                                                                                                                                                                                                                                                                                                                                                                                                                                                                                                                                                                                                                                                                                                                                                                                                                                                                                                                                                                                                                                                                                                                                                                                                                                                                                                                                                                                                                                                                                   \n",
       "413                                                                                                                                                                                                                                                                                                                                                                                                                                                                                                                                                                                                                                                                                                                                                                                                                                                                                                                                                                                                                                                                                                                                                                                                                                                                                                                                                                                                                                                                                                                                                                                                                                                                                                                                                                                                                                   \n",
       "\n",
       "                                                                                                                                                                                                                                                                                                                                                                                                                                                                                                                                                                                                                                                                                                                                                                                                                                                                                                                                                                                                                                                                                                                                                                                                                                                                                                                                                                                                                                                                                                                                                                                                                                                                                                                                                                                                                                                                                                                                                                                                                         product_bullet_point  \\\n",
       "32                                                                                                                                                                                                                                                                                                                                                                                                                                                                                                                                                                                                                                                                                                                                                                                                                                                                                                                                                                                                                                                                                                                                                                                                                                                                                                                                                                                             material--high-qualityplasticcoatedsteelpipe,noteasytorust,canbeusedforalongtime. size--/(thesizebeforebending),/.,/.(thesizeafterbending),/...gardenfabricnotincluded. easytosetup--comescompletewithsharpenedpointsonbothsidesforeaseofplacement.washable,reusable,flatforstorage.createsafavorablemicroclimateforyourplants. protectingplants--usehoopstosupportgardenrowcovers,protectingplantsfromfrost,insects,birds,orintensesun.canbeusedwithinsect-proofnets,shadingnets,insulationfilmandsoon. features--designforplantcover,frostprotectioncoverandminigreenhouse,providesidealenvironmentforrapidgerminationandgrowthofyoungplants   \n",
       "33                                                                                                                                                                                                                                                                                                                                                                                                                                                                                                                                                                                                                                                                                                                                                                                                                                                                                                                                                                                                                                                                                                                                                                                                                                                                                                                                                                                                                                                                                                                                                                            designed for the madison vinyl fence (itemto install, dig holes and secure the extended posts into the ground; use gravel or concrete for extra stability (optional) kit includes small stainless latch (), hinges (), supporting posts (), decorative fence wings with posts () and post caps () the entire gate kit with wings spans -/. gate without wings is -/. gate must be installed with wings for optimal stability assembly and installation required   \n",
       "34                                                                                                                                                                                                                                                                                                                                                                                                                                                                                                                                                                                                                                                                                                                                                                                                                                                                                                                                                                                                                                                                                                                                                                                                                                                                                                                                                                                                                designed as a portable fence for temporary events rust-free metal bases are included; bases have small holes if you need to screw the base into wood or concrete (fence will stand on its own without screws) this fence should not be used for serious crowd control or child or pet safety; it is designed to be used as a psychological or aesthetic barrier and not a physical one each panel includes a connector piece to attach to an adjacent panel in a straight line or at a right angle; this makes this fence fully scalable to add as many panels as you need for your event assembly required. top shape-flat   \n",
       "35                          virgin, uv stabilized compoundsthick material: the only fence screen product on the market that are made of gsmvirgin (non-recycled) hdpe material. our virgin hdpe fabric went through hours of laboratory uv testing and it is proved to bemore durable compared to recycled hdpe under sun exposure, fabric has been treated with uv stabilized compound, preventing fence screen from dried out, tearing and fading, significantly extend the lifespan. privacy solutionvisibility blockage: most economical way for privacy over chain link fence, porous decorative concealment, existing cyclone wire fence, wood retaining wall, welded wire fence, chain link fence, privacy barrier around swimming pool, block nose neighbor see through, add privacy to acre back yard backdrop, front yard, patio, garden and porch; hide street, road, construction site, pet kennel pen, block surrounding noise and street view, stops dogs from barking at neighb comes with the extra stainless grommets and reinforced binding: grommets are made of stainless copper, each corner has grommets (compares to similar products on the market only havegrommets), more grommets are placed evenly along all edges, inches apart vertically, inches horizontally. all edges are covered with black reinforced -inch binding (.-inch on each side). the grommets and bindings help the screen to hold up in the wind. can be used as shades or greenhouse solution: can be used there are lots of different ways to use: protection for vegetable garden plants, greenhouse covering, wind blocking for plant nursery area, window shades, tennis court, shades for pet penkennel, construction site, etc. breathable weaving fabric allows water and air to go through freely, resistant to both uv and water, no maintenance needed. years warranty: limited years warranty under normal usage and weather. free consultation. all colourtree brand products come with warranty, the terms of warranty may vary.   \n",
       "36         virgin, uv stabilized compoundsthick material: actual height is\", fits perfectly on footer fence. the only fence screen product on the market that are made of gsmvirgin (non-recycled) hdpe material. went through hours of laboratory uv testing and it is proved to bemore durable than recycled hdpe under sun exposure, fabric has been treated with uv stabilized compound, preventing fence screen from dried out, tearing and fading, significantly extend the lifes privacy solutionvisibility blockage: most economical way for privacy over chain link fence, porous decorative concealment, existing cyclone wire fence, wood retaining wall, welded wire fence, chain link fence, privacy barrier around swimming pool, block nose neighbor see through, add privacy to acre back yard backdrop, front yard, patio, garden and porch; hide street, road, construction site, pet kennel pen, block surrounding noise and street view, stops dogs from barking at neighb comes with the extra stainless grommets and reinforced binding: grommets are made of stainless copper, each corner has grommets (compares to similar products on the market only havegrommets), more grommets are placed evenly along all edges, inches apart vertically, inches horizontally. all edges are covered with black reinforced -inch binding (.-inch on each side). the grommets and bindings help the screen to hold up in the wind. can be used as shades or greenhouse solution: can be used there are lots of different ways to use: protection for vegetable garden plants, greenhouse covering, wind blocking for plant nursery area, window shades, tennis court, shades for pet penkennel, construction site, etc. breathable weaving fabric allows water and air to go through freely, resistant to both uv and water, no maintenance needed. years warranty: limited years warranty under normal usage and weather. free consultation. all colourtree brand products come with warranty, the terms of warranty may vary.   \n",
       "37                                                                                                                                                                                                                                                                                                                                                                                                                                                                                                                                                                                                                                                                                                                                                                                                                                                                                                                                                                                                                                                                                                                                         keep and eye on your growth: the only design in the market- high quality clear plastic trays of this seed grow kit make it easy to observe your plants without interrupting the process. total control: adjustable vents of this seed trays allow you to regulate the temperature and humidity of your seedling environment, so you have total control over the growing process perfect size for seed starting: size of the cells:length andwide, these seed trays are suitable for small seeds, such as flowers, vegetables, fruits, tobacco and other plants. grow health and efficientwith drain hole at bottom of each cell for proper drainage, reduce roots oversaturating. reusable and a great way to foster a beautiful and healthy garden. what you get mixc seed starter tray contains: x seed tray, x watertight base tray, x humidity dome, x plant labels (a must have for seedling)   \n",
       "38                                                                                                                                                                                                                                                                                                                                                                                                                                                                                                                                                                             excellent materialqualityour anti bird net is made of strong and durable nylon with high stretch, light-weight but not tear easily. it is anti-uv and tough enough to withstand the effects of the sun and bad weather conditions. so you can use the garden net repeatedly until the end of the season. the size of the net refers to the measured length straightened from the far left to the far right. protect garden plantsfruit treesour fruit tree netting are large in size and can provides maximum protection without harming birds and small animals or interfering with plant growth. it can effectively prevent damage and protect fruit trees, berries, bushes, shrubs, plants, flowers and vegetables. easy to install, practical and securethis fruit tree net is easy to fold and unfold, can be use easily. can be cut to any size without fraying to suit multiple garden purposes, such as tree nets for fruit trees, garden mesh for garden and bird mesh netting for eaves. enjoy the fruits of your laborwhen you have a deer netting you don have to worry about birds, deer and other critters destroying your crop. this powerful anti bird netting is ideal for protecting tomatoes, strawberries, blueberries, figs, cherries and other fruit trees, etc. intimate serviceif you have any questions or are not satisfied with garden bird netting, contact us at any time, and we will reply to your message as soon as possible.   \n",
       "39                                                                                                                                                                                                                                                                                                                                                                                                                                                                                                                               privacy solution: most economical way for privacy over chain link fence, porous decorative concealment, existing cyclone wire fence, wood retaining wall, welded wire fence, chain link fence, privacy barrier around swimming pool, block nose neighbor see through, add privacy to acre back yard backdrop, front yard, patio, garden and porch; hide street, road, construction site, pet kennel pen, block surrounding noise and street view, stops dogs from barking at neighbors. high quality material: privacy fence screen is constructed of sun protected hdpe fabric with durable brass grommets on each side. the fence privacy screen measures exactlyxmultifunction: there are lots of different ways to use, protection for vegetable garden plants, greenhouse covering, wind blocking for plant nursery area, window shades, tennis court, shades for pet penkennel, construction site, etc. breathable weaving fabric allows water and air to go through freely, resistant to both sun and water, no maintenance needed. more intensive grommets: grommets are made of copper, more grommets are placed evenly along all edges,inches apart vertically,inches horizontally. all edges are covered with black reinforced .\" binding. the grommets and bindings help the screen to hold up in the wind. easy to install: use zip ties to fasten the grommets to the fence in each side. our fence screen is equipped with denser grommets and straps to keep the fence closer to your fence.   \n",
       "40                                                                                                                                                                                                                                                                                                                                                                                                                                                                                                                                                                                                                                                                                                                                                                                                                       indoor and outdoor: can be installed at top and bottom of stairways, doorways, hallways, indoor and outdoor use. includes components for easy installation: stainless steel screws, catch mounts, wall spacers and installation guide templates. must be fitted between rigid surfaces such as plasterboard, timber or hardwall. this retractable gate is hardware mounted gate, drill a pilot hole for timber surface and for hardwall drill a hole for installation. product size: this retractable gate fits openings up towide and istall. can be adjusted to fit your openings according to your needs. mesh can be completely retracted away when not in use. one handed operation to open and close: push and turn clockwise to unlock gate, grasp handle to pull and hook handle onto catches, push and turn counter-clockwise to lock gate. fits your purpose: perfect solution for doorways and stairs locking the way for babies and pets needed to provide safety and security in the whole house. the stair gates is used for children and pets blocking off their way out or in. standard approved: all gate lines are tested to the safety standards, meeting or exceeding both astm or en standards.   \n",
       "41                                                                                                                                                                                                                                                                                                                                                                                                                                                                                                                                                                                                                                                                                                                                                                                                                                                                                                                                                                                                                                                                                                                                                                                                                                                                            fence privacy screen fits perfectly on ft fence, actual height is\", cable zip ties are included for installation. edges are finished with heavy duty black bindings and stainless copper grommets, all stitching are reinforced, grommets are placed every ft vertically, ft horizontally, each corner has grommets, easy to install with included cable zip ties.blockage, great for privacy and allows water and airflow to pass through at the meantime, fabric is made of knitted virgin hdpe material. custom sizes are available, select size from drop-down or contact us for other colorssizes, we are the manufacturer who is focusing on making quality and durable fence screen at low price. years limited warranty under normal usage and weather.   \n",
       "42                                                                                                                                                                                                                                                                                                                                                                                                                                                                                                                                                                                                                                                                                                                                                                                                                                                                                                                                                                                                                                                                                                                                                                    fence privacy screen fits perfectly on ft fence, actual height is\", cable zip ties are included for installation. edges are finished with heavy duty black bindings and stainless copper grommets, all stitching are reinforced, grommets are placed every ft vertically, ft horizontally, each corner has grommets, easy to install with included cable zip ties. edges are finished with heavy duty black bindings and stainless copper grommets, all stitching are reinforced, grommets are placed every ft vertically, ft horizontally, each corner has grommets, easy to install with included cable zip ties. custom sizes are available, select size from drop-down or contact us for other colorssizes, we are the manufacturer who is focusing on making quality and durable fence screen at low price. years limited warranty under normal usage and weather.   \n",
       "43                                                                                                                                                                                                                                                                                                                                                                                                                                                                                                                                                                                                                                                                                                                                                      realistic green ivy look: artificial ivy leaves are natural looking to provide every indoor or outdoor space a blooming, earthy feel without the need for watering,use zip ties or tape to install, it can be cut to get the size and shape you want, can be used as wall decoration, fence screen, privacy screen. functional: decorate your home while ensuring privacy from the outside world by strategically placing the fence in areas that may be exposed, artificial leaf privacy decor is intended for both interior and exterior usage.provides extra privacy without gaps. densely packed leaves: privacy fence leaves are placed closely enough to provide blockage from harsh sunlight while also allowing air flow through the open net back, the added mesh backing easily beautify landscaping with our artificial ivy leaf privacy decor panels. providing more privacy windscreen protection to its users. fade-resistant look: durable, fresh looking plastic and polyester leaves keep their evergreen look year-round and are easy to clean and maintain. live up any space: easy to put on a fence, trellis, wall, or other area lightweight design makes it easy to move around to redecorate and beautify and room or space; overall dimensions: .(l) x (w) .   \n",
       "44                                                                                                                                                                                                                                                                                                                                                                                                                                                                                                                                                                                                                                                                                                                                                                                                                                                                                                                                                                                                                                                                                                                                                                                                                                                                                                                                                                                                                                                                                                                                                                                                                                                      no holes or tools required. very easy to put up and move cameras to get the best positioning. no drilling. just roll the hook into any seam in vinyl or aluminum siding. stainless steel vinyl siding hooks won rust or stain. great for all seasons. holds up to lb per hook. no damage to siding. set ofcontact us if you have any issues, we will offer the best solution for you.   \n",
       "45                                                                                                                                                                                                                                                                                                                                                                                                                                                                                                                                                                                                                                                                                                                                                                                                                                      premium quality: this heavy duty privacy screen is constructed of hdpe fabric and brass grommets finished with reinforced black bindings. product measures x ft(hxl)perfect fits for ft tall fence. the zip ties are included. brass grommets: each hole of our fence covering is reinforced with brass grommets. the grommets run along the entire perimeter of the screen and are evenly spaced to ensure strength. the holes are spacedinches apart vertically,inches horizontally. privacy solution: garden fence mesh allows water and airflow to pass through but not opaque. if you wanted these to be thick enough to block the view almost completely you could buy a one and stack them for use. easy to install: grommets are generously distributed so the screen can fasten securely to established fencing. best to extend the screen as much as possible when adding the zip ties to get it to fit perfectly to the fence. multi-function: the fence privacy screen can be applied in backyard, patio, greenhouse, swimming pool, tennis court, pet kennel, chicken run, construction site etc. block surrounding nosy neighbor and street view, stops dogs from barking at passersby.   \n",
       "46                                                                                                                                                                                                                                                                                                                                                                                                                                                                                                                                                                                                                                                                                                                                                                                                                                                                                                                                                                                                                                                                                                                                            enlarge and deepen the design: pcs plastic growing trays, the tray can be operated uniformly, and can also hold different plants to meet your gardening needs. plant growing trays no drain holes: size:xx ., perfect for hydroponic growing and seed starting, help keep soil, fertilizer and water contained inside. multiple uses: used as an essential tool for seedlings, grow tray, or planting tray! suitable for seedling, greenhouse, potting work, germination wheatgrass, microgreens and more. heavy dut: thickness(.), weight (.), sturdy, durable plastic construction will last through many uses. our reusable trays are an eco-friendly investment to cut down your costs and reduce waste. versatile garden tray: great for potting, mixing, growing and more, this tray brings garden work into the house cleanly and quickly, our one piece potting tray makes life easier.   \n",
       "47                                                                                                                                                                                                                                                                                                                                                                                                                                                                                                                                                                                                                                                                                                                                                                                                                                                                                                                                                                                                                                                                                                                                                                                                                                                                                                                                                                                                                                                                                                                                                                                                                                                                                                                      material: polyester fabric,durable and reusable waterproof without fading package listing: pcs banners size:*() open to use,easy to hang windbreak design perfect for of july decorations outdoor indoor front porch window for the home ,own it and take your memorable photos to share with your family and friends   \n",
       "48                                                                                                                                                                                                                                                                                                                                                                                                                                                                                                                                            magnetic screen door size screen door size: x inch--fit door size: x inch.how to choose a suitable size: before purchase, please carefully measure your door size and order that size (only door size, doesn include door frame partunique hook and loop hasp designwe are the only seller with windproof sticker hasp design on the middle and bottom of the screen door curtain, after many tests about wind resistance level, windproof sticker hasp can effectively consolidate and refrain the magnet screen door from being blown open by the wind. excellent workmanship guarantees the screen door lasts a long life. pet friendly screen mesh doorlets your pets freely go in/out/keeps sealed, your lovely pets could push their way in and out of mesh screen whenever they want, and close up right after they go through itsave your time to get up and down to let pets out everytime. take minutes to assemble and detachabletruly ready to stick right on and go. come with an installation manual helps you install like a breeze! remove easily and you can rolled it up during the off seasons. screen mesh door with strong magnets go all the way down the entire middle from top to bottom, sturdy adhesive strip with extra push pins to secure. economical choicecompared to the previous nylon screen doors mesh with magnets, fiberglass material with better durability,fireproof,good shape. a good replacement for an actual door, much economical choice for you!   \n",
       "49                                                                                                                                                                                                                                                                                                                                                                                                                                                                                                                                                                                                                                                                                                                                                                                                                                                                                                                                                                                                                                                                                                                                                                                                                                                                                                                                                                                                                      no additional cost: you payfor repairs parts, labor and shipping included. coverage: plan starts on the date of purchase. drops, spills and cracked screens due to normal use covered for portable products and power surges covered from day one. malfunctions covered after the manufacturer warranty. product eligibility: plans cover products purchased in the last days. easy claims process: file a claim anytime online or by phone. most claims approved within minutes. we will send you an amazon e-gift card for the purchase price of your covered product. in some cases, we will replace or repair it.   \n",
       "50                                                                                                                                                                                                                                                                                                                                                                                                                                                                                                                                                                                                                                                                                                                                                                                                                                                                                                                                                                                                                                                                                                                                                                                strong support for growing plants: vivosun elastic trellis netting provides a sturdy support structure that effortlessly bears the weight of your precious stalks, leaves, buds, fruits and flowers long-lasting, strong and stretchy: vivosun surpasses the market standard by using imported ultra-durable elastic strands in a stretchy fabric cover and anti-rust s hooks sized for grow tents: designed to hook onto the frame of a grow tent, this trellis also easily stretches to and can even be folded to fit and other tents easy to install and adjust: each trellis square is inches but the knots can be slid in any direction to exactly accommodate your plants as they grow guaranteed quality: vivosun guarantees your satisfaction with this trellis, backing our confidence with a -year warranty and -day hassle-free return guarantee   \n",
       "51                                                                                                                                                                                                                                                                                                                                                                                                                                                                                                                                                                                                                                                                                                                                                                                                                                                                                                                                                                                                                                                                                                                                                                                                                                                                                                                                                                                                                                                                                                                                                                privacy screen is completely solid for maximum privacy not only will this screen hide your unmentionables, but it will also add curb appeal to your home crafted with premium pvc vinyl, this privacy screen looks the same from both sides to install, simply drive the included stakes into the ground using a sledge hammer set includes sections to make a right angle. not recommended for side by side installation unless you use concrete to cement into the ground   \n",
       "52                                                                                                                                                                                                                                                                                                                                                                                                                                                                                                                                                                                                                                                                                                                                                                                                                                                                                                                                                                                                                                                                                                                                                                                                                                                                                                                                            resolutionpanel .-inch full hd monitorx at hz) withaspect ratio and an anti-glare matte ips led-backlit panelmillion pixels,million colors) response time with overdrive for a smooth picture that looks crisp and fluid without motion blur built-in speakers integrated audio speakers provide great sound for your contentwatts per channel) thin bezel-less frame a thin and virtually frameless ultra-widescreen monitor provides a seamless multi-monitor set-up with -sided narrow bezels -way ergonomic viewing rotation for horizontal (landscape) and vertical (portrait) viewing modes, adjustable height and tilt (- to ), and positional viewing for the best quality at any angle   \n",
       "53                                                                                                                                                                                                                                                                                                                                                                                                                                                                                                                                                                                                                                                                                                                                                                                                                                                                                                                                                                                                                                                                                                                                                                                                                                                                                                                                                                                                                                                                                                                                                                                                                                                                                                                                                                                                                                                                             -ounce package use on metal, composite, pvc, fiber cement, wood, and more easy to apply, sandable, and paintable exceptional weatherproofing and uv protection   \n",
       "54                                                                                                                                                                                                                                                                                                                                                                                                                                                                                                                                                                                                                                                                                                                                                                                                                                                                                                                                                                                                                                                                                                                                                                                                                                                                                                                                                                                                                                                                                                                                                                                                                                                                                                                                                                                                                                                                                                                                                                 mesh .\"x.\" virtually invisible will not rust or corrode available in black   \n",
       "55                                                                                                                                                                                                                                                                                                                                                                                                                                                                                                                                                                                                                                                                                                                                                                                                                                                                                                                                                                                                                                                                                                                                                                                                                                                                                                                                                                                                                                                                                                                                                          expandable flexi-screen stretch your fence to the width compatable with your home esthetic design easily place your fence inside or outdoors, wood finish is a perfect match for interior home designs as well as porch finishes plant divider perfect for flowerbeds, easily separate your plants while maintaining visual garden appeal portable light weight design, easy to move from room to room durable fence stands on two wooden platforms, no digging or support needed   \n",
       "56                                                                                                                                                                                                                                                                                                                                                                                                                                                                                                                                                                                                                                                                                                                                                                                                                                                                                                                                                                                                                                                                                                                                                                                                                                                                                                                                                                                                                                                                                                                                                                        product measures exactlylong xtall, perfect fit for a fence thats ft tall. constructed of new high density material- polyethylene, allows maximum air to go through. prevents harmful uv sun lights from damaging for up to %, and fabric has aenforced binding, so its able to hold up even in extreme weather condition. grommets on each side of fabric to ensure strength, and its easy to install. has a year limited warranty under normal usage and weather.   \n",
       "57                                                                                                                                                                                                                                                                                                                                                                                                                                                                                                                                                                                                                                                                                                                                                                                                                                                                                                                                                                                                                                                                                                                                                                                                                                                                                                                                                                                                                                                                                                                                                                                                                                                                              freestanding gate with side panels for safely confining pets no installation necessary; adjustable width fromtoinches wide base prevents tipping; rubber feet protect floors; folds for storing low enough for people to stride over; beautiful hardwood finish. made from rubberwood measurestobybyinches.inch space between wire slats, wire is gage orinch   \n",
       "58                                                                                                                                                                                                                                                                                                                                                                                                                                                                                                                                                                                                                                                                                                                                                                                                                                                                                                                                                                                                                                                                                                                                                                                                                                                                                                                                   superwide: fits opens up to inches wide and stands inches tall -in-: can convert from a super-wide gate to an -panel play yard. no tools require, quick and easy. includes pack of wall mounts configurable: each panel can be adjusted to fit almost any opening. great for wide spaces, angled openings, hallway, doorway, bottom of stairs or barrier. folds flat for storage.wipes clean durable and convenient: the all steel design is durable and convenient with a walk-through door safety: designed with a walk-through door with safety locking feature. wall mounted for added security and protection. meets all current safety standards. for children up to months and great for pets too   \n",
       "59                                                                                                                                                                                                                                                                                                                                                                                                                                                                                                                                                                                                                                                                                                                                                                                                                                                                                                                                                                                                                                                                                                                                                                                                                                                                                                                                                                                                                                                                                                                                                                                                                                                                                                                                                            energizes up to miles of electric fencing operates up to weeks without sun built in mounting bracket for tposts, yposts, and round wood posts degree rotation allows charger to rotate on t-post to face sunlight built in usa full load tested in the u.s. after manufacturing   \n",
       "60                                                                                                                                                                                                                                                                                                                                                                                                                                                                                                                                                                                                                                                                                                                                                                                                                                                                                                                                                                                                                                                                                                                                                                                                                                                                                                                                                                                                                                                                                                                                                                                                                                                                                                                                                                                                                             visual barrier for use on construction sites, crowd control, hazardous areas and utility work sites made in the usa withselected materials plus years of use available in orange, green and fluorescent colors   \n",
       "61                                                                                                                                                                                                                                                                                                                                                                                                                                                                                                                                                                                                                                                                                                                                                                                                                                                                                                                                                                                                                                                                                                                                                                                                                                                                                                                                                                                                                                                                                                                                                                                                                                                                                                                                                                             energizes up to miles of electric fencing operates up to weeks without sun built-in mounting bracket for t-posts, y-posts, and round-wood posts built in usafull-load tested in the u.s. after manufacturing -year limited warranty including lightning damage   \n",
       "62                                                                                                                                                                                                                                                                                                                                                                                                                                                                                                                                                                                                                                                                                                                                                                                                                                                                                                                                                                                                                                                                                                                                                                                                                                                                                                                                                                                                                                                             this fence is designed for semi-permanent residential applications that are not subject to intense wear and tear. package comes with units for a total of of fence assembles and installs with relative ease- no digging required! simply insert pointed stakes into the ground perfect to contain small pets or small children; not recommended for large dogs made with weather resistant vinyl with a year warranty. won crack, warp, yellow, splinter, or rot. no painting, staining or maintaining required! search \"\" for compatible gate option to pair with this fence   \n",
       "63                                                                                                                                                                                                                                                                                                                                                                                                                                                                                                                                                                                                                                                                                                                                                                                                                                                                                                                                                                                                                                                                                                                                                                                                                                                                                                                                                   installs without digging holes, pouring concrete, or tearing up your yard; use a sledgehammer or post pounder to install the no-dig pipe anchor crafted from premium weather resistant vinyl with a year warranty- won crack, warp, yellow, splinter, etc. virtually maintenance-free; no painting, staining or maintaining required; assembles with relative ease each unit includes fence panel, post, no-dig pipe anchor and () cap; this product is designed to scale, so you will need to order a finishing post to complete your fence project (itemthis fence is strong and sturdy and designed to be a permanent structure in your yard once installed; it is not easily removed   \n",
       "64                                                                                                                                                                                                                                                                                                                                                                                                                                                                                                                                                                                                                                                                                                                                                                                                                                                                                                                                                                                                                                                                                                                               installs in an instant: our magnetic door screen comes with everything you need to install it quickly; black all metal thumbtacks, a large roll of hook and loop backing, plus video tutorial fits doorways up to inches: door net works on fixed, sliding, metal or wood doors as long as they measure up to inches. important: measure your door before ordering to ensure fit opens and closes like magic: our retractable screen door features a middle seam lined with magnets for walking through any doorway with ease durable, heavy duty magnetic mesh screen door: our patio screen door heavy duty polyester mesh and reinforced edges are designed to withstand constant use by you, your pets, and the elements keeps nature out: our mesh door screen is perfect for letting fresh air in while keeping pesky outdoor irritants out. fine mesh won hinder your views of the happenings outside   \n",
       "65   sizerustproof material: decorative garden fence panels metal with single panel sizehigh xwide, panels in total. this metal decorative flower bed fencing panels for front yard is made of black iron with vinyl pvc powder coated surface will enable you to use the garden fence outdoors durably; the decorative black iron garden fencing animal barrier is made of rustproof and weather resistant metal material. easy to useflexible set-up: each piece of temporary movable border fencing can be easily interlocked with the ring on the side and folds flat for easy storage; no additional tools required to install this patio landscape edging fence: simply stick and secure the spiked feet of this decor no dig fence sections into ground. these no dig metal fence panels can be extended to different shapes according to your special uses of this path edging fence, one straight line, l, o or zigzag s foldable moveable portableeasy to store: amagabeli patio steel picket folding fencing is foldable and folds flat for easy storage. amagabeli garden fence barrier for dogs is movable and removable. no additional tools to remove this temporary wire garden fencing for pets for reinstallation in another place. simply pull the spiked feet of this flower garden border fencing out from the ground where you stick this vegetable garden fencing then reinstall. decor and sturdy: the arched iron arts make this ornamental steel garden border fence itself a decorative element for your garden and add more delights to your life, accent border with classic rod iron design to fit any decor; stylish look of this flower garden border fencing will add a modern touch to your garden, patio or yard. the vinyl rustproof coated garden wire fence is welded with thick wires and it is an architectural structure that is durable and sturdy. customer care: we offer premium products for you while exceeding highest industry standards and offer thoughtful and considerate customer care.   \n",
       "66                                                                                                                                                                                                                                                                                                                                                                                                                                                                                                                                                                                                                                                                                                                                                                                                                                                                    lightweight mesh safety netting: comes to your rescue when youre in need of instant skirting around gardens, seeded lawns, newly laid concrete sidewalks, or freshly painted surfaces that are easily reachable. vibrant visual barrier: great for establishing a secondary fence for landscaping purposes, protecting flowerbeds and gardens from being trampled on. or, put it up to keep toddlers away from your pool and other unsavory areas of your yard. easy to install/remove: best used with metal t-posts or wooden stakes positioned four-feet apart to prevent sagging and collapsing caused from wind stress, animal gnawing, and pressure from snow build up. just as simple to remove, roll up, and stow away for future use. feet in length: an economic alternative for those who lack the time or funds for building a traditional fence. multifunctional enough for crowd control use at sporting events, concerts, festivals, carnivals, and other social gatherings where distinct visual barriers are necessary. rein over your domain: control what goes in and out of your garden or property. keep your animals in and those pesky pests out!   \n",
       "67                                                                                                                                                                                                                                                                                                                                                                                                                                                                                                                                                                                                                                                                                                                                                                                                                                                                                                                                                                                                                                                                                                                                                                                                                         upgrade version: cable ties and anti-slip pieces added in. cable ties help build doors or ramps or reinforce the whole structure. anti-slip pieces prevent connectors from slipping on the floor. diy expandable: make qualified metal wire grids into different shapes, a low wide exercise pen, or a two-storey premium villa for various animals: hedgehogs, hamsters, guinea pigs or rabbits, they can all have fun in this fence. easy to keep an eye on them from any angle easy assembly: easy to put together with the illustrated instruction and included mallet. use cable ties to achieve even more features like doors or rampssatisfaction guarantee: we are always available to provide professional customer service before and after your purchase, so don wait any longer and enjoy it right now   \n",
       "68                                                                                                                                                                                                                                                                                                                                                                                                                                                                                                                                                                                                                                                                                                                                                                                                                                                                                                                                                                                                                                                                                                                 [pir motion lights and no dim mode]- designed with no dim mode to increase product life span. when motion is detected within -, the motion sensor lights will turn on automatically in darkness or at night, which provides your illumination for security and safety protection.led ultra-bright solar powered lights]-there are powerful leds and the motion angle is degrees which can provide excellent illumination and turn the dark space into a bright lighted space. with a lampshade covering the led, well designed to longer its performance life. [high efficiency and eco-friendly]- by exposure to sunlight for around hours in daytime, the solar light is able to work for you by motion detecting at night. [waterproof and durable]- the solar outdoor lights is water resistant and heat-resistant. a great solar security light for outdoor patio, garden, deck, yard, drive, outside wall, fence etc   \n",
       "69                                                                                                                                                                                                                                                                                                                                                                                                                                                                                                                                                                                                                                                                                                                                                                                                                                                                                                                                                                                                                                                                                                                                                                                                                                                                                                                                                                                                                                                                                                                                                                                   installs without digging holes, pouring concrete, or tearing up your yard. crafted from premium weather resistant vinyl with a year warranty. looks the same from both sides. each screen measures w x h installed. screens per package. virtually maintenance-free! no painting, staining or maintaining required. installation and assembly requireda cordless drill is needed for assembly. installs by inserting pointed end stakes into the ground.   \n",
       "402                                                                                                                                                                                                                                                                                                                                                                                                                                                                                                                                                                                                                                                                                                                                                                                                                                                                                                                     gray coverage hair color with triple protection: no hair color cares more than excellence crme; with our triple protection system that seals, replenishes and conditions, plus percent gray coverage even on stubborn grays. excellence in hair protection: our weekly conditioning treatment with collagen helps protect hair until your next appointment for long lasting rich color; for percent gray coverage and gorgeous root-to-tip color. l permanent hair color: l paris hair color comes in multiple formulations and styles to deliver long-lasting color, from fade-defying superior preference, to bold, stylish feria, and gray-coverage from excellence crme long lasting hair color: get beautiful color from l paris hair color; permanent, semi-permanent, temporary hair color, and root cover up; cover gray hair, highlight, go bold with bright color, or even try an ombre hair color l paris innovation: we are a total beauty care company that combines the latest in technology with the highest in quality for the ultimate in hair color, hair care, hair style, skin care and cosmetics   \n",
       "403                                                                                                                                                                                                                                                                                                                                                                                                                                                                                                                                                                                                                                                                                                                                                                                                                                                                                                                                                                                                                                                                                                                                                                                                                                                                                                                                                                                                                                                                                                                                                                                                                                                                                                     contains no ammonia, resorcinol or parabens available in colors, each color can be used alone or blended to create personalized hair colors fast and easy, complete application takes less than an hour safe to use over color treated or permed hair. gives natural looking color variation, will not fade like other hair products.   \n",
       "404                                                                                                                                                                                                                                                                                                                                                                                                                                                                                                                                                                                                                                                                                                                                                                                                                                                                                                                                                                                                                                                                                                                                                                                                                                                                                                                                                                                                                                                                                                                                                                                  packaging includes: pieces of nisha henna-based hair color natural black gram (pack ofdiscover colored hair thats naturally beautiful herbal based hair color with the goodness of amla, shikakai, aloe verahibiscus. gives natural looking hair color for a longer period. natural looking hair color which makes your hair smooth, silkystrong. please don use for coloring eyebrows. and please use the content immediately after opening the sachet.   \n",
       "405                                                                                                                                                                                                                                                                                                                                                                                                                                                                                                                                                                                                                                                                                                                                                                                                                                                                                                                                                                                                                                                                                                                                                                                                                                                                                                                                                organically natural hair color: no hydrogen peroxide (bleach), no ammonia and no harmful chemicals to provide damage-free hair coloring super-exotic -herb formula: enriched with a unique blend of natural herbs to nourish and color your hair gently without any damages or side effects especially developed for normal skin: a damage-free hair color for women and men, it works best on normal skin and on all hair types forgrey hair coverage with a single application with pleasant aroma of sweet oranges a no-ammonia hair color: prevents your hair from becoming dry, rough and brittle, locks in its natural shine and strength to make your hair look vibrant and healthy   \n",
       "406                                                                                                                                                                                                                                                                                                                                                                                                                                                                                                                                                                                                                                                                                                                                                                                                                                                                                                                                                                                                                                                             nourishing hair color: discover thenourishing color creme. nutrisse color is formulated with color boost technologya blend of triple fruit oils--avocado, oliveshea--to deliver permanent hair color, even to dark hair. permanent hair dye: garnier nutrisse hair color creme, with grape seed and avocado oil, comes in a complete hair dye kit and nourishes while it colors with a rich, non drip creme formula. garnier hair color: for nourishing, easy-to-use permanent hair dye, temporary hair color, root touch up, or to enhance your natural hair color, turn to garnier hair color. over years of pioneering in hair care: since garnier has blended naturally inspiredderived ingredients into breakthrough formulas. nourish your hair with hair colorhair care from garnier. garnier is incomparable: try express retouch gray hair concealer for a temporary hair color solution to cover gray hair in between uses of your favorite garnier hair dye shade.   \n",
       "407                                                                                                                                                                                                                                                                                                                                                                                                                                                                                                                                                                                                                                                                                                                                                                                                                                                                                                                                                                                                                                                                                                                        special formula to minimize the allergy reactionherb speedy does not contain allergy reactant such as ppd (p-phenylenediamine), diamine and suitable for users with extremely sensitive scalp. made with natural herbal ingredientscontains herbal extracts with licorice root, paeonia albiflora root, sage, matricaria, rosemary extracts, and camellia japonica seed oil to provide rich nutrition to your hair and scalp.( ammonia and paraben free) revolutionary speedy color creamwhile conventional natural hair color dye requires to minutes to complete the coloring, herb speedy color cream offers satisfactory result in just minutesminutes each for&cream). sunlight protectionherb speedy has patented (korea patent no.sunscreen agent which prevent color fading from sunlight damage. made in koreadongsung bio pharm co.,ltd is manufacturer in south korea. they are in the business since .   \n",
       "408                                                                                                                                                                                                                                                                                                                                                                                                                                                                                                                                                                                                                                                                                                                                                                                                                                                                                                                                                                                                                                                                                                                        special formula to minimize the allergy reactionherb speedy does not contain allergy reactant such as ppd (p-phenylenediamine), diamine and suitable for users with extremely sensitive scalp. made with natural herbal ingredientscontains herbal extracts with licorice root, paeonia albiflora root, sage, matricaria, rosemary extracts, and camellia japonica seed oil to provide rich nutrition to your hair and scalp.( ammonia and paraben free) revolutionary speedy color creamwhile conventional natural hair color dye requires to minutes to complete the coloring, herb speedy color cream offers satisfactory result in just minutesminutes each for&cream). sunlight protectionherb speedy has patented (korea patent no.sunscreen agent which prevent color fading from sunlight damage. made in koreadongsung bio pharm co.,ltd is manufacturer in south korea. they are in the business since .   \n",
       "409                                                                                                                                                                                                                                                                                                                                                                                                                                                                                                                                                                                                                                                                                                                                                                                                                                                                                                                                                                                                                                                                                                                                                                                                                                                                                                                        permanent at-home hair dye: convenient hair color kit for at-home use co-developed with salon experts for long-lasting gray coverage keratin enriched hair color: nourishing, ammonia-free hair color formula is infused with keratin and silk amino acid to leave hair in better condition than before you colored itgray coverage: revlons color gel technology delivers rich, natural-looking, multidimensional color with shine that lasts easy to use hair color kit: changing your look or covering greys is simple with an easy at-home process from root to tip natural looking shades: with shades of black, brown, blonde, red, and platinum hair dye, there are so many beautiful colors to choose from   \n",
       "410                                                                                                                                                                                                                                                                                                                                                                                                                                                                                                                                                                                                                                                                                                                                                                                                                                                                                                                                                                                                                                                                                                                                                                                                                                                                                                                                                                                                                                                                                                                                                                                                                                                                                                     contains no ammonia, resorcinol or parabens available in colors, each color can be used alone or blended to create personalized hair colors fast and easy, complete application takes less than an hour safe to use over color treated or permed hair. gives natural looking color variation, will not fade like other hair products.   \n",
       "411                                                                                                                                                                                                                                                                                                                                                                                                                                                                                                                                                                                                                                                                                                                                                                                                                                                                                                                                                                                                                                                                                                                                                                                                                                                                                                                                                                                                                                                                                                                                                                                                                                                                                                                                                                                                                                                     get a rush color and a boost of shine for radiant, healthy-looking hair our most gentle color to the hair, withnaturally derived ingredients! perfect for all hair types and textures   \n",
       "412                                                                                                                                                                                                                                                                                                                                                                                                                                                                                                                                                                                                                                                                                                                                                                                                                                                                                                                                                                                                                                                                                                                                                                                                                                                                                                                                                                                                                                                                                                                                                                                                                                                                                                                                                                                                                                                      get a rush color and a boost of shine for radiant, healthy-looking hair our most gentle color to the hair, withnaturally derived ingredients perfect for all hair types and textures   \n",
       "413                                                                                                                                                                                                                                                                                                                                                                                                                                                                                                                                                                                                                                                                                                                                                                                                                                                                                                                                                                                                                                                                                                                                                                                                                                                                                                                                                                                                                                                                                                                                                                                                                                                                                                                                                                                                                                                                                                                            suitable for all hair types. contains no ammonia or peroxide. gentle enough to use immediately after relaxing.   \n",
       "\n",
       "                               product_brand  \\\n",
       "32                                  FOTMISHU   \n",
       "33                  Zippity Outdoor Products   \n",
       "34                  Zippity Outdoor Products   \n",
       "35                                ColourTree   \n",
       "36                                ColourTree   \n",
       "37                                      MIXC   \n",
       "38                                 CandyHome   \n",
       "39                                Sunnyglade   \n",
       "40                                  EasyBaby   \n",
       "41                                      Amgo   \n",
       "42                                      Amgo   \n",
       "43                                 DearHouse   \n",
       "44                                     HUXOR   \n",
       "45                                 Orgrimmar   \n",
       "46                                     wudee   \n",
       "47                                    Sunwer   \n",
       "48                                     MAGZO   \n",
       "49                                   ASURION   \n",
       "50                                   VIVOSUN   \n",
       "51                     Enclo Privacy Screens   \n",
       "52                                        HP   \n",
       "53                                       DAP   \n",
       "54                                     Tenax   \n",
       "55   Creation's Garden Natural Products, Inc   \n",
       "56                           Windscreen4less   \n",
       "57                                   Richell   \n",
       "58                                    Regalo   \n",
       "59                                    Zareba   \n",
       "60                                     Tenax   \n",
       "61                                    Zareba   \n",
       "62                  Zippity Outdoor Products   \n",
       "63                  Zippity Outdoor Products   \n",
       "64                               Flux Phenom   \n",
       "65                   AMAGABELI GARDEN & HOME   \n",
       "66                                Houseables   \n",
       "67                                     Tespo   \n",
       "68                          BAXIA TECHNOLOGY   \n",
       "69                     Enclo Privacy Screens   \n",
       "402                            L'Oreal Paris   \n",
       "403                               naturcolor   \n",
       "404                                    Nisha   \n",
       "405                             INDUS VALLEY   \n",
       "406                                  Garnier   \n",
       "407                              Herb Speedy   \n",
       "408                              Herb Speedy   \n",
       "409                                   REVLON   \n",
       "410                               naturcolor   \n",
       "411                                  Clairol   \n",
       "412                                  Clairol   \n",
       "413                     Clairol Professional   \n",
       "\n",
       "                                 product_color  \n",
       "32                                       green  \n",
       "33                                       White  \n",
       "34                                       White  \n",
       "35                        Green 2nd Generation  \n",
       "36                        Black 2nd Generation  \n",
       "37                                       Green  \n",
       "38                              1 Pack (Green)  \n",
       "39                                       Green  \n",
       "40                                       Black  \n",
       "41                                       Black  \n",
       "42                                       Black  \n",
       "43                                       Green  \n",
       "44                                              \n",
       "45                                       Green  \n",
       "46                                              \n",
       "47                                              \n",
       "48                                        Gray  \n",
       "49                                              \n",
       "50                                      1-Pack  \n",
       "51                                       White  \n",
       "52                                       Black  \n",
       "53                                       White  \n",
       "54                                       Black  \n",
       "55                                       Brown  \n",
       "56                                       Black  \n",
       "57                               Origami White  \n",
       "58                                       White  \n",
       "59                                       Black  \n",
       "60                                       Green  \n",
       "61                                Yellow/Black  \n",
       "62                                       White  \n",
       "63                                       White  \n",
       "64                                       Black  \n",
       "65                                       Black  \n",
       "66                                       Green  \n",
       "67                          Metal Wire Playpen  \n",
       "68                                       White  \n",
       "69                                       White  \n",
       "402                            3 Natural Black  \n",
       "403                         5N - Light Burdock  \n",
       "404                              Natural Black  \n",
       "405                                  Black 1.0  \n",
       "406                  20 Soft Black (Black Tea)  \n",
       "407                              Natural Black  \n",
       "408                                 Dark Brown  \n",
       "409                             011 Soft Black  \n",
       "410                               4N - Burdock  \n",
       "411                                    2 Black  \n",
       "412                    8G Medium Golden Blonde  \n",
       "413  Advanced Gray Solutions 1a Midnight Black  "
      ]
     },
     "execution_count": 13,
     "metadata": {},
     "output_type": "execute_result"
    }
   ],
   "source": [
    "df_examples_products_clean.head(50)"
   ]
  },
  {
   "cell_type": "code",
   "execution_count": 14,
   "id": "fce59b91",
   "metadata": {},
   "outputs": [
    {
     "data": {
      "text/html": [
       "<div>\n",
       "<style scoped>\n",
       "    .dataframe tbody tr th:only-of-type {\n",
       "        vertical-align: middle;\n",
       "    }\n",
       "\n",
       "    .dataframe tbody tr th {\n",
       "        vertical-align: top;\n",
       "    }\n",
       "\n",
       "    .dataframe thead th {\n",
       "        text-align: right;\n",
       "    }\n",
       "</style>\n",
       "<table border=\"1\" class=\"dataframe\">\n",
       "  <thead>\n",
       "    <tr style=\"text-align: right;\">\n",
       "      <th></th>\n",
       "      <th>query</th>\n",
       "      <th>esci_label</th>\n",
       "      <th>product_text</th>\n",
       "    </tr>\n",
       "  </thead>\n",
       "  <tbody>\n",
       "    <tr>\n",
       "      <th>32</th>\n",
       "      <td>!qscreen fence without holes</td>\n",
       "      <td>I</td>\n",
       "      <td>fotmishu greenhouse hoops rust-free grow tunnel tunnel, long steel with plastic coated plant supports for garden fabric, plant support garden stakes. description:material:plasticcoatedsteelpipesize(thesizebeforebending),*(thesizeafterbending)weight:color:greenpackinginclud:/bagproductusage:,canbeusedforthetractionoftomatoesvine,vinesandsomenaturalclimbingplants.withsupport,canbeusedasasupportforthegreenhouse,gardenhoopsprovideconvenienceforyourgardenplantworkfeatures:,uniqueandhandsomeinappearance,goodmaterial,strongantioxidantcapacity,greenandhealth.installationsteps:gatheringallmaterialsbendthehoopsoutlineyourlowtunnelgreenhouseputyourhoopsinplacetiearidgelinetimetoplacethecovertiedowntheendswithpins.. material--high-qualityplasticcoatedsteelpipe,noteasytorust,canbeusedforalongtime. size--/(thesizebeforebending),/.,/.(thesizeafterbending),/...gardenfabricnotincluded. easytosetup--comescompletewithsharpenedpointsonbothsidesforeaseofplacement.washable,reusable,flatforstorage.createsafavorablemicroclimateforyourplants. protectingplants--usehoopstosupportgardenrowcovers,protectingplantsfromfrost,insects,birds,orintensesun.canbeusedwithinsect-proofnets,shadingnets,insulationfilmandsoon. features--designforplantcover,frostprotectioncoverandminigreenhouse,providesidealenvironmentforrapidgerminationandgrowthofyoungplants</td>\n",
       "    </tr>\n",
       "    <tr>\n",
       "      <th>33</th>\n",
       "      <td>!qscreen fence without holes</td>\n",
       "      <td>I</td>\n",
       "      <td>zippity outdoor products unassembled madison vinyl gate kit with fence wings, white. . designed for the madison vinyl fence (itemto install, dig holes and secure the extended posts into the ground; use gravel or concrete for extra stability (optional) kit includes small stainless latch (), hinges (), supporting posts (), decorative fence wings with posts () and post caps () the entire gate kit with wings spans -/. gate without wings is -/. gate must be installed with wings for optimal stability assembly and installation required</td>\n",
       "    </tr>\n",
       "    <tr>\n",
       "      <th>34</th>\n",
       "      <td>!qscreen fence without holes</td>\n",
       "      <td>E</td>\n",
       "      <td>zippity outdoor products lightweight portable vinyl picket fence kit w/metal base(\" h xw), white. . designed as a portable fence for temporary events rust-free metal bases are included; bases have small holes if you need to screw the base into wood or concrete (fence will stand on its own without screws) this fence should not be used for serious crowd control or child or pet safety; it is designed to be used as a psychological or aesthetic barrier and not a physical one each panel includes a connector piece to attach to an adjacent panel in a straight line or at a right angle; this makes this fence fully scalable to add as many panels as you need for your event assembly required. top shape-flat</td>\n",
       "    </tr>\n",
       "    <tr>\n",
       "      <th>35</th>\n",
       "      <td>!qscreen fence without holes</td>\n",
       "      <td>S</td>\n",
       "      <td>colourtreexgreen fence privacy screen windscreen cover fabric shade tarp netting mesh clothcommercial grade gsmcable zip ties includedwe make custom size. . virgin, uv stabilized compoundsthick material: the only fence screen product on the market that are made of gsmvirgin (non-recycled) hdpe material. our virgin hdpe fabric went through hours of laboratory uv testing and it is proved to bemore durable compared to recycled hdpe under sun exposure, fabric has been treated with uv stabilized compound, preventing fence screen from dried out, tearing and fading, significantly extend the lifespan. privacy solutionvisibility blockage: most economical way for privacy over chain link fence, porous decorative concealment, existing cyclone wire fence, wood retaining wall, welded wire fence, chain link fence, privacy barrier around swimming pool, block nose neighbor see through, add privacy to acre back yard backdrop, front yard, patio, garden and porch; hide street, road, construction site, pet kennel pen, block surrounding noise and street view, stops dogs from barking at neighb comes with the extra stainless grommets and reinforced binding: grommets are made of stainless copper, each corner has grommets (compares to similar products on the market only havegrommets), more grommets are placed evenly along all edges, inches apart vertically, inches horizontally. all edges are covered with black reinforced -inch binding (.-inch on each side). the grommets and bindings help the screen to hold up in the wind. can be used as shades or greenhouse solution: can be used there are lots of different ways to use: protection for vegetable garden plants, greenhouse covering, wind blocking for plant nursery area, window shades, tennis court, shades for pet penkennel, construction site, etc. breathable weaving fabric allows water and air to go through freely, resistant to both uv and water, no maintenance needed. years warranty: limited years warranty under normal usage and weather. free consultation. all colourtree brand products come with warranty, the terms of warranty may vary.</td>\n",
       "    </tr>\n",
       "    <tr>\n",
       "      <th>36</th>\n",
       "      <td>!qscreen fence without holes</td>\n",
       "      <td>S</td>\n",
       "      <td>colourtreexblack fence privacy screen windscreen cover fabric shade tarp netting mesh clothcommercial grade gsmcable zip ties includedwe make custom size. . virgin, uv stabilized compoundsthick material: actual height is\", fits perfectly on footer fence. the only fence screen product on the market that are made of gsmvirgin (non-recycled) hdpe material. went through hours of laboratory uv testing and it is proved to bemore durable than recycled hdpe under sun exposure, fabric has been treated with uv stabilized compound, preventing fence screen from dried out, tearing and fading, significantly extend the lifes privacy solutionvisibility blockage: most economical way for privacy over chain link fence, porous decorative concealment, existing cyclone wire fence, wood retaining wall, welded wire fence, chain link fence, privacy barrier around swimming pool, block nose neighbor see through, add privacy to acre back yard backdrop, front yard, patio, garden and porch; hide street, road, construction site, pet kennel pen, block surrounding noise and street view, stops dogs from barking at neighb comes with the extra stainless grommets and reinforced binding: grommets are made of stainless copper, each corner has grommets (compares to similar products on the market only havegrommets), more grommets are placed evenly along all edges, inches apart vertically, inches horizontally. all edges are covered with black reinforced -inch binding (.-inch on each side). the grommets and bindings help the screen to hold up in the wind. can be used as shades or greenhouse solution: can be used there are lots of different ways to use: protection for vegetable garden plants, greenhouse covering, wind blocking for plant nursery area, window shades, tennis court, shades for pet penkennel, construction site, etc. breathable weaving fabric allows water and air to go through freely, resistant to both uv and water, no maintenance needed. years warranty: limited years warranty under normal usage and weather. free consultation. all colourtree brand products come with warranty, the terms of warranty may vary.</td>\n",
       "    </tr>\n",
       "  </tbody>\n",
       "</table>\n",
       "</div>"
      ],
      "text/plain": [
       "                           query esci_label  \\\n",
       "32  !qscreen fence without holes          I   \n",
       "33  !qscreen fence without holes          I   \n",
       "34  !qscreen fence without holes          E   \n",
       "35  !qscreen fence without holes          S   \n",
       "36  !qscreen fence without holes          S   \n",
       "\n",
       "                                                                                                                                                                                                                                                                                                                                                                                                                                                                                                                                                                                                                                                                                                                                                                                                                                                                                                                                                                                                                                                                                                                                                                                                                                                                                                                                                                                                                                                                                                                                                                                                                                                                                                                                                                                                                                                                                                                                                                                                                                                                                                                                                                                       product_text  \n",
       "32                                                                                                                                                                                                                                                                                                                                                                                                                                                                                                                                                                                                                                                                                                                                                                                                         fotmishu greenhouse hoops rust-free grow tunnel tunnel, long steel with plastic coated plant supports for garden fabric, plant support garden stakes. description:material:plasticcoatedsteelpipesize(thesizebeforebending),*(thesizeafterbending)weight:color:greenpackinginclud:/bagproductusage:,canbeusedforthetractionoftomatoesvine,vinesandsomenaturalclimbingplants.withsupport,canbeusedasasupportforthegreenhouse,gardenhoopsprovideconvenienceforyourgardenplantworkfeatures:,uniqueandhandsomeinappearance,goodmaterial,strongantioxidantcapacity,greenandhealth.installationsteps:gatheringallmaterialsbendthehoopsoutlineyourlowtunnelgreenhouseputyourhoopsinplacetiearidgelinetimetoplacethecovertiedowntheendswithpins.. material--high-qualityplasticcoatedsteelpipe,noteasytorust,canbeusedforalongtime. size--/(thesizebeforebending),/.,/.(thesizeafterbending),/...gardenfabricnotincluded. easytosetup--comescompletewithsharpenedpointsonbothsidesforeaseofplacement.washable,reusable,flatforstorage.createsafavorablemicroclimateforyourplants. protectingplants--usehoopstosupportgardenrowcovers,protectingplantsfromfrost,insects,birds,orintensesun.canbeusedwithinsect-proofnets,shadingnets,insulationfilmandsoon. features--designforplantcover,frostprotectioncoverandminigreenhouse,providesidealenvironmentforrapidgerminationandgrowthofyoungplants  \n",
       "33                                                                                                                                                                                                                                                                                                                                                                                                                                                                                                                                                                                                                                                                                                                                                                                                                                                                                                                                                                                                                                                                                                                                                                                                                                                                                                                                                                                                                                                                                                                                                                                                                                           zippity outdoor products unassembled madison vinyl gate kit with fence wings, white. . designed for the madison vinyl fence (itemto install, dig holes and secure the extended posts into the ground; use gravel or concrete for extra stability (optional) kit includes small stainless latch (), hinges (), supporting posts (), decorative fence wings with posts () and post caps () the entire gate kit with wings spans -/. gate without wings is -/. gate must be installed with wings for optimal stability assembly and installation required  \n",
       "34                                                                                                                                                                                                                                                                                                                                                                                                                                                                                                                                                                                                                                                                                                                                                                                                                                                                                                                                                                                                                                                                                                                                                                                                                                                                                                                                                                                                                                                                  zippity outdoor products lightweight portable vinyl picket fence kit w/metal base(\" h xw), white. . designed as a portable fence for temporary events rust-free metal bases are included; bases have small holes if you need to screw the base into wood or concrete (fence will stand on its own without screws) this fence should not be used for serious crowd control or child or pet safety; it is designed to be used as a psychological or aesthetic barrier and not a physical one each panel includes a connector piece to attach to an adjacent panel in a straight line or at a right angle; this makes this fence fully scalable to add as many panels as you need for your event assembly required. top shape-flat  \n",
       "35                   colourtreexgreen fence privacy screen windscreen cover fabric shade tarp netting mesh clothcommercial grade gsmcable zip ties includedwe make custom size. . virgin, uv stabilized compoundsthick material: the only fence screen product on the market that are made of gsmvirgin (non-recycled) hdpe material. our virgin hdpe fabric went through hours of laboratory uv testing and it is proved to bemore durable compared to recycled hdpe under sun exposure, fabric has been treated with uv stabilized compound, preventing fence screen from dried out, tearing and fading, significantly extend the lifespan. privacy solutionvisibility blockage: most economical way for privacy over chain link fence, porous decorative concealment, existing cyclone wire fence, wood retaining wall, welded wire fence, chain link fence, privacy barrier around swimming pool, block nose neighbor see through, add privacy to acre back yard backdrop, front yard, patio, garden and porch; hide street, road, construction site, pet kennel pen, block surrounding noise and street view, stops dogs from barking at neighb comes with the extra stainless grommets and reinforced binding: grommets are made of stainless copper, each corner has grommets (compares to similar products on the market only havegrommets), more grommets are placed evenly along all edges, inches apart vertically, inches horizontally. all edges are covered with black reinforced -inch binding (.-inch on each side). the grommets and bindings help the screen to hold up in the wind. can be used as shades or greenhouse solution: can be used there are lots of different ways to use: protection for vegetable garden plants, greenhouse covering, wind blocking for plant nursery area, window shades, tennis court, shades for pet penkennel, construction site, etc. breathable weaving fabric allows water and air to go through freely, resistant to both uv and water, no maintenance needed. years warranty: limited years warranty under normal usage and weather. free consultation. all colourtree brand products come with warranty, the terms of warranty may vary.  \n",
       "36  colourtreexblack fence privacy screen windscreen cover fabric shade tarp netting mesh clothcommercial grade gsmcable zip ties includedwe make custom size. . virgin, uv stabilized compoundsthick material: actual height is\", fits perfectly on footer fence. the only fence screen product on the market that are made of gsmvirgin (non-recycled) hdpe material. went through hours of laboratory uv testing and it is proved to bemore durable than recycled hdpe under sun exposure, fabric has been treated with uv stabilized compound, preventing fence screen from dried out, tearing and fading, significantly extend the lifes privacy solutionvisibility blockage: most economical way for privacy over chain link fence, porous decorative concealment, existing cyclone wire fence, wood retaining wall, welded wire fence, chain link fence, privacy barrier around swimming pool, block nose neighbor see through, add privacy to acre back yard backdrop, front yard, patio, garden and porch; hide street, road, construction site, pet kennel pen, block surrounding noise and street view, stops dogs from barking at neighb comes with the extra stainless grommets and reinforced binding: grommets are made of stainless copper, each corner has grommets (compares to similar products on the market only havegrommets), more grommets are placed evenly along all edges, inches apart vertically, inches horizontally. all edges are covered with black reinforced -inch binding (.-inch on each side). the grommets and bindings help the screen to hold up in the wind. can be used as shades or greenhouse solution: can be used there are lots of different ways to use: protection for vegetable garden plants, greenhouse covering, wind blocking for plant nursery area, window shades, tennis court, shades for pet penkennel, construction site, etc. breathable weaving fabric allows water and air to go through freely, resistant to both uv and water, no maintenance needed. years warranty: limited years warranty under normal usage and weather. free consultation. all colourtree brand products come with warranty, the terms of warranty may vary.  "
      ]
     },
     "execution_count": 14,
     "metadata": {},
     "output_type": "execute_result"
    }
   ],
   "source": [
    "df_examples_products_clean['product_text'] = (\n",
    "    df_examples_products_clean['product_title'] + '. ' + df_examples_products_clean['product_description'] + \n",
    "    '. ' + df_examples_products_clean['product_bullet_point']\n",
    ")\n",
    "df_examples_products_clean[['query', 'esci_label', 'product_text']].head()"
   ]
  },
  {
   "cell_type": "code",
   "execution_count": 16,
   "id": "a017966b",
   "metadata": {},
   "outputs": [
    {
     "data": {
      "text/plain": [
       "array([ 3.96649987e-02, -2.92933378e-02, -2.77088415e-02, -5.49586862e-02,\n",
       "        3.40879373e-02, -4.12879288e-02,  1.73210036e-02, -4.14500479e-03,\n",
       "        2.39177924e-02, -8.85709771e-04,  7.50699267e-03,  1.11439647e-02,\n",
       "       -2.54435372e-03, -4.10563536e-02, -5.81563078e-02, -9.57910717e-03,\n",
       "        5.94797544e-03, -5.65076061e-02, -8.11948553e-02, -3.86233046e-03,\n",
       "        3.56025776e-05,  2.23608203e-02, -1.16068590e-02,  2.46384796e-02,\n",
       "        7.88948685e-02,  6.59193546e-02, -8.31936859e-03, -1.72879491e-02,\n",
       "        1.79381501e-02,  1.59524791e-02,  3.87127488e-03, -3.54216471e-02,\n",
       "       -5.05456775e-02, -9.94721893e-03, -2.75229849e-02, -4.95090731e-04,\n",
       "        3.46693234e-03, -2.96155065e-02,  6.80901855e-02,  2.85488274e-02,\n",
       "        1.95989665e-02, -3.92260887e-02,  4.25860807e-02, -6.37953868e-03,\n",
       "       -2.39171181e-02, -7.62367668e-03, -3.41702998e-02, -6.29468560e-02,\n",
       "       -1.60953996e-03,  5.92776462e-02, -2.90842284e-03, -2.07001977e-02,\n",
       "       -4.96227145e-02,  2.12374423e-02,  3.35719399e-02,  4.21781428e-02,\n",
       "       -5.32559603e-02,  7.02258423e-02,  2.88561527e-02, -5.74656725e-02,\n",
       "        3.25959548e-02, -1.55215077e-02, -3.82180698e-02,  3.48515995e-02,\n",
       "        2.05027778e-02, -1.84533037e-02, -1.07114129e-02, -3.59554514e-02,\n",
       "        3.26746441e-02, -2.67813168e-02, -7.67913274e-03, -7.02591101e-03,\n",
       "        4.89003882e-02, -3.35705988e-02, -7.19225826e-03, -5.92306163e-03,\n",
       "       -2.06942558e-02, -1.18262460e-02, -2.69947629e-02, -3.99810588e-03,\n",
       "       -2.75716564e-04,  3.03060506e-02, -4.54817265e-02,  7.51112327e-02,\n",
       "        1.10964645e-02,  9.98889729e-02,  3.34779755e-03, -1.21292397e-02,\n",
       "        3.09555233e-03, -3.20938090e-03,  2.89919451e-02, -2.14232747e-02,\n",
       "        6.39692275e-03, -5.25393002e-02,  3.31424028e-02,  3.39118764e-02,\n",
       "       -3.56532522e-02,  6.42186496e-03, -9.58654471e-03, -1.72827728e-02,\n",
       "       -3.19472253e-02, -1.30970115e-02, -1.00332804e-01,  1.40257068e-02,\n",
       "       -4.29498181e-02, -1.61719657e-02,  1.46891363e-02, -4.84125502e-02,\n",
       "        1.59379337e-02, -2.06542872e-02,  7.32238516e-02,  7.54296705e-02,\n",
       "       -5.25015369e-02,  6.40081125e-05, -1.49240550e-02, -2.69556977e-03,\n",
       "       -2.30791382e-02, -1.30416183e-02, -1.48755647e-02,  8.20798278e-02,\n",
       "       -2.08836049e-03, -2.20518243e-02, -8.63473862e-02, -6.08218834e-02,\n",
       "       -3.46888253e-03,  4.83279154e-02, -3.79633973e-03, -2.02104524e-02,\n",
       "       -4.62944545e-02, -1.92031711e-02, -2.87070777e-02, -4.59630452e-02,\n",
       "       -3.33750620e-02,  2.12509613e-02,  5.30662686e-02, -4.92930505e-03,\n",
       "       -1.78342998e-05,  6.09584898e-02, -3.21661793e-02, -1.71236023e-02,\n",
       "       -4.24779840e-02, -4.68441881e-02, -1.42280618e-02,  3.47122699e-02,\n",
       "       -2.23475695e-02,  3.50526907e-02,  6.76849671e-03,  4.90768719e-03,\n",
       "       -1.28222890e-02, -9.69017670e-03, -1.14925941e-02, -3.96657586e-02,\n",
       "        2.14299541e-02, -1.68400202e-02, -5.75308837e-02,  1.08400844e-02,\n",
       "        7.87571725e-03, -3.67796309e-02,  4.57296222e-02,  1.67783555e-02,\n",
       "        6.71895593e-02, -5.58364298e-03,  3.11972890e-02, -1.85403116e-02,\n",
       "       -2.49243919e-02, -3.41838971e-02,  3.24297231e-03, -7.58559722e-03,\n",
       "       -2.90737231e-03, -6.39256136e-03,  1.78033803e-02,  4.26407484e-03,\n",
       "        1.71960182e-02,  1.40575599e-03,  4.05686200e-02,  1.84323173e-02,\n",
       "       -7.06235468e-02,  2.68927924e-02,  4.65189852e-02,  6.22509755e-02,\n",
       "       -5.02778552e-02, -7.34332809e-03,  7.47730583e-03, -3.31492461e-02,\n",
       "        5.30009083e-02, -1.05690928e-02, -1.12128090e-02,  7.69249573e-02,\n",
       "       -2.17278507e-02, -2.44027767e-02, -1.93672646e-02,  3.09634879e-02,\n",
       "        1.05315261e-03,  7.95619637e-02, -9.49549675e-03, -1.73967686e-02,\n",
       "       -9.42150690e-03, -2.01430451e-02,  4.47636098e-02, -8.93071480e-03,\n",
       "        1.50006991e-02,  1.89099237e-02,  1.40949517e-01, -9.77139547e-02,\n",
       "        3.08952630e-02, -5.00195138e-02, -2.64289342e-02, -5.53159565e-02,\n",
       "        1.70056392e-02,  2.91769300e-02, -4.56748083e-02,  1.23816915e-03,\n",
       "       -3.31652351e-02, -3.82442810e-02,  5.29550835e-02, -3.36099863e-02,\n",
       "        2.72879340e-02,  5.39289825e-02, -5.23379408e-02,  1.81882980e-03,\n",
       "        1.44010386e-03, -1.76276006e-02,  6.86019510e-02,  2.52248328e-02,\n",
       "       -1.64505076e-02,  8.94548595e-02, -8.85018427e-03, -2.32629050e-02,\n",
       "        3.63826123e-03,  4.13423739e-02,  2.53217481e-02,  1.72579214e-02,\n",
       "        3.77612785e-02, -4.12783585e-03, -1.17989900e-02, -5.27990833e-02,\n",
       "       -5.94237912e-03,  2.43480559e-02,  2.37231310e-02, -7.63780922e-02,\n",
       "       -2.25586072e-02,  5.28171137e-02,  4.12095115e-02, -3.36671583e-02,\n",
       "       -2.36093309e-02, -4.25571054e-02,  9.23607219e-03, -1.19533446e-02,\n",
       "       -1.92594342e-02, -6.39359653e-02, -5.81274135e-03, -6.52500540e-02,\n",
       "       -1.36391083e-02, -1.29543422e-02,  8.48991424e-03, -1.19619034e-02,\n",
       "       -1.44814588e-02,  2.41171289e-02, -2.58950144e-02,  2.43895967e-02,\n",
       "        2.01653279e-02,  2.24294029e-02,  1.77324098e-02,  6.14771843e-02,\n",
       "       -2.42856871e-02,  3.67459133e-02,  3.85736697e-03,  5.28196013e-03,\n",
       "        2.52972730e-02, -2.16089701e-03, -6.24441840e-02,  8.36959761e-03,\n",
       "        1.15794361e-01, -3.37266624e-02, -5.14164940e-03,  2.37318128e-02,\n",
       "        8.41687322e-02,  9.77497621e-05, -1.71104856e-02,  8.24984256e-03,\n",
       "        2.57189423e-02,  2.90002711e-02,  1.13265768e-01, -4.53493670e-02,\n",
       "        3.35535109e-02, -8.06100443e-02, -1.87565126e-02, -3.83504778e-02,\n",
       "        1.99484476e-03,  3.04397531e-02,  5.42860813e-02,  3.00066974e-02,\n",
       "        1.55392131e-02,  1.42027320e-05,  2.19927374e-02, -2.76782066e-02,\n",
       "        1.20293833e-02,  4.68509383e-02, -8.55570193e-03, -6.35042489e-02,\n",
       "       -1.70725826e-02,  1.01329889e-02,  2.31763944e-02, -1.85060930e-02,\n",
       "       -5.92553895e-03, -3.41233835e-02, -8.45256150e-02,  5.10665029e-02,\n",
       "        1.92761347e-02,  3.21872793e-02,  1.32889242e-03,  1.35472519e-02,\n",
       "        2.50571948e-02,  2.66319532e-02, -1.70667339e-02, -7.06855161e-03,\n",
       "        1.68720465e-02,  3.12543176e-02,  2.51355469e-02, -1.63620021e-02,\n",
       "       -1.66254081e-02,  6.20090729e-03, -2.66301613e-02,  8.94252118e-03,\n",
       "       -4.23727557e-02,  3.60777862e-02,  8.30787420e-03, -9.33191460e-03,\n",
       "       -1.75705627e-02, -2.38278806e-02, -9.31660309e-02, -7.22184256e-02,\n",
       "        3.84522509e-03,  5.18532842e-03, -5.95857529e-03,  3.58809088e-03,\n",
       "        1.69346519e-02, -7.51146534e-03, -3.60119884e-04,  1.74914021e-02,\n",
       "       -3.55326347e-02, -7.04065040e-02,  8.75083264e-03,  6.68412657e-04,\n",
       "        2.06877422e-02, -7.39336088e-02, -6.58446597e-03, -9.28766746e-03,\n",
       "        7.78066739e-03,  3.51583963e-04,  2.23378986e-02, -1.49696681e-03,\n",
       "        3.29077151e-03, -7.05594420e-02, -1.44144744e-02,  1.87503342e-02,\n",
       "        2.36149598e-02,  7.36187622e-02,  4.98564076e-03, -1.43316379e-02,\n",
       "       -6.90527633e-03,  2.44377051e-02,  1.16703650e-02,  2.54033171e-02,\n",
       "       -1.06402328e-02, -1.06461029e-02, -2.22138986e-02, -3.47258686e-03,\n",
       "       -1.06541719e-02,  2.23905426e-02,  1.77243687e-02, -4.09077015e-03,\n",
       "       -4.46126750e-03,  3.27401352e-03, -1.70738567e-02,  1.01670260e-02,\n",
       "       -1.69005431e-02,  4.93487269e-02,  4.51497100e-02,  2.86833197e-02,\n",
       "       -3.14009413e-02, -2.40492746e-02, -2.85331476e-02,  2.33136844e-02,\n",
       "        5.81189170e-02, -4.31702733e-02, -8.61012097e-03, -5.08597307e-02,\n",
       "        9.90626067e-02, -1.19649395e-02,  5.18661216e-02,  4.27122898e-02,\n",
       "       -2.38436218e-02, -3.60727236e-02, -1.65252052e-02, -2.18726080e-02,\n",
       "       -5.06855100e-02,  5.76305650e-02, -3.74018513e-02, -1.65699162e-02,\n",
       "       -2.56500095e-02,  5.07581420e-02,  3.70646901e-02,  4.60195281e-02,\n",
       "        4.01574187e-03,  2.77612805e-02, -1.76758226e-02, -1.34059908e-02,\n",
       "       -9.97913405e-02, -3.89164351e-02,  1.94949713e-02,  3.40918601e-02,\n",
       "        3.54516581e-02, -7.59826750e-02,  2.88066398e-02, -1.61240026e-02,\n",
       "       -9.04650148e-03, -7.30536208e-02, -1.70350838e-02,  1.65147558e-02,\n",
       "        1.04700150e-02,  5.83025394e-04, -4.88259085e-03, -2.54041739e-02,\n",
       "       -2.10248288e-02,  3.24948952e-02,  3.19590904e-02, -4.26335037e-02,\n",
       "        3.95021401e-02,  8.16015899e-03,  1.71749443e-02,  3.65412086e-02,\n",
       "       -1.80021785e-02, -1.89256370e-02,  4.49712761e-02, -5.81379561e-03,\n",
       "        2.24501193e-02, -2.22605951e-02,  1.32619180e-02,  7.15961680e-02,\n",
       "        3.36574763e-02, -1.02449954e-02,  3.51215191e-02, -3.19571309e-02,\n",
       "       -1.60891861e-02,  3.35863791e-02,  3.06153065e-03,  6.29391195e-03,\n",
       "        3.31643559e-02,  1.21966004e-01, -8.53795186e-03,  6.55672653e-03,\n",
       "        1.05698658e-02, -5.77085875e-02, -1.41899502e-02,  4.78508249e-02,\n",
       "       -2.17741467e-02,  2.05153949e-03,  1.59875955e-02, -3.35522406e-02,\n",
       "       -3.41622904e-02, -3.22830342e-02, -4.74689994e-03, -1.83677375e-02,\n",
       "        2.99637355e-02,  1.51805282e-02,  4.43340698e-03, -6.12863759e-03,\n",
       "       -1.80524215e-02,  1.77364927e-02, -2.74559595e-02, -2.66055632e-02,\n",
       "        1.18605569e-02, -2.00654026e-02, -2.32298533e-03, -9.20400489e-03,\n",
       "        1.86433521e-04, -2.54040845e-02,  1.56042473e-02, -4.54976857e-02,\n",
       "       -4.53642346e-02,  2.72094999e-02,  1.16655203e-02,  1.95835941e-02,\n",
       "        5.44939516e-03, -9.33738146e-03, -1.65474638e-02,  7.72787584e-03,\n",
       "        2.99842972e-02, -2.33093891e-02,  2.32101455e-02, -8.38119444e-03,\n",
       "       -5.56572527e-02,  9.43720865e-04,  1.85059545e-33, -2.87226471e-03,\n",
       "       -8.21123738e-03, -5.71210198e-02,  2.45432053e-02, -1.73142683e-02,\n",
       "        3.40657239e-03,  8.04190338e-03,  7.77374804e-02,  3.65576632e-02,\n",
       "        1.19813532e-02,  1.51054381e-04, -1.07789822e-02,  2.25428604e-02,\n",
       "       -1.83799285e-02,  3.39492515e-04,  1.54355923e-02,  6.17864504e-02,\n",
       "        4.17591520e-02,  5.46902977e-03, -3.32948864e-02,  2.28258632e-02,\n",
       "       -8.97541642e-02, -3.16641815e-02,  1.74142309e-02,  6.70946687e-02,\n",
       "       -3.95701267e-02, -1.72396435e-03,  4.89901751e-04,  1.32446829e-02,\n",
       "       -4.36021797e-02, -1.29137048e-03,  4.76010218e-02,  6.60375878e-02,\n",
       "       -5.31450063e-02, -3.71382106e-03,  4.34070490e-02, -1.18026286e-02,\n",
       "       -2.58939788e-02,  2.89596990e-03, -4.33890894e-02,  1.91218853e-02,\n",
       "       -4.92220260e-02, -1.39305769e-02, -2.67744064e-04,  3.61147560e-02,\n",
       "       -8.40562582e-03,  2.25984249e-02,  5.35484999e-02, -4.28449772e-02,\n",
       "        1.02170566e-02, -2.79543852e-03,  2.53048949e-02,  2.76434943e-02,\n",
       "       -3.42626125e-02, -2.62753870e-02,  5.69685400e-02, -1.57037508e-02,\n",
       "        4.98186937e-03,  6.80573210e-02, -3.73451859e-02, -4.98954346e-03,\n",
       "       -3.13688046e-03,  1.17634954e-02,  2.19827127e-02,  5.98827675e-02,\n",
       "       -2.03922447e-02, -1.14018414e-02,  3.60831581e-02,  5.35419285e-02,\n",
       "       -2.87724044e-02, -4.15813513e-02, -2.43739374e-02, -6.52318588e-04,\n",
       "        9.43916943e-03,  1.61730610e-02, -5.44933043e-03, -4.21802253e-02,\n",
       "        7.74810091e-03, -8.99092183e-02,  6.54214947e-03, -1.02209067e-02,\n",
       "        2.14818381e-02, -3.82299088e-02, -1.38716958e-02,  3.62835117e-02,\n",
       "        4.54858914e-02, -1.22117745e-02,  6.03320636e-02, -8.07204843e-03,\n",
       "       -2.01847553e-02,  2.39777416e-02,  4.10158522e-02, -3.48744332e-04,\n",
       "        4.67710081e-04, -2.22753566e-02,  3.02274805e-02,  2.40268782e-02,\n",
       "       -1.82639528e-02, -3.78668569e-02, -4.82417792e-02,  3.73137780e-02,\n",
       "       -2.67358441e-02, -1.76687948e-02,  2.66368818e-02, -2.45192945e-02,\n",
       "       -6.61224267e-03, -3.65122557e-02,  7.84336776e-03, -6.38079830e-04,\n",
       "        1.37759857e-02,  2.67561283e-02,  2.93178782e-02, -1.43415593e-02,\n",
       "        2.54335292e-02, -1.18295327e-02, -4.15270962e-02,  9.34863184e-03,\n",
       "       -2.93388907e-02,  5.98871615e-03,  3.67909893e-02,  8.19820818e-03,\n",
       "       -4.12267633e-02, -2.04955004e-02, -3.40255629e-03,  4.67750616e-02,\n",
       "        1.25735542e-02,  3.90243828e-02,  2.27854233e-02,  1.98237579e-02,\n",
       "       -4.30163704e-02,  1.48857553e-02, -8.70537886e-04,  1.73733253e-02,\n",
       "        1.66753493e-02,  3.41257919e-03,  3.30306068e-02, -1.03013711e-02,\n",
       "        3.30901928e-02,  1.77360959e-02,  8.08896031e-03,  3.15914340e-02,\n",
       "        4.71307114e-02, -1.77787486e-02,  1.64856724e-02,  6.64620521e-03,\n",
       "        2.55955197e-02,  3.35172378e-02, -3.29574198e-02, -4.05342085e-03,\n",
       "       -7.07116425e-02,  3.61869223e-02,  3.14124934e-02, -2.04224102e-02,\n",
       "        6.11432008e-02, -5.51543804e-03, -1.66546786e-03,  6.29093051e-02,\n",
       "        6.89259637e-03, -3.13404724e-02,  5.79419546e-02,  5.58064245e-02,\n",
       "       -6.10056221e-02,  1.44175850e-02, -3.83220538e-02,  9.96295270e-03,\n",
       "        1.14054363e-02,  9.35680233e-03, -3.02366503e-02,  3.91986184e-02,\n",
       "       -3.90636399e-02, -3.47308256e-02,  3.77481035e-03, -2.41433289e-02,\n",
       "       -3.79329585e-02,  5.16603962e-02,  9.96230450e-03,  2.65125297e-02,\n",
       "       -9.99205559e-02, -1.72574781e-02, -3.82617414e-02, -3.04048490e-02,\n",
       "       -3.53683233e-02,  5.38000800e-02, -7.29743615e-02,  1.07811214e-02,\n",
       "       -4.29977663e-02,  1.96646992e-02,  7.50542805e-02, -2.26135291e-02,\n",
       "        8.45300704e-02, -8.00639763e-03,  1.73993539e-02, -1.93142630e-02,\n",
       "       -9.21766013e-02, -3.74523774e-02, -7.76294991e-02,  1.36938337e-02,\n",
       "       -4.65361737e-02, -2.46383473e-02,  5.50276320e-03,  8.33497010e-03,\n",
       "        4.79606614e-02,  7.10412301e-03, -1.96459647e-02,  4.43797931e-02,\n",
       "       -1.88909490e-02,  2.29320619e-02, -8.96704495e-02,  2.04776064e-03,\n",
       "        2.85290163e-02,  5.48790470e-02, -3.33638936e-02, -4.61475551e-02,\n",
       "        5.23312278e-02,  1.19228009e-02, -2.28944700e-02,  3.02759949e-02,\n",
       "       -7.35160522e-03, -3.56330886e-04,  2.93228105e-02, -4.25315052e-02,\n",
       "       -1.92226022e-02, -5.06608412e-02, -2.02818420e-02, -3.27319913e-02,\n",
       "       -3.19122747e-02, -1.06802480e-02,  3.75590511e-02,  1.73013546e-02,\n",
       "       -3.59631851e-02, -4.64050323e-02,  5.67705370e-03, -9.42053553e-03,\n",
       "        2.44359672e-02,  3.24006402e-03,  9.38974321e-02,  8.73414800e-02,\n",
       "       -2.55771503e-02,  6.41635954e-02, -2.36710138e-03,  2.89594904e-02,\n",
       "       -4.24226969e-02, -9.32110846e-02, -3.18912938e-02,  4.82631959e-02,\n",
       "       -3.69091891e-02,  7.70659698e-03,  5.86193167e-02, -1.03614861e-02,\n",
       "       -6.10301048e-02, -4.22583222e-02,  3.24459076e-02,  1.06865346e-05,\n",
       "       -7.28968903e-02,  6.06816541e-03,  8.02667439e-02,  1.94083452e-02,\n",
       "        5.49184568e-02,  1.48102287e-02,  6.15257025e-02, -3.22875194e-02,\n",
       "        3.23992446e-02, -3.07404920e-02,  5.15349247e-02,  3.06683965e-02,\n",
       "       -1.41022867e-02,  2.41131894e-02, -1.04585616e-02,  3.28375585e-02,\n",
       "        4.75786626e-02, -5.08215316e-02, -4.22422700e-02,  5.74860685e-02],\n",
       "      dtype=float32)"
      ]
     },
     "execution_count": 16,
     "metadata": {},
     "output_type": "execute_result"
    }
   ],
   "source": [
    "from transformers import AutoTokenizer\n",
    "from sentence_transformers import SentenceTransformer\n",
    "model_name = 'all-distilroberta-v1'\n",
    "model = SentenceTransformer(model_name)\n",
    "model.encode(\"hello world\")"
   ]
  },
  {
   "cell_type": "code",
   "execution_count": 34,
   "id": "bd23d44c",
   "metadata": {},
   "outputs": [],
   "source": [
    "import torch.nn.functional as F\n",
    "# input1 = torch.randn(100, 128)\n",
    "# input2 = torch.randn(100, 128)\n",
    "# output = F.cosine_similarity(input1, input2)\n",
    "# mm = torch.mm(input1, input2.transpose(0, 1))\n",
    "# print(mm.shape)\n",
    "# print(output.shape)\n",
    "# print(output)"
   ]
  },
  {
   "cell_type": "code",
   "execution_count": 117,
   "id": "1974e313",
   "metadata": {},
   "outputs": [],
   "source": [
    "# mm"
   ]
  },
  {
   "cell_type": "code",
   "execution_count": 118,
   "id": "3c91e0ad",
   "metadata": {},
   "outputs": [
    {
     "name": "stdout",
     "output_type": "stream",
     "text": [
      "8956\n",
      "181701 181701\n",
      "0\n"
     ]
    },
    {
     "name": "stderr",
     "output_type": "stream",
     "text": [
      "[E thread_pool.cpp:113] Exception in thread pool task: mutex lock failed: Invalid argument\n",
      "[E thread_pool.cpp:113] Exception in thread pool task: mutex lock failed: Invalid argument\n",
      "[E thread_pool.cpp:113] Exception in thread pool task: mutex lock failed: Invalid argument\n"
     ]
    },
    {
     "ename": "KeyboardInterrupt",
     "evalue": "",
     "output_type": "error",
     "traceback": [
      "\u001b[0;31m---------------------------------------------------------------------------\u001b[0m",
      "\u001b[0;31mKeyboardInterrupt\u001b[0m                         Traceback (most recent call last)",
      "Cell \u001b[0;32mIn[118], line 15\u001b[0m\n\u001b[1;32m     13\u001b[0m     features_product \u001b[38;5;241m=\u001b[39m temp[\u001b[38;5;124m'\u001b[39m\u001b[38;5;124mproduct_text\u001b[39m\u001b[38;5;124m'\u001b[39m]\n\u001b[1;32m     14\u001b[0m     query_emb \u001b[38;5;241m=\u001b[39m torch\u001b[38;5;241m.\u001b[39mtensor(model\u001b[38;5;241m.\u001b[39mencode(features_query\u001b[38;5;241m.\u001b[39mtolist()))\n\u001b[0;32m---> 15\u001b[0m     prod_emb \u001b[38;5;241m=\u001b[39m torch\u001b[38;5;241m.\u001b[39mtensor(\u001b[43mmodel\u001b[49m\u001b[38;5;241;43m.\u001b[39;49m\u001b[43mencode\u001b[49m\u001b[43m(\u001b[49m\u001b[43mfeatures_product\u001b[49m\u001b[38;5;241;43m.\u001b[39;49m\u001b[43mtolist\u001b[49m\u001b[43m(\u001b[49m\u001b[43m)\u001b[49m\u001b[43m)\u001b[49m)\n\u001b[1;32m     16\u001b[0m \u001b[38;5;66;03m#     print(query_emb.shape, prod_emb.shape)\u001b[39;00m\n\u001b[1;32m     17\u001b[0m \u001b[38;5;66;03m#     dot_product = torch.diagonal(torch.mm(query_emb, prod_emb.transpose(0, 1)).to('cpu'))\u001b[39;00m\n\u001b[1;32m     18\u001b[0m     cos_sim \u001b[38;5;241m=\u001b[39m F\u001b[38;5;241m.\u001b[39mcosine_similarity(query_emb, prod_emb)\n",
      "File \u001b[0;32m~/miniconda3/envs/deep-learning/lib/python3.9/site-packages/sentence_transformers/SentenceTransformer.py:165\u001b[0m, in \u001b[0;36mSentenceTransformer.encode\u001b[0;34m(self, sentences, batch_size, show_progress_bar, output_value, convert_to_numpy, convert_to_tensor, device, normalize_embeddings)\u001b[0m\n\u001b[1;32m    162\u001b[0m features \u001b[38;5;241m=\u001b[39m batch_to_device(features, device)\n\u001b[1;32m    164\u001b[0m \u001b[38;5;28;01mwith\u001b[39;00m torch\u001b[38;5;241m.\u001b[39mno_grad():\n\u001b[0;32m--> 165\u001b[0m     out_features \u001b[38;5;241m=\u001b[39m \u001b[38;5;28;43mself\u001b[39;49m\u001b[38;5;241;43m.\u001b[39;49m\u001b[43mforward\u001b[49m\u001b[43m(\u001b[49m\u001b[43mfeatures\u001b[49m\u001b[43m)\u001b[49m\n\u001b[1;32m    167\u001b[0m     \u001b[38;5;28;01mif\u001b[39;00m output_value \u001b[38;5;241m==\u001b[39m \u001b[38;5;124m'\u001b[39m\u001b[38;5;124mtoken_embeddings\u001b[39m\u001b[38;5;124m'\u001b[39m:\n\u001b[1;32m    168\u001b[0m         embeddings \u001b[38;5;241m=\u001b[39m []\n",
      "File \u001b[0;32m~/miniconda3/envs/deep-learning/lib/python3.9/site-packages/torch/nn/modules/container.py:204\u001b[0m, in \u001b[0;36mSequential.forward\u001b[0;34m(self, input)\u001b[0m\n\u001b[1;32m    202\u001b[0m \u001b[38;5;28;01mdef\u001b[39;00m \u001b[38;5;21mforward\u001b[39m(\u001b[38;5;28mself\u001b[39m, \u001b[38;5;28minput\u001b[39m):\n\u001b[1;32m    203\u001b[0m     \u001b[38;5;28;01mfor\u001b[39;00m module \u001b[38;5;129;01min\u001b[39;00m \u001b[38;5;28mself\u001b[39m:\n\u001b[0;32m--> 204\u001b[0m         \u001b[38;5;28minput\u001b[39m \u001b[38;5;241m=\u001b[39m \u001b[43mmodule\u001b[49m\u001b[43m(\u001b[49m\u001b[38;5;28;43minput\u001b[39;49m\u001b[43m)\u001b[49m\n\u001b[1;32m    205\u001b[0m     \u001b[38;5;28;01mreturn\u001b[39;00m \u001b[38;5;28minput\u001b[39m\n",
      "File \u001b[0;32m~/miniconda3/envs/deep-learning/lib/python3.9/site-packages/torch/nn/modules/module.py:1194\u001b[0m, in \u001b[0;36mModule._call_impl\u001b[0;34m(self, *input, **kwargs)\u001b[0m\n\u001b[1;32m   1190\u001b[0m \u001b[38;5;66;03m# If we don't have any hooks, we want to skip the rest of the logic in\u001b[39;00m\n\u001b[1;32m   1191\u001b[0m \u001b[38;5;66;03m# this function, and just call forward.\u001b[39;00m\n\u001b[1;32m   1192\u001b[0m \u001b[38;5;28;01mif\u001b[39;00m \u001b[38;5;129;01mnot\u001b[39;00m (\u001b[38;5;28mself\u001b[39m\u001b[38;5;241m.\u001b[39m_backward_hooks \u001b[38;5;129;01mor\u001b[39;00m \u001b[38;5;28mself\u001b[39m\u001b[38;5;241m.\u001b[39m_forward_hooks \u001b[38;5;129;01mor\u001b[39;00m \u001b[38;5;28mself\u001b[39m\u001b[38;5;241m.\u001b[39m_forward_pre_hooks \u001b[38;5;129;01mor\u001b[39;00m _global_backward_hooks\n\u001b[1;32m   1193\u001b[0m         \u001b[38;5;129;01mor\u001b[39;00m _global_forward_hooks \u001b[38;5;129;01mor\u001b[39;00m _global_forward_pre_hooks):\n\u001b[0;32m-> 1194\u001b[0m     \u001b[38;5;28;01mreturn\u001b[39;00m \u001b[43mforward_call\u001b[49m\u001b[43m(\u001b[49m\u001b[38;5;241;43m*\u001b[39;49m\u001b[38;5;28;43minput\u001b[39;49m\u001b[43m,\u001b[49m\u001b[43m \u001b[49m\u001b[38;5;241;43m*\u001b[39;49m\u001b[38;5;241;43m*\u001b[39;49m\u001b[43mkwargs\u001b[49m\u001b[43m)\u001b[49m\n\u001b[1;32m   1195\u001b[0m \u001b[38;5;66;03m# Do not call functions when jit is used\u001b[39;00m\n\u001b[1;32m   1196\u001b[0m full_backward_hooks, non_full_backward_hooks \u001b[38;5;241m=\u001b[39m [], []\n",
      "File \u001b[0;32m~/miniconda3/envs/deep-learning/lib/python3.9/site-packages/sentence_transformers/models/Transformer.py:66\u001b[0m, in \u001b[0;36mTransformer.forward\u001b[0;34m(self, features)\u001b[0m\n\u001b[1;32m     63\u001b[0m \u001b[38;5;28;01mif\u001b[39;00m \u001b[38;5;124m'\u001b[39m\u001b[38;5;124mtoken_type_ids\u001b[39m\u001b[38;5;124m'\u001b[39m \u001b[38;5;129;01min\u001b[39;00m features:\n\u001b[1;32m     64\u001b[0m     trans_features[\u001b[38;5;124m'\u001b[39m\u001b[38;5;124mtoken_type_ids\u001b[39m\u001b[38;5;124m'\u001b[39m] \u001b[38;5;241m=\u001b[39m features[\u001b[38;5;124m'\u001b[39m\u001b[38;5;124mtoken_type_ids\u001b[39m\u001b[38;5;124m'\u001b[39m]\n\u001b[0;32m---> 66\u001b[0m output_states \u001b[38;5;241m=\u001b[39m \u001b[38;5;28;43mself\u001b[39;49m\u001b[38;5;241;43m.\u001b[39;49m\u001b[43mauto_model\u001b[49m\u001b[43m(\u001b[49m\u001b[38;5;241;43m*\u001b[39;49m\u001b[38;5;241;43m*\u001b[39;49m\u001b[43mtrans_features\u001b[49m\u001b[43m,\u001b[49m\u001b[43m \u001b[49m\u001b[43mreturn_dict\u001b[49m\u001b[38;5;241;43m=\u001b[39;49m\u001b[38;5;28;43;01mFalse\u001b[39;49;00m\u001b[43m)\u001b[49m\n\u001b[1;32m     67\u001b[0m output_tokens \u001b[38;5;241m=\u001b[39m output_states[\u001b[38;5;241m0\u001b[39m]\n\u001b[1;32m     69\u001b[0m features\u001b[38;5;241m.\u001b[39mupdate({\u001b[38;5;124m'\u001b[39m\u001b[38;5;124mtoken_embeddings\u001b[39m\u001b[38;5;124m'\u001b[39m: output_tokens, \u001b[38;5;124m'\u001b[39m\u001b[38;5;124mattention_mask\u001b[39m\u001b[38;5;124m'\u001b[39m: features[\u001b[38;5;124m'\u001b[39m\u001b[38;5;124mattention_mask\u001b[39m\u001b[38;5;124m'\u001b[39m]})\n",
      "File \u001b[0;32m~/miniconda3/envs/deep-learning/lib/python3.9/site-packages/torch/nn/modules/module.py:1194\u001b[0m, in \u001b[0;36mModule._call_impl\u001b[0;34m(self, *input, **kwargs)\u001b[0m\n\u001b[1;32m   1190\u001b[0m \u001b[38;5;66;03m# If we don't have any hooks, we want to skip the rest of the logic in\u001b[39;00m\n\u001b[1;32m   1191\u001b[0m \u001b[38;5;66;03m# this function, and just call forward.\u001b[39;00m\n\u001b[1;32m   1192\u001b[0m \u001b[38;5;28;01mif\u001b[39;00m \u001b[38;5;129;01mnot\u001b[39;00m (\u001b[38;5;28mself\u001b[39m\u001b[38;5;241m.\u001b[39m_backward_hooks \u001b[38;5;129;01mor\u001b[39;00m \u001b[38;5;28mself\u001b[39m\u001b[38;5;241m.\u001b[39m_forward_hooks \u001b[38;5;129;01mor\u001b[39;00m \u001b[38;5;28mself\u001b[39m\u001b[38;5;241m.\u001b[39m_forward_pre_hooks \u001b[38;5;129;01mor\u001b[39;00m _global_backward_hooks\n\u001b[1;32m   1193\u001b[0m         \u001b[38;5;129;01mor\u001b[39;00m _global_forward_hooks \u001b[38;5;129;01mor\u001b[39;00m _global_forward_pre_hooks):\n\u001b[0;32m-> 1194\u001b[0m     \u001b[38;5;28;01mreturn\u001b[39;00m \u001b[43mforward_call\u001b[49m\u001b[43m(\u001b[49m\u001b[38;5;241;43m*\u001b[39;49m\u001b[38;5;28;43minput\u001b[39;49m\u001b[43m,\u001b[49m\u001b[43m \u001b[49m\u001b[38;5;241;43m*\u001b[39;49m\u001b[38;5;241;43m*\u001b[39;49m\u001b[43mkwargs\u001b[49m\u001b[43m)\u001b[49m\n\u001b[1;32m   1195\u001b[0m \u001b[38;5;66;03m# Do not call functions when jit is used\u001b[39;00m\n\u001b[1;32m   1196\u001b[0m full_backward_hooks, non_full_backward_hooks \u001b[38;5;241m=\u001b[39m [], []\n",
      "File \u001b[0;32m~/miniconda3/envs/deep-learning/lib/python3.9/site-packages/transformers/models/roberta/modeling_roberta.py:846\u001b[0m, in \u001b[0;36mRobertaModel.forward\u001b[0;34m(self, input_ids, attention_mask, token_type_ids, position_ids, head_mask, inputs_embeds, encoder_hidden_states, encoder_attention_mask, past_key_values, use_cache, output_attentions, output_hidden_states, return_dict)\u001b[0m\n\u001b[1;32m    837\u001b[0m head_mask \u001b[38;5;241m=\u001b[39m \u001b[38;5;28mself\u001b[39m\u001b[38;5;241m.\u001b[39mget_head_mask(head_mask, \u001b[38;5;28mself\u001b[39m\u001b[38;5;241m.\u001b[39mconfig\u001b[38;5;241m.\u001b[39mnum_hidden_layers)\n\u001b[1;32m    839\u001b[0m embedding_output \u001b[38;5;241m=\u001b[39m \u001b[38;5;28mself\u001b[39m\u001b[38;5;241m.\u001b[39membeddings(\n\u001b[1;32m    840\u001b[0m     input_ids\u001b[38;5;241m=\u001b[39minput_ids,\n\u001b[1;32m    841\u001b[0m     position_ids\u001b[38;5;241m=\u001b[39mposition_ids,\n\u001b[0;32m   (...)\u001b[0m\n\u001b[1;32m    844\u001b[0m     past_key_values_length\u001b[38;5;241m=\u001b[39mpast_key_values_length,\n\u001b[1;32m    845\u001b[0m )\n\u001b[0;32m--> 846\u001b[0m encoder_outputs \u001b[38;5;241m=\u001b[39m \u001b[38;5;28;43mself\u001b[39;49m\u001b[38;5;241;43m.\u001b[39;49m\u001b[43mencoder\u001b[49m\u001b[43m(\u001b[49m\n\u001b[1;32m    847\u001b[0m \u001b[43m    \u001b[49m\u001b[43membedding_output\u001b[49m\u001b[43m,\u001b[49m\n\u001b[1;32m    848\u001b[0m \u001b[43m    \u001b[49m\u001b[43mattention_mask\u001b[49m\u001b[38;5;241;43m=\u001b[39;49m\u001b[43mextended_attention_mask\u001b[49m\u001b[43m,\u001b[49m\n\u001b[1;32m    849\u001b[0m \u001b[43m    \u001b[49m\u001b[43mhead_mask\u001b[49m\u001b[38;5;241;43m=\u001b[39;49m\u001b[43mhead_mask\u001b[49m\u001b[43m,\u001b[49m\n\u001b[1;32m    850\u001b[0m \u001b[43m    \u001b[49m\u001b[43mencoder_hidden_states\u001b[49m\u001b[38;5;241;43m=\u001b[39;49m\u001b[43mencoder_hidden_states\u001b[49m\u001b[43m,\u001b[49m\n\u001b[1;32m    851\u001b[0m \u001b[43m    \u001b[49m\u001b[43mencoder_attention_mask\u001b[49m\u001b[38;5;241;43m=\u001b[39;49m\u001b[43mencoder_extended_attention_mask\u001b[49m\u001b[43m,\u001b[49m\n\u001b[1;32m    852\u001b[0m \u001b[43m    \u001b[49m\u001b[43mpast_key_values\u001b[49m\u001b[38;5;241;43m=\u001b[39;49m\u001b[43mpast_key_values\u001b[49m\u001b[43m,\u001b[49m\n\u001b[1;32m    853\u001b[0m \u001b[43m    \u001b[49m\u001b[43muse_cache\u001b[49m\u001b[38;5;241;43m=\u001b[39;49m\u001b[43muse_cache\u001b[49m\u001b[43m,\u001b[49m\n\u001b[1;32m    854\u001b[0m \u001b[43m    \u001b[49m\u001b[43moutput_attentions\u001b[49m\u001b[38;5;241;43m=\u001b[39;49m\u001b[43moutput_attentions\u001b[49m\u001b[43m,\u001b[49m\n\u001b[1;32m    855\u001b[0m \u001b[43m    \u001b[49m\u001b[43moutput_hidden_states\u001b[49m\u001b[38;5;241;43m=\u001b[39;49m\u001b[43moutput_hidden_states\u001b[49m\u001b[43m,\u001b[49m\n\u001b[1;32m    856\u001b[0m \u001b[43m    \u001b[49m\u001b[43mreturn_dict\u001b[49m\u001b[38;5;241;43m=\u001b[39;49m\u001b[43mreturn_dict\u001b[49m\u001b[43m,\u001b[49m\n\u001b[1;32m    857\u001b[0m \u001b[43m\u001b[49m\u001b[43m)\u001b[49m\n\u001b[1;32m    858\u001b[0m sequence_output \u001b[38;5;241m=\u001b[39m encoder_outputs[\u001b[38;5;241m0\u001b[39m]\n\u001b[1;32m    859\u001b[0m pooled_output \u001b[38;5;241m=\u001b[39m \u001b[38;5;28mself\u001b[39m\u001b[38;5;241m.\u001b[39mpooler(sequence_output) \u001b[38;5;28;01mif\u001b[39;00m \u001b[38;5;28mself\u001b[39m\u001b[38;5;241m.\u001b[39mpooler \u001b[38;5;129;01mis\u001b[39;00m \u001b[38;5;129;01mnot\u001b[39;00m \u001b[38;5;28;01mNone\u001b[39;00m \u001b[38;5;28;01melse\u001b[39;00m \u001b[38;5;28;01mNone\u001b[39;00m\n",
      "File \u001b[0;32m~/miniconda3/envs/deep-learning/lib/python3.9/site-packages/torch/nn/modules/module.py:1194\u001b[0m, in \u001b[0;36mModule._call_impl\u001b[0;34m(self, *input, **kwargs)\u001b[0m\n\u001b[1;32m   1190\u001b[0m \u001b[38;5;66;03m# If we don't have any hooks, we want to skip the rest of the logic in\u001b[39;00m\n\u001b[1;32m   1191\u001b[0m \u001b[38;5;66;03m# this function, and just call forward.\u001b[39;00m\n\u001b[1;32m   1192\u001b[0m \u001b[38;5;28;01mif\u001b[39;00m \u001b[38;5;129;01mnot\u001b[39;00m (\u001b[38;5;28mself\u001b[39m\u001b[38;5;241m.\u001b[39m_backward_hooks \u001b[38;5;129;01mor\u001b[39;00m \u001b[38;5;28mself\u001b[39m\u001b[38;5;241m.\u001b[39m_forward_hooks \u001b[38;5;129;01mor\u001b[39;00m \u001b[38;5;28mself\u001b[39m\u001b[38;5;241m.\u001b[39m_forward_pre_hooks \u001b[38;5;129;01mor\u001b[39;00m _global_backward_hooks\n\u001b[1;32m   1193\u001b[0m         \u001b[38;5;129;01mor\u001b[39;00m _global_forward_hooks \u001b[38;5;129;01mor\u001b[39;00m _global_forward_pre_hooks):\n\u001b[0;32m-> 1194\u001b[0m     \u001b[38;5;28;01mreturn\u001b[39;00m \u001b[43mforward_call\u001b[49m\u001b[43m(\u001b[49m\u001b[38;5;241;43m*\u001b[39;49m\u001b[38;5;28;43minput\u001b[39;49m\u001b[43m,\u001b[49m\u001b[43m \u001b[49m\u001b[38;5;241;43m*\u001b[39;49m\u001b[38;5;241;43m*\u001b[39;49m\u001b[43mkwargs\u001b[49m\u001b[43m)\u001b[49m\n\u001b[1;32m   1195\u001b[0m \u001b[38;5;66;03m# Do not call functions when jit is used\u001b[39;00m\n\u001b[1;32m   1196\u001b[0m full_backward_hooks, non_full_backward_hooks \u001b[38;5;241m=\u001b[39m [], []\n",
      "File \u001b[0;32m~/miniconda3/envs/deep-learning/lib/python3.9/site-packages/transformers/models/roberta/modeling_roberta.py:520\u001b[0m, in \u001b[0;36mRobertaEncoder.forward\u001b[0;34m(self, hidden_states, attention_mask, head_mask, encoder_hidden_states, encoder_attention_mask, past_key_values, use_cache, output_attentions, output_hidden_states, return_dict)\u001b[0m\n\u001b[1;32m    511\u001b[0m     layer_outputs \u001b[38;5;241m=\u001b[39m torch\u001b[38;5;241m.\u001b[39mutils\u001b[38;5;241m.\u001b[39mcheckpoint\u001b[38;5;241m.\u001b[39mcheckpoint(\n\u001b[1;32m    512\u001b[0m         create_custom_forward(layer_module),\n\u001b[1;32m    513\u001b[0m         hidden_states,\n\u001b[0;32m   (...)\u001b[0m\n\u001b[1;32m    517\u001b[0m         encoder_attention_mask,\n\u001b[1;32m    518\u001b[0m     )\n\u001b[1;32m    519\u001b[0m \u001b[38;5;28;01melse\u001b[39;00m:\n\u001b[0;32m--> 520\u001b[0m     layer_outputs \u001b[38;5;241m=\u001b[39m \u001b[43mlayer_module\u001b[49m\u001b[43m(\u001b[49m\n\u001b[1;32m    521\u001b[0m \u001b[43m        \u001b[49m\u001b[43mhidden_states\u001b[49m\u001b[43m,\u001b[49m\n\u001b[1;32m    522\u001b[0m \u001b[43m        \u001b[49m\u001b[43mattention_mask\u001b[49m\u001b[43m,\u001b[49m\n\u001b[1;32m    523\u001b[0m \u001b[43m        \u001b[49m\u001b[43mlayer_head_mask\u001b[49m\u001b[43m,\u001b[49m\n\u001b[1;32m    524\u001b[0m \u001b[43m        \u001b[49m\u001b[43mencoder_hidden_states\u001b[49m\u001b[43m,\u001b[49m\n\u001b[1;32m    525\u001b[0m \u001b[43m        \u001b[49m\u001b[43mencoder_attention_mask\u001b[49m\u001b[43m,\u001b[49m\n\u001b[1;32m    526\u001b[0m \u001b[43m        \u001b[49m\u001b[43mpast_key_value\u001b[49m\u001b[43m,\u001b[49m\n\u001b[1;32m    527\u001b[0m \u001b[43m        \u001b[49m\u001b[43moutput_attentions\u001b[49m\u001b[43m,\u001b[49m\n\u001b[1;32m    528\u001b[0m \u001b[43m    \u001b[49m\u001b[43m)\u001b[49m\n\u001b[1;32m    530\u001b[0m hidden_states \u001b[38;5;241m=\u001b[39m layer_outputs[\u001b[38;5;241m0\u001b[39m]\n\u001b[1;32m    531\u001b[0m \u001b[38;5;28;01mif\u001b[39;00m use_cache:\n",
      "File \u001b[0;32m~/miniconda3/envs/deep-learning/lib/python3.9/site-packages/torch/nn/modules/module.py:1194\u001b[0m, in \u001b[0;36mModule._call_impl\u001b[0;34m(self, *input, **kwargs)\u001b[0m\n\u001b[1;32m   1190\u001b[0m \u001b[38;5;66;03m# If we don't have any hooks, we want to skip the rest of the logic in\u001b[39;00m\n\u001b[1;32m   1191\u001b[0m \u001b[38;5;66;03m# this function, and just call forward.\u001b[39;00m\n\u001b[1;32m   1192\u001b[0m \u001b[38;5;28;01mif\u001b[39;00m \u001b[38;5;129;01mnot\u001b[39;00m (\u001b[38;5;28mself\u001b[39m\u001b[38;5;241m.\u001b[39m_backward_hooks \u001b[38;5;129;01mor\u001b[39;00m \u001b[38;5;28mself\u001b[39m\u001b[38;5;241m.\u001b[39m_forward_hooks \u001b[38;5;129;01mor\u001b[39;00m \u001b[38;5;28mself\u001b[39m\u001b[38;5;241m.\u001b[39m_forward_pre_hooks \u001b[38;5;129;01mor\u001b[39;00m _global_backward_hooks\n\u001b[1;32m   1193\u001b[0m         \u001b[38;5;129;01mor\u001b[39;00m _global_forward_hooks \u001b[38;5;129;01mor\u001b[39;00m _global_forward_pre_hooks):\n\u001b[0;32m-> 1194\u001b[0m     \u001b[38;5;28;01mreturn\u001b[39;00m \u001b[43mforward_call\u001b[49m\u001b[43m(\u001b[49m\u001b[38;5;241;43m*\u001b[39;49m\u001b[38;5;28;43minput\u001b[39;49m\u001b[43m,\u001b[49m\u001b[43m \u001b[49m\u001b[38;5;241;43m*\u001b[39;49m\u001b[38;5;241;43m*\u001b[39;49m\u001b[43mkwargs\u001b[49m\u001b[43m)\u001b[49m\n\u001b[1;32m   1195\u001b[0m \u001b[38;5;66;03m# Do not call functions when jit is used\u001b[39;00m\n\u001b[1;32m   1196\u001b[0m full_backward_hooks, non_full_backward_hooks \u001b[38;5;241m=\u001b[39m [], []\n",
      "File \u001b[0;32m~/miniconda3/envs/deep-learning/lib/python3.9/site-packages/transformers/models/roberta/modeling_roberta.py:447\u001b[0m, in \u001b[0;36mRobertaLayer.forward\u001b[0;34m(self, hidden_states, attention_mask, head_mask, encoder_hidden_states, encoder_attention_mask, past_key_value, output_attentions)\u001b[0m\n\u001b[1;32m    444\u001b[0m     cross_attn_present_key_value \u001b[38;5;241m=\u001b[39m cross_attention_outputs[\u001b[38;5;241m-\u001b[39m\u001b[38;5;241m1\u001b[39m]\n\u001b[1;32m    445\u001b[0m     present_key_value \u001b[38;5;241m=\u001b[39m present_key_value \u001b[38;5;241m+\u001b[39m cross_attn_present_key_value\n\u001b[0;32m--> 447\u001b[0m layer_output \u001b[38;5;241m=\u001b[39m \u001b[43mapply_chunking_to_forward\u001b[49m\u001b[43m(\u001b[49m\n\u001b[1;32m    448\u001b[0m \u001b[43m    \u001b[49m\u001b[38;5;28;43mself\u001b[39;49m\u001b[38;5;241;43m.\u001b[39;49m\u001b[43mfeed_forward_chunk\u001b[49m\u001b[43m,\u001b[49m\u001b[43m \u001b[49m\u001b[38;5;28;43mself\u001b[39;49m\u001b[38;5;241;43m.\u001b[39;49m\u001b[43mchunk_size_feed_forward\u001b[49m\u001b[43m,\u001b[49m\u001b[43m \u001b[49m\u001b[38;5;28;43mself\u001b[39;49m\u001b[38;5;241;43m.\u001b[39;49m\u001b[43mseq_len_dim\u001b[49m\u001b[43m,\u001b[49m\u001b[43m \u001b[49m\u001b[43mattention_output\u001b[49m\n\u001b[1;32m    449\u001b[0m \u001b[43m\u001b[49m\u001b[43m)\u001b[49m\n\u001b[1;32m    450\u001b[0m outputs \u001b[38;5;241m=\u001b[39m (layer_output,) \u001b[38;5;241m+\u001b[39m outputs\n\u001b[1;32m    452\u001b[0m \u001b[38;5;66;03m# if decoder, return the attn key/values as the last output\u001b[39;00m\n",
      "File \u001b[0;32m~/miniconda3/envs/deep-learning/lib/python3.9/site-packages/transformers/pytorch_utils.py:246\u001b[0m, in \u001b[0;36mapply_chunking_to_forward\u001b[0;34m(forward_fn, chunk_size, chunk_dim, *input_tensors)\u001b[0m\n\u001b[1;32m    243\u001b[0m     \u001b[38;5;66;03m# concatenate output at same dimension\u001b[39;00m\n\u001b[1;32m    244\u001b[0m     \u001b[38;5;28;01mreturn\u001b[39;00m torch\u001b[38;5;241m.\u001b[39mcat(output_chunks, dim\u001b[38;5;241m=\u001b[39mchunk_dim)\n\u001b[0;32m--> 246\u001b[0m \u001b[38;5;28;01mreturn\u001b[39;00m \u001b[43mforward_fn\u001b[49m\u001b[43m(\u001b[49m\u001b[38;5;241;43m*\u001b[39;49m\u001b[43minput_tensors\u001b[49m\u001b[43m)\u001b[49m\n",
      "File \u001b[0;32m~/miniconda3/envs/deep-learning/lib/python3.9/site-packages/transformers/models/roberta/modeling_roberta.py:460\u001b[0m, in \u001b[0;36mRobertaLayer.feed_forward_chunk\u001b[0;34m(self, attention_output)\u001b[0m\n\u001b[1;32m    458\u001b[0m \u001b[38;5;28;01mdef\u001b[39;00m \u001b[38;5;21mfeed_forward_chunk\u001b[39m(\u001b[38;5;28mself\u001b[39m, attention_output):\n\u001b[1;32m    459\u001b[0m     intermediate_output \u001b[38;5;241m=\u001b[39m \u001b[38;5;28mself\u001b[39m\u001b[38;5;241m.\u001b[39mintermediate(attention_output)\n\u001b[0;32m--> 460\u001b[0m     layer_output \u001b[38;5;241m=\u001b[39m \u001b[38;5;28;43mself\u001b[39;49m\u001b[38;5;241;43m.\u001b[39;49m\u001b[43moutput\u001b[49m\u001b[43m(\u001b[49m\u001b[43mintermediate_output\u001b[49m\u001b[43m,\u001b[49m\u001b[43m \u001b[49m\u001b[43mattention_output\u001b[49m\u001b[43m)\u001b[49m\n\u001b[1;32m    461\u001b[0m     \u001b[38;5;28;01mreturn\u001b[39;00m layer_output\n",
      "File \u001b[0;32m~/miniconda3/envs/deep-learning/lib/python3.9/site-packages/torch/nn/modules/module.py:1194\u001b[0m, in \u001b[0;36mModule._call_impl\u001b[0;34m(self, *input, **kwargs)\u001b[0m\n\u001b[1;32m   1190\u001b[0m \u001b[38;5;66;03m# If we don't have any hooks, we want to skip the rest of the logic in\u001b[39;00m\n\u001b[1;32m   1191\u001b[0m \u001b[38;5;66;03m# this function, and just call forward.\u001b[39;00m\n\u001b[1;32m   1192\u001b[0m \u001b[38;5;28;01mif\u001b[39;00m \u001b[38;5;129;01mnot\u001b[39;00m (\u001b[38;5;28mself\u001b[39m\u001b[38;5;241m.\u001b[39m_backward_hooks \u001b[38;5;129;01mor\u001b[39;00m \u001b[38;5;28mself\u001b[39m\u001b[38;5;241m.\u001b[39m_forward_hooks \u001b[38;5;129;01mor\u001b[39;00m \u001b[38;5;28mself\u001b[39m\u001b[38;5;241m.\u001b[39m_forward_pre_hooks \u001b[38;5;129;01mor\u001b[39;00m _global_backward_hooks\n\u001b[1;32m   1193\u001b[0m         \u001b[38;5;129;01mor\u001b[39;00m _global_forward_hooks \u001b[38;5;129;01mor\u001b[39;00m _global_forward_pre_hooks):\n\u001b[0;32m-> 1194\u001b[0m     \u001b[38;5;28;01mreturn\u001b[39;00m \u001b[43mforward_call\u001b[49m\u001b[43m(\u001b[49m\u001b[38;5;241;43m*\u001b[39;49m\u001b[38;5;28;43minput\u001b[39;49m\u001b[43m,\u001b[49m\u001b[43m \u001b[49m\u001b[38;5;241;43m*\u001b[39;49m\u001b[38;5;241;43m*\u001b[39;49m\u001b[43mkwargs\u001b[49m\u001b[43m)\u001b[49m\n\u001b[1;32m   1195\u001b[0m \u001b[38;5;66;03m# Do not call functions when jit is used\u001b[39;00m\n\u001b[1;32m   1196\u001b[0m full_backward_hooks, non_full_backward_hooks \u001b[38;5;241m=\u001b[39m [], []\n",
      "File \u001b[0;32m~/miniconda3/envs/deep-learning/lib/python3.9/site-packages/transformers/models/roberta/modeling_roberta.py:373\u001b[0m, in \u001b[0;36mRobertaOutput.forward\u001b[0;34m(self, hidden_states, input_tensor)\u001b[0m\n\u001b[1;32m    371\u001b[0m hidden_states \u001b[38;5;241m=\u001b[39m \u001b[38;5;28mself\u001b[39m\u001b[38;5;241m.\u001b[39mdense(hidden_states)\n\u001b[1;32m    372\u001b[0m hidden_states \u001b[38;5;241m=\u001b[39m \u001b[38;5;28mself\u001b[39m\u001b[38;5;241m.\u001b[39mdropout(hidden_states)\n\u001b[0;32m--> 373\u001b[0m hidden_states \u001b[38;5;241m=\u001b[39m \u001b[38;5;28;43mself\u001b[39;49m\u001b[38;5;241;43m.\u001b[39;49m\u001b[43mLayerNorm\u001b[49m\u001b[43m(\u001b[49m\u001b[43mhidden_states\u001b[49m\u001b[43m \u001b[49m\u001b[38;5;241;43m+\u001b[39;49m\u001b[43m \u001b[49m\u001b[43minput_tensor\u001b[49m\u001b[43m)\u001b[49m\n\u001b[1;32m    374\u001b[0m \u001b[38;5;28;01mreturn\u001b[39;00m hidden_states\n",
      "File \u001b[0;32m~/miniconda3/envs/deep-learning/lib/python3.9/site-packages/torch/nn/modules/module.py:1194\u001b[0m, in \u001b[0;36mModule._call_impl\u001b[0;34m(self, *input, **kwargs)\u001b[0m\n\u001b[1;32m   1190\u001b[0m \u001b[38;5;66;03m# If we don't have any hooks, we want to skip the rest of the logic in\u001b[39;00m\n\u001b[1;32m   1191\u001b[0m \u001b[38;5;66;03m# this function, and just call forward.\u001b[39;00m\n\u001b[1;32m   1192\u001b[0m \u001b[38;5;28;01mif\u001b[39;00m \u001b[38;5;129;01mnot\u001b[39;00m (\u001b[38;5;28mself\u001b[39m\u001b[38;5;241m.\u001b[39m_backward_hooks \u001b[38;5;129;01mor\u001b[39;00m \u001b[38;5;28mself\u001b[39m\u001b[38;5;241m.\u001b[39m_forward_hooks \u001b[38;5;129;01mor\u001b[39;00m \u001b[38;5;28mself\u001b[39m\u001b[38;5;241m.\u001b[39m_forward_pre_hooks \u001b[38;5;129;01mor\u001b[39;00m _global_backward_hooks\n\u001b[1;32m   1193\u001b[0m         \u001b[38;5;129;01mor\u001b[39;00m _global_forward_hooks \u001b[38;5;129;01mor\u001b[39;00m _global_forward_pre_hooks):\n\u001b[0;32m-> 1194\u001b[0m     \u001b[38;5;28;01mreturn\u001b[39;00m \u001b[43mforward_call\u001b[49m\u001b[43m(\u001b[49m\u001b[38;5;241;43m*\u001b[39;49m\u001b[38;5;28;43minput\u001b[39;49m\u001b[43m,\u001b[49m\u001b[43m \u001b[49m\u001b[38;5;241;43m*\u001b[39;49m\u001b[38;5;241;43m*\u001b[39;49m\u001b[43mkwargs\u001b[49m\u001b[43m)\u001b[49m\n\u001b[1;32m   1195\u001b[0m \u001b[38;5;66;03m# Do not call functions when jit is used\u001b[39;00m\n\u001b[1;32m   1196\u001b[0m full_backward_hooks, non_full_backward_hooks \u001b[38;5;241m=\u001b[39m [], []\n",
      "File \u001b[0;32m~/miniconda3/envs/deep-learning/lib/python3.9/site-packages/torch/nn/modules/normalization.py:190\u001b[0m, in \u001b[0;36mLayerNorm.forward\u001b[0;34m(self, input)\u001b[0m\n\u001b[1;32m    189\u001b[0m \u001b[38;5;28;01mdef\u001b[39;00m \u001b[38;5;21mforward\u001b[39m(\u001b[38;5;28mself\u001b[39m, \u001b[38;5;28minput\u001b[39m: Tensor) \u001b[38;5;241m-\u001b[39m\u001b[38;5;241m>\u001b[39m Tensor:\n\u001b[0;32m--> 190\u001b[0m     \u001b[38;5;28;01mreturn\u001b[39;00m \u001b[43mF\u001b[49m\u001b[38;5;241;43m.\u001b[39;49m\u001b[43mlayer_norm\u001b[49m\u001b[43m(\u001b[49m\n\u001b[1;32m    191\u001b[0m \u001b[43m        \u001b[49m\u001b[38;5;28;43minput\u001b[39;49m\u001b[43m,\u001b[49m\u001b[43m \u001b[49m\u001b[38;5;28;43mself\u001b[39;49m\u001b[38;5;241;43m.\u001b[39;49m\u001b[43mnormalized_shape\u001b[49m\u001b[43m,\u001b[49m\u001b[43m \u001b[49m\u001b[38;5;28;43mself\u001b[39;49m\u001b[38;5;241;43m.\u001b[39;49m\u001b[43mweight\u001b[49m\u001b[43m,\u001b[49m\u001b[43m \u001b[49m\u001b[38;5;28;43mself\u001b[39;49m\u001b[38;5;241;43m.\u001b[39;49m\u001b[43mbias\u001b[49m\u001b[43m,\u001b[49m\u001b[43m \u001b[49m\u001b[38;5;28;43mself\u001b[39;49m\u001b[38;5;241;43m.\u001b[39;49m\u001b[43meps\u001b[49m\u001b[43m)\u001b[49m\n",
      "File \u001b[0;32m~/miniconda3/envs/deep-learning/lib/python3.9/site-packages/torch/nn/functional.py:2515\u001b[0m, in \u001b[0;36mlayer_norm\u001b[0;34m(input, normalized_shape, weight, bias, eps)\u001b[0m\n\u001b[1;32m   2511\u001b[0m \u001b[38;5;28;01mif\u001b[39;00m has_torch_function_variadic(\u001b[38;5;28minput\u001b[39m, weight, bias):\n\u001b[1;32m   2512\u001b[0m     \u001b[38;5;28;01mreturn\u001b[39;00m handle_torch_function(\n\u001b[1;32m   2513\u001b[0m         layer_norm, (\u001b[38;5;28minput\u001b[39m, weight, bias), \u001b[38;5;28minput\u001b[39m, normalized_shape, weight\u001b[38;5;241m=\u001b[39mweight, bias\u001b[38;5;241m=\u001b[39mbias, eps\u001b[38;5;241m=\u001b[39meps\n\u001b[1;32m   2514\u001b[0m     )\n\u001b[0;32m-> 2515\u001b[0m \u001b[38;5;28;01mreturn\u001b[39;00m \u001b[43mtorch\u001b[49m\u001b[38;5;241;43m.\u001b[39;49m\u001b[43mlayer_norm\u001b[49m\u001b[43m(\u001b[49m\u001b[38;5;28;43minput\u001b[39;49m\u001b[43m,\u001b[49m\u001b[43m \u001b[49m\u001b[43mnormalized_shape\u001b[49m\u001b[43m,\u001b[49m\u001b[43m \u001b[49m\u001b[43mweight\u001b[49m\u001b[43m,\u001b[49m\u001b[43m \u001b[49m\u001b[43mbias\u001b[49m\u001b[43m,\u001b[49m\u001b[43m \u001b[49m\u001b[43meps\u001b[49m\u001b[43m,\u001b[49m\u001b[43m \u001b[49m\u001b[43mtorch\u001b[49m\u001b[38;5;241;43m.\u001b[39;49m\u001b[43mbackends\u001b[49m\u001b[38;5;241;43m.\u001b[39;49m\u001b[43mcudnn\u001b[49m\u001b[38;5;241;43m.\u001b[39;49m\u001b[43menabled\u001b[49m\u001b[43m)\u001b[49m\n",
      "\u001b[0;31mKeyboardInterrupt\u001b[0m: "
     ]
    }
   ],
   "source": [
    "query_ids = df_examples_products_clean['query_id'].tolist()\n",
    "qids = list(set(query_ids))\n",
    "print(len(qids))\n",
    "product_ids = df_examples_products_clean['product_id'].tolist()\n",
    "print(len(query_ids), len(product_ids))\n",
    "scores = []\n",
    "for i, qi in enumerate(qids):\n",
    "    if i%500==0:\n",
    "        print(i)\n",
    "#     print(i, qi)\n",
    "    temp = df_examples_products_clean[df_examples_products.query_id==qi]\n",
    "    features_query = temp['query']\n",
    "    features_product = temp['product_text']\n",
    "    query_emb = torch.tensor(model.encode(features_query.tolist()))\n",
    "    prod_emb = torch.tensor(model.encode(features_product.tolist()))\n",
    "#     print(query_emb.shape, prod_emb.shape)\n",
    "#     dot_product = torch.diagonal(torch.mm(query_emb, prod_emb.transpose(0, 1)).to('cpu'))\n",
    "    cos_sim = F.cosine_similarity(query_emb, prod_emb)\n",
    "#     print(q_scores.shape, q_scores.tolist())\n",
    "    scores.extend(cos_sim.tolist())\n",
    "#     break\n",
    "#     if i==3:\n",
    "#         break\n",
    "print(len(scores))"
   ]
  },
  {
   "cell_type": "code",
   "execution_count": null,
   "id": "93f8a21f",
   "metadata": {},
   "outputs": [],
   "source": [
    "# result_df = pd.DataFrame({\n",
    "#     'query_id': query_ids,\n",
    "#     'product_id': product_ids,\n",
    "#     'scores': scores\n",
    "# })\n",
    "# result_df.head()"
   ]
  },
  {
   "cell_type": "code",
   "execution_count": 21,
   "id": "9ceb4419",
   "metadata": {},
   "outputs": [
    {
     "data": {
      "text/plain": [
       "count    181701.000000\n",
       "mean      55613.136378\n",
       "std       34910.163897\n",
       "min           2.000000\n",
       "25%       24668.000000\n",
       "50%       55219.000000\n",
       "75%       86083.000000\n",
       "max      130378.000000\n",
       "Name: query_id, dtype: float64"
      ]
     },
     "execution_count": 21,
     "metadata": {},
     "output_type": "execute_result"
    }
   ],
   "source": [
    "df_examples_products_clean.query_id.describe()"
   ]
  },
  {
   "cell_type": "code",
   "execution_count": 37,
   "id": "e6bdabdd",
   "metadata": {},
   "outputs": [
    {
     "name": "stdout",
     "output_type": "stream",
     "text": [
      "CPU times: user 13 ms, sys: 34.3 ms, total: 47.3 ms\n",
      "Wall time: 46.2 ms\n"
     ]
    },
    {
     "data": {
      "text/plain": [
       "996"
      ]
     },
     "execution_count": 37,
     "metadata": {},
     "output_type": "execute_result"
    }
   ],
   "source": [
    "%%time\n",
    "df_sample = df_examples_products_clean[df_examples_products_clean.query_id < 10000]\n",
    "len(df_sample.query_id.unique())"
   ]
  },
  {
   "cell_type": "code",
   "execution_count": 38,
   "id": "cdc4890a",
   "metadata": {},
   "outputs": [],
   "source": [
    "from tqdm import tqdm\n",
    "\n",
    "def embed_query_products(i, group_df):\n",
    "#     i, group_df = grouping\n",
    "    features_query = group_df['query']\n",
    "    features_product = group_df['product_text']\n",
    "    q_ids = [i]*len(group_df)\n",
    "    p_ids = group_df['product_id']\n",
    "    query_emb = torch.tensor(model.encode(features_query.tolist()))\n",
    "    prod_emb = torch.tensor(model.encode(features_product.tolist()))\n",
    "#     q_scores = torch.diagonal(torch.mm(query_emb, prod_emb.transpose(0, 1)).to('cpu'))\n",
    "    cos_sim = F.cosine_similarity(query_emb, prod_emb)\n",
    "    return pd.DataFrame({col_query_id: q_ids, col_product_id: p_ids, col_scores: cos_sim})\n",
    "# groups = df_examples_products_clean.groupby('query_id')\n",
    "# triplets = []\n",
    "# for g in tqdm(groups):\n",
    "#     triplets.append(embed_query_products(g))\n",
    "\n",
    "# result_df = pd.concat(triplets)"
   ]
  },
  {
   "cell_type": "code",
   "execution_count": 39,
   "id": "5a27f3ec",
   "metadata": {
    "scrolled": true
   },
   "outputs": [
    {
     "name": "stdout",
     "output_type": "stream",
     "text": [
      "huggingface/tokenizers: The current process just got forked, after parallelism has already been used. Disabling parallelism to avoid deadlocks...\n",
      "To disable this warning, you can either:\n",
      "\t- Avoid using `tokenizers` before the fork if possible\n",
      "\t- Explicitly set the environment variable TOKENIZERS_PARALLELISM=(true | false)\n",
      "huggingface/tokenizers: The current process just got forked, after parallelism has already been used. Disabling parallelism to avoid deadlocks...\n",
      "To disable this warning, you can either:\n",
      "\t- Avoid using `tokenizers` before the fork if possible\n",
      "\t- Explicitly set the environment variable TOKENIZERS_PARALLELISM=(true | false)\n",
      "huggingface/tokenizers: The current process just got forked, after parallelism has already been used. Disabling parallelism to avoid deadlocks...\n",
      "To disable this warning, you can either:\n",
      "\t- Avoid using `tokenizers` before the fork if possible\n",
      "\t- Explicitly set the environment variable TOKENIZERS_PARALLELISM=(true | false)\n",
      "huggingface/tokenizers: The current process just got forked, after parallelism has already been used. Disabling parallelism to avoid deadlocks...\n",
      "To disable this warning, you can either:\n",
      "\t- Avoid using `tokenizers` before the fork if possible\n",
      "\t- Explicitly set the environment variable TOKENIZERS_PARALLELISM=(true | false)\n",
      "huggingface/tokenizers: The current process just got forked, after parallelism has already been used. Disabling parallelism to avoid deadlocks...\n",
      "To disable this warning, you can either:\n",
      "\t- Avoid using `tokenizers` before the fork if possible\n",
      "\t- Explicitly set the environment variable TOKENIZERS_PARALLELISM=(true | false)\n",
      "huggingface/tokenizers: The current process just got forked, after parallelism has already been used. Disabling parallelism to avoid deadlocks...\n",
      "To disable this warning, you can either:\n",
      "\t- Avoid using `tokenizers` before the fork if possible\n",
      "\t- Explicitly set the environment variable TOKENIZERS_PARALLELISM=(true | false)\n",
      "huggingface/tokenizers: The current process just got forked, after parallelism has already been used. Disabling parallelism to avoid deadlocks...\n",
      "To disable this warning, you can either:\n",
      "\t- Avoid using `tokenizers` before the fork if possible\n",
      "\t- Explicitly set the environment variable TOKENIZERS_PARALLELISM=(true | false)\n",
      "huggingface/tokenizers: The current process just got forked, after parallelism has already been used. Disabling parallelism to avoid deadlocks...\n",
      "To disable this warning, you can either:\n",
      "\t- Avoid using `tokenizers` before the fork if possible\n",
      "\t- Explicitly set the environment variable TOKENIZERS_PARALLELISM=(true | false)\n",
      "huggingface/tokenizers: The current process just got forked, after parallelism has already been used. Disabling parallelism to avoid deadlocks...\n",
      "To disable this warning, you can either:\n",
      "\t- Avoid using `tokenizers` before the fork if possible\n",
      "\t- Explicitly set the environment variable TOKENIZERS_PARALLELISM=(true | false)\n",
      "huggingface/tokenizers: The current process just got forked, after parallelism has already been used. Disabling parallelism to avoid deadlocks...\n",
      "To disable this warning, you can either:\n",
      "\t- Avoid using `tokenizers` before the fork if possible\n",
      "\t- Explicitly set the environment variable TOKENIZERS_PARALLELISM=(true | false)\n"
     ]
    },
    {
     "name": "stderr",
     "output_type": "stream",
     "text": [
      "/Users/rdubey/miniconda3/envs/deep-learning/lib/python3.9/site-packages/joblib/externals/loky/process_executor.py:700: UserWarning: A worker stopped while some jobs were given to the executor. This can be caused by a too short worker timeout or by a memory leak.\n",
      "  warnings.warn(\n"
     ]
    },
    {
     "name": "stdout",
     "output_type": "stream",
     "text": [
      "huggingface/tokenizers: The current process just got forked, after parallelism has already been used. Disabling parallelism to avoid deadlocks...\n",
      "To disable this warning, you can either:\n",
      "\t- Avoid using `tokenizers` before the fork if possible\n",
      "\t- Explicitly set the environment variable TOKENIZERS_PARALLELISM=(true | false)\n"
     ]
    },
    {
     "name": "stderr",
     "output_type": "stream",
     "text": [
      "/Users/rdubey/miniconda3/envs/deep-learning/lib/python3.9/site-packages/joblib/externals/loky/process_executor.py:700: UserWarning: A worker stopped while some jobs were given to the executor. This can be caused by a too short worker timeout or by a memory leak.\n",
      "  warnings.warn(\n"
     ]
    },
    {
     "name": "stdout",
     "output_type": "stream",
     "text": [
      "huggingface/tokenizers: The current process just got forked, after parallelism has already been used. Disabling parallelism to avoid deadlocks...\n",
      "To disable this warning, you can either:\n",
      "\t- Avoid using `tokenizers` before the fork if possible\n",
      "\t- Explicitly set the environment variable TOKENIZERS_PARALLELISM=(true | false)\n"
     ]
    },
    {
     "name": "stderr",
     "output_type": "stream",
     "text": [
      "/Users/rdubey/miniconda3/envs/deep-learning/lib/python3.9/site-packages/joblib/externals/loky/process_executor.py:700: UserWarning: A worker stopped while some jobs were given to the executor. This can be caused by a too short worker timeout or by a memory leak.\n",
      "  warnings.warn(\n"
     ]
    },
    {
     "name": "stdout",
     "output_type": "stream",
     "text": [
      "huggingface/tokenizers: The current process just got forked, after parallelism has already been used. Disabling parallelism to avoid deadlocks...\n",
      "To disable this warning, you can either:\n",
      "\t- Avoid using `tokenizers` before the fork if possible\n",
      "\t- Explicitly set the environment variable TOKENIZERS_PARALLELISM=(true | false)\n"
     ]
    },
    {
     "name": "stderr",
     "output_type": "stream",
     "text": [
      "/Users/rdubey/miniconda3/envs/deep-learning/lib/python3.9/site-packages/joblib/externals/loky/process_executor.py:700: UserWarning: A worker stopped while some jobs were given to the executor. This can be caused by a too short worker timeout or by a memory leak.\n",
      "  warnings.warn(\n"
     ]
    },
    {
     "name": "stdout",
     "output_type": "stream",
     "text": [
      "huggingface/tokenizers: The current process just got forked, after parallelism has already been used. Disabling parallelism to avoid deadlocks...\n",
      "To disable this warning, you can either:\n",
      "\t- Avoid using `tokenizers` before the fork if possible\n",
      "\t- Explicitly set the environment variable TOKENIZERS_PARALLELISM=(true | false)\n"
     ]
    },
    {
     "name": "stderr",
     "output_type": "stream",
     "text": [
      "/Users/rdubey/miniconda3/envs/deep-learning/lib/python3.9/site-packages/joblib/externals/loky/process_executor.py:700: UserWarning: A worker stopped while some jobs were given to the executor. This can be caused by a too short worker timeout or by a memory leak.\n",
      "  warnings.warn(\n"
     ]
    },
    {
     "name": "stdout",
     "output_type": "stream",
     "text": [
      "huggingface/tokenizers: The current process just got forked, after parallelism has already been used. Disabling parallelism to avoid deadlocks...\n",
      "To disable this warning, you can either:\n",
      "\t- Avoid using `tokenizers` before the fork if possible\n",
      "\t- Explicitly set the environment variable TOKENIZERS_PARALLELISM=(true | false)\n"
     ]
    },
    {
     "name": "stderr",
     "output_type": "stream",
     "text": [
      "/Users/rdubey/miniconda3/envs/deep-learning/lib/python3.9/site-packages/joblib/externals/loky/process_executor.py:700: UserWarning: A worker stopped while some jobs were given to the executor. This can be caused by a too short worker timeout or by a memory leak.\n",
      "  warnings.warn(\n"
     ]
    },
    {
     "name": "stdout",
     "output_type": "stream",
     "text": [
      "huggingface/tokenizers: The current process just got forked, after parallelism has already been used. Disabling parallelism to avoid deadlocks...\n",
      "To disable this warning, you can either:\n",
      "\t- Avoid using `tokenizers` before the fork if possible\n",
      "\t- Explicitly set the environment variable TOKENIZERS_PARALLELISM=(true | false)\n"
     ]
    },
    {
     "name": "stderr",
     "output_type": "stream",
     "text": [
      "/Users/rdubey/miniconda3/envs/deep-learning/lib/python3.9/site-packages/joblib/externals/loky/process_executor.py:700: UserWarning: A worker stopped while some jobs were given to the executor. This can be caused by a too short worker timeout or by a memory leak.\n",
      "  warnings.warn(\n"
     ]
    },
    {
     "name": "stdout",
     "output_type": "stream",
     "text": [
      "huggingface/tokenizers: The current process just got forked, after parallelism has already been used. Disabling parallelism to avoid deadlocks...\n",
      "To disable this warning, you can either:\n",
      "\t- Avoid using `tokenizers` before the fork if possible\n",
      "\t- Explicitly set the environment variable TOKENIZERS_PARALLELISM=(true | false)\n"
     ]
    },
    {
     "name": "stderr",
     "output_type": "stream",
     "text": [
      "/Users/rdubey/miniconda3/envs/deep-learning/lib/python3.9/site-packages/joblib/externals/loky/process_executor.py:700: UserWarning: A worker stopped while some jobs were given to the executor. This can be caused by a too short worker timeout or by a memory leak.\n",
      "  warnings.warn(\n"
     ]
    },
    {
     "name": "stdout",
     "output_type": "stream",
     "text": [
      "huggingface/tokenizers: The current process just got forked, after parallelism has already been used. Disabling parallelism to avoid deadlocks...\n",
      "To disable this warning, you can either:\n",
      "\t- Avoid using `tokenizers` before the fork if possible\n",
      "\t- Explicitly set the environment variable TOKENIZERS_PARALLELISM=(true | false)\n"
     ]
    },
    {
     "name": "stderr",
     "output_type": "stream",
     "text": [
      "/Users/rdubey/miniconda3/envs/deep-learning/lib/python3.9/site-packages/joblib/externals/loky/process_executor.py:700: UserWarning: A worker stopped while some jobs were given to the executor. This can be caused by a too short worker timeout or by a memory leak.\n",
      "  warnings.warn(\n"
     ]
    },
    {
     "name": "stdout",
     "output_type": "stream",
     "text": [
      "huggingface/tokenizers: The current process just got forked, after parallelism has already been used. Disabling parallelism to avoid deadlocks...\n",
      "To disable this warning, you can either:\n",
      "\t- Avoid using `tokenizers` before the fork if possible\n",
      "\t- Explicitly set the environment variable TOKENIZERS_PARALLELISM=(true | false)\n"
     ]
    },
    {
     "name": "stderr",
     "output_type": "stream",
     "text": [
      "/Users/rdubey/miniconda3/envs/deep-learning/lib/python3.9/site-packages/joblib/externals/loky/process_executor.py:700: UserWarning: A worker stopped while some jobs were given to the executor. This can be caused by a too short worker timeout or by a memory leak.\n",
      "  warnings.warn(\n"
     ]
    },
    {
     "name": "stdout",
     "output_type": "stream",
     "text": [
      "huggingface/tokenizers: The current process just got forked, after parallelism has already been used. Disabling parallelism to avoid deadlocks...\n",
      "To disable this warning, you can either:\n",
      "\t- Avoid using `tokenizers` before the fork if possible\n",
      "\t- Explicitly set the environment variable TOKENIZERS_PARALLELISM=(true | false)\n"
     ]
    },
    {
     "name": "stderr",
     "output_type": "stream",
     "text": [
      "/Users/rdubey/miniconda3/envs/deep-learning/lib/python3.9/site-packages/joblib/externals/loky/process_executor.py:700: UserWarning: A worker stopped while some jobs were given to the executor. This can be caused by a too short worker timeout or by a memory leak.\n",
      "  warnings.warn(\n"
     ]
    },
    {
     "name": "stdout",
     "output_type": "stream",
     "text": [
      "huggingface/tokenizers: The current process just got forked, after parallelism has already been used. Disabling parallelism to avoid deadlocks...\n",
      "To disable this warning, you can either:\n",
      "\t- Avoid using `tokenizers` before the fork if possible\n",
      "\t- Explicitly set the environment variable TOKENIZERS_PARALLELISM=(true | false)\n"
     ]
    },
    {
     "name": "stderr",
     "output_type": "stream",
     "text": [
      "/Users/rdubey/miniconda3/envs/deep-learning/lib/python3.9/site-packages/joblib/externals/loky/process_executor.py:700: UserWarning: A worker stopped while some jobs were given to the executor. This can be caused by a too short worker timeout or by a memory leak.\n",
      "  warnings.warn(\n"
     ]
    },
    {
     "name": "stdout",
     "output_type": "stream",
     "text": [
      "huggingface/tokenizers: The current process just got forked, after parallelism has already been used. Disabling parallelism to avoid deadlocks...\n",
      "To disable this warning, you can either:\n",
      "\t- Avoid using `tokenizers` before the fork if possible\n",
      "\t- Explicitly set the environment variable TOKENIZERS_PARALLELISM=(true | false)\n"
     ]
    },
    {
     "name": "stderr",
     "output_type": "stream",
     "text": [
      "/Users/rdubey/miniconda3/envs/deep-learning/lib/python3.9/site-packages/joblib/externals/loky/process_executor.py:700: UserWarning: A worker stopped while some jobs were given to the executor. This can be caused by a too short worker timeout or by a memory leak.\n",
      "  warnings.warn(\n"
     ]
    },
    {
     "name": "stdout",
     "output_type": "stream",
     "text": [
      "huggingface/tokenizers: The current process just got forked, after parallelism has already been used. Disabling parallelism to avoid deadlocks...\n",
      "To disable this warning, you can either:\n",
      "\t- Avoid using `tokenizers` before the fork if possible\n",
      "\t- Explicitly set the environment variable TOKENIZERS_PARALLELISM=(true | false)\n"
     ]
    },
    {
     "name": "stderr",
     "output_type": "stream",
     "text": [
      "/Users/rdubey/miniconda3/envs/deep-learning/lib/python3.9/site-packages/joblib/externals/loky/process_executor.py:700: UserWarning: A worker stopped while some jobs were given to the executor. This can be caused by a too short worker timeout or by a memory leak.\n",
      "  warnings.warn(\n"
     ]
    },
    {
     "name": "stdout",
     "output_type": "stream",
     "text": [
      "huggingface/tokenizers: The current process just got forked, after parallelism has already been used. Disabling parallelism to avoid deadlocks...\n",
      "To disable this warning, you can either:\n",
      "\t- Avoid using `tokenizers` before the fork if possible\n",
      "\t- Explicitly set the environment variable TOKENIZERS_PARALLELISM=(true | false)\n"
     ]
    },
    {
     "name": "stderr",
     "output_type": "stream",
     "text": [
      "/Users/rdubey/miniconda3/envs/deep-learning/lib/python3.9/site-packages/joblib/externals/loky/process_executor.py:700: UserWarning: A worker stopped while some jobs were given to the executor. This can be caused by a too short worker timeout or by a memory leak.\n",
      "  warnings.warn(\n"
     ]
    },
    {
     "name": "stdout",
     "output_type": "stream",
     "text": [
      "huggingface/tokenizers: The current process just got forked, after parallelism has already been used. Disabling parallelism to avoid deadlocks...\n",
      "To disable this warning, you can either:\n",
      "\t- Avoid using `tokenizers` before the fork if possible\n",
      "\t- Explicitly set the environment variable TOKENIZERS_PARALLELISM=(true | false)\n"
     ]
    },
    {
     "name": "stderr",
     "output_type": "stream",
     "text": [
      "/Users/rdubey/miniconda3/envs/deep-learning/lib/python3.9/site-packages/joblib/externals/loky/process_executor.py:700: UserWarning: A worker stopped while some jobs were given to the executor. This can be caused by a too short worker timeout or by a memory leak.\n",
      "  warnings.warn(\n"
     ]
    },
    {
     "name": "stdout",
     "output_type": "stream",
     "text": [
      "huggingface/tokenizers: The current process just got forked, after parallelism has already been used. Disabling parallelism to avoid deadlocks...\n",
      "To disable this warning, you can either:\n",
      "\t- Avoid using `tokenizers` before the fork if possible\n",
      "\t- Explicitly set the environment variable TOKENIZERS_PARALLELISM=(true | false)\n"
     ]
    },
    {
     "name": "stderr",
     "output_type": "stream",
     "text": [
      "/Users/rdubey/miniconda3/envs/deep-learning/lib/python3.9/site-packages/joblib/externals/loky/process_executor.py:700: UserWarning: A worker stopped while some jobs were given to the executor. This can be caused by a too short worker timeout or by a memory leak.\n",
      "  warnings.warn(\n"
     ]
    },
    {
     "name": "stdout",
     "output_type": "stream",
     "text": [
      "huggingface/tokenizers: The current process just got forked, after parallelism has already been used. Disabling parallelism to avoid deadlocks...\n",
      "To disable this warning, you can either:\n",
      "\t- Avoid using `tokenizers` before the fork if possible\n",
      "\t- Explicitly set the environment variable TOKENIZERS_PARALLELISM=(true | false)\n"
     ]
    },
    {
     "name": "stderr",
     "output_type": "stream",
     "text": [
      "/Users/rdubey/miniconda3/envs/deep-learning/lib/python3.9/site-packages/joblib/externals/loky/process_executor.py:700: UserWarning: A worker stopped while some jobs were given to the executor. This can be caused by a too short worker timeout or by a memory leak.\n",
      "  warnings.warn(\n"
     ]
    },
    {
     "name": "stdout",
     "output_type": "stream",
     "text": [
      "huggingface/tokenizers: The current process just got forked, after parallelism has already been used. Disabling parallelism to avoid deadlocks...\n",
      "To disable this warning, you can either:\n",
      "\t- Avoid using `tokenizers` before the fork if possible\n",
      "\t- Explicitly set the environment variable TOKENIZERS_PARALLELISM=(true | false)\n"
     ]
    },
    {
     "name": "stderr",
     "output_type": "stream",
     "text": [
      "/Users/rdubey/miniconda3/envs/deep-learning/lib/python3.9/site-packages/joblib/externals/loky/process_executor.py:700: UserWarning: A worker stopped while some jobs were given to the executor. This can be caused by a too short worker timeout or by a memory leak.\n",
      "  warnings.warn(\n"
     ]
    },
    {
     "name": "stdout",
     "output_type": "stream",
     "text": [
      "huggingface/tokenizers: The current process just got forked, after parallelism has already been used. Disabling parallelism to avoid deadlocks...\n",
      "To disable this warning, you can either:\n",
      "\t- Avoid using `tokenizers` before the fork if possible\n",
      "\t- Explicitly set the environment variable TOKENIZERS_PARALLELISM=(true | false)\n"
     ]
    },
    {
     "name": "stderr",
     "output_type": "stream",
     "text": [
      "/Users/rdubey/miniconda3/envs/deep-learning/lib/python3.9/site-packages/joblib/externals/loky/process_executor.py:700: UserWarning: A worker stopped while some jobs were given to the executor. This can be caused by a too short worker timeout or by a memory leak.\n",
      "  warnings.warn(\n"
     ]
    },
    {
     "name": "stdout",
     "output_type": "stream",
     "text": [
      "huggingface/tokenizers: The current process just got forked, after parallelism has already been used. Disabling parallelism to avoid deadlocks...\n",
      "To disable this warning, you can either:\n",
      "\t- Avoid using `tokenizers` before the fork if possible\n",
      "\t- Explicitly set the environment variable TOKENIZERS_PARALLELISM=(true | false)\n"
     ]
    },
    {
     "name": "stderr",
     "output_type": "stream",
     "text": [
      "/Users/rdubey/miniconda3/envs/deep-learning/lib/python3.9/site-packages/joblib/externals/loky/process_executor.py:700: UserWarning: A worker stopped while some jobs were given to the executor. This can be caused by a too short worker timeout or by a memory leak.\n",
      "  warnings.warn(\n"
     ]
    },
    {
     "name": "stdout",
     "output_type": "stream",
     "text": [
      "huggingface/tokenizers: The current process just got forked, after parallelism has already been used. Disabling parallelism to avoid deadlocks...\n",
      "To disable this warning, you can either:\n",
      "\t- Avoid using `tokenizers` before the fork if possible\n",
      "\t- Explicitly set the environment variable TOKENIZERS_PARALLELISM=(true | false)\n"
     ]
    },
    {
     "name": "stderr",
     "output_type": "stream",
     "text": [
      "/Users/rdubey/miniconda3/envs/deep-learning/lib/python3.9/site-packages/joblib/externals/loky/process_executor.py:700: UserWarning: A worker stopped while some jobs were given to the executor. This can be caused by a too short worker timeout or by a memory leak.\n",
      "  warnings.warn(\n"
     ]
    },
    {
     "name": "stdout",
     "output_type": "stream",
     "text": [
      "huggingface/tokenizers: The current process just got forked, after parallelism has already been used. Disabling parallelism to avoid deadlocks...\n",
      "To disable this warning, you can either:\n",
      "\t- Avoid using `tokenizers` before the fork if possible\n",
      "\t- Explicitly set the environment variable TOKENIZERS_PARALLELISM=(true | false)\n"
     ]
    },
    {
     "name": "stderr",
     "output_type": "stream",
     "text": [
      "/Users/rdubey/miniconda3/envs/deep-learning/lib/python3.9/site-packages/joblib/externals/loky/process_executor.py:700: UserWarning: A worker stopped while some jobs were given to the executor. This can be caused by a too short worker timeout or by a memory leak.\n",
      "  warnings.warn(\n"
     ]
    },
    {
     "name": "stdout",
     "output_type": "stream",
     "text": [
      "huggingface/tokenizers: The current process just got forked, after parallelism has already been used. Disabling parallelism to avoid deadlocks...\n",
      "To disable this warning, you can either:\n",
      "\t- Avoid using `tokenizers` before the fork if possible\n",
      "\t- Explicitly set the environment variable TOKENIZERS_PARALLELISM=(true | false)\n"
     ]
    },
    {
     "name": "stderr",
     "output_type": "stream",
     "text": [
      "/Users/rdubey/miniconda3/envs/deep-learning/lib/python3.9/site-packages/joblib/externals/loky/process_executor.py:700: UserWarning: A worker stopped while some jobs were given to the executor. This can be caused by a too short worker timeout or by a memory leak.\n",
      "  warnings.warn(\n"
     ]
    },
    {
     "name": "stdout",
     "output_type": "stream",
     "text": [
      "huggingface/tokenizers: The current process just got forked, after parallelism has already been used. Disabling parallelism to avoid deadlocks...\n",
      "To disable this warning, you can either:\n",
      "\t- Avoid using `tokenizers` before the fork if possible\n",
      "\t- Explicitly set the environment variable TOKENIZERS_PARALLELISM=(true | false)\n"
     ]
    },
    {
     "name": "stderr",
     "output_type": "stream",
     "text": [
      "/Users/rdubey/miniconda3/envs/deep-learning/lib/python3.9/site-packages/joblib/externals/loky/process_executor.py:700: UserWarning: A worker stopped while some jobs were given to the executor. This can be caused by a too short worker timeout or by a memory leak.\n",
      "  warnings.warn(\n"
     ]
    },
    {
     "name": "stdout",
     "output_type": "stream",
     "text": [
      "huggingface/tokenizers: The current process just got forked, after parallelism has already been used. Disabling parallelism to avoid deadlocks...\n",
      "To disable this warning, you can either:\n",
      "\t- Avoid using `tokenizers` before the fork if possible\n",
      "\t- Explicitly set the environment variable TOKENIZERS_PARALLELISM=(true | false)\n"
     ]
    },
    {
     "name": "stderr",
     "output_type": "stream",
     "text": [
      "/Users/rdubey/miniconda3/envs/deep-learning/lib/python3.9/site-packages/joblib/externals/loky/process_executor.py:700: UserWarning: A worker stopped while some jobs were given to the executor. This can be caused by a too short worker timeout or by a memory leak.\n",
      "  warnings.warn(\n"
     ]
    },
    {
     "name": "stdout",
     "output_type": "stream",
     "text": [
      "huggingface/tokenizers: The current process just got forked, after parallelism has already been used. Disabling parallelism to avoid deadlocks...\n",
      "To disable this warning, you can either:\n",
      "\t- Avoid using `tokenizers` before the fork if possible\n",
      "\t- Explicitly set the environment variable TOKENIZERS_PARALLELISM=(true | false)\n"
     ]
    },
    {
     "name": "stderr",
     "output_type": "stream",
     "text": [
      "/Users/rdubey/miniconda3/envs/deep-learning/lib/python3.9/site-packages/joblib/externals/loky/process_executor.py:700: UserWarning: A worker stopped while some jobs were given to the executor. This can be caused by a too short worker timeout or by a memory leak.\n",
      "  warnings.warn(\n"
     ]
    },
    {
     "name": "stdout",
     "output_type": "stream",
     "text": [
      "huggingface/tokenizers: The current process just got forked, after parallelism has already been used. Disabling parallelism to avoid deadlocks...\n",
      "To disable this warning, you can either:\n",
      "\t- Avoid using `tokenizers` before the fork if possible\n",
      "\t- Explicitly set the environment variable TOKENIZERS_PARALLELISM=(true | false)\n"
     ]
    },
    {
     "name": "stderr",
     "output_type": "stream",
     "text": [
      "/Users/rdubey/miniconda3/envs/deep-learning/lib/python3.9/site-packages/joblib/externals/loky/process_executor.py:700: UserWarning: A worker stopped while some jobs were given to the executor. This can be caused by a too short worker timeout or by a memory leak.\n",
      "  warnings.warn(\n"
     ]
    },
    {
     "name": "stdout",
     "output_type": "stream",
     "text": [
      "huggingface/tokenizers: The current process just got forked, after parallelism has already been used. Disabling parallelism to avoid deadlocks...\n",
      "To disable this warning, you can either:\n",
      "\t- Avoid using `tokenizers` before the fork if possible\n",
      "\t- Explicitly set the environment variable TOKENIZERS_PARALLELISM=(true | false)\n"
     ]
    },
    {
     "name": "stderr",
     "output_type": "stream",
     "text": [
      "/Users/rdubey/miniconda3/envs/deep-learning/lib/python3.9/site-packages/joblib/externals/loky/process_executor.py:700: UserWarning: A worker stopped while some jobs were given to the executor. This can be caused by a too short worker timeout or by a memory leak.\n",
      "  warnings.warn(\n"
     ]
    },
    {
     "name": "stdout",
     "output_type": "stream",
     "text": [
      "huggingface/tokenizers: The current process just got forked, after parallelism has already been used. Disabling parallelism to avoid deadlocks...\n",
      "To disable this warning, you can either:\n",
      "\t- Avoid using `tokenizers` before the fork if possible\n",
      "\t- Explicitly set the environment variable TOKENIZERS_PARALLELISM=(true | false)\n"
     ]
    },
    {
     "name": "stderr",
     "output_type": "stream",
     "text": [
      "/Users/rdubey/miniconda3/envs/deep-learning/lib/python3.9/site-packages/joblib/externals/loky/process_executor.py:700: UserWarning: A worker stopped while some jobs were given to the executor. This can be caused by a too short worker timeout or by a memory leak.\n",
      "  warnings.warn(\n"
     ]
    },
    {
     "name": "stdout",
     "output_type": "stream",
     "text": [
      "huggingface/tokenizers: The current process just got forked, after parallelism has already been used. Disabling parallelism to avoid deadlocks...\n",
      "To disable this warning, you can either:\n",
      "\t- Avoid using `tokenizers` before the fork if possible\n",
      "\t- Explicitly set the environment variable TOKENIZERS_PARALLELISM=(true | false)\n"
     ]
    },
    {
     "name": "stderr",
     "output_type": "stream",
     "text": [
      "/Users/rdubey/miniconda3/envs/deep-learning/lib/python3.9/site-packages/joblib/externals/loky/process_executor.py:700: UserWarning: A worker stopped while some jobs were given to the executor. This can be caused by a too short worker timeout or by a memory leak.\n",
      "  warnings.warn(\n"
     ]
    },
    {
     "name": "stdout",
     "output_type": "stream",
     "text": [
      "huggingface/tokenizers: The current process just got forked, after parallelism has already been used. Disabling parallelism to avoid deadlocks...\n",
      "To disable this warning, you can either:\n",
      "\t- Avoid using `tokenizers` before the fork if possible\n",
      "\t- Explicitly set the environment variable TOKENIZERS_PARALLELISM=(true | false)\n"
     ]
    },
    {
     "name": "stderr",
     "output_type": "stream",
     "text": [
      "/Users/rdubey/miniconda3/envs/deep-learning/lib/python3.9/site-packages/joblib/externals/loky/process_executor.py:700: UserWarning: A worker stopped while some jobs were given to the executor. This can be caused by a too short worker timeout or by a memory leak.\n",
      "  warnings.warn(\n"
     ]
    },
    {
     "name": "stdout",
     "output_type": "stream",
     "text": [
      "huggingface/tokenizers: The current process just got forked, after parallelism has already been used. Disabling parallelism to avoid deadlocks...\n",
      "To disable this warning, you can either:\n",
      "\t- Avoid using `tokenizers` before the fork if possible\n",
      "\t- Explicitly set the environment variable TOKENIZERS_PARALLELISM=(true | false)\n"
     ]
    },
    {
     "name": "stderr",
     "output_type": "stream",
     "text": [
      "/Users/rdubey/miniconda3/envs/deep-learning/lib/python3.9/site-packages/joblib/externals/loky/process_executor.py:700: UserWarning: A worker stopped while some jobs were given to the executor. This can be caused by a too short worker timeout or by a memory leak.\n",
      "  warnings.warn(\n"
     ]
    },
    {
     "name": "stdout",
     "output_type": "stream",
     "text": [
      "huggingface/tokenizers: The current process just got forked, after parallelism has already been used. Disabling parallelism to avoid deadlocks...\n",
      "To disable this warning, you can either:\n",
      "\t- Avoid using `tokenizers` before the fork if possible\n",
      "\t- Explicitly set the environment variable TOKENIZERS_PARALLELISM=(true | false)\n"
     ]
    },
    {
     "name": "stderr",
     "output_type": "stream",
     "text": [
      "/Users/rdubey/miniconda3/envs/deep-learning/lib/python3.9/site-packages/joblib/externals/loky/process_executor.py:700: UserWarning: A worker stopped while some jobs were given to the executor. This can be caused by a too short worker timeout or by a memory leak.\n",
      "  warnings.warn(\n"
     ]
    },
    {
     "name": "stdout",
     "output_type": "stream",
     "text": [
      "huggingface/tokenizers: The current process just got forked, after parallelism has already been used. Disabling parallelism to avoid deadlocks...\n",
      "To disable this warning, you can either:\n",
      "\t- Avoid using `tokenizers` before the fork if possible\n",
      "\t- Explicitly set the environment variable TOKENIZERS_PARALLELISM=(true | false)\n"
     ]
    },
    {
     "name": "stderr",
     "output_type": "stream",
     "text": [
      "/Users/rdubey/miniconda3/envs/deep-learning/lib/python3.9/site-packages/joblib/externals/loky/process_executor.py:700: UserWarning: A worker stopped while some jobs were given to the executor. This can be caused by a too short worker timeout or by a memory leak.\n",
      "  warnings.warn(\n"
     ]
    },
    {
     "name": "stdout",
     "output_type": "stream",
     "text": [
      "huggingface/tokenizers: The current process just got forked, after parallelism has already been used. Disabling parallelism to avoid deadlocks...\n",
      "To disable this warning, you can either:\n",
      "\t- Avoid using `tokenizers` before the fork if possible\n",
      "\t- Explicitly set the environment variable TOKENIZERS_PARALLELISM=(true | false)\n"
     ]
    },
    {
     "name": "stderr",
     "output_type": "stream",
     "text": [
      "/Users/rdubey/miniconda3/envs/deep-learning/lib/python3.9/site-packages/joblib/externals/loky/process_executor.py:700: UserWarning: A worker stopped while some jobs were given to the executor. This can be caused by a too short worker timeout or by a memory leak.\n",
      "  warnings.warn(\n"
     ]
    },
    {
     "name": "stdout",
     "output_type": "stream",
     "text": [
      "huggingface/tokenizers: The current process just got forked, after parallelism has already been used. Disabling parallelism to avoid deadlocks...\n",
      "To disable this warning, you can either:\n",
      "\t- Avoid using `tokenizers` before the fork if possible\n",
      "\t- Explicitly set the environment variable TOKENIZERS_PARALLELISM=(true | false)\n"
     ]
    },
    {
     "name": "stderr",
     "output_type": "stream",
     "text": [
      "/Users/rdubey/miniconda3/envs/deep-learning/lib/python3.9/site-packages/joblib/externals/loky/process_executor.py:700: UserWarning: A worker stopped while some jobs were given to the executor. This can be caused by a too short worker timeout or by a memory leak.\n",
      "  warnings.warn(\n"
     ]
    },
    {
     "name": "stdout",
     "output_type": "stream",
     "text": [
      "huggingface/tokenizers: The current process just got forked, after parallelism has already been used. Disabling parallelism to avoid deadlocks...\n",
      "To disable this warning, you can either:\n",
      "\t- Avoid using `tokenizers` before the fork if possible\n",
      "\t- Explicitly set the environment variable TOKENIZERS_PARALLELISM=(true | false)\n"
     ]
    },
    {
     "name": "stderr",
     "output_type": "stream",
     "text": [
      "/Users/rdubey/miniconda3/envs/deep-learning/lib/python3.9/site-packages/joblib/externals/loky/process_executor.py:700: UserWarning: A worker stopped while some jobs were given to the executor. This can be caused by a too short worker timeout or by a memory leak.\n",
      "  warnings.warn(\n"
     ]
    },
    {
     "name": "stdout",
     "output_type": "stream",
     "text": [
      "huggingface/tokenizers: The current process just got forked, after parallelism has already been used. Disabling parallelism to avoid deadlocks...\n",
      "To disable this warning, you can either:\n",
      "\t- Avoid using `tokenizers` before the fork if possible\n",
      "\t- Explicitly set the environment variable TOKENIZERS_PARALLELISM=(true | false)\n"
     ]
    },
    {
     "name": "stderr",
     "output_type": "stream",
     "text": [
      "/Users/rdubey/miniconda3/envs/deep-learning/lib/python3.9/site-packages/joblib/externals/loky/process_executor.py:700: UserWarning: A worker stopped while some jobs were given to the executor. This can be caused by a too short worker timeout or by a memory leak.\n",
      "  warnings.warn(\n"
     ]
    },
    {
     "name": "stdout",
     "output_type": "stream",
     "text": [
      "huggingface/tokenizers: The current process just got forked, after parallelism has already been used. Disabling parallelism to avoid deadlocks...\n",
      "To disable this warning, you can either:\n",
      "\t- Avoid using `tokenizers` before the fork if possible\n",
      "\t- Explicitly set the environment variable TOKENIZERS_PARALLELISM=(true | false)\n"
     ]
    },
    {
     "name": "stderr",
     "output_type": "stream",
     "text": [
      "/Users/rdubey/miniconda3/envs/deep-learning/lib/python3.9/site-packages/joblib/externals/loky/process_executor.py:700: UserWarning: A worker stopped while some jobs were given to the executor. This can be caused by a too short worker timeout or by a memory leak.\n",
      "  warnings.warn(\n"
     ]
    },
    {
     "name": "stdout",
     "output_type": "stream",
     "text": [
      "huggingface/tokenizers: The current process just got forked, after parallelism has already been used. Disabling parallelism to avoid deadlocks...\n",
      "To disable this warning, you can either:\n",
      "\t- Avoid using `tokenizers` before the fork if possible\n",
      "\t- Explicitly set the environment variable TOKENIZERS_PARALLELISM=(true | false)\n"
     ]
    },
    {
     "name": "stderr",
     "output_type": "stream",
     "text": [
      "/Users/rdubey/miniconda3/envs/deep-learning/lib/python3.9/site-packages/joblib/externals/loky/process_executor.py:700: UserWarning: A worker stopped while some jobs were given to the executor. This can be caused by a too short worker timeout or by a memory leak.\n",
      "  warnings.warn(\n"
     ]
    },
    {
     "name": "stdout",
     "output_type": "stream",
     "text": [
      "huggingface/tokenizers: The current process just got forked, after parallelism has already been used. Disabling parallelism to avoid deadlocks...\n",
      "To disable this warning, you can either:\n",
      "\t- Avoid using `tokenizers` before the fork if possible\n",
      "\t- Explicitly set the environment variable TOKENIZERS_PARALLELISM=(true | false)\n"
     ]
    },
    {
     "name": "stderr",
     "output_type": "stream",
     "text": [
      "/Users/rdubey/miniconda3/envs/deep-learning/lib/python3.9/site-packages/joblib/externals/loky/process_executor.py:700: UserWarning: A worker stopped while some jobs were given to the executor. This can be caused by a too short worker timeout or by a memory leak.\n",
      "  warnings.warn(\n"
     ]
    },
    {
     "name": "stdout",
     "output_type": "stream",
     "text": [
      "huggingface/tokenizers: The current process just got forked, after parallelism has already been used. Disabling parallelism to avoid deadlocks...\n",
      "To disable this warning, you can either:\n",
      "\t- Avoid using `tokenizers` before the fork if possible\n",
      "\t- Explicitly set the environment variable TOKENIZERS_PARALLELISM=(true | false)\n"
     ]
    },
    {
     "name": "stderr",
     "output_type": "stream",
     "text": [
      "/Users/rdubey/miniconda3/envs/deep-learning/lib/python3.9/site-packages/joblib/externals/loky/process_executor.py:700: UserWarning: A worker stopped while some jobs were given to the executor. This can be caused by a too short worker timeout or by a memory leak.\n",
      "  warnings.warn(\n"
     ]
    },
    {
     "name": "stdout",
     "output_type": "stream",
     "text": [
      "huggingface/tokenizers: The current process just got forked, after parallelism has already been used. Disabling parallelism to avoid deadlocks...\n",
      "To disable this warning, you can either:\n",
      "\t- Avoid using `tokenizers` before the fork if possible\n",
      "\t- Explicitly set the environment variable TOKENIZERS_PARALLELISM=(true | false)\n"
     ]
    },
    {
     "name": "stderr",
     "output_type": "stream",
     "text": [
      "/Users/rdubey/miniconda3/envs/deep-learning/lib/python3.9/site-packages/joblib/externals/loky/process_executor.py:700: UserWarning: A worker stopped while some jobs were given to the executor. This can be caused by a too short worker timeout or by a memory leak.\n",
      "  warnings.warn(\n"
     ]
    },
    {
     "name": "stdout",
     "output_type": "stream",
     "text": [
      "huggingface/tokenizers: The current process just got forked, after parallelism has already been used. Disabling parallelism to avoid deadlocks...\n",
      "To disable this warning, you can either:\n",
      "\t- Avoid using `tokenizers` before the fork if possible\n",
      "\t- Explicitly set the environment variable TOKENIZERS_PARALLELISM=(true | false)\n"
     ]
    },
    {
     "name": "stderr",
     "output_type": "stream",
     "text": [
      "/Users/rdubey/miniconda3/envs/deep-learning/lib/python3.9/site-packages/joblib/externals/loky/process_executor.py:700: UserWarning: A worker stopped while some jobs were given to the executor. This can be caused by a too short worker timeout or by a memory leak.\n",
      "  warnings.warn(\n"
     ]
    },
    {
     "name": "stdout",
     "output_type": "stream",
     "text": [
      "huggingface/tokenizers: The current process just got forked, after parallelism has already been used. Disabling parallelism to avoid deadlocks...\n",
      "To disable this warning, you can either:\n",
      "\t- Avoid using `tokenizers` before the fork if possible\n",
      "\t- Explicitly set the environment variable TOKENIZERS_PARALLELISM=(true | false)\n"
     ]
    },
    {
     "name": "stderr",
     "output_type": "stream",
     "text": [
      "/Users/rdubey/miniconda3/envs/deep-learning/lib/python3.9/site-packages/joblib/externals/loky/process_executor.py:700: UserWarning: A worker stopped while some jobs were given to the executor. This can be caused by a too short worker timeout or by a memory leak.\n",
      "  warnings.warn(\n"
     ]
    },
    {
     "name": "stdout",
     "output_type": "stream",
     "text": [
      "huggingface/tokenizers: The current process just got forked, after parallelism has already been used. Disabling parallelism to avoid deadlocks...\n",
      "To disable this warning, you can either:\n",
      "\t- Avoid using `tokenizers` before the fork if possible\n",
      "\t- Explicitly set the environment variable TOKENIZERS_PARALLELISM=(true | false)\n"
     ]
    },
    {
     "name": "stderr",
     "output_type": "stream",
     "text": [
      "/Users/rdubey/miniconda3/envs/deep-learning/lib/python3.9/site-packages/joblib/externals/loky/process_executor.py:700: UserWarning: A worker stopped while some jobs were given to the executor. This can be caused by a too short worker timeout or by a memory leak.\n",
      "  warnings.warn(\n"
     ]
    },
    {
     "name": "stdout",
     "output_type": "stream",
     "text": [
      "huggingface/tokenizers: The current process just got forked, after parallelism has already been used. Disabling parallelism to avoid deadlocks...\n",
      "To disable this warning, you can either:\n",
      "\t- Avoid using `tokenizers` before the fork if possible\n",
      "\t- Explicitly set the environment variable TOKENIZERS_PARALLELISM=(true | false)\n"
     ]
    },
    {
     "name": "stderr",
     "output_type": "stream",
     "text": [
      "/Users/rdubey/miniconda3/envs/deep-learning/lib/python3.9/site-packages/joblib/externals/loky/process_executor.py:700: UserWarning: A worker stopped while some jobs were given to the executor. This can be caused by a too short worker timeout or by a memory leak.\n",
      "  warnings.warn(\n"
     ]
    },
    {
     "name": "stdout",
     "output_type": "stream",
     "text": [
      "huggingface/tokenizers: The current process just got forked, after parallelism has already been used. Disabling parallelism to avoid deadlocks...\n",
      "To disable this warning, you can either:\n",
      "\t- Avoid using `tokenizers` before the fork if possible\n",
      "\t- Explicitly set the environment variable TOKENIZERS_PARALLELISM=(true | false)\n"
     ]
    },
    {
     "name": "stderr",
     "output_type": "stream",
     "text": [
      "/Users/rdubey/miniconda3/envs/deep-learning/lib/python3.9/site-packages/joblib/externals/loky/process_executor.py:700: UserWarning: A worker stopped while some jobs were given to the executor. This can be caused by a too short worker timeout or by a memory leak.\n",
      "  warnings.warn(\n"
     ]
    },
    {
     "name": "stdout",
     "output_type": "stream",
     "text": [
      "huggingface/tokenizers: The current process just got forked, after parallelism has already been used. Disabling parallelism to avoid deadlocks...\n",
      "To disable this warning, you can either:\n",
      "\t- Avoid using `tokenizers` before the fork if possible\n",
      "\t- Explicitly set the environment variable TOKENIZERS_PARALLELISM=(true | false)\n"
     ]
    },
    {
     "name": "stderr",
     "output_type": "stream",
     "text": [
      "/Users/rdubey/miniconda3/envs/deep-learning/lib/python3.9/site-packages/joblib/externals/loky/process_executor.py:700: UserWarning: A worker stopped while some jobs were given to the executor. This can be caused by a too short worker timeout or by a memory leak.\n",
      "  warnings.warn(\n"
     ]
    },
    {
     "name": "stdout",
     "output_type": "stream",
     "text": [
      "huggingface/tokenizers: The current process just got forked, after parallelism has already been used. Disabling parallelism to avoid deadlocks...\n",
      "To disable this warning, you can either:\n",
      "\t- Avoid using `tokenizers` before the fork if possible\n",
      "\t- Explicitly set the environment variable TOKENIZERS_PARALLELISM=(true | false)\n"
     ]
    },
    {
     "name": "stderr",
     "output_type": "stream",
     "text": [
      "/Users/rdubey/miniconda3/envs/deep-learning/lib/python3.9/site-packages/joblib/externals/loky/process_executor.py:700: UserWarning: A worker stopped while some jobs were given to the executor. This can be caused by a too short worker timeout or by a memory leak.\n",
      "  warnings.warn(\n"
     ]
    },
    {
     "name": "stdout",
     "output_type": "stream",
     "text": [
      "huggingface/tokenizers: The current process just got forked, after parallelism has already been used. Disabling parallelism to avoid deadlocks...\n",
      "To disable this warning, you can either:\n",
      "\t- Avoid using `tokenizers` before the fork if possible\n",
      "\t- Explicitly set the environment variable TOKENIZERS_PARALLELISM=(true | false)\n"
     ]
    },
    {
     "name": "stderr",
     "output_type": "stream",
     "text": [
      "/Users/rdubey/miniconda3/envs/deep-learning/lib/python3.9/site-packages/joblib/externals/loky/process_executor.py:700: UserWarning: A worker stopped while some jobs were given to the executor. This can be caused by a too short worker timeout or by a memory leak.\n",
      "  warnings.warn(\n"
     ]
    },
    {
     "name": "stdout",
     "output_type": "stream",
     "text": [
      "huggingface/tokenizers: The current process just got forked, after parallelism has already been used. Disabling parallelism to avoid deadlocks...\n",
      "To disable this warning, you can either:\n",
      "\t- Avoid using `tokenizers` before the fork if possible\n",
      "\t- Explicitly set the environment variable TOKENIZERS_PARALLELISM=(true | false)\n"
     ]
    },
    {
     "name": "stderr",
     "output_type": "stream",
     "text": [
      "/Users/rdubey/miniconda3/envs/deep-learning/lib/python3.9/site-packages/joblib/externals/loky/process_executor.py:700: UserWarning: A worker stopped while some jobs were given to the executor. This can be caused by a too short worker timeout or by a memory leak.\n",
      "  warnings.warn(\n"
     ]
    },
    {
     "name": "stdout",
     "output_type": "stream",
     "text": [
      "huggingface/tokenizers: The current process just got forked, after parallelism has already been used. Disabling parallelism to avoid deadlocks...\n",
      "To disable this warning, you can either:\n",
      "\t- Avoid using `tokenizers` before the fork if possible\n",
      "\t- Explicitly set the environment variable TOKENIZERS_PARALLELISM=(true | false)\n"
     ]
    },
    {
     "name": "stderr",
     "output_type": "stream",
     "text": [
      "/Users/rdubey/miniconda3/envs/deep-learning/lib/python3.9/site-packages/joblib/externals/loky/process_executor.py:700: UserWarning: A worker stopped while some jobs were given to the executor. This can be caused by a too short worker timeout or by a memory leak.\n",
      "  warnings.warn(\n"
     ]
    },
    {
     "name": "stdout",
     "output_type": "stream",
     "text": [
      "huggingface/tokenizers: The current process just got forked, after parallelism has already been used. Disabling parallelism to avoid deadlocks...\n",
      "To disable this warning, you can either:\n",
      "\t- Avoid using `tokenizers` before the fork if possible\n",
      "\t- Explicitly set the environment variable TOKENIZERS_PARALLELISM=(true | false)\n"
     ]
    },
    {
     "name": "stderr",
     "output_type": "stream",
     "text": [
      "/Users/rdubey/miniconda3/envs/deep-learning/lib/python3.9/site-packages/joblib/externals/loky/process_executor.py:700: UserWarning: A worker stopped while some jobs were given to the executor. This can be caused by a too short worker timeout or by a memory leak.\n",
      "  warnings.warn(\n"
     ]
    },
    {
     "name": "stdout",
     "output_type": "stream",
     "text": [
      "huggingface/tokenizers: The current process just got forked, after parallelism has already been used. Disabling parallelism to avoid deadlocks...\n",
      "To disable this warning, you can either:\n",
      "\t- Avoid using `tokenizers` before the fork if possible\n",
      "\t- Explicitly set the environment variable TOKENIZERS_PARALLELISM=(true | false)\n"
     ]
    },
    {
     "name": "stderr",
     "output_type": "stream",
     "text": [
      "/Users/rdubey/miniconda3/envs/deep-learning/lib/python3.9/site-packages/joblib/externals/loky/process_executor.py:700: UserWarning: A worker stopped while some jobs were given to the executor. This can be caused by a too short worker timeout or by a memory leak.\n",
      "  warnings.warn(\n"
     ]
    },
    {
     "name": "stdout",
     "output_type": "stream",
     "text": [
      "huggingface/tokenizers: The current process just got forked, after parallelism has already been used. Disabling parallelism to avoid deadlocks...\n",
      "To disable this warning, you can either:\n",
      "\t- Avoid using `tokenizers` before the fork if possible\n",
      "\t- Explicitly set the environment variable TOKENIZERS_PARALLELISM=(true | false)\n"
     ]
    },
    {
     "name": "stderr",
     "output_type": "stream",
     "text": [
      "/Users/rdubey/miniconda3/envs/deep-learning/lib/python3.9/site-packages/joblib/externals/loky/process_executor.py:700: UserWarning: A worker stopped while some jobs were given to the executor. This can be caused by a too short worker timeout or by a memory leak.\n",
      "  warnings.warn(\n"
     ]
    },
    {
     "name": "stdout",
     "output_type": "stream",
     "text": [
      "huggingface/tokenizers: The current process just got forked, after parallelism has already been used. Disabling parallelism to avoid deadlocks...\n",
      "To disable this warning, you can either:\n",
      "\t- Avoid using `tokenizers` before the fork if possible\n",
      "\t- Explicitly set the environment variable TOKENIZERS_PARALLELISM=(true | false)\n"
     ]
    },
    {
     "name": "stderr",
     "output_type": "stream",
     "text": [
      "/Users/rdubey/miniconda3/envs/deep-learning/lib/python3.9/site-packages/joblib/externals/loky/process_executor.py:700: UserWarning: A worker stopped while some jobs were given to the executor. This can be caused by a too short worker timeout or by a memory leak.\n",
      "  warnings.warn(\n"
     ]
    },
    {
     "name": "stdout",
     "output_type": "stream",
     "text": [
      "huggingface/tokenizers: The current process just got forked, after parallelism has already been used. Disabling parallelism to avoid deadlocks...\n",
      "To disable this warning, you can either:\n",
      "\t- Avoid using `tokenizers` before the fork if possible\n",
      "\t- Explicitly set the environment variable TOKENIZERS_PARALLELISM=(true | false)\n"
     ]
    },
    {
     "name": "stderr",
     "output_type": "stream",
     "text": [
      "/Users/rdubey/miniconda3/envs/deep-learning/lib/python3.9/site-packages/joblib/externals/loky/process_executor.py:700: UserWarning: A worker stopped while some jobs were given to the executor. This can be caused by a too short worker timeout or by a memory leak.\n",
      "  warnings.warn(\n"
     ]
    },
    {
     "name": "stdout",
     "output_type": "stream",
     "text": [
      "huggingface/tokenizers: The current process just got forked, after parallelism has already been used. Disabling parallelism to avoid deadlocks...\n",
      "To disable this warning, you can either:\n",
      "\t- Avoid using `tokenizers` before the fork if possible\n",
      "\t- Explicitly set the environment variable TOKENIZERS_PARALLELISM=(true | false)\n"
     ]
    },
    {
     "name": "stderr",
     "output_type": "stream",
     "text": [
      "/Users/rdubey/miniconda3/envs/deep-learning/lib/python3.9/site-packages/joblib/externals/loky/process_executor.py:700: UserWarning: A worker stopped while some jobs were given to the executor. This can be caused by a too short worker timeout or by a memory leak.\n",
      "  warnings.warn(\n"
     ]
    },
    {
     "name": "stdout",
     "output_type": "stream",
     "text": [
      "huggingface/tokenizers: The current process just got forked, after parallelism has already been used. Disabling parallelism to avoid deadlocks...\n",
      "To disable this warning, you can either:\n",
      "\t- Avoid using `tokenizers` before the fork if possible\n",
      "\t- Explicitly set the environment variable TOKENIZERS_PARALLELISM=(true | false)\n"
     ]
    },
    {
     "name": "stderr",
     "output_type": "stream",
     "text": [
      "/Users/rdubey/miniconda3/envs/deep-learning/lib/python3.9/site-packages/joblib/externals/loky/process_executor.py:700: UserWarning: A worker stopped while some jobs were given to the executor. This can be caused by a too short worker timeout or by a memory leak.\n",
      "  warnings.warn(\n"
     ]
    },
    {
     "name": "stdout",
     "output_type": "stream",
     "text": [
      "huggingface/tokenizers: The current process just got forked, after parallelism has already been used. Disabling parallelism to avoid deadlocks...\n",
      "To disable this warning, you can either:\n",
      "\t- Avoid using `tokenizers` before the fork if possible\n",
      "\t- Explicitly set the environment variable TOKENIZERS_PARALLELISM=(true | false)\n"
     ]
    },
    {
     "name": "stderr",
     "output_type": "stream",
     "text": [
      "/Users/rdubey/miniconda3/envs/deep-learning/lib/python3.9/site-packages/joblib/externals/loky/process_executor.py:700: UserWarning: A worker stopped while some jobs were given to the executor. This can be caused by a too short worker timeout or by a memory leak.\n",
      "  warnings.warn(\n"
     ]
    },
    {
     "name": "stdout",
     "output_type": "stream",
     "text": [
      "huggingface/tokenizers: The current process just got forked, after parallelism has already been used. Disabling parallelism to avoid deadlocks...\n",
      "To disable this warning, you can either:\n",
      "\t- Avoid using `tokenizers` before the fork if possible\n",
      "\t- Explicitly set the environment variable TOKENIZERS_PARALLELISM=(true | false)\n"
     ]
    },
    {
     "name": "stderr",
     "output_type": "stream",
     "text": [
      "/Users/rdubey/miniconda3/envs/deep-learning/lib/python3.9/site-packages/joblib/externals/loky/process_executor.py:700: UserWarning: A worker stopped while some jobs were given to the executor. This can be caused by a too short worker timeout or by a memory leak.\n",
      "  warnings.warn(\n"
     ]
    },
    {
     "name": "stdout",
     "output_type": "stream",
     "text": [
      "huggingface/tokenizers: The current process just got forked, after parallelism has already been used. Disabling parallelism to avoid deadlocks...\n",
      "To disable this warning, you can either:\n",
      "\t- Avoid using `tokenizers` before the fork if possible\n",
      "\t- Explicitly set the environment variable TOKENIZERS_PARALLELISM=(true | false)\n"
     ]
    },
    {
     "name": "stderr",
     "output_type": "stream",
     "text": [
      "/Users/rdubey/miniconda3/envs/deep-learning/lib/python3.9/site-packages/joblib/externals/loky/process_executor.py:700: UserWarning: A worker stopped while some jobs were given to the executor. This can be caused by a too short worker timeout or by a memory leak.\n",
      "  warnings.warn(\n"
     ]
    },
    {
     "name": "stdout",
     "output_type": "stream",
     "text": [
      "huggingface/tokenizers: The current process just got forked, after parallelism has already been used. Disabling parallelism to avoid deadlocks...\n",
      "To disable this warning, you can either:\n",
      "\t- Avoid using `tokenizers` before the fork if possible\n",
      "\t- Explicitly set the environment variable TOKENIZERS_PARALLELISM=(true | false)\n"
     ]
    },
    {
     "name": "stderr",
     "output_type": "stream",
     "text": [
      "/Users/rdubey/miniconda3/envs/deep-learning/lib/python3.9/site-packages/joblib/externals/loky/process_executor.py:700: UserWarning: A worker stopped while some jobs were given to the executor. This can be caused by a too short worker timeout or by a memory leak.\n",
      "  warnings.warn(\n"
     ]
    },
    {
     "name": "stdout",
     "output_type": "stream",
     "text": [
      "huggingface/tokenizers: The current process just got forked, after parallelism has already been used. Disabling parallelism to avoid deadlocks...\n",
      "To disable this warning, you can either:\n",
      "\t- Avoid using `tokenizers` before the fork if possible\n",
      "\t- Explicitly set the environment variable TOKENIZERS_PARALLELISM=(true | false)\n"
     ]
    },
    {
     "name": "stderr",
     "output_type": "stream",
     "text": [
      "/Users/rdubey/miniconda3/envs/deep-learning/lib/python3.9/site-packages/joblib/externals/loky/process_executor.py:700: UserWarning: A worker stopped while some jobs were given to the executor. This can be caused by a too short worker timeout or by a memory leak.\n",
      "  warnings.warn(\n"
     ]
    },
    {
     "name": "stdout",
     "output_type": "stream",
     "text": [
      "huggingface/tokenizers: The current process just got forked, after parallelism has already been used. Disabling parallelism to avoid deadlocks...\n",
      "To disable this warning, you can either:\n",
      "\t- Avoid using `tokenizers` before the fork if possible\n",
      "\t- Explicitly set the environment variable TOKENIZERS_PARALLELISM=(true | false)\n"
     ]
    },
    {
     "name": "stderr",
     "output_type": "stream",
     "text": [
      "/Users/rdubey/miniconda3/envs/deep-learning/lib/python3.9/site-packages/joblib/externals/loky/process_executor.py:700: UserWarning: A worker stopped while some jobs were given to the executor. This can be caused by a too short worker timeout or by a memory leak.\n",
      "  warnings.warn(\n"
     ]
    },
    {
     "name": "stdout",
     "output_type": "stream",
     "text": [
      "huggingface/tokenizers: The current process just got forked, after parallelism has already been used. Disabling parallelism to avoid deadlocks...\n",
      "To disable this warning, you can either:\n",
      "\t- Avoid using `tokenizers` before the fork if possible\n",
      "\t- Explicitly set the environment variable TOKENIZERS_PARALLELISM=(true | false)\n"
     ]
    },
    {
     "name": "stderr",
     "output_type": "stream",
     "text": [
      "/Users/rdubey/miniconda3/envs/deep-learning/lib/python3.9/site-packages/joblib/externals/loky/process_executor.py:700: UserWarning: A worker stopped while some jobs were given to the executor. This can be caused by a too short worker timeout or by a memory leak.\n",
      "  warnings.warn(\n"
     ]
    },
    {
     "name": "stdout",
     "output_type": "stream",
     "text": [
      "huggingface/tokenizers: The current process just got forked, after parallelism has already been used. Disabling parallelism to avoid deadlocks...\n",
      "To disable this warning, you can either:\n",
      "\t- Avoid using `tokenizers` before the fork if possible\n",
      "\t- Explicitly set the environment variable TOKENIZERS_PARALLELISM=(true | false)\n"
     ]
    },
    {
     "name": "stderr",
     "output_type": "stream",
     "text": [
      "/Users/rdubey/miniconda3/envs/deep-learning/lib/python3.9/site-packages/joblib/externals/loky/process_executor.py:700: UserWarning: A worker stopped while some jobs were given to the executor. This can be caused by a too short worker timeout or by a memory leak.\n",
      "  warnings.warn(\n"
     ]
    },
    {
     "name": "stdout",
     "output_type": "stream",
     "text": [
      "huggingface/tokenizers: The current process just got forked, after parallelism has already been used. Disabling parallelism to avoid deadlocks...\n",
      "To disable this warning, you can either:\n",
      "\t- Avoid using `tokenizers` before the fork if possible\n",
      "\t- Explicitly set the environment variable TOKENIZERS_PARALLELISM=(true | false)\n"
     ]
    },
    {
     "name": "stderr",
     "output_type": "stream",
     "text": [
      "/Users/rdubey/miniconda3/envs/deep-learning/lib/python3.9/site-packages/joblib/externals/loky/process_executor.py:700: UserWarning: A worker stopped while some jobs were given to the executor. This can be caused by a too short worker timeout or by a memory leak.\n",
      "  warnings.warn(\n"
     ]
    },
    {
     "name": "stdout",
     "output_type": "stream",
     "text": [
      "huggingface/tokenizers: The current process just got forked, after parallelism has already been used. Disabling parallelism to avoid deadlocks...\n",
      "To disable this warning, you can either:\n",
      "\t- Avoid using `tokenizers` before the fork if possible\n",
      "\t- Explicitly set the environment variable TOKENIZERS_PARALLELISM=(true | false)\n"
     ]
    },
    {
     "name": "stderr",
     "output_type": "stream",
     "text": [
      "/Users/rdubey/miniconda3/envs/deep-learning/lib/python3.9/site-packages/joblib/externals/loky/process_executor.py:700: UserWarning: A worker stopped while some jobs were given to the executor. This can be caused by a too short worker timeout or by a memory leak.\n",
      "  warnings.warn(\n"
     ]
    },
    {
     "name": "stdout",
     "output_type": "stream",
     "text": [
      "huggingface/tokenizers: The current process just got forked, after parallelism has already been used. Disabling parallelism to avoid deadlocks...\n",
      "To disable this warning, you can either:\n",
      "\t- Avoid using `tokenizers` before the fork if possible\n",
      "\t- Explicitly set the environment variable TOKENIZERS_PARALLELISM=(true | false)\n"
     ]
    },
    {
     "name": "stderr",
     "output_type": "stream",
     "text": [
      "/Users/rdubey/miniconda3/envs/deep-learning/lib/python3.9/site-packages/joblib/externals/loky/process_executor.py:700: UserWarning: A worker stopped while some jobs were given to the executor. This can be caused by a too short worker timeout or by a memory leak.\n",
      "  warnings.warn(\n"
     ]
    },
    {
     "name": "stdout",
     "output_type": "stream",
     "text": [
      "huggingface/tokenizers: The current process just got forked, after parallelism has already been used. Disabling parallelism to avoid deadlocks...\n",
      "To disable this warning, you can either:\n",
      "\t- Avoid using `tokenizers` before the fork if possible\n",
      "\t- Explicitly set the environment variable TOKENIZERS_PARALLELISM=(true | false)\n"
     ]
    },
    {
     "name": "stderr",
     "output_type": "stream",
     "text": [
      "/Users/rdubey/miniconda3/envs/deep-learning/lib/python3.9/site-packages/joblib/externals/loky/process_executor.py:700: UserWarning: A worker stopped while some jobs were given to the executor. This can be caused by a too short worker timeout or by a memory leak.\n",
      "  warnings.warn(\n"
     ]
    },
    {
     "name": "stdout",
     "output_type": "stream",
     "text": [
      "huggingface/tokenizers: The current process just got forked, after parallelism has already been used. Disabling parallelism to avoid deadlocks...\n",
      "To disable this warning, you can either:\n",
      "\t- Avoid using `tokenizers` before the fork if possible\n",
      "\t- Explicitly set the environment variable TOKENIZERS_PARALLELISM=(true | false)\n"
     ]
    },
    {
     "name": "stderr",
     "output_type": "stream",
     "text": [
      "/Users/rdubey/miniconda3/envs/deep-learning/lib/python3.9/site-packages/joblib/externals/loky/process_executor.py:700: UserWarning: A worker stopped while some jobs were given to the executor. This can be caused by a too short worker timeout or by a memory leak.\n",
      "  warnings.warn(\n"
     ]
    },
    {
     "name": "stdout",
     "output_type": "stream",
     "text": [
      "huggingface/tokenizers: The current process just got forked, after parallelism has already been used. Disabling parallelism to avoid deadlocks...\n",
      "To disable this warning, you can either:\n",
      "\t- Avoid using `tokenizers` before the fork if possible\n",
      "\t- Explicitly set the environment variable TOKENIZERS_PARALLELISM=(true | false)\n"
     ]
    },
    {
     "name": "stderr",
     "output_type": "stream",
     "text": [
      "/Users/rdubey/miniconda3/envs/deep-learning/lib/python3.9/site-packages/joblib/externals/loky/process_executor.py:700: UserWarning: A worker stopped while some jobs were given to the executor. This can be caused by a too short worker timeout or by a memory leak.\n",
      "  warnings.warn(\n"
     ]
    },
    {
     "name": "stdout",
     "output_type": "stream",
     "text": [
      "huggingface/tokenizers: The current process just got forked, after parallelism has already been used. Disabling parallelism to avoid deadlocks...\n",
      "To disable this warning, you can either:\n",
      "\t- Avoid using `tokenizers` before the fork if possible\n",
      "\t- Explicitly set the environment variable TOKENIZERS_PARALLELISM=(true | false)\n"
     ]
    },
    {
     "name": "stderr",
     "output_type": "stream",
     "text": [
      "/Users/rdubey/miniconda3/envs/deep-learning/lib/python3.9/site-packages/joblib/externals/loky/process_executor.py:700: UserWarning: A worker stopped while some jobs were given to the executor. This can be caused by a too short worker timeout or by a memory leak.\n",
      "  warnings.warn(\n"
     ]
    },
    {
     "name": "stdout",
     "output_type": "stream",
     "text": [
      "huggingface/tokenizers: The current process just got forked, after parallelism has already been used. Disabling parallelism to avoid deadlocks...\n",
      "To disable this warning, you can either:\n",
      "\t- Avoid using `tokenizers` before the fork if possible\n",
      "\t- Explicitly set the environment variable TOKENIZERS_PARALLELISM=(true | false)\n"
     ]
    },
    {
     "name": "stderr",
     "output_type": "stream",
     "text": [
      "/Users/rdubey/miniconda3/envs/deep-learning/lib/python3.9/site-packages/joblib/externals/loky/process_executor.py:700: UserWarning: A worker stopped while some jobs were given to the executor. This can be caused by a too short worker timeout or by a memory leak.\n",
      "  warnings.warn(\n"
     ]
    },
    {
     "name": "stdout",
     "output_type": "stream",
     "text": [
      "huggingface/tokenizers: The current process just got forked, after parallelism has already been used. Disabling parallelism to avoid deadlocks...\n",
      "To disable this warning, you can either:\n",
      "\t- Avoid using `tokenizers` before the fork if possible\n",
      "\t- Explicitly set the environment variable TOKENIZERS_PARALLELISM=(true | false)\n"
     ]
    },
    {
     "name": "stderr",
     "output_type": "stream",
     "text": [
      "/Users/rdubey/miniconda3/envs/deep-learning/lib/python3.9/site-packages/joblib/externals/loky/process_executor.py:700: UserWarning: A worker stopped while some jobs were given to the executor. This can be caused by a too short worker timeout or by a memory leak.\n",
      "  warnings.warn(\n"
     ]
    },
    {
     "name": "stdout",
     "output_type": "stream",
     "text": [
      "huggingface/tokenizers: The current process just got forked, after parallelism has already been used. Disabling parallelism to avoid deadlocks...\n",
      "To disable this warning, you can either:\n",
      "\t- Avoid using `tokenizers` before the fork if possible\n",
      "\t- Explicitly set the environment variable TOKENIZERS_PARALLELISM=(true | false)\n"
     ]
    },
    {
     "name": "stderr",
     "output_type": "stream",
     "text": [
      "/Users/rdubey/miniconda3/envs/deep-learning/lib/python3.9/site-packages/joblib/externals/loky/process_executor.py:700: UserWarning: A worker stopped while some jobs were given to the executor. This can be caused by a too short worker timeout or by a memory leak.\n",
      "  warnings.warn(\n"
     ]
    },
    {
     "name": "stdout",
     "output_type": "stream",
     "text": [
      "huggingface/tokenizers: The current process just got forked, after parallelism has already been used. Disabling parallelism to avoid deadlocks...\n",
      "To disable this warning, you can either:\n",
      "\t- Avoid using `tokenizers` before the fork if possible\n",
      "\t- Explicitly set the environment variable TOKENIZERS_PARALLELISM=(true | false)\n"
     ]
    },
    {
     "name": "stderr",
     "output_type": "stream",
     "text": [
      "/Users/rdubey/miniconda3/envs/deep-learning/lib/python3.9/site-packages/joblib/externals/loky/process_executor.py:700: UserWarning: A worker stopped while some jobs were given to the executor. This can be caused by a too short worker timeout or by a memory leak.\n",
      "  warnings.warn(\n"
     ]
    },
    {
     "name": "stdout",
     "output_type": "stream",
     "text": [
      "huggingface/tokenizers: The current process just got forked, after parallelism has already been used. Disabling parallelism to avoid deadlocks...\n",
      "To disable this warning, you can either:\n",
      "\t- Avoid using `tokenizers` before the fork if possible\n",
      "\t- Explicitly set the environment variable TOKENIZERS_PARALLELISM=(true | false)\n"
     ]
    },
    {
     "name": "stderr",
     "output_type": "stream",
     "text": [
      "/Users/rdubey/miniconda3/envs/deep-learning/lib/python3.9/site-packages/joblib/externals/loky/process_executor.py:700: UserWarning: A worker stopped while some jobs were given to the executor. This can be caused by a too short worker timeout or by a memory leak.\n",
      "  warnings.warn(\n"
     ]
    },
    {
     "name": "stdout",
     "output_type": "stream",
     "text": [
      "huggingface/tokenizers: The current process just got forked, after parallelism has already been used. Disabling parallelism to avoid deadlocks...\n",
      "To disable this warning, you can either:\n",
      "\t- Avoid using `tokenizers` before the fork if possible\n",
      "\t- Explicitly set the environment variable TOKENIZERS_PARALLELISM=(true | false)\n"
     ]
    },
    {
     "name": "stderr",
     "output_type": "stream",
     "text": [
      "/Users/rdubey/miniconda3/envs/deep-learning/lib/python3.9/site-packages/joblib/externals/loky/process_executor.py:700: UserWarning: A worker stopped while some jobs were given to the executor. This can be caused by a too short worker timeout or by a memory leak.\n",
      "  warnings.warn(\n"
     ]
    },
    {
     "name": "stdout",
     "output_type": "stream",
     "text": [
      "huggingface/tokenizers: The current process just got forked, after parallelism has already been used. Disabling parallelism to avoid deadlocks...\n",
      "To disable this warning, you can either:\n",
      "\t- Avoid using `tokenizers` before the fork if possible\n",
      "\t- Explicitly set the environment variable TOKENIZERS_PARALLELISM=(true | false)\n"
     ]
    },
    {
     "name": "stderr",
     "output_type": "stream",
     "text": [
      "/Users/rdubey/miniconda3/envs/deep-learning/lib/python3.9/site-packages/joblib/externals/loky/process_executor.py:700: UserWarning: A worker stopped while some jobs were given to the executor. This can be caused by a too short worker timeout or by a memory leak.\n",
      "  warnings.warn(\n"
     ]
    },
    {
     "name": "stdout",
     "output_type": "stream",
     "text": [
      "huggingface/tokenizers: The current process just got forked, after parallelism has already been used. Disabling parallelism to avoid deadlocks...\n",
      "To disable this warning, you can either:\n",
      "\t- Avoid using `tokenizers` before the fork if possible\n",
      "\t- Explicitly set the environment variable TOKENIZERS_PARALLELISM=(true | false)\n"
     ]
    },
    {
     "name": "stderr",
     "output_type": "stream",
     "text": [
      "/Users/rdubey/miniconda3/envs/deep-learning/lib/python3.9/site-packages/joblib/externals/loky/process_executor.py:700: UserWarning: A worker stopped while some jobs were given to the executor. This can be caused by a too short worker timeout or by a memory leak.\n",
      "  warnings.warn(\n"
     ]
    },
    {
     "name": "stdout",
     "output_type": "stream",
     "text": [
      "huggingface/tokenizers: The current process just got forked, after parallelism has already been used. Disabling parallelism to avoid deadlocks...\n",
      "To disable this warning, you can either:\n",
      "\t- Avoid using `tokenizers` before the fork if possible\n",
      "\t- Explicitly set the environment variable TOKENIZERS_PARALLELISM=(true | false)\n"
     ]
    },
    {
     "name": "stderr",
     "output_type": "stream",
     "text": [
      "/Users/rdubey/miniconda3/envs/deep-learning/lib/python3.9/site-packages/joblib/externals/loky/process_executor.py:700: UserWarning: A worker stopped while some jobs were given to the executor. This can be caused by a too short worker timeout or by a memory leak.\n",
      "  warnings.warn(\n"
     ]
    },
    {
     "name": "stdout",
     "output_type": "stream",
     "text": [
      "huggingface/tokenizers: The current process just got forked, after parallelism has already been used. Disabling parallelism to avoid deadlocks...\n",
      "To disable this warning, you can either:\n",
      "\t- Avoid using `tokenizers` before the fork if possible\n",
      "\t- Explicitly set the environment variable TOKENIZERS_PARALLELISM=(true | false)\n"
     ]
    },
    {
     "name": "stderr",
     "output_type": "stream",
     "text": [
      "/Users/rdubey/miniconda3/envs/deep-learning/lib/python3.9/site-packages/joblib/externals/loky/process_executor.py:700: UserWarning: A worker stopped while some jobs were given to the executor. This can be caused by a too short worker timeout or by a memory leak.\n",
      "  warnings.warn(\n"
     ]
    },
    {
     "name": "stdout",
     "output_type": "stream",
     "text": [
      "huggingface/tokenizers: The current process just got forked, after parallelism has already been used. Disabling parallelism to avoid deadlocks...\n",
      "To disable this warning, you can either:\n",
      "\t- Avoid using `tokenizers` before the fork if possible\n",
      "\t- Explicitly set the environment variable TOKENIZERS_PARALLELISM=(true | false)\n"
     ]
    },
    {
     "name": "stderr",
     "output_type": "stream",
     "text": [
      "/Users/rdubey/miniconda3/envs/deep-learning/lib/python3.9/site-packages/joblib/externals/loky/process_executor.py:700: UserWarning: A worker stopped while some jobs were given to the executor. This can be caused by a too short worker timeout or by a memory leak.\n",
      "  warnings.warn(\n"
     ]
    },
    {
     "name": "stdout",
     "output_type": "stream",
     "text": [
      "huggingface/tokenizers: The current process just got forked, after parallelism has already been used. Disabling parallelism to avoid deadlocks...\n",
      "To disable this warning, you can either:\n",
      "\t- Avoid using `tokenizers` before the fork if possible\n",
      "\t- Explicitly set the environment variable TOKENIZERS_PARALLELISM=(true | false)\n"
     ]
    },
    {
     "name": "stderr",
     "output_type": "stream",
     "text": [
      "/Users/rdubey/miniconda3/envs/deep-learning/lib/python3.9/site-packages/joblib/externals/loky/process_executor.py:700: UserWarning: A worker stopped while some jobs were given to the executor. This can be caused by a too short worker timeout or by a memory leak.\n",
      "  warnings.warn(\n"
     ]
    },
    {
     "name": "stdout",
     "output_type": "stream",
     "text": [
      "huggingface/tokenizers: The current process just got forked, after parallelism has already been used. Disabling parallelism to avoid deadlocks...\n",
      "To disable this warning, you can either:\n",
      "\t- Avoid using `tokenizers` before the fork if possible\n",
      "\t- Explicitly set the environment variable TOKENIZERS_PARALLELISM=(true | false)\n"
     ]
    },
    {
     "name": "stderr",
     "output_type": "stream",
     "text": [
      "/Users/rdubey/miniconda3/envs/deep-learning/lib/python3.9/site-packages/joblib/externals/loky/process_executor.py:700: UserWarning: A worker stopped while some jobs were given to the executor. This can be caused by a too short worker timeout or by a memory leak.\n",
      "  warnings.warn(\n"
     ]
    },
    {
     "name": "stdout",
     "output_type": "stream",
     "text": [
      "huggingface/tokenizers: The current process just got forked, after parallelism has already been used. Disabling parallelism to avoid deadlocks...\n",
      "To disable this warning, you can either:\n",
      "\t- Avoid using `tokenizers` before the fork if possible\n",
      "\t- Explicitly set the environment variable TOKENIZERS_PARALLELISM=(true | false)\n"
     ]
    },
    {
     "name": "stderr",
     "output_type": "stream",
     "text": [
      "/Users/rdubey/miniconda3/envs/deep-learning/lib/python3.9/site-packages/joblib/externals/loky/process_executor.py:700: UserWarning: A worker stopped while some jobs were given to the executor. This can be caused by a too short worker timeout or by a memory leak.\n",
      "  warnings.warn(\n"
     ]
    },
    {
     "name": "stdout",
     "output_type": "stream",
     "text": [
      "huggingface/tokenizers: The current process just got forked, after parallelism has already been used. Disabling parallelism to avoid deadlocks...\n",
      "To disable this warning, you can either:\n",
      "\t- Avoid using `tokenizers` before the fork if possible\n",
      "\t- Explicitly set the environment variable TOKENIZERS_PARALLELISM=(true | false)\n"
     ]
    },
    {
     "name": "stderr",
     "output_type": "stream",
     "text": [
      "/Users/rdubey/miniconda3/envs/deep-learning/lib/python3.9/site-packages/joblib/externals/loky/process_executor.py:700: UserWarning: A worker stopped while some jobs were given to the executor. This can be caused by a too short worker timeout or by a memory leak.\n",
      "  warnings.warn(\n"
     ]
    },
    {
     "name": "stdout",
     "output_type": "stream",
     "text": [
      "huggingface/tokenizers: The current process just got forked, after parallelism has already been used. Disabling parallelism to avoid deadlocks...\n",
      "To disable this warning, you can either:\n",
      "\t- Avoid using `tokenizers` before the fork if possible\n",
      "\t- Explicitly set the environment variable TOKENIZERS_PARALLELISM=(true | false)\n"
     ]
    },
    {
     "name": "stderr",
     "output_type": "stream",
     "text": [
      "/Users/rdubey/miniconda3/envs/deep-learning/lib/python3.9/site-packages/joblib/externals/loky/process_executor.py:700: UserWarning: A worker stopped while some jobs were given to the executor. This can be caused by a too short worker timeout or by a memory leak.\n",
      "  warnings.warn(\n"
     ]
    },
    {
     "name": "stdout",
     "output_type": "stream",
     "text": [
      "huggingface/tokenizers: The current process just got forked, after parallelism has already been used. Disabling parallelism to avoid deadlocks...\n",
      "To disable this warning, you can either:\n",
      "\t- Avoid using `tokenizers` before the fork if possible\n",
      "\t- Explicitly set the environment variable TOKENIZERS_PARALLELISM=(true | false)\n"
     ]
    },
    {
     "name": "stderr",
     "output_type": "stream",
     "text": [
      "/Users/rdubey/miniconda3/envs/deep-learning/lib/python3.9/site-packages/joblib/externals/loky/process_executor.py:700: UserWarning: A worker stopped while some jobs were given to the executor. This can be caused by a too short worker timeout or by a memory leak.\n",
      "  warnings.warn(\n"
     ]
    },
    {
     "name": "stdout",
     "output_type": "stream",
     "text": [
      "huggingface/tokenizers: The current process just got forked, after parallelism has already been used. Disabling parallelism to avoid deadlocks...\n",
      "To disable this warning, you can either:\n",
      "\t- Avoid using `tokenizers` before the fork if possible\n",
      "\t- Explicitly set the environment variable TOKENIZERS_PARALLELISM=(true | false)\n"
     ]
    },
    {
     "name": "stderr",
     "output_type": "stream",
     "text": [
      "/Users/rdubey/miniconda3/envs/deep-learning/lib/python3.9/site-packages/joblib/externals/loky/process_executor.py:700: UserWarning: A worker stopped while some jobs were given to the executor. This can be caused by a too short worker timeout or by a memory leak.\n",
      "  warnings.warn(\n"
     ]
    },
    {
     "name": "stdout",
     "output_type": "stream",
     "text": [
      "huggingface/tokenizers: The current process just got forked, after parallelism has already been used. Disabling parallelism to avoid deadlocks...\n",
      "To disable this warning, you can either:\n",
      "\t- Avoid using `tokenizers` before the fork if possible\n",
      "\t- Explicitly set the environment variable TOKENIZERS_PARALLELISM=(true | false)\n"
     ]
    },
    {
     "name": "stderr",
     "output_type": "stream",
     "text": [
      "/Users/rdubey/miniconda3/envs/deep-learning/lib/python3.9/site-packages/joblib/externals/loky/process_executor.py:700: UserWarning: A worker stopped while some jobs were given to the executor. This can be caused by a too short worker timeout or by a memory leak.\n",
      "  warnings.warn(\n"
     ]
    },
    {
     "name": "stdout",
     "output_type": "stream",
     "text": [
      "huggingface/tokenizers: The current process just got forked, after parallelism has already been used. Disabling parallelism to avoid deadlocks...\n",
      "To disable this warning, you can either:\n",
      "\t- Avoid using `tokenizers` before the fork if possible\n",
      "\t- Explicitly set the environment variable TOKENIZERS_PARALLELISM=(true | false)\n"
     ]
    },
    {
     "name": "stderr",
     "output_type": "stream",
     "text": [
      "/Users/rdubey/miniconda3/envs/deep-learning/lib/python3.9/site-packages/joblib/externals/loky/process_executor.py:700: UserWarning: A worker stopped while some jobs were given to the executor. This can be caused by a too short worker timeout or by a memory leak.\n",
      "  warnings.warn(\n"
     ]
    },
    {
     "name": "stdout",
     "output_type": "stream",
     "text": [
      "huggingface/tokenizers: The current process just got forked, after parallelism has already been used. Disabling parallelism to avoid deadlocks...\n",
      "To disable this warning, you can either:\n",
      "\t- Avoid using `tokenizers` before the fork if possible\n",
      "\t- Explicitly set the environment variable TOKENIZERS_PARALLELISM=(true | false)\n"
     ]
    },
    {
     "name": "stderr",
     "output_type": "stream",
     "text": [
      "/Users/rdubey/miniconda3/envs/deep-learning/lib/python3.9/site-packages/joblib/externals/loky/process_executor.py:700: UserWarning: A worker stopped while some jobs were given to the executor. This can be caused by a too short worker timeout or by a memory leak.\n",
      "  warnings.warn(\n"
     ]
    },
    {
     "name": "stdout",
     "output_type": "stream",
     "text": [
      "huggingface/tokenizers: The current process just got forked, after parallelism has already been used. Disabling parallelism to avoid deadlocks...\n",
      "To disable this warning, you can either:\n",
      "\t- Avoid using `tokenizers` before the fork if possible\n",
      "\t- Explicitly set the environment variable TOKENIZERS_PARALLELISM=(true | false)\n"
     ]
    },
    {
     "name": "stderr",
     "output_type": "stream",
     "text": [
      "/Users/rdubey/miniconda3/envs/deep-learning/lib/python3.9/site-packages/joblib/externals/loky/process_executor.py:700: UserWarning: A worker stopped while some jobs were given to the executor. This can be caused by a too short worker timeout or by a memory leak.\n",
      "  warnings.warn(\n"
     ]
    },
    {
     "name": "stdout",
     "output_type": "stream",
     "text": [
      "huggingface/tokenizers: The current process just got forked, after parallelism has already been used. Disabling parallelism to avoid deadlocks...\n",
      "To disable this warning, you can either:\n",
      "\t- Avoid using `tokenizers` before the fork if possible\n",
      "\t- Explicitly set the environment variable TOKENIZERS_PARALLELISM=(true | false)\n"
     ]
    },
    {
     "name": "stderr",
     "output_type": "stream",
     "text": [
      "/Users/rdubey/miniconda3/envs/deep-learning/lib/python3.9/site-packages/joblib/externals/loky/process_executor.py:700: UserWarning: A worker stopped while some jobs were given to the executor. This can be caused by a too short worker timeout or by a memory leak.\n",
      "  warnings.warn(\n"
     ]
    },
    {
     "name": "stdout",
     "output_type": "stream",
     "text": [
      "huggingface/tokenizers: The current process just got forked, after parallelism has already been used. Disabling parallelism to avoid deadlocks...\n",
      "To disable this warning, you can either:\n",
      "\t- Avoid using `tokenizers` before the fork if possible\n",
      "\t- Explicitly set the environment variable TOKENIZERS_PARALLELISM=(true | false)\n"
     ]
    },
    {
     "name": "stderr",
     "output_type": "stream",
     "text": [
      "/Users/rdubey/miniconda3/envs/deep-learning/lib/python3.9/site-packages/joblib/externals/loky/process_executor.py:700: UserWarning: A worker stopped while some jobs were given to the executor. This can be caused by a too short worker timeout or by a memory leak.\n",
      "  warnings.warn(\n"
     ]
    },
    {
     "name": "stdout",
     "output_type": "stream",
     "text": [
      "huggingface/tokenizers: The current process just got forked, after parallelism has already been used. Disabling parallelism to avoid deadlocks...\n",
      "To disable this warning, you can either:\n",
      "\t- Avoid using `tokenizers` before the fork if possible\n",
      "\t- Explicitly set the environment variable TOKENIZERS_PARALLELISM=(true | false)\n"
     ]
    },
    {
     "name": "stderr",
     "output_type": "stream",
     "text": [
      "/Users/rdubey/miniconda3/envs/deep-learning/lib/python3.9/site-packages/joblib/externals/loky/process_executor.py:700: UserWarning: A worker stopped while some jobs were given to the executor. This can be caused by a too short worker timeout or by a memory leak.\n",
      "  warnings.warn(\n"
     ]
    },
    {
     "name": "stdout",
     "output_type": "stream",
     "text": [
      "huggingface/tokenizers: The current process just got forked, after parallelism has already been used. Disabling parallelism to avoid deadlocks...\n",
      "To disable this warning, you can either:\n",
      "\t- Avoid using `tokenizers` before the fork if possible\n",
      "\t- Explicitly set the environment variable TOKENIZERS_PARALLELISM=(true | false)\n",
      "huggingface/tokenizers: The current process just got forked, after parallelism has already been used. Disabling parallelism to avoid deadlocks...\n",
      "To disable this warning, you can either:\n",
      "\t- Avoid using `tokenizers` before the fork if possible\n",
      "\t- Explicitly set the environment variable TOKENIZERS_PARALLELISM=(true | false)\n"
     ]
    },
    {
     "name": "stderr",
     "output_type": "stream",
     "text": [
      "/Users/rdubey/miniconda3/envs/deep-learning/lib/python3.9/site-packages/joblib/externals/loky/process_executor.py:700: UserWarning: A worker stopped while some jobs were given to the executor. This can be caused by a too short worker timeout or by a memory leak.\n",
      "  warnings.warn(\n"
     ]
    },
    {
     "name": "stdout",
     "output_type": "stream",
     "text": [
      "huggingface/tokenizers: The current process just got forked, after parallelism has already been used. Disabling parallelism to avoid deadlocks...\n",
      "To disable this warning, you can either:\n",
      "\t- Avoid using `tokenizers` before the fork if possible\n",
      "\t- Explicitly set the environment variable TOKENIZERS_PARALLELISM=(true | false)\n"
     ]
    },
    {
     "name": "stderr",
     "output_type": "stream",
     "text": [
      "/Users/rdubey/miniconda3/envs/deep-learning/lib/python3.9/site-packages/joblib/externals/loky/process_executor.py:700: UserWarning: A worker stopped while some jobs were given to the executor. This can be caused by a too short worker timeout or by a memory leak.\n",
      "  warnings.warn(\n"
     ]
    },
    {
     "name": "stdout",
     "output_type": "stream",
     "text": [
      "huggingface/tokenizers: The current process just got forked, after parallelism has already been used. Disabling parallelism to avoid deadlocks...\n",
      "To disable this warning, you can either:\n",
      "\t- Avoid using `tokenizers` before the fork if possible\n",
      "\t- Explicitly set the environment variable TOKENIZERS_PARALLELISM=(true | false)\n"
     ]
    },
    {
     "name": "stderr",
     "output_type": "stream",
     "text": [
      "/Users/rdubey/miniconda3/envs/deep-learning/lib/python3.9/site-packages/joblib/externals/loky/process_executor.py:700: UserWarning: A worker stopped while some jobs were given to the executor. This can be caused by a too short worker timeout or by a memory leak.\n",
      "  warnings.warn(\n"
     ]
    },
    {
     "name": "stdout",
     "output_type": "stream",
     "text": [
      "huggingface/tokenizers: The current process just got forked, after parallelism has already been used. Disabling parallelism to avoid deadlocks...\n",
      "To disable this warning, you can either:\n",
      "\t- Avoid using `tokenizers` before the fork if possible\n",
      "\t- Explicitly set the environment variable TOKENIZERS_PARALLELISM=(true | false)\n"
     ]
    },
    {
     "name": "stderr",
     "output_type": "stream",
     "text": [
      "/Users/rdubey/miniconda3/envs/deep-learning/lib/python3.9/site-packages/joblib/externals/loky/process_executor.py:700: UserWarning: A worker stopped while some jobs were given to the executor. This can be caused by a too short worker timeout or by a memory leak.\n",
      "  warnings.warn(\n"
     ]
    },
    {
     "name": "stdout",
     "output_type": "stream",
     "text": [
      "huggingface/tokenizers: The current process just got forked, after parallelism has already been used. Disabling parallelism to avoid deadlocks...\n",
      "To disable this warning, you can either:\n",
      "\t- Avoid using `tokenizers` before the fork if possible\n",
      "\t- Explicitly set the environment variable TOKENIZERS_PARALLELISM=(true | false)\n"
     ]
    },
    {
     "name": "stderr",
     "output_type": "stream",
     "text": [
      "/Users/rdubey/miniconda3/envs/deep-learning/lib/python3.9/site-packages/joblib/externals/loky/process_executor.py:700: UserWarning: A worker stopped while some jobs were given to the executor. This can be caused by a too short worker timeout or by a memory leak.\n",
      "  warnings.warn(\n"
     ]
    },
    {
     "name": "stdout",
     "output_type": "stream",
     "text": [
      "huggingface/tokenizers: The current process just got forked, after parallelism has already been used. Disabling parallelism to avoid deadlocks...\n",
      "To disable this warning, you can either:\n",
      "\t- Avoid using `tokenizers` before the fork if possible\n",
      "\t- Explicitly set the environment variable TOKENIZERS_PARALLELISM=(true | false)\n"
     ]
    },
    {
     "name": "stderr",
     "output_type": "stream",
     "text": [
      "/Users/rdubey/miniconda3/envs/deep-learning/lib/python3.9/site-packages/joblib/externals/loky/process_executor.py:700: UserWarning: A worker stopped while some jobs were given to the executor. This can be caused by a too short worker timeout or by a memory leak.\n",
      "  warnings.warn(\n"
     ]
    },
    {
     "name": "stdout",
     "output_type": "stream",
     "text": [
      "huggingface/tokenizers: The current process just got forked, after parallelism has already been used. Disabling parallelism to avoid deadlocks...\n",
      "To disable this warning, you can either:\n",
      "\t- Avoid using `tokenizers` before the fork if possible\n",
      "\t- Explicitly set the environment variable TOKENIZERS_PARALLELISM=(true | false)\n"
     ]
    },
    {
     "name": "stderr",
     "output_type": "stream",
     "text": [
      "/Users/rdubey/miniconda3/envs/deep-learning/lib/python3.9/site-packages/joblib/externals/loky/process_executor.py:700: UserWarning: A worker stopped while some jobs were given to the executor. This can be caused by a too short worker timeout or by a memory leak.\n",
      "  warnings.warn(\n"
     ]
    },
    {
     "name": "stdout",
     "output_type": "stream",
     "text": [
      "huggingface/tokenizers: The current process just got forked, after parallelism has already been used. Disabling parallelism to avoid deadlocks...\n",
      "To disable this warning, you can either:\n",
      "\t- Avoid using `tokenizers` before the fork if possible\n",
      "\t- Explicitly set the environment variable TOKENIZERS_PARALLELISM=(true | false)\n"
     ]
    },
    {
     "name": "stderr",
     "output_type": "stream",
     "text": [
      "/Users/rdubey/miniconda3/envs/deep-learning/lib/python3.9/site-packages/joblib/externals/loky/process_executor.py:700: UserWarning: A worker stopped while some jobs were given to the executor. This can be caused by a too short worker timeout or by a memory leak.\n",
      "  warnings.warn(\n"
     ]
    },
    {
     "name": "stdout",
     "output_type": "stream",
     "text": [
      "huggingface/tokenizers: The current process just got forked, after parallelism has already been used. Disabling parallelism to avoid deadlocks...\n",
      "To disable this warning, you can either:\n",
      "\t- Avoid using `tokenizers` before the fork if possible\n",
      "\t- Explicitly set the environment variable TOKENIZERS_PARALLELISM=(true | false)\n"
     ]
    },
    {
     "name": "stderr",
     "output_type": "stream",
     "text": [
      "/Users/rdubey/miniconda3/envs/deep-learning/lib/python3.9/site-packages/joblib/externals/loky/process_executor.py:700: UserWarning: A worker stopped while some jobs were given to the executor. This can be caused by a too short worker timeout or by a memory leak.\n",
      "  warnings.warn(\n"
     ]
    },
    {
     "name": "stdout",
     "output_type": "stream",
     "text": [
      "huggingface/tokenizers: The current process just got forked, after parallelism has already been used. Disabling parallelism to avoid deadlocks...\n",
      "To disable this warning, you can either:\n",
      "\t- Avoid using `tokenizers` before the fork if possible\n",
      "\t- Explicitly set the environment variable TOKENIZERS_PARALLELISM=(true | false)\n"
     ]
    },
    {
     "name": "stderr",
     "output_type": "stream",
     "text": [
      "/Users/rdubey/miniconda3/envs/deep-learning/lib/python3.9/site-packages/joblib/externals/loky/process_executor.py:700: UserWarning: A worker stopped while some jobs were given to the executor. This can be caused by a too short worker timeout or by a memory leak.\n",
      "  warnings.warn(\n"
     ]
    },
    {
     "name": "stdout",
     "output_type": "stream",
     "text": [
      "huggingface/tokenizers: The current process just got forked, after parallelism has already been used. Disabling parallelism to avoid deadlocks...\n",
      "To disable this warning, you can either:\n",
      "\t- Avoid using `tokenizers` before the fork if possible\n",
      "\t- Explicitly set the environment variable TOKENIZERS_PARALLELISM=(true | false)\n"
     ]
    },
    {
     "name": "stderr",
     "output_type": "stream",
     "text": [
      "/Users/rdubey/miniconda3/envs/deep-learning/lib/python3.9/site-packages/joblib/externals/loky/process_executor.py:700: UserWarning: A worker stopped while some jobs were given to the executor. This can be caused by a too short worker timeout or by a memory leak.\n",
      "  warnings.warn(\n"
     ]
    },
    {
     "name": "stdout",
     "output_type": "stream",
     "text": [
      "huggingface/tokenizers: The current process just got forked, after parallelism has already been used. Disabling parallelism to avoid deadlocks...\n",
      "To disable this warning, you can either:\n",
      "\t- Avoid using `tokenizers` before the fork if possible\n",
      "\t- Explicitly set the environment variable TOKENIZERS_PARALLELISM=(true | false)\n"
     ]
    },
    {
     "name": "stderr",
     "output_type": "stream",
     "text": [
      "/Users/rdubey/miniconda3/envs/deep-learning/lib/python3.9/site-packages/joblib/externals/loky/process_executor.py:700: UserWarning: A worker stopped while some jobs were given to the executor. This can be caused by a too short worker timeout or by a memory leak.\n",
      "  warnings.warn(\n"
     ]
    },
    {
     "name": "stdout",
     "output_type": "stream",
     "text": [
      "huggingface/tokenizers: The current process just got forked, after parallelism has already been used. Disabling parallelism to avoid deadlocks...\n",
      "To disable this warning, you can either:\n",
      "\t- Avoid using `tokenizers` before the fork if possible\n",
      "\t- Explicitly set the environment variable TOKENIZERS_PARALLELISM=(true | false)\n"
     ]
    },
    {
     "name": "stderr",
     "output_type": "stream",
     "text": [
      "/Users/rdubey/miniconda3/envs/deep-learning/lib/python3.9/site-packages/joblib/externals/loky/process_executor.py:700: UserWarning: A worker stopped while some jobs were given to the executor. This can be caused by a too short worker timeout or by a memory leak.\n",
      "  warnings.warn(\n"
     ]
    },
    {
     "name": "stdout",
     "output_type": "stream",
     "text": [
      "huggingface/tokenizers: The current process just got forked, after parallelism has already been used. Disabling parallelism to avoid deadlocks...\n",
      "To disable this warning, you can either:\n",
      "\t- Avoid using `tokenizers` before the fork if possible\n",
      "\t- Explicitly set the environment variable TOKENIZERS_PARALLELISM=(true | false)\n"
     ]
    },
    {
     "name": "stderr",
     "output_type": "stream",
     "text": [
      "/Users/rdubey/miniconda3/envs/deep-learning/lib/python3.9/site-packages/joblib/externals/loky/process_executor.py:700: UserWarning: A worker stopped while some jobs were given to the executor. This can be caused by a too short worker timeout or by a memory leak.\n",
      "  warnings.warn(\n"
     ]
    },
    {
     "name": "stdout",
     "output_type": "stream",
     "text": [
      "huggingface/tokenizers: The current process just got forked, after parallelism has already been used. Disabling parallelism to avoid deadlocks...\n",
      "To disable this warning, you can either:\n",
      "\t- Avoid using `tokenizers` before the fork if possible\n",
      "\t- Explicitly set the environment variable TOKENIZERS_PARALLELISM=(true | false)\n"
     ]
    },
    {
     "name": "stderr",
     "output_type": "stream",
     "text": [
      "/Users/rdubey/miniconda3/envs/deep-learning/lib/python3.9/site-packages/joblib/externals/loky/process_executor.py:700: UserWarning: A worker stopped while some jobs were given to the executor. This can be caused by a too short worker timeout or by a memory leak.\n",
      "  warnings.warn(\n"
     ]
    },
    {
     "name": "stdout",
     "output_type": "stream",
     "text": [
      "huggingface/tokenizers: The current process just got forked, after parallelism has already been used. Disabling parallelism to avoid deadlocks...\n",
      "To disable this warning, you can either:\n",
      "\t- Avoid using `tokenizers` before the fork if possible\n",
      "\t- Explicitly set the environment variable TOKENIZERS_PARALLELISM=(true | false)\n"
     ]
    },
    {
     "name": "stderr",
     "output_type": "stream",
     "text": [
      "/Users/rdubey/miniconda3/envs/deep-learning/lib/python3.9/site-packages/joblib/externals/loky/process_executor.py:700: UserWarning: A worker stopped while some jobs were given to the executor. This can be caused by a too short worker timeout or by a memory leak.\n",
      "  warnings.warn(\n"
     ]
    },
    {
     "name": "stdout",
     "output_type": "stream",
     "text": [
      "huggingface/tokenizers: The current process just got forked, after parallelism has already been used. Disabling parallelism to avoid deadlocks...\n",
      "To disable this warning, you can either:\n",
      "\t- Avoid using `tokenizers` before the fork if possible\n",
      "\t- Explicitly set the environment variable TOKENIZERS_PARALLELISM=(true | false)\n"
     ]
    },
    {
     "name": "stderr",
     "output_type": "stream",
     "text": [
      "/Users/rdubey/miniconda3/envs/deep-learning/lib/python3.9/site-packages/joblib/externals/loky/process_executor.py:700: UserWarning: A worker stopped while some jobs were given to the executor. This can be caused by a too short worker timeout or by a memory leak.\n",
      "  warnings.warn(\n"
     ]
    },
    {
     "name": "stdout",
     "output_type": "stream",
     "text": [
      "huggingface/tokenizers: The current process just got forked, after parallelism has already been used. Disabling parallelism to avoid deadlocks...\n",
      "To disable this warning, you can either:\n",
      "\t- Avoid using `tokenizers` before the fork if possible\n",
      "\t- Explicitly set the environment variable TOKENIZERS_PARALLELISM=(true | false)\n"
     ]
    },
    {
     "name": "stderr",
     "output_type": "stream",
     "text": [
      "/Users/rdubey/miniconda3/envs/deep-learning/lib/python3.9/site-packages/joblib/externals/loky/process_executor.py:700: UserWarning: A worker stopped while some jobs were given to the executor. This can be caused by a too short worker timeout or by a memory leak.\n",
      "  warnings.warn(\n"
     ]
    },
    {
     "name": "stdout",
     "output_type": "stream",
     "text": [
      "huggingface/tokenizers: The current process just got forked, after parallelism has already been used. Disabling parallelism to avoid deadlocks...\n",
      "To disable this warning, you can either:\n",
      "\t- Avoid using `tokenizers` before the fork if possible\n",
      "\t- Explicitly set the environment variable TOKENIZERS_PARALLELISM=(true | false)\n"
     ]
    },
    {
     "name": "stderr",
     "output_type": "stream",
     "text": [
      "/Users/rdubey/miniconda3/envs/deep-learning/lib/python3.9/site-packages/joblib/externals/loky/process_executor.py:700: UserWarning: A worker stopped while some jobs were given to the executor. This can be caused by a too short worker timeout or by a memory leak.\n",
      "  warnings.warn(\n"
     ]
    },
    {
     "name": "stdout",
     "output_type": "stream",
     "text": [
      "huggingface/tokenizers: The current process just got forked, after parallelism has already been used. Disabling parallelism to avoid deadlocks...\n",
      "To disable this warning, you can either:\n",
      "\t- Avoid using `tokenizers` before the fork if possible\n",
      "\t- Explicitly set the environment variable TOKENIZERS_PARALLELISM=(true | false)\n"
     ]
    },
    {
     "name": "stderr",
     "output_type": "stream",
     "text": [
      "/Users/rdubey/miniconda3/envs/deep-learning/lib/python3.9/site-packages/joblib/externals/loky/process_executor.py:700: UserWarning: A worker stopped while some jobs were given to the executor. This can be caused by a too short worker timeout or by a memory leak.\n",
      "  warnings.warn(\n"
     ]
    },
    {
     "name": "stdout",
     "output_type": "stream",
     "text": [
      "huggingface/tokenizers: The current process just got forked, after parallelism has already been used. Disabling parallelism to avoid deadlocks...\n",
      "To disable this warning, you can either:\n",
      "\t- Avoid using `tokenizers` before the fork if possible\n",
      "\t- Explicitly set the environment variable TOKENIZERS_PARALLELISM=(true | false)\n"
     ]
    },
    {
     "name": "stderr",
     "output_type": "stream",
     "text": [
      "/Users/rdubey/miniconda3/envs/deep-learning/lib/python3.9/site-packages/joblib/externals/loky/process_executor.py:700: UserWarning: A worker stopped while some jobs were given to the executor. This can be caused by a too short worker timeout or by a memory leak.\n",
      "  warnings.warn(\n"
     ]
    },
    {
     "name": "stdout",
     "output_type": "stream",
     "text": [
      "huggingface/tokenizers: The current process just got forked, after parallelism has already been used. Disabling parallelism to avoid deadlocks...\n",
      "To disable this warning, you can either:\n",
      "\t- Avoid using `tokenizers` before the fork if possible\n",
      "\t- Explicitly set the environment variable TOKENIZERS_PARALLELISM=(true | false)\n"
     ]
    },
    {
     "name": "stderr",
     "output_type": "stream",
     "text": [
      "/Users/rdubey/miniconda3/envs/deep-learning/lib/python3.9/site-packages/joblib/externals/loky/process_executor.py:700: UserWarning: A worker stopped while some jobs were given to the executor. This can be caused by a too short worker timeout or by a memory leak.\n",
      "  warnings.warn(\n"
     ]
    },
    {
     "name": "stdout",
     "output_type": "stream",
     "text": [
      "huggingface/tokenizers: The current process just got forked, after parallelism has already been used. Disabling parallelism to avoid deadlocks...\n",
      "To disable this warning, you can either:\n",
      "\t- Avoid using `tokenizers` before the fork if possible\n",
      "\t- Explicitly set the environment variable TOKENIZERS_PARALLELISM=(true | false)\n"
     ]
    },
    {
     "name": "stderr",
     "output_type": "stream",
     "text": [
      "/Users/rdubey/miniconda3/envs/deep-learning/lib/python3.9/site-packages/joblib/externals/loky/process_executor.py:700: UserWarning: A worker stopped while some jobs were given to the executor. This can be caused by a too short worker timeout or by a memory leak.\n",
      "  warnings.warn(\n"
     ]
    },
    {
     "name": "stdout",
     "output_type": "stream",
     "text": [
      "huggingface/tokenizers: The current process just got forked, after parallelism has already been used. Disabling parallelism to avoid deadlocks...\n",
      "To disable this warning, you can either:\n",
      "\t- Avoid using `tokenizers` before the fork if possible\n",
      "\t- Explicitly set the environment variable TOKENIZERS_PARALLELISM=(true | false)\n"
     ]
    },
    {
     "name": "stderr",
     "output_type": "stream",
     "text": [
      "/Users/rdubey/miniconda3/envs/deep-learning/lib/python3.9/site-packages/joblib/externals/loky/process_executor.py:700: UserWarning: A worker stopped while some jobs were given to the executor. This can be caused by a too short worker timeout or by a memory leak.\n",
      "  warnings.warn(\n"
     ]
    },
    {
     "name": "stdout",
     "output_type": "stream",
     "text": [
      "huggingface/tokenizers: The current process just got forked, after parallelism has already been used. Disabling parallelism to avoid deadlocks...\n",
      "To disable this warning, you can either:\n",
      "\t- Avoid using `tokenizers` before the fork if possible\n",
      "\t- Explicitly set the environment variable TOKENIZERS_PARALLELISM=(true | false)\n"
     ]
    },
    {
     "name": "stderr",
     "output_type": "stream",
     "text": [
      "/Users/rdubey/miniconda3/envs/deep-learning/lib/python3.9/site-packages/joblib/externals/loky/process_executor.py:700: UserWarning: A worker stopped while some jobs were given to the executor. This can be caused by a too short worker timeout or by a memory leak.\n",
      "  warnings.warn(\n"
     ]
    },
    {
     "name": "stdout",
     "output_type": "stream",
     "text": [
      "huggingface/tokenizers: The current process just got forked, after parallelism has already been used. Disabling parallelism to avoid deadlocks...\n",
      "To disable this warning, you can either:\n",
      "\t- Avoid using `tokenizers` before the fork if possible\n",
      "\t- Explicitly set the environment variable TOKENIZERS_PARALLELISM=(true | false)\n"
     ]
    },
    {
     "name": "stderr",
     "output_type": "stream",
     "text": [
      "/Users/rdubey/miniconda3/envs/deep-learning/lib/python3.9/site-packages/joblib/externals/loky/process_executor.py:700: UserWarning: A worker stopped while some jobs were given to the executor. This can be caused by a too short worker timeout or by a memory leak.\n",
      "  warnings.warn(\n"
     ]
    },
    {
     "name": "stdout",
     "output_type": "stream",
     "text": [
      "huggingface/tokenizers: The current process just got forked, after parallelism has already been used. Disabling parallelism to avoid deadlocks...\n",
      "To disable this warning, you can either:\n",
      "\t- Avoid using `tokenizers` before the fork if possible\n",
      "\t- Explicitly set the environment variable TOKENIZERS_PARALLELISM=(true | false)\n"
     ]
    },
    {
     "name": "stderr",
     "output_type": "stream",
     "text": [
      "/Users/rdubey/miniconda3/envs/deep-learning/lib/python3.9/site-packages/joblib/externals/loky/process_executor.py:700: UserWarning: A worker stopped while some jobs were given to the executor. This can be caused by a too short worker timeout or by a memory leak.\n",
      "  warnings.warn(\n"
     ]
    },
    {
     "name": "stdout",
     "output_type": "stream",
     "text": [
      "huggingface/tokenizers: The current process just got forked, after parallelism has already been used. Disabling parallelism to avoid deadlocks...\n",
      "To disable this warning, you can either:\n",
      "\t- Avoid using `tokenizers` before the fork if possible\n",
      "\t- Explicitly set the environment variable TOKENIZERS_PARALLELISM=(true | false)\n"
     ]
    },
    {
     "name": "stderr",
     "output_type": "stream",
     "text": [
      "/Users/rdubey/miniconda3/envs/deep-learning/lib/python3.9/site-packages/joblib/externals/loky/process_executor.py:700: UserWarning: A worker stopped while some jobs were given to the executor. This can be caused by a too short worker timeout or by a memory leak.\n",
      "  warnings.warn(\n"
     ]
    },
    {
     "name": "stdout",
     "output_type": "stream",
     "text": [
      "huggingface/tokenizers: The current process just got forked, after parallelism has already been used. Disabling parallelism to avoid deadlocks...\n",
      "To disable this warning, you can either:\n",
      "\t- Avoid using `tokenizers` before the fork if possible\n",
      "\t- Explicitly set the environment variable TOKENIZERS_PARALLELISM=(true | false)\n"
     ]
    },
    {
     "name": "stderr",
     "output_type": "stream",
     "text": [
      "/Users/rdubey/miniconda3/envs/deep-learning/lib/python3.9/site-packages/joblib/externals/loky/process_executor.py:700: UserWarning: A worker stopped while some jobs were given to the executor. This can be caused by a too short worker timeout or by a memory leak.\n",
      "  warnings.warn(\n"
     ]
    },
    {
     "name": "stdout",
     "output_type": "stream",
     "text": [
      "huggingface/tokenizers: The current process just got forked, after parallelism has already been used. Disabling parallelism to avoid deadlocks...\n",
      "To disable this warning, you can either:\n",
      "\t- Avoid using `tokenizers` before the fork if possible\n",
      "\t- Explicitly set the environment variable TOKENIZERS_PARALLELISM=(true | false)\n"
     ]
    },
    {
     "name": "stderr",
     "output_type": "stream",
     "text": [
      "/Users/rdubey/miniconda3/envs/deep-learning/lib/python3.9/site-packages/joblib/externals/loky/process_executor.py:700: UserWarning: A worker stopped while some jobs were given to the executor. This can be caused by a too short worker timeout or by a memory leak.\n",
      "  warnings.warn(\n"
     ]
    },
    {
     "name": "stdout",
     "output_type": "stream",
     "text": [
      "huggingface/tokenizers: The current process just got forked, after parallelism has already been used. Disabling parallelism to avoid deadlocks...\n",
      "To disable this warning, you can either:\n",
      "\t- Avoid using `tokenizers` before the fork if possible\n",
      "\t- Explicitly set the environment variable TOKENIZERS_PARALLELISM=(true | false)\n"
     ]
    },
    {
     "name": "stderr",
     "output_type": "stream",
     "text": [
      "/Users/rdubey/miniconda3/envs/deep-learning/lib/python3.9/site-packages/joblib/externals/loky/process_executor.py:700: UserWarning: A worker stopped while some jobs were given to the executor. This can be caused by a too short worker timeout or by a memory leak.\n",
      "  warnings.warn(\n"
     ]
    },
    {
     "name": "stdout",
     "output_type": "stream",
     "text": [
      "huggingface/tokenizers: The current process just got forked, after parallelism has already been used. Disabling parallelism to avoid deadlocks...\n",
      "To disable this warning, you can either:\n",
      "\t- Avoid using `tokenizers` before the fork if possible\n",
      "\t- Explicitly set the environment variable TOKENIZERS_PARALLELISM=(true | false)\n"
     ]
    },
    {
     "name": "stderr",
     "output_type": "stream",
     "text": [
      "/Users/rdubey/miniconda3/envs/deep-learning/lib/python3.9/site-packages/joblib/externals/loky/process_executor.py:700: UserWarning: A worker stopped while some jobs were given to the executor. This can be caused by a too short worker timeout or by a memory leak.\n",
      "  warnings.warn(\n"
     ]
    },
    {
     "name": "stdout",
     "output_type": "stream",
     "text": [
      "huggingface/tokenizers: The current process just got forked, after parallelism has already been used. Disabling parallelism to avoid deadlocks...\n",
      "To disable this warning, you can either:\n",
      "\t- Avoid using `tokenizers` before the fork if possible\n",
      "\t- Explicitly set the environment variable TOKENIZERS_PARALLELISM=(true | false)\n"
     ]
    },
    {
     "name": "stderr",
     "output_type": "stream",
     "text": [
      "/Users/rdubey/miniconda3/envs/deep-learning/lib/python3.9/site-packages/joblib/externals/loky/process_executor.py:700: UserWarning: A worker stopped while some jobs were given to the executor. This can be caused by a too short worker timeout or by a memory leak.\n",
      "  warnings.warn(\n"
     ]
    },
    {
     "name": "stdout",
     "output_type": "stream",
     "text": [
      "huggingface/tokenizers: The current process just got forked, after parallelism has already been used. Disabling parallelism to avoid deadlocks...\n",
      "To disable this warning, you can either:\n",
      "\t- Avoid using `tokenizers` before the fork if possible\n",
      "\t- Explicitly set the environment variable TOKENIZERS_PARALLELISM=(true | false)\n"
     ]
    },
    {
     "name": "stderr",
     "output_type": "stream",
     "text": [
      "/Users/rdubey/miniconda3/envs/deep-learning/lib/python3.9/site-packages/joblib/externals/loky/process_executor.py:700: UserWarning: A worker stopped while some jobs were given to the executor. This can be caused by a too short worker timeout or by a memory leak.\n",
      "  warnings.warn(\n"
     ]
    },
    {
     "name": "stdout",
     "output_type": "stream",
     "text": [
      "huggingface/tokenizers: The current process just got forked, after parallelism has already been used. Disabling parallelism to avoid deadlocks...\n",
      "To disable this warning, you can either:\n",
      "\t- Avoid using `tokenizers` before the fork if possible\n",
      "\t- Explicitly set the environment variable TOKENIZERS_PARALLELISM=(true | false)\n"
     ]
    },
    {
     "name": "stderr",
     "output_type": "stream",
     "text": [
      "/Users/rdubey/miniconda3/envs/deep-learning/lib/python3.9/site-packages/joblib/externals/loky/process_executor.py:700: UserWarning: A worker stopped while some jobs were given to the executor. This can be caused by a too short worker timeout or by a memory leak.\n",
      "  warnings.warn(\n"
     ]
    },
    {
     "name": "stdout",
     "output_type": "stream",
     "text": [
      "huggingface/tokenizers: The current process just got forked, after parallelism has already been used. Disabling parallelism to avoid deadlocks...\n",
      "To disable this warning, you can either:\n",
      "\t- Avoid using `tokenizers` before the fork if possible\n",
      "\t- Explicitly set the environment variable TOKENIZERS_PARALLELISM=(true | false)\n"
     ]
    },
    {
     "name": "stderr",
     "output_type": "stream",
     "text": [
      "/Users/rdubey/miniconda3/envs/deep-learning/lib/python3.9/site-packages/joblib/externals/loky/process_executor.py:700: UserWarning: A worker stopped while some jobs were given to the executor. This can be caused by a too short worker timeout or by a memory leak.\n",
      "  warnings.warn(\n"
     ]
    },
    {
     "name": "stdout",
     "output_type": "stream",
     "text": [
      "huggingface/tokenizers: The current process just got forked, after parallelism has already been used. Disabling parallelism to avoid deadlocks...\n",
      "To disable this warning, you can either:\n",
      "\t- Avoid using `tokenizers` before the fork if possible\n",
      "\t- Explicitly set the environment variable TOKENIZERS_PARALLELISM=(true | false)\n"
     ]
    },
    {
     "name": "stderr",
     "output_type": "stream",
     "text": [
      "/Users/rdubey/miniconda3/envs/deep-learning/lib/python3.9/site-packages/joblib/externals/loky/process_executor.py:700: UserWarning: A worker stopped while some jobs were given to the executor. This can be caused by a too short worker timeout or by a memory leak.\n",
      "  warnings.warn(\n"
     ]
    },
    {
     "name": "stdout",
     "output_type": "stream",
     "text": [
      "huggingface/tokenizers: The current process just got forked, after parallelism has already been used. Disabling parallelism to avoid deadlocks...\n",
      "To disable this warning, you can either:\n",
      "\t- Avoid using `tokenizers` before the fork if possible\n",
      "\t- Explicitly set the environment variable TOKENIZERS_PARALLELISM=(true | false)\n"
     ]
    },
    {
     "name": "stderr",
     "output_type": "stream",
     "text": [
      "/Users/rdubey/miniconda3/envs/deep-learning/lib/python3.9/site-packages/joblib/externals/loky/process_executor.py:700: UserWarning: A worker stopped while some jobs were given to the executor. This can be caused by a too short worker timeout or by a memory leak.\n",
      "  warnings.warn(\n"
     ]
    },
    {
     "name": "stdout",
     "output_type": "stream",
     "text": [
      "huggingface/tokenizers: The current process just got forked, after parallelism has already been used. Disabling parallelism to avoid deadlocks...\n",
      "To disable this warning, you can either:\n",
      "\t- Avoid using `tokenizers` before the fork if possible\n",
      "\t- Explicitly set the environment variable TOKENIZERS_PARALLELISM=(true | false)\n"
     ]
    },
    {
     "name": "stderr",
     "output_type": "stream",
     "text": [
      "/Users/rdubey/miniconda3/envs/deep-learning/lib/python3.9/site-packages/joblib/externals/loky/process_executor.py:700: UserWarning: A worker stopped while some jobs were given to the executor. This can be caused by a too short worker timeout or by a memory leak.\n",
      "  warnings.warn(\n"
     ]
    },
    {
     "name": "stdout",
     "output_type": "stream",
     "text": [
      "huggingface/tokenizers: The current process just got forked, after parallelism has already been used. Disabling parallelism to avoid deadlocks...\n",
      "To disable this warning, you can either:\n",
      "\t- Avoid using `tokenizers` before the fork if possible\n",
      "\t- Explicitly set the environment variable TOKENIZERS_PARALLELISM=(true | false)\n"
     ]
    },
    {
     "name": "stderr",
     "output_type": "stream",
     "text": [
      "/Users/rdubey/miniconda3/envs/deep-learning/lib/python3.9/site-packages/joblib/externals/loky/process_executor.py:700: UserWarning: A worker stopped while some jobs were given to the executor. This can be caused by a too short worker timeout or by a memory leak.\n",
      "  warnings.warn(\n"
     ]
    },
    {
     "name": "stdout",
     "output_type": "stream",
     "text": [
      "huggingface/tokenizers: The current process just got forked, after parallelism has already been used. Disabling parallelism to avoid deadlocks...\n",
      "To disable this warning, you can either:\n",
      "\t- Avoid using `tokenizers` before the fork if possible\n",
      "\t- Explicitly set the environment variable TOKENIZERS_PARALLELISM=(true | false)\n"
     ]
    },
    {
     "name": "stderr",
     "output_type": "stream",
     "text": [
      "/Users/rdubey/miniconda3/envs/deep-learning/lib/python3.9/site-packages/joblib/externals/loky/process_executor.py:700: UserWarning: A worker stopped while some jobs were given to the executor. This can be caused by a too short worker timeout or by a memory leak.\n",
      "  warnings.warn(\n"
     ]
    },
    {
     "name": "stdout",
     "output_type": "stream",
     "text": [
      "huggingface/tokenizers: The current process just got forked, after parallelism has already been used. Disabling parallelism to avoid deadlocks...\n",
      "To disable this warning, you can either:\n",
      "\t- Avoid using `tokenizers` before the fork if possible\n",
      "\t- Explicitly set the environment variable TOKENIZERS_PARALLELISM=(true | false)\n"
     ]
    },
    {
     "name": "stderr",
     "output_type": "stream",
     "text": [
      "/Users/rdubey/miniconda3/envs/deep-learning/lib/python3.9/site-packages/joblib/externals/loky/process_executor.py:700: UserWarning: A worker stopped while some jobs were given to the executor. This can be caused by a too short worker timeout or by a memory leak.\n",
      "  warnings.warn(\n"
     ]
    },
    {
     "name": "stdout",
     "output_type": "stream",
     "text": [
      "huggingface/tokenizers: The current process just got forked, after parallelism has already been used. Disabling parallelism to avoid deadlocks...\n",
      "To disable this warning, you can either:\n",
      "\t- Avoid using `tokenizers` before the fork if possible\n",
      "\t- Explicitly set the environment variable TOKENIZERS_PARALLELISM=(true | false)\n"
     ]
    },
    {
     "name": "stderr",
     "output_type": "stream",
     "text": [
      "/Users/rdubey/miniconda3/envs/deep-learning/lib/python3.9/site-packages/joblib/externals/loky/process_executor.py:700: UserWarning: A worker stopped while some jobs were given to the executor. This can be caused by a too short worker timeout or by a memory leak.\n",
      "  warnings.warn(\n"
     ]
    },
    {
     "name": "stdout",
     "output_type": "stream",
     "text": [
      "huggingface/tokenizers: The current process just got forked, after parallelism has already been used. Disabling parallelism to avoid deadlocks...\n",
      "To disable this warning, you can either:\n",
      "\t- Avoid using `tokenizers` before the fork if possible\n",
      "\t- Explicitly set the environment variable TOKENIZERS_PARALLELISM=(true | false)\n"
     ]
    },
    {
     "name": "stderr",
     "output_type": "stream",
     "text": [
      "/Users/rdubey/miniconda3/envs/deep-learning/lib/python3.9/site-packages/joblib/externals/loky/process_executor.py:700: UserWarning: A worker stopped while some jobs were given to the executor. This can be caused by a too short worker timeout or by a memory leak.\n",
      "  warnings.warn(\n"
     ]
    },
    {
     "name": "stdout",
     "output_type": "stream",
     "text": [
      "huggingface/tokenizers: The current process just got forked, after parallelism has already been used. Disabling parallelism to avoid deadlocks...\n",
      "To disable this warning, you can either:\n",
      "\t- Avoid using `tokenizers` before the fork if possible\n",
      "\t- Explicitly set the environment variable TOKENIZERS_PARALLELISM=(true | false)\n"
     ]
    },
    {
     "name": "stderr",
     "output_type": "stream",
     "text": [
      "/Users/rdubey/miniconda3/envs/deep-learning/lib/python3.9/site-packages/joblib/externals/loky/process_executor.py:700: UserWarning: A worker stopped while some jobs were given to the executor. This can be caused by a too short worker timeout or by a memory leak.\n",
      "  warnings.warn(\n"
     ]
    },
    {
     "name": "stdout",
     "output_type": "stream",
     "text": [
      "huggingface/tokenizers: The current process just got forked, after parallelism has already been used. Disabling parallelism to avoid deadlocks...\n",
      "To disable this warning, you can either:\n",
      "\t- Avoid using `tokenizers` before the fork if possible\n",
      "\t- Explicitly set the environment variable TOKENIZERS_PARALLELISM=(true | false)\n"
     ]
    },
    {
     "name": "stderr",
     "output_type": "stream",
     "text": [
      "/Users/rdubey/miniconda3/envs/deep-learning/lib/python3.9/site-packages/joblib/externals/loky/process_executor.py:700: UserWarning: A worker stopped while some jobs were given to the executor. This can be caused by a too short worker timeout or by a memory leak.\n",
      "  warnings.warn(\n"
     ]
    },
    {
     "name": "stdout",
     "output_type": "stream",
     "text": [
      "huggingface/tokenizers: The current process just got forked, after parallelism has already been used. Disabling parallelism to avoid deadlocks...\n",
      "To disable this warning, you can either:\n",
      "\t- Avoid using `tokenizers` before the fork if possible\n",
      "\t- Explicitly set the environment variable TOKENIZERS_PARALLELISM=(true | false)\n"
     ]
    },
    {
     "name": "stderr",
     "output_type": "stream",
     "text": [
      "/Users/rdubey/miniconda3/envs/deep-learning/lib/python3.9/site-packages/joblib/externals/loky/process_executor.py:700: UserWarning: A worker stopped while some jobs were given to the executor. This can be caused by a too short worker timeout or by a memory leak.\n",
      "  warnings.warn(\n"
     ]
    },
    {
     "name": "stdout",
     "output_type": "stream",
     "text": [
      "huggingface/tokenizers: The current process just got forked, after parallelism has already been used. Disabling parallelism to avoid deadlocks...\n",
      "To disable this warning, you can either:\n",
      "\t- Avoid using `tokenizers` before the fork if possible\n",
      "\t- Explicitly set the environment variable TOKENIZERS_PARALLELISM=(true | false)\n"
     ]
    },
    {
     "name": "stderr",
     "output_type": "stream",
     "text": [
      "/Users/rdubey/miniconda3/envs/deep-learning/lib/python3.9/site-packages/joblib/externals/loky/process_executor.py:700: UserWarning: A worker stopped while some jobs were given to the executor. This can be caused by a too short worker timeout or by a memory leak.\n",
      "  warnings.warn(\n"
     ]
    },
    {
     "name": "stdout",
     "output_type": "stream",
     "text": [
      "huggingface/tokenizers: The current process just got forked, after parallelism has already been used. Disabling parallelism to avoid deadlocks...\n",
      "To disable this warning, you can either:\n",
      "\t- Avoid using `tokenizers` before the fork if possible\n",
      "\t- Explicitly set the environment variable TOKENIZERS_PARALLELISM=(true | false)\n"
     ]
    },
    {
     "name": "stderr",
     "output_type": "stream",
     "text": [
      "/Users/rdubey/miniconda3/envs/deep-learning/lib/python3.9/site-packages/joblib/externals/loky/process_executor.py:700: UserWarning: A worker stopped while some jobs were given to the executor. This can be caused by a too short worker timeout or by a memory leak.\n",
      "  warnings.warn(\n"
     ]
    },
    {
     "name": "stdout",
     "output_type": "stream",
     "text": [
      "huggingface/tokenizers: The current process just got forked, after parallelism has already been used. Disabling parallelism to avoid deadlocks...\n",
      "To disable this warning, you can either:\n",
      "\t- Avoid using `tokenizers` before the fork if possible\n",
      "\t- Explicitly set the environment variable TOKENIZERS_PARALLELISM=(true | false)\n"
     ]
    },
    {
     "name": "stderr",
     "output_type": "stream",
     "text": [
      "/Users/rdubey/miniconda3/envs/deep-learning/lib/python3.9/site-packages/joblib/externals/loky/process_executor.py:700: UserWarning: A worker stopped while some jobs were given to the executor. This can be caused by a too short worker timeout or by a memory leak.\n",
      "  warnings.warn(\n"
     ]
    },
    {
     "name": "stdout",
     "output_type": "stream",
     "text": [
      "huggingface/tokenizers: The current process just got forked, after parallelism has already been used. Disabling parallelism to avoid deadlocks...\n",
      "To disable this warning, you can either:\n",
      "\t- Avoid using `tokenizers` before the fork if possible\n",
      "\t- Explicitly set the environment variable TOKENIZERS_PARALLELISM=(true | false)\n"
     ]
    },
    {
     "name": "stderr",
     "output_type": "stream",
     "text": [
      "/Users/rdubey/miniconda3/envs/deep-learning/lib/python3.9/site-packages/joblib/externals/loky/process_executor.py:700: UserWarning: A worker stopped while some jobs were given to the executor. This can be caused by a too short worker timeout or by a memory leak.\n",
      "  warnings.warn(\n"
     ]
    },
    {
     "name": "stdout",
     "output_type": "stream",
     "text": [
      "huggingface/tokenizers: The current process just got forked, after parallelism has already been used. Disabling parallelism to avoid deadlocks...\n",
      "To disable this warning, you can either:\n",
      "\t- Avoid using `tokenizers` before the fork if possible\n",
      "\t- Explicitly set the environment variable TOKENIZERS_PARALLELISM=(true | false)\n"
     ]
    },
    {
     "name": "stderr",
     "output_type": "stream",
     "text": [
      "/Users/rdubey/miniconda3/envs/deep-learning/lib/python3.9/site-packages/joblib/externals/loky/process_executor.py:700: UserWarning: A worker stopped while some jobs were given to the executor. This can be caused by a too short worker timeout or by a memory leak.\n",
      "  warnings.warn(\n"
     ]
    },
    {
     "name": "stdout",
     "output_type": "stream",
     "text": [
      "huggingface/tokenizers: The current process just got forked, after parallelism has already been used. Disabling parallelism to avoid deadlocks...\n",
      "To disable this warning, you can either:\n",
      "\t- Avoid using `tokenizers` before the fork if possible\n",
      "\t- Explicitly set the environment variable TOKENIZERS_PARALLELISM=(true | false)\n"
     ]
    },
    {
     "name": "stderr",
     "output_type": "stream",
     "text": [
      "/Users/rdubey/miniconda3/envs/deep-learning/lib/python3.9/site-packages/joblib/externals/loky/process_executor.py:700: UserWarning: A worker stopped while some jobs were given to the executor. This can be caused by a too short worker timeout or by a memory leak.\n",
      "  warnings.warn(\n"
     ]
    },
    {
     "name": "stdout",
     "output_type": "stream",
     "text": [
      "huggingface/tokenizers: The current process just got forked, after parallelism has already been used. Disabling parallelism to avoid deadlocks...\n",
      "To disable this warning, you can either:\n",
      "\t- Avoid using `tokenizers` before the fork if possible\n",
      "\t- Explicitly set the environment variable TOKENIZERS_PARALLELISM=(true | false)\n"
     ]
    },
    {
     "name": "stderr",
     "output_type": "stream",
     "text": [
      "/Users/rdubey/miniconda3/envs/deep-learning/lib/python3.9/site-packages/joblib/externals/loky/process_executor.py:700: UserWarning: A worker stopped while some jobs were given to the executor. This can be caused by a too short worker timeout or by a memory leak.\n",
      "  warnings.warn(\n"
     ]
    },
    {
     "name": "stdout",
     "output_type": "stream",
     "text": [
      "huggingface/tokenizers: The current process just got forked, after parallelism has already been used. Disabling parallelism to avoid deadlocks...\n",
      "To disable this warning, you can either:\n",
      "\t- Avoid using `tokenizers` before the fork if possible\n",
      "\t- Explicitly set the environment variable TOKENIZERS_PARALLELISM=(true | false)\n"
     ]
    },
    {
     "name": "stderr",
     "output_type": "stream",
     "text": [
      "/Users/rdubey/miniconda3/envs/deep-learning/lib/python3.9/site-packages/joblib/externals/loky/process_executor.py:700: UserWarning: A worker stopped while some jobs were given to the executor. This can be caused by a too short worker timeout or by a memory leak.\n",
      "  warnings.warn(\n"
     ]
    },
    {
     "name": "stdout",
     "output_type": "stream",
     "text": [
      "huggingface/tokenizers: The current process just got forked, after parallelism has already been used. Disabling parallelism to avoid deadlocks...\n",
      "To disable this warning, you can either:\n",
      "\t- Avoid using `tokenizers` before the fork if possible\n",
      "\t- Explicitly set the environment variable TOKENIZERS_PARALLELISM=(true | false)\n"
     ]
    },
    {
     "name": "stderr",
     "output_type": "stream",
     "text": [
      "/Users/rdubey/miniconda3/envs/deep-learning/lib/python3.9/site-packages/joblib/externals/loky/process_executor.py:700: UserWarning: A worker stopped while some jobs were given to the executor. This can be caused by a too short worker timeout or by a memory leak.\n",
      "  warnings.warn(\n"
     ]
    },
    {
     "name": "stdout",
     "output_type": "stream",
     "text": [
      "huggingface/tokenizers: The current process just got forked, after parallelism has already been used. Disabling parallelism to avoid deadlocks...\n",
      "To disable this warning, you can either:\n",
      "\t- Avoid using `tokenizers` before the fork if possible\n",
      "\t- Explicitly set the environment variable TOKENIZERS_PARALLELISM=(true | false)\n"
     ]
    },
    {
     "name": "stderr",
     "output_type": "stream",
     "text": [
      "/Users/rdubey/miniconda3/envs/deep-learning/lib/python3.9/site-packages/joblib/externals/loky/process_executor.py:700: UserWarning: A worker stopped while some jobs were given to the executor. This can be caused by a too short worker timeout or by a memory leak.\n",
      "  warnings.warn(\n"
     ]
    },
    {
     "name": "stdout",
     "output_type": "stream",
     "text": [
      "huggingface/tokenizers: The current process just got forked, after parallelism has already been used. Disabling parallelism to avoid deadlocks...\n",
      "To disable this warning, you can either:\n",
      "\t- Avoid using `tokenizers` before the fork if possible\n",
      "\t- Explicitly set the environment variable TOKENIZERS_PARALLELISM=(true | false)\n"
     ]
    },
    {
     "name": "stderr",
     "output_type": "stream",
     "text": [
      "/Users/rdubey/miniconda3/envs/deep-learning/lib/python3.9/site-packages/joblib/externals/loky/process_executor.py:700: UserWarning: A worker stopped while some jobs were given to the executor. This can be caused by a too short worker timeout or by a memory leak.\n",
      "  warnings.warn(\n"
     ]
    },
    {
     "name": "stdout",
     "output_type": "stream",
     "text": [
      "huggingface/tokenizers: The current process just got forked, after parallelism has already been used. Disabling parallelism to avoid deadlocks...\n",
      "To disable this warning, you can either:\n",
      "\t- Avoid using `tokenizers` before the fork if possible\n",
      "\t- Explicitly set the environment variable TOKENIZERS_PARALLELISM=(true | false)\n"
     ]
    },
    {
     "name": "stderr",
     "output_type": "stream",
     "text": [
      "/Users/rdubey/miniconda3/envs/deep-learning/lib/python3.9/site-packages/joblib/externals/loky/process_executor.py:700: UserWarning: A worker stopped while some jobs were given to the executor. This can be caused by a too short worker timeout or by a memory leak.\n",
      "  warnings.warn(\n"
     ]
    },
    {
     "name": "stdout",
     "output_type": "stream",
     "text": [
      "huggingface/tokenizers: The current process just got forked, after parallelism has already been used. Disabling parallelism to avoid deadlocks...\n",
      "To disable this warning, you can either:\n",
      "\t- Avoid using `tokenizers` before the fork if possible\n",
      "\t- Explicitly set the environment variable TOKENIZERS_PARALLELISM=(true | false)\n"
     ]
    },
    {
     "name": "stderr",
     "output_type": "stream",
     "text": [
      "/Users/rdubey/miniconda3/envs/deep-learning/lib/python3.9/site-packages/joblib/externals/loky/process_executor.py:700: UserWarning: A worker stopped while some jobs were given to the executor. This can be caused by a too short worker timeout or by a memory leak.\n",
      "  warnings.warn(\n"
     ]
    },
    {
     "name": "stdout",
     "output_type": "stream",
     "text": [
      "huggingface/tokenizers: The current process just got forked, after parallelism has already been used. Disabling parallelism to avoid deadlocks...\n",
      "To disable this warning, you can either:\n",
      "\t- Avoid using `tokenizers` before the fork if possible\n",
      "\t- Explicitly set the environment variable TOKENIZERS_PARALLELISM=(true | false)\n"
     ]
    },
    {
     "name": "stderr",
     "output_type": "stream",
     "text": [
      "/Users/rdubey/miniconda3/envs/deep-learning/lib/python3.9/site-packages/joblib/externals/loky/process_executor.py:700: UserWarning: A worker stopped while some jobs were given to the executor. This can be caused by a too short worker timeout or by a memory leak.\n",
      "  warnings.warn(\n"
     ]
    },
    {
     "name": "stdout",
     "output_type": "stream",
     "text": [
      "huggingface/tokenizers: The current process just got forked, after parallelism has already been used. Disabling parallelism to avoid deadlocks...\n",
      "To disable this warning, you can either:\n",
      "\t- Avoid using `tokenizers` before the fork if possible\n",
      "\t- Explicitly set the environment variable TOKENIZERS_PARALLELISM=(true | false)\n"
     ]
    },
    {
     "name": "stderr",
     "output_type": "stream",
     "text": [
      "/Users/rdubey/miniconda3/envs/deep-learning/lib/python3.9/site-packages/joblib/externals/loky/process_executor.py:700: UserWarning: A worker stopped while some jobs were given to the executor. This can be caused by a too short worker timeout or by a memory leak.\n",
      "  warnings.warn(\n"
     ]
    },
    {
     "name": "stdout",
     "output_type": "stream",
     "text": [
      "huggingface/tokenizers: The current process just got forked, after parallelism has already been used. Disabling parallelism to avoid deadlocks...\n",
      "To disable this warning, you can either:\n",
      "\t- Avoid using `tokenizers` before the fork if possible\n",
      "\t- Explicitly set the environment variable TOKENIZERS_PARALLELISM=(true | false)\n"
     ]
    },
    {
     "name": "stderr",
     "output_type": "stream",
     "text": [
      "/Users/rdubey/miniconda3/envs/deep-learning/lib/python3.9/site-packages/joblib/externals/loky/process_executor.py:700: UserWarning: A worker stopped while some jobs were given to the executor. This can be caused by a too short worker timeout or by a memory leak.\n",
      "  warnings.warn(\n"
     ]
    },
    {
     "name": "stdout",
     "output_type": "stream",
     "text": [
      "huggingface/tokenizers: The current process just got forked, after parallelism has already been used. Disabling parallelism to avoid deadlocks...\n",
      "To disable this warning, you can either:\n",
      "\t- Avoid using `tokenizers` before the fork if possible\n",
      "\t- Explicitly set the environment variable TOKENIZERS_PARALLELISM=(true | false)\n"
     ]
    },
    {
     "name": "stderr",
     "output_type": "stream",
     "text": [
      "/Users/rdubey/miniconda3/envs/deep-learning/lib/python3.9/site-packages/joblib/externals/loky/process_executor.py:700: UserWarning: A worker stopped while some jobs were given to the executor. This can be caused by a too short worker timeout or by a memory leak.\n",
      "  warnings.warn(\n"
     ]
    },
    {
     "name": "stdout",
     "output_type": "stream",
     "text": [
      "huggingface/tokenizers: The current process just got forked, after parallelism has already been used. Disabling parallelism to avoid deadlocks...\n",
      "To disable this warning, you can either:\n",
      "\t- Avoid using `tokenizers` before the fork if possible\n",
      "\t- Explicitly set the environment variable TOKENIZERS_PARALLELISM=(true | false)\n"
     ]
    },
    {
     "name": "stderr",
     "output_type": "stream",
     "text": [
      "/Users/rdubey/miniconda3/envs/deep-learning/lib/python3.9/site-packages/joblib/externals/loky/process_executor.py:700: UserWarning: A worker stopped while some jobs were given to the executor. This can be caused by a too short worker timeout or by a memory leak.\n",
      "  warnings.warn(\n"
     ]
    },
    {
     "name": "stdout",
     "output_type": "stream",
     "text": [
      "huggingface/tokenizers: The current process just got forked, after parallelism has already been used. Disabling parallelism to avoid deadlocks...\n",
      "To disable this warning, you can either:\n",
      "\t- Avoid using `tokenizers` before the fork if possible\n",
      "\t- Explicitly set the environment variable TOKENIZERS_PARALLELISM=(true | false)\n"
     ]
    },
    {
     "name": "stderr",
     "output_type": "stream",
     "text": [
      "/Users/rdubey/miniconda3/envs/deep-learning/lib/python3.9/site-packages/joblib/externals/loky/process_executor.py:700: UserWarning: A worker stopped while some jobs were given to the executor. This can be caused by a too short worker timeout or by a memory leak.\n",
      "  warnings.warn(\n"
     ]
    },
    {
     "name": "stdout",
     "output_type": "stream",
     "text": [
      "huggingface/tokenizers: The current process just got forked, after parallelism has already been used. Disabling parallelism to avoid deadlocks...\n",
      "To disable this warning, you can either:\n",
      "\t- Avoid using `tokenizers` before the fork if possible\n",
      "\t- Explicitly set the environment variable TOKENIZERS_PARALLELISM=(true | false)\n"
     ]
    },
    {
     "name": "stderr",
     "output_type": "stream",
     "text": [
      "/Users/rdubey/miniconda3/envs/deep-learning/lib/python3.9/site-packages/joblib/externals/loky/process_executor.py:700: UserWarning: A worker stopped while some jobs were given to the executor. This can be caused by a too short worker timeout or by a memory leak.\n",
      "  warnings.warn(\n"
     ]
    },
    {
     "name": "stdout",
     "output_type": "stream",
     "text": [
      "huggingface/tokenizers: The current process just got forked, after parallelism has already been used. Disabling parallelism to avoid deadlocks...\n",
      "To disable this warning, you can either:\n",
      "\t- Avoid using `tokenizers` before the fork if possible\n",
      "\t- Explicitly set the environment variable TOKENIZERS_PARALLELISM=(true | false)\n"
     ]
    },
    {
     "name": "stderr",
     "output_type": "stream",
     "text": [
      "/Users/rdubey/miniconda3/envs/deep-learning/lib/python3.9/site-packages/joblib/externals/loky/process_executor.py:700: UserWarning: A worker stopped while some jobs were given to the executor. This can be caused by a too short worker timeout or by a memory leak.\n",
      "  warnings.warn(\n"
     ]
    },
    {
     "name": "stdout",
     "output_type": "stream",
     "text": [
      "huggingface/tokenizers: The current process just got forked, after parallelism has already been used. Disabling parallelism to avoid deadlocks...\n",
      "To disable this warning, you can either:\n",
      "\t- Avoid using `tokenizers` before the fork if possible\n",
      "\t- Explicitly set the environment variable TOKENIZERS_PARALLELISM=(true | false)\n"
     ]
    },
    {
     "name": "stderr",
     "output_type": "stream",
     "text": [
      "/Users/rdubey/miniconda3/envs/deep-learning/lib/python3.9/site-packages/joblib/externals/loky/process_executor.py:700: UserWarning: A worker stopped while some jobs were given to the executor. This can be caused by a too short worker timeout or by a memory leak.\n",
      "  warnings.warn(\n"
     ]
    },
    {
     "name": "stdout",
     "output_type": "stream",
     "text": [
      "huggingface/tokenizers: The current process just got forked, after parallelism has already been used. Disabling parallelism to avoid deadlocks...\n",
      "To disable this warning, you can either:\n",
      "\t- Avoid using `tokenizers` before the fork if possible\n",
      "\t- Explicitly set the environment variable TOKENIZERS_PARALLELISM=(true | false)\n"
     ]
    },
    {
     "name": "stderr",
     "output_type": "stream",
     "text": [
      "/Users/rdubey/miniconda3/envs/deep-learning/lib/python3.9/site-packages/joblib/externals/loky/process_executor.py:700: UserWarning: A worker stopped while some jobs were given to the executor. This can be caused by a too short worker timeout or by a memory leak.\n",
      "  warnings.warn(\n"
     ]
    },
    {
     "name": "stdout",
     "output_type": "stream",
     "text": [
      "huggingface/tokenizers: The current process just got forked, after parallelism has already been used. Disabling parallelism to avoid deadlocks...\n",
      "To disable this warning, you can either:\n",
      "\t- Avoid using `tokenizers` before the fork if possible\n",
      "\t- Explicitly set the environment variable TOKENIZERS_PARALLELISM=(true | false)\n"
     ]
    },
    {
     "name": "stderr",
     "output_type": "stream",
     "text": [
      "/Users/rdubey/miniconda3/envs/deep-learning/lib/python3.9/site-packages/joblib/externals/loky/process_executor.py:700: UserWarning: A worker stopped while some jobs were given to the executor. This can be caused by a too short worker timeout or by a memory leak.\n",
      "  warnings.warn(\n"
     ]
    },
    {
     "name": "stdout",
     "output_type": "stream",
     "text": [
      "huggingface/tokenizers: The current process just got forked, after parallelism has already been used. Disabling parallelism to avoid deadlocks...\n",
      "To disable this warning, you can either:\n",
      "\t- Avoid using `tokenizers` before the fork if possible\n",
      "\t- Explicitly set the environment variable TOKENIZERS_PARALLELISM=(true | false)\n"
     ]
    },
    {
     "name": "stderr",
     "output_type": "stream",
     "text": [
      "/Users/rdubey/miniconda3/envs/deep-learning/lib/python3.9/site-packages/joblib/externals/loky/process_executor.py:700: UserWarning: A worker stopped while some jobs were given to the executor. This can be caused by a too short worker timeout or by a memory leak.\n",
      "  warnings.warn(\n"
     ]
    },
    {
     "name": "stdout",
     "output_type": "stream",
     "text": [
      "huggingface/tokenizers: The current process just got forked, after parallelism has already been used. Disabling parallelism to avoid deadlocks...\n",
      "To disable this warning, you can either:\n",
      "\t- Avoid using `tokenizers` before the fork if possible\n",
      "\t- Explicitly set the environment variable TOKENIZERS_PARALLELISM=(true | false)\n"
     ]
    },
    {
     "name": "stderr",
     "output_type": "stream",
     "text": [
      "/Users/rdubey/miniconda3/envs/deep-learning/lib/python3.9/site-packages/joblib/externals/loky/process_executor.py:700: UserWarning: A worker stopped while some jobs were given to the executor. This can be caused by a too short worker timeout or by a memory leak.\n",
      "  warnings.warn(\n"
     ]
    },
    {
     "name": "stdout",
     "output_type": "stream",
     "text": [
      "huggingface/tokenizers: The current process just got forked, after parallelism has already been used. Disabling parallelism to avoid deadlocks...\n",
      "To disable this warning, you can either:\n",
      "\t- Avoid using `tokenizers` before the fork if possible\n",
      "\t- Explicitly set the environment variable TOKENIZERS_PARALLELISM=(true | false)\n"
     ]
    },
    {
     "name": "stderr",
     "output_type": "stream",
     "text": [
      "/Users/rdubey/miniconda3/envs/deep-learning/lib/python3.9/site-packages/joblib/externals/loky/process_executor.py:700: UserWarning: A worker stopped while some jobs were given to the executor. This can be caused by a too short worker timeout or by a memory leak.\n",
      "  warnings.warn(\n"
     ]
    },
    {
     "name": "stdout",
     "output_type": "stream",
     "text": [
      "huggingface/tokenizers: The current process just got forked, after parallelism has already been used. Disabling parallelism to avoid deadlocks...\n",
      "To disable this warning, you can either:\n",
      "\t- Avoid using `tokenizers` before the fork if possible\n",
      "\t- Explicitly set the environment variable TOKENIZERS_PARALLELISM=(true | false)\n"
     ]
    },
    {
     "name": "stderr",
     "output_type": "stream",
     "text": [
      "/Users/rdubey/miniconda3/envs/deep-learning/lib/python3.9/site-packages/joblib/externals/loky/process_executor.py:700: UserWarning: A worker stopped while some jobs were given to the executor. This can be caused by a too short worker timeout or by a memory leak.\n",
      "  warnings.warn(\n"
     ]
    },
    {
     "name": "stdout",
     "output_type": "stream",
     "text": [
      "huggingface/tokenizers: The current process just got forked, after parallelism has already been used. Disabling parallelism to avoid deadlocks...\n",
      "To disable this warning, you can either:\n",
      "\t- Avoid using `tokenizers` before the fork if possible\n",
      "\t- Explicitly set the environment variable TOKENIZERS_PARALLELISM=(true | false)\n"
     ]
    },
    {
     "name": "stderr",
     "output_type": "stream",
     "text": [
      "/Users/rdubey/miniconda3/envs/deep-learning/lib/python3.9/site-packages/joblib/externals/loky/process_executor.py:700: UserWarning: A worker stopped while some jobs were given to the executor. This can be caused by a too short worker timeout or by a memory leak.\n",
      "  warnings.warn(\n"
     ]
    },
    {
     "name": "stdout",
     "output_type": "stream",
     "text": [
      "huggingface/tokenizers: The current process just got forked, after parallelism has already been used. Disabling parallelism to avoid deadlocks...\n",
      "To disable this warning, you can either:\n",
      "\t- Avoid using `tokenizers` before the fork if possible\n",
      "\t- Explicitly set the environment variable TOKENIZERS_PARALLELISM=(true | false)\n"
     ]
    },
    {
     "name": "stderr",
     "output_type": "stream",
     "text": [
      "/Users/rdubey/miniconda3/envs/deep-learning/lib/python3.9/site-packages/joblib/externals/loky/process_executor.py:700: UserWarning: A worker stopped while some jobs were given to the executor. This can be caused by a too short worker timeout or by a memory leak.\n",
      "  warnings.warn(\n"
     ]
    },
    {
     "name": "stdout",
     "output_type": "stream",
     "text": [
      "huggingface/tokenizers: The current process just got forked, after parallelism has already been used. Disabling parallelism to avoid deadlocks...\n",
      "To disable this warning, you can either:\n",
      "\t- Avoid using `tokenizers` before the fork if possible\n",
      "\t- Explicitly set the environment variable TOKENIZERS_PARALLELISM=(true | false)\n"
     ]
    },
    {
     "name": "stderr",
     "output_type": "stream",
     "text": [
      "/Users/rdubey/miniconda3/envs/deep-learning/lib/python3.9/site-packages/joblib/externals/loky/process_executor.py:700: UserWarning: A worker stopped while some jobs were given to the executor. This can be caused by a too short worker timeout or by a memory leak.\n",
      "  warnings.warn(\n"
     ]
    },
    {
     "name": "stdout",
     "output_type": "stream",
     "text": [
      "huggingface/tokenizers: The current process just got forked, after parallelism has already been used. Disabling parallelism to avoid deadlocks...\n",
      "To disable this warning, you can either:\n",
      "\t- Avoid using `tokenizers` before the fork if possible\n",
      "\t- Explicitly set the environment variable TOKENIZERS_PARALLELISM=(true | false)\n"
     ]
    },
    {
     "name": "stderr",
     "output_type": "stream",
     "text": [
      "/Users/rdubey/miniconda3/envs/deep-learning/lib/python3.9/site-packages/joblib/externals/loky/process_executor.py:700: UserWarning: A worker stopped while some jobs were given to the executor. This can be caused by a too short worker timeout or by a memory leak.\n",
      "  warnings.warn(\n"
     ]
    },
    {
     "name": "stdout",
     "output_type": "stream",
     "text": [
      "huggingface/tokenizers: The current process just got forked, after parallelism has already been used. Disabling parallelism to avoid deadlocks...\n",
      "To disable this warning, you can either:\n",
      "\t- Avoid using `tokenizers` before the fork if possible\n",
      "\t- Explicitly set the environment variable TOKENIZERS_PARALLELISM=(true | false)\n"
     ]
    },
    {
     "name": "stderr",
     "output_type": "stream",
     "text": [
      "/Users/rdubey/miniconda3/envs/deep-learning/lib/python3.9/site-packages/joblib/externals/loky/process_executor.py:700: UserWarning: A worker stopped while some jobs were given to the executor. This can be caused by a too short worker timeout or by a memory leak.\n",
      "  warnings.warn(\n"
     ]
    },
    {
     "name": "stdout",
     "output_type": "stream",
     "text": [
      "huggingface/tokenizers: The current process just got forked, after parallelism has already been used. Disabling parallelism to avoid deadlocks...\n",
      "To disable this warning, you can either:\n",
      "\t- Avoid using `tokenizers` before the fork if possible\n",
      "\t- Explicitly set the environment variable TOKENIZERS_PARALLELISM=(true | false)\n"
     ]
    },
    {
     "name": "stderr",
     "output_type": "stream",
     "text": [
      "/Users/rdubey/miniconda3/envs/deep-learning/lib/python3.9/site-packages/joblib/externals/loky/process_executor.py:700: UserWarning: A worker stopped while some jobs were given to the executor. This can be caused by a too short worker timeout or by a memory leak.\n",
      "  warnings.warn(\n"
     ]
    },
    {
     "name": "stdout",
     "output_type": "stream",
     "text": [
      "huggingface/tokenizers: The current process just got forked, after parallelism has already been used. Disabling parallelism to avoid deadlocks...\n",
      "To disable this warning, you can either:\n",
      "\t- Avoid using `tokenizers` before the fork if possible\n",
      "\t- Explicitly set the environment variable TOKENIZERS_PARALLELISM=(true | false)\n"
     ]
    },
    {
     "name": "stderr",
     "output_type": "stream",
     "text": [
      "/Users/rdubey/miniconda3/envs/deep-learning/lib/python3.9/site-packages/joblib/externals/loky/process_executor.py:700: UserWarning: A worker stopped while some jobs were given to the executor. This can be caused by a too short worker timeout or by a memory leak.\n",
      "  warnings.warn(\n"
     ]
    },
    {
     "name": "stdout",
     "output_type": "stream",
     "text": [
      "huggingface/tokenizers: The current process just got forked, after parallelism has already been used. Disabling parallelism to avoid deadlocks...\n",
      "To disable this warning, you can either:\n",
      "\t- Avoid using `tokenizers` before the fork if possible\n",
      "\t- Explicitly set the environment variable TOKENIZERS_PARALLELISM=(true | false)\n"
     ]
    },
    {
     "name": "stderr",
     "output_type": "stream",
     "text": [
      "/Users/rdubey/miniconda3/envs/deep-learning/lib/python3.9/site-packages/joblib/externals/loky/process_executor.py:700: UserWarning: A worker stopped while some jobs were given to the executor. This can be caused by a too short worker timeout or by a memory leak.\n",
      "  warnings.warn(\n"
     ]
    },
    {
     "name": "stdout",
     "output_type": "stream",
     "text": [
      "huggingface/tokenizers: The current process just got forked, after parallelism has already been used. Disabling parallelism to avoid deadlocks...\n",
      "To disable this warning, you can either:\n",
      "\t- Avoid using `tokenizers` before the fork if possible\n",
      "\t- Explicitly set the environment variable TOKENIZERS_PARALLELISM=(true | false)\n"
     ]
    },
    {
     "name": "stderr",
     "output_type": "stream",
     "text": [
      "/Users/rdubey/miniconda3/envs/deep-learning/lib/python3.9/site-packages/joblib/externals/loky/process_executor.py:700: UserWarning: A worker stopped while some jobs were given to the executor. This can be caused by a too short worker timeout or by a memory leak.\n",
      "  warnings.warn(\n"
     ]
    },
    {
     "name": "stdout",
     "output_type": "stream",
     "text": [
      "huggingface/tokenizers: The current process just got forked, after parallelism has already been used. Disabling parallelism to avoid deadlocks...\n",
      "To disable this warning, you can either:\n",
      "\t- Avoid using `tokenizers` before the fork if possible\n",
      "\t- Explicitly set the environment variable TOKENIZERS_PARALLELISM=(true | false)\n"
     ]
    },
    {
     "name": "stderr",
     "output_type": "stream",
     "text": [
      "/Users/rdubey/miniconda3/envs/deep-learning/lib/python3.9/site-packages/joblib/externals/loky/process_executor.py:700: UserWarning: A worker stopped while some jobs were given to the executor. This can be caused by a too short worker timeout or by a memory leak.\n",
      "  warnings.warn(\n"
     ]
    },
    {
     "name": "stdout",
     "output_type": "stream",
     "text": [
      "huggingface/tokenizers: The current process just got forked, after parallelism has already been used. Disabling parallelism to avoid deadlocks...\n",
      "To disable this warning, you can either:\n",
      "\t- Avoid using `tokenizers` before the fork if possible\n",
      "\t- Explicitly set the environment variable TOKENIZERS_PARALLELISM=(true | false)\n"
     ]
    },
    {
     "name": "stderr",
     "output_type": "stream",
     "text": [
      "/Users/rdubey/miniconda3/envs/deep-learning/lib/python3.9/site-packages/joblib/externals/loky/process_executor.py:700: UserWarning: A worker stopped while some jobs were given to the executor. This can be caused by a too short worker timeout or by a memory leak.\n",
      "  warnings.warn(\n"
     ]
    },
    {
     "name": "stdout",
     "output_type": "stream",
     "text": [
      "huggingface/tokenizers: The current process just got forked, after parallelism has already been used. Disabling parallelism to avoid deadlocks...\n",
      "To disable this warning, you can either:\n",
      "\t- Avoid using `tokenizers` before the fork if possible\n",
      "\t- Explicitly set the environment variable TOKENIZERS_PARALLELISM=(true | false)\n"
     ]
    },
    {
     "name": "stderr",
     "output_type": "stream",
     "text": [
      "/Users/rdubey/miniconda3/envs/deep-learning/lib/python3.9/site-packages/joblib/externals/loky/process_executor.py:700: UserWarning: A worker stopped while some jobs were given to the executor. This can be caused by a too short worker timeout or by a memory leak.\n",
      "  warnings.warn(\n"
     ]
    },
    {
     "name": "stdout",
     "output_type": "stream",
     "text": [
      "huggingface/tokenizers: The current process just got forked, after parallelism has already been used. Disabling parallelism to avoid deadlocks...\n",
      "To disable this warning, you can either:\n",
      "\t- Avoid using `tokenizers` before the fork if possible\n",
      "\t- Explicitly set the environment variable TOKENIZERS_PARALLELISM=(true | false)\n"
     ]
    },
    {
     "name": "stderr",
     "output_type": "stream",
     "text": [
      "/Users/rdubey/miniconda3/envs/deep-learning/lib/python3.9/site-packages/joblib/externals/loky/process_executor.py:700: UserWarning: A worker stopped while some jobs were given to the executor. This can be caused by a too short worker timeout or by a memory leak.\n",
      "  warnings.warn(\n"
     ]
    },
    {
     "name": "stdout",
     "output_type": "stream",
     "text": [
      "huggingface/tokenizers: The current process just got forked, after parallelism has already been used. Disabling parallelism to avoid deadlocks...\n",
      "To disable this warning, you can either:\n",
      "\t- Avoid using `tokenizers` before the fork if possible\n",
      "\t- Explicitly set the environment variable TOKENIZERS_PARALLELISM=(true | false)\n"
     ]
    },
    {
     "name": "stderr",
     "output_type": "stream",
     "text": [
      "/Users/rdubey/miniconda3/envs/deep-learning/lib/python3.9/site-packages/joblib/externals/loky/process_executor.py:700: UserWarning: A worker stopped while some jobs were given to the executor. This can be caused by a too short worker timeout or by a memory leak.\n",
      "  warnings.warn(\n"
     ]
    },
    {
     "name": "stdout",
     "output_type": "stream",
     "text": [
      "huggingface/tokenizers: The current process just got forked, after parallelism has already been used. Disabling parallelism to avoid deadlocks...\n",
      "To disable this warning, you can either:\n",
      "\t- Avoid using `tokenizers` before the fork if possible\n",
      "\t- Explicitly set the environment variable TOKENIZERS_PARALLELISM=(true | false)\n"
     ]
    },
    {
     "name": "stderr",
     "output_type": "stream",
     "text": [
      "/Users/rdubey/miniconda3/envs/deep-learning/lib/python3.9/site-packages/joblib/externals/loky/process_executor.py:700: UserWarning: A worker stopped while some jobs were given to the executor. This can be caused by a too short worker timeout or by a memory leak.\n",
      "  warnings.warn(\n"
     ]
    },
    {
     "name": "stdout",
     "output_type": "stream",
     "text": [
      "huggingface/tokenizers: The current process just got forked, after parallelism has already been used. Disabling parallelism to avoid deadlocks...\n",
      "To disable this warning, you can either:\n",
      "\t- Avoid using `tokenizers` before the fork if possible\n",
      "\t- Explicitly set the environment variable TOKENIZERS_PARALLELISM=(true | false)\n"
     ]
    },
    {
     "name": "stderr",
     "output_type": "stream",
     "text": [
      "/Users/rdubey/miniconda3/envs/deep-learning/lib/python3.9/site-packages/joblib/externals/loky/process_executor.py:700: UserWarning: A worker stopped while some jobs were given to the executor. This can be caused by a too short worker timeout or by a memory leak.\n",
      "  warnings.warn(\n"
     ]
    },
    {
     "name": "stdout",
     "output_type": "stream",
     "text": [
      "huggingface/tokenizers: The current process just got forked, after parallelism has already been used. Disabling parallelism to avoid deadlocks...\n",
      "To disable this warning, you can either:\n",
      "\t- Avoid using `tokenizers` before the fork if possible\n",
      "\t- Explicitly set the environment variable TOKENIZERS_PARALLELISM=(true | false)\n"
     ]
    },
    {
     "name": "stderr",
     "output_type": "stream",
     "text": [
      "/Users/rdubey/miniconda3/envs/deep-learning/lib/python3.9/site-packages/joblib/externals/loky/process_executor.py:700: UserWarning: A worker stopped while some jobs were given to the executor. This can be caused by a too short worker timeout or by a memory leak.\n",
      "  warnings.warn(\n"
     ]
    },
    {
     "name": "stdout",
     "output_type": "stream",
     "text": [
      "huggingface/tokenizers: The current process just got forked, after parallelism has already been used. Disabling parallelism to avoid deadlocks...\n",
      "To disable this warning, you can either:\n",
      "\t- Avoid using `tokenizers` before the fork if possible\n",
      "\t- Explicitly set the environment variable TOKENIZERS_PARALLELISM=(true | false)\n"
     ]
    },
    {
     "name": "stderr",
     "output_type": "stream",
     "text": [
      "/Users/rdubey/miniconda3/envs/deep-learning/lib/python3.9/site-packages/joblib/externals/loky/process_executor.py:700: UserWarning: A worker stopped while some jobs were given to the executor. This can be caused by a too short worker timeout or by a memory leak.\n",
      "  warnings.warn(\n"
     ]
    },
    {
     "name": "stdout",
     "output_type": "stream",
     "text": [
      "huggingface/tokenizers: The current process just got forked, after parallelism has already been used. Disabling parallelism to avoid deadlocks...\n",
      "To disable this warning, you can either:\n",
      "\t- Avoid using `tokenizers` before the fork if possible\n",
      "\t- Explicitly set the environment variable TOKENIZERS_PARALLELISM=(true | false)\n"
     ]
    },
    {
     "name": "stderr",
     "output_type": "stream",
     "text": [
      "/Users/rdubey/miniconda3/envs/deep-learning/lib/python3.9/site-packages/joblib/externals/loky/process_executor.py:700: UserWarning: A worker stopped while some jobs were given to the executor. This can be caused by a too short worker timeout or by a memory leak.\n",
      "  warnings.warn(\n"
     ]
    },
    {
     "name": "stdout",
     "output_type": "stream",
     "text": [
      "huggingface/tokenizers: The current process just got forked, after parallelism has already been used. Disabling parallelism to avoid deadlocks...\n",
      "To disable this warning, you can either:\n",
      "\t- Avoid using `tokenizers` before the fork if possible\n",
      "\t- Explicitly set the environment variable TOKENIZERS_PARALLELISM=(true | false)\n"
     ]
    },
    {
     "name": "stderr",
     "output_type": "stream",
     "text": [
      "/Users/rdubey/miniconda3/envs/deep-learning/lib/python3.9/site-packages/joblib/externals/loky/process_executor.py:700: UserWarning: A worker stopped while some jobs were given to the executor. This can be caused by a too short worker timeout or by a memory leak.\n",
      "  warnings.warn(\n"
     ]
    },
    {
     "name": "stdout",
     "output_type": "stream",
     "text": [
      "huggingface/tokenizers: The current process just got forked, after parallelism has already been used. Disabling parallelism to avoid deadlocks...\n",
      "To disable this warning, you can either:\n",
      "\t- Avoid using `tokenizers` before the fork if possible\n",
      "\t- Explicitly set the environment variable TOKENIZERS_PARALLELISM=(true | false)\n"
     ]
    },
    {
     "name": "stderr",
     "output_type": "stream",
     "text": [
      "/Users/rdubey/miniconda3/envs/deep-learning/lib/python3.9/site-packages/joblib/externals/loky/process_executor.py:700: UserWarning: A worker stopped while some jobs were given to the executor. This can be caused by a too short worker timeout or by a memory leak.\n",
      "  warnings.warn(\n"
     ]
    },
    {
     "name": "stdout",
     "output_type": "stream",
     "text": [
      "huggingface/tokenizers: The current process just got forked, after parallelism has already been used. Disabling parallelism to avoid deadlocks...\n",
      "To disable this warning, you can either:\n",
      "\t- Avoid using `tokenizers` before the fork if possible\n",
      "\t- Explicitly set the environment variable TOKENIZERS_PARALLELISM=(true | false)\n"
     ]
    },
    {
     "name": "stderr",
     "output_type": "stream",
     "text": [
      "/Users/rdubey/miniconda3/envs/deep-learning/lib/python3.9/site-packages/joblib/externals/loky/process_executor.py:700: UserWarning: A worker stopped while some jobs were given to the executor. This can be caused by a too short worker timeout or by a memory leak.\n",
      "  warnings.warn(\n"
     ]
    },
    {
     "name": "stdout",
     "output_type": "stream",
     "text": [
      "huggingface/tokenizers: The current process just got forked, after parallelism has already been used. Disabling parallelism to avoid deadlocks...\n",
      "To disable this warning, you can either:\n",
      "\t- Avoid using `tokenizers` before the fork if possible\n",
      "\t- Explicitly set the environment variable TOKENIZERS_PARALLELISM=(true | false)\n"
     ]
    },
    {
     "name": "stderr",
     "output_type": "stream",
     "text": [
      "/Users/rdubey/miniconda3/envs/deep-learning/lib/python3.9/site-packages/joblib/externals/loky/process_executor.py:700: UserWarning: A worker stopped while some jobs were given to the executor. This can be caused by a too short worker timeout or by a memory leak.\n",
      "  warnings.warn(\n"
     ]
    },
    {
     "name": "stdout",
     "output_type": "stream",
     "text": [
      "huggingface/tokenizers: The current process just got forked, after parallelism has already been used. Disabling parallelism to avoid deadlocks...\n",
      "To disable this warning, you can either:\n",
      "\t- Avoid using `tokenizers` before the fork if possible\n",
      "\t- Explicitly set the environment variable TOKENIZERS_PARALLELISM=(true | false)\n"
     ]
    },
    {
     "name": "stderr",
     "output_type": "stream",
     "text": [
      "/Users/rdubey/miniconda3/envs/deep-learning/lib/python3.9/site-packages/joblib/externals/loky/process_executor.py:700: UserWarning: A worker stopped while some jobs were given to the executor. This can be caused by a too short worker timeout or by a memory leak.\n",
      "  warnings.warn(\n"
     ]
    },
    {
     "name": "stdout",
     "output_type": "stream",
     "text": [
      "huggingface/tokenizers: The current process just got forked, after parallelism has already been used. Disabling parallelism to avoid deadlocks...\n",
      "To disable this warning, you can either:\n",
      "\t- Avoid using `tokenizers` before the fork if possible\n",
      "\t- Explicitly set the environment variable TOKENIZERS_PARALLELISM=(true | false)\n"
     ]
    },
    {
     "name": "stderr",
     "output_type": "stream",
     "text": [
      "/Users/rdubey/miniconda3/envs/deep-learning/lib/python3.9/site-packages/joblib/externals/loky/process_executor.py:700: UserWarning: A worker stopped while some jobs were given to the executor. This can be caused by a too short worker timeout or by a memory leak.\n",
      "  warnings.warn(\n"
     ]
    },
    {
     "name": "stdout",
     "output_type": "stream",
     "text": [
      "huggingface/tokenizers: The current process just got forked, after parallelism has already been used. Disabling parallelism to avoid deadlocks...\n",
      "To disable this warning, you can either:\n",
      "\t- Avoid using `tokenizers` before the fork if possible\n",
      "\t- Explicitly set the environment variable TOKENIZERS_PARALLELISM=(true | false)\n"
     ]
    },
    {
     "name": "stderr",
     "output_type": "stream",
     "text": [
      "/Users/rdubey/miniconda3/envs/deep-learning/lib/python3.9/site-packages/joblib/externals/loky/process_executor.py:700: UserWarning: A worker stopped while some jobs were given to the executor. This can be caused by a too short worker timeout or by a memory leak.\n",
      "  warnings.warn(\n"
     ]
    },
    {
     "name": "stdout",
     "output_type": "stream",
     "text": [
      "huggingface/tokenizers: The current process just got forked, after parallelism has already been used. Disabling parallelism to avoid deadlocks...\n",
      "To disable this warning, you can either:\n",
      "\t- Avoid using `tokenizers` before the fork if possible\n",
      "\t- Explicitly set the environment variable TOKENIZERS_PARALLELISM=(true | false)\n"
     ]
    },
    {
     "name": "stderr",
     "output_type": "stream",
     "text": [
      "/Users/rdubey/miniconda3/envs/deep-learning/lib/python3.9/site-packages/joblib/externals/loky/process_executor.py:700: UserWarning: A worker stopped while some jobs were given to the executor. This can be caused by a too short worker timeout or by a memory leak.\n",
      "  warnings.warn(\n"
     ]
    },
    {
     "name": "stdout",
     "output_type": "stream",
     "text": [
      "huggingface/tokenizers: The current process just got forked, after parallelism has already been used. Disabling parallelism to avoid deadlocks...\n",
      "To disable this warning, you can either:\n",
      "\t- Avoid using `tokenizers` before the fork if possible\n",
      "\t- Explicitly set the environment variable TOKENIZERS_PARALLELISM=(true | false)\n"
     ]
    },
    {
     "name": "stderr",
     "output_type": "stream",
     "text": [
      "/Users/rdubey/miniconda3/envs/deep-learning/lib/python3.9/site-packages/joblib/externals/loky/process_executor.py:700: UserWarning: A worker stopped while some jobs were given to the executor. This can be caused by a too short worker timeout or by a memory leak.\n",
      "  warnings.warn(\n"
     ]
    },
    {
     "name": "stdout",
     "output_type": "stream",
     "text": [
      "huggingface/tokenizers: The current process just got forked, after parallelism has already been used. Disabling parallelism to avoid deadlocks...\n",
      "To disable this warning, you can either:\n",
      "\t- Avoid using `tokenizers` before the fork if possible\n",
      "\t- Explicitly set the environment variable TOKENIZERS_PARALLELISM=(true | false)\n"
     ]
    },
    {
     "name": "stderr",
     "output_type": "stream",
     "text": [
      "/Users/rdubey/miniconda3/envs/deep-learning/lib/python3.9/site-packages/joblib/externals/loky/process_executor.py:700: UserWarning: A worker stopped while some jobs were given to the executor. This can be caused by a too short worker timeout or by a memory leak.\n",
      "  warnings.warn(\n"
     ]
    },
    {
     "name": "stdout",
     "output_type": "stream",
     "text": [
      "huggingface/tokenizers: The current process just got forked, after parallelism has already been used. Disabling parallelism to avoid deadlocks...\n",
      "To disable this warning, you can either:\n",
      "\t- Avoid using `tokenizers` before the fork if possible\n",
      "\t- Explicitly set the environment variable TOKENIZERS_PARALLELISM=(true | false)\n"
     ]
    },
    {
     "name": "stderr",
     "output_type": "stream",
     "text": [
      "/Users/rdubey/miniconda3/envs/deep-learning/lib/python3.9/site-packages/joblib/externals/loky/process_executor.py:700: UserWarning: A worker stopped while some jobs were given to the executor. This can be caused by a too short worker timeout or by a memory leak.\n",
      "  warnings.warn(\n"
     ]
    },
    {
     "name": "stdout",
     "output_type": "stream",
     "text": [
      "huggingface/tokenizers: The current process just got forked, after parallelism has already been used. Disabling parallelism to avoid deadlocks...\n",
      "To disable this warning, you can either:\n",
      "\t- Avoid using `tokenizers` before the fork if possible\n",
      "\t- Explicitly set the environment variable TOKENIZERS_PARALLELISM=(true | false)\n"
     ]
    },
    {
     "name": "stderr",
     "output_type": "stream",
     "text": [
      "/Users/rdubey/miniconda3/envs/deep-learning/lib/python3.9/site-packages/joblib/externals/loky/process_executor.py:700: UserWarning: A worker stopped while some jobs were given to the executor. This can be caused by a too short worker timeout or by a memory leak.\n",
      "  warnings.warn(\n"
     ]
    },
    {
     "name": "stdout",
     "output_type": "stream",
     "text": [
      "huggingface/tokenizers: The current process just got forked, after parallelism has already been used. Disabling parallelism to avoid deadlocks...\n",
      "To disable this warning, you can either:\n",
      "\t- Avoid using `tokenizers` before the fork if possible\n",
      "\t- Explicitly set the environment variable TOKENIZERS_PARALLELISM=(true | false)\n"
     ]
    },
    {
     "name": "stderr",
     "output_type": "stream",
     "text": [
      "/Users/rdubey/miniconda3/envs/deep-learning/lib/python3.9/site-packages/joblib/externals/loky/process_executor.py:700: UserWarning: A worker stopped while some jobs were given to the executor. This can be caused by a too short worker timeout or by a memory leak.\n",
      "  warnings.warn(\n"
     ]
    },
    {
     "name": "stdout",
     "output_type": "stream",
     "text": [
      "huggingface/tokenizers: The current process just got forked, after parallelism has already been used. Disabling parallelism to avoid deadlocks...\n",
      "To disable this warning, you can either:\n",
      "\t- Avoid using `tokenizers` before the fork if possible\n",
      "\t- Explicitly set the environment variable TOKENIZERS_PARALLELISM=(true | false)\n"
     ]
    },
    {
     "name": "stderr",
     "output_type": "stream",
     "text": [
      "/Users/rdubey/miniconda3/envs/deep-learning/lib/python3.9/site-packages/joblib/externals/loky/process_executor.py:700: UserWarning: A worker stopped while some jobs were given to the executor. This can be caused by a too short worker timeout or by a memory leak.\n",
      "  warnings.warn(\n"
     ]
    },
    {
     "name": "stdout",
     "output_type": "stream",
     "text": [
      "huggingface/tokenizers: The current process just got forked, after parallelism has already been used. Disabling parallelism to avoid deadlocks...\n",
      "To disable this warning, you can either:\n",
      "\t- Avoid using `tokenizers` before the fork if possible\n",
      "\t- Explicitly set the environment variable TOKENIZERS_PARALLELISM=(true | false)\n"
     ]
    },
    {
     "name": "stderr",
     "output_type": "stream",
     "text": [
      "/Users/rdubey/miniconda3/envs/deep-learning/lib/python3.9/site-packages/joblib/externals/loky/process_executor.py:700: UserWarning: A worker stopped while some jobs were given to the executor. This can be caused by a too short worker timeout or by a memory leak.\n",
      "  warnings.warn(\n"
     ]
    },
    {
     "name": "stdout",
     "output_type": "stream",
     "text": [
      "huggingface/tokenizers: The current process just got forked, after parallelism has already been used. Disabling parallelism to avoid deadlocks...\n",
      "To disable this warning, you can either:\n",
      "\t- Avoid using `tokenizers` before the fork if possible\n",
      "\t- Explicitly set the environment variable TOKENIZERS_PARALLELISM=(true | false)\n"
     ]
    },
    {
     "name": "stderr",
     "output_type": "stream",
     "text": [
      "/Users/rdubey/miniconda3/envs/deep-learning/lib/python3.9/site-packages/joblib/externals/loky/process_executor.py:700: UserWarning: A worker stopped while some jobs were given to the executor. This can be caused by a too short worker timeout or by a memory leak.\n",
      "  warnings.warn(\n"
     ]
    },
    {
     "name": "stdout",
     "output_type": "stream",
     "text": [
      "huggingface/tokenizers: The current process just got forked, after parallelism has already been used. Disabling parallelism to avoid deadlocks...\n",
      "To disable this warning, you can either:\n",
      "\t- Avoid using `tokenizers` before the fork if possible\n",
      "\t- Explicitly set the environment variable TOKENIZERS_PARALLELISM=(true | false)\n"
     ]
    },
    {
     "name": "stderr",
     "output_type": "stream",
     "text": [
      "/Users/rdubey/miniconda3/envs/deep-learning/lib/python3.9/site-packages/joblib/externals/loky/process_executor.py:700: UserWarning: A worker stopped while some jobs were given to the executor. This can be caused by a too short worker timeout or by a memory leak.\n",
      "  warnings.warn(\n"
     ]
    },
    {
     "name": "stdout",
     "output_type": "stream",
     "text": [
      "huggingface/tokenizers: The current process just got forked, after parallelism has already been used. Disabling parallelism to avoid deadlocks...\n",
      "To disable this warning, you can either:\n",
      "\t- Avoid using `tokenizers` before the fork if possible\n",
      "\t- Explicitly set the environment variable TOKENIZERS_PARALLELISM=(true | false)\n"
     ]
    },
    {
     "name": "stderr",
     "output_type": "stream",
     "text": [
      "/Users/rdubey/miniconda3/envs/deep-learning/lib/python3.9/site-packages/joblib/externals/loky/process_executor.py:700: UserWarning: A worker stopped while some jobs were given to the executor. This can be caused by a too short worker timeout or by a memory leak.\n",
      "  warnings.warn(\n"
     ]
    },
    {
     "name": "stdout",
     "output_type": "stream",
     "text": [
      "huggingface/tokenizers: The current process just got forked, after parallelism has already been used. Disabling parallelism to avoid deadlocks...\n",
      "To disable this warning, you can either:\n",
      "\t- Avoid using `tokenizers` before the fork if possible\n",
      "\t- Explicitly set the environment variable TOKENIZERS_PARALLELISM=(true | false)\n"
     ]
    },
    {
     "name": "stderr",
     "output_type": "stream",
     "text": [
      "/Users/rdubey/miniconda3/envs/deep-learning/lib/python3.9/site-packages/joblib/externals/loky/process_executor.py:700: UserWarning: A worker stopped while some jobs were given to the executor. This can be caused by a too short worker timeout or by a memory leak.\n",
      "  warnings.warn(\n"
     ]
    },
    {
     "name": "stdout",
     "output_type": "stream",
     "text": [
      "huggingface/tokenizers: The current process just got forked, after parallelism has already been used. Disabling parallelism to avoid deadlocks...\n",
      "To disable this warning, you can either:\n",
      "\t- Avoid using `tokenizers` before the fork if possible\n",
      "\t- Explicitly set the environment variable TOKENIZERS_PARALLELISM=(true | false)\n"
     ]
    },
    {
     "name": "stderr",
     "output_type": "stream",
     "text": [
      "/Users/rdubey/miniconda3/envs/deep-learning/lib/python3.9/site-packages/joblib/externals/loky/process_executor.py:700: UserWarning: A worker stopped while some jobs were given to the executor. This can be caused by a too short worker timeout or by a memory leak.\n",
      "  warnings.warn(\n"
     ]
    },
    {
     "name": "stdout",
     "output_type": "stream",
     "text": [
      "huggingface/tokenizers: The current process just got forked, after parallelism has already been used. Disabling parallelism to avoid deadlocks...\n",
      "To disable this warning, you can either:\n",
      "\t- Avoid using `tokenizers` before the fork if possible\n",
      "\t- Explicitly set the environment variable TOKENIZERS_PARALLELISM=(true | false)\n"
     ]
    },
    {
     "name": "stderr",
     "output_type": "stream",
     "text": [
      "/Users/rdubey/miniconda3/envs/deep-learning/lib/python3.9/site-packages/joblib/externals/loky/process_executor.py:700: UserWarning: A worker stopped while some jobs were given to the executor. This can be caused by a too short worker timeout or by a memory leak.\n",
      "  warnings.warn(\n"
     ]
    },
    {
     "name": "stdout",
     "output_type": "stream",
     "text": [
      "huggingface/tokenizers: The current process just got forked, after parallelism has already been used. Disabling parallelism to avoid deadlocks...\n",
      "To disable this warning, you can either:\n",
      "\t- Avoid using `tokenizers` before the fork if possible\n",
      "\t- Explicitly set the environment variable TOKENIZERS_PARALLELISM=(true | false)\n"
     ]
    },
    {
     "name": "stderr",
     "output_type": "stream",
     "text": [
      "/Users/rdubey/miniconda3/envs/deep-learning/lib/python3.9/site-packages/joblib/externals/loky/process_executor.py:700: UserWarning: A worker stopped while some jobs were given to the executor. This can be caused by a too short worker timeout or by a memory leak.\n",
      "  warnings.warn(\n"
     ]
    },
    {
     "name": "stdout",
     "output_type": "stream",
     "text": [
      "huggingface/tokenizers: The current process just got forked, after parallelism has already been used. Disabling parallelism to avoid deadlocks...\n",
      "To disable this warning, you can either:\n",
      "\t- Avoid using `tokenizers` before the fork if possible\n",
      "\t- Explicitly set the environment variable TOKENIZERS_PARALLELISM=(true | false)\n"
     ]
    },
    {
     "name": "stderr",
     "output_type": "stream",
     "text": [
      "/Users/rdubey/miniconda3/envs/deep-learning/lib/python3.9/site-packages/joblib/externals/loky/process_executor.py:700: UserWarning: A worker stopped while some jobs were given to the executor. This can be caused by a too short worker timeout or by a memory leak.\n",
      "  warnings.warn(\n"
     ]
    },
    {
     "name": "stdout",
     "output_type": "stream",
     "text": [
      "huggingface/tokenizers: The current process just got forked, after parallelism has already been used. Disabling parallelism to avoid deadlocks...\n",
      "To disable this warning, you can either:\n",
      "\t- Avoid using `tokenizers` before the fork if possible\n",
      "\t- Explicitly set the environment variable TOKENIZERS_PARALLELISM=(true | false)\n"
     ]
    },
    {
     "name": "stderr",
     "output_type": "stream",
     "text": [
      "/Users/rdubey/miniconda3/envs/deep-learning/lib/python3.9/site-packages/joblib/externals/loky/process_executor.py:700: UserWarning: A worker stopped while some jobs were given to the executor. This can be caused by a too short worker timeout or by a memory leak.\n",
      "  warnings.warn(\n"
     ]
    },
    {
     "name": "stdout",
     "output_type": "stream",
     "text": [
      "huggingface/tokenizers: The current process just got forked, after parallelism has already been used. Disabling parallelism to avoid deadlocks...\n",
      "To disable this warning, you can either:\n",
      "\t- Avoid using `tokenizers` before the fork if possible\n",
      "\t- Explicitly set the environment variable TOKENIZERS_PARALLELISM=(true | false)\n"
     ]
    },
    {
     "name": "stderr",
     "output_type": "stream",
     "text": [
      "/Users/rdubey/miniconda3/envs/deep-learning/lib/python3.9/site-packages/joblib/externals/loky/process_executor.py:700: UserWarning: A worker stopped while some jobs were given to the executor. This can be caused by a too short worker timeout or by a memory leak.\n",
      "  warnings.warn(\n"
     ]
    },
    {
     "name": "stdout",
     "output_type": "stream",
     "text": [
      "huggingface/tokenizers: The current process just got forked, after parallelism has already been used. Disabling parallelism to avoid deadlocks...\n",
      "To disable this warning, you can either:\n",
      "\t- Avoid using `tokenizers` before the fork if possible\n",
      "\t- Explicitly set the environment variable TOKENIZERS_PARALLELISM=(true | false)\n"
     ]
    },
    {
     "name": "stderr",
     "output_type": "stream",
     "text": [
      "/Users/rdubey/miniconda3/envs/deep-learning/lib/python3.9/site-packages/joblib/externals/loky/process_executor.py:700: UserWarning: A worker stopped while some jobs were given to the executor. This can be caused by a too short worker timeout or by a memory leak.\n",
      "  warnings.warn(\n"
     ]
    },
    {
     "name": "stdout",
     "output_type": "stream",
     "text": [
      "huggingface/tokenizers: The current process just got forked, after parallelism has already been used. Disabling parallelism to avoid deadlocks...\n",
      "To disable this warning, you can either:\n",
      "\t- Avoid using `tokenizers` before the fork if possible\n",
      "\t- Explicitly set the environment variable TOKENIZERS_PARALLELISM=(true | false)\n"
     ]
    },
    {
     "name": "stderr",
     "output_type": "stream",
     "text": [
      "/Users/rdubey/miniconda3/envs/deep-learning/lib/python3.9/site-packages/joblib/externals/loky/process_executor.py:700: UserWarning: A worker stopped while some jobs were given to the executor. This can be caused by a too short worker timeout or by a memory leak.\n",
      "  warnings.warn(\n"
     ]
    },
    {
     "name": "stdout",
     "output_type": "stream",
     "text": [
      "huggingface/tokenizers: The current process just got forked, after parallelism has already been used. Disabling parallelism to avoid deadlocks...\n",
      "To disable this warning, you can either:\n",
      "\t- Avoid using `tokenizers` before the fork if possible\n",
      "\t- Explicitly set the environment variable TOKENIZERS_PARALLELISM=(true | false)\n"
     ]
    },
    {
     "name": "stderr",
     "output_type": "stream",
     "text": [
      "/Users/rdubey/miniconda3/envs/deep-learning/lib/python3.9/site-packages/joblib/externals/loky/process_executor.py:700: UserWarning: A worker stopped while some jobs were given to the executor. This can be caused by a too short worker timeout or by a memory leak.\n",
      "  warnings.warn(\n"
     ]
    },
    {
     "name": "stdout",
     "output_type": "stream",
     "text": [
      "huggingface/tokenizers: The current process just got forked, after parallelism has already been used. Disabling parallelism to avoid deadlocks...\n",
      "To disable this warning, you can either:\n",
      "\t- Avoid using `tokenizers` before the fork if possible\n",
      "\t- Explicitly set the environment variable TOKENIZERS_PARALLELISM=(true | false)\n"
     ]
    },
    {
     "name": "stderr",
     "output_type": "stream",
     "text": [
      "/Users/rdubey/miniconda3/envs/deep-learning/lib/python3.9/site-packages/joblib/externals/loky/process_executor.py:700: UserWarning: A worker stopped while some jobs were given to the executor. This can be caused by a too short worker timeout or by a memory leak.\n",
      "  warnings.warn(\n"
     ]
    },
    {
     "name": "stdout",
     "output_type": "stream",
     "text": [
      "huggingface/tokenizers: The current process just got forked, after parallelism has already been used. Disabling parallelism to avoid deadlocks...\n",
      "To disable this warning, you can either:\n",
      "\t- Avoid using `tokenizers` before the fork if possible\n",
      "\t- Explicitly set the environment variable TOKENIZERS_PARALLELISM=(true | false)\n"
     ]
    },
    {
     "name": "stderr",
     "output_type": "stream",
     "text": [
      "/Users/rdubey/miniconda3/envs/deep-learning/lib/python3.9/site-packages/joblib/externals/loky/process_executor.py:700: UserWarning: A worker stopped while some jobs were given to the executor. This can be caused by a too short worker timeout or by a memory leak.\n",
      "  warnings.warn(\n"
     ]
    },
    {
     "name": "stdout",
     "output_type": "stream",
     "text": [
      "huggingface/tokenizers: The current process just got forked, after parallelism has already been used. Disabling parallelism to avoid deadlocks...\n",
      "To disable this warning, you can either:\n",
      "\t- Avoid using `tokenizers` before the fork if possible\n",
      "\t- Explicitly set the environment variable TOKENIZERS_PARALLELISM=(true | false)\n"
     ]
    },
    {
     "name": "stderr",
     "output_type": "stream",
     "text": [
      "/Users/rdubey/miniconda3/envs/deep-learning/lib/python3.9/site-packages/joblib/externals/loky/process_executor.py:700: UserWarning: A worker stopped while some jobs were given to the executor. This can be caused by a too short worker timeout or by a memory leak.\n",
      "  warnings.warn(\n"
     ]
    },
    {
     "name": "stdout",
     "output_type": "stream",
     "text": [
      "huggingface/tokenizers: The current process just got forked, after parallelism has already been used. Disabling parallelism to avoid deadlocks...\n",
      "To disable this warning, you can either:\n",
      "\t- Avoid using `tokenizers` before the fork if possible\n",
      "\t- Explicitly set the environment variable TOKENIZERS_PARALLELISM=(true | false)\n"
     ]
    },
    {
     "name": "stderr",
     "output_type": "stream",
     "text": [
      "/Users/rdubey/miniconda3/envs/deep-learning/lib/python3.9/site-packages/joblib/externals/loky/process_executor.py:700: UserWarning: A worker stopped while some jobs were given to the executor. This can be caused by a too short worker timeout or by a memory leak.\n",
      "  warnings.warn(\n"
     ]
    },
    {
     "name": "stdout",
     "output_type": "stream",
     "text": [
      "huggingface/tokenizers: The current process just got forked, after parallelism has already been used. Disabling parallelism to avoid deadlocks...\n",
      "To disable this warning, you can either:\n",
      "\t- Avoid using `tokenizers` before the fork if possible\n",
      "\t- Explicitly set the environment variable TOKENIZERS_PARALLELISM=(true | false)\n"
     ]
    },
    {
     "name": "stderr",
     "output_type": "stream",
     "text": [
      "/Users/rdubey/miniconda3/envs/deep-learning/lib/python3.9/site-packages/joblib/externals/loky/process_executor.py:700: UserWarning: A worker stopped while some jobs were given to the executor. This can be caused by a too short worker timeout or by a memory leak.\n",
      "  warnings.warn(\n"
     ]
    },
    {
     "name": "stdout",
     "output_type": "stream",
     "text": [
      "huggingface/tokenizers: The current process just got forked, after parallelism has already been used. Disabling parallelism to avoid deadlocks...\n",
      "To disable this warning, you can either:\n",
      "\t- Avoid using `tokenizers` before the fork if possible\n",
      "\t- Explicitly set the environment variable TOKENIZERS_PARALLELISM=(true | false)\n"
     ]
    },
    {
     "name": "stderr",
     "output_type": "stream",
     "text": [
      "/Users/rdubey/miniconda3/envs/deep-learning/lib/python3.9/site-packages/joblib/externals/loky/process_executor.py:700: UserWarning: A worker stopped while some jobs were given to the executor. This can be caused by a too short worker timeout or by a memory leak.\n",
      "  warnings.warn(\n"
     ]
    },
    {
     "name": "stdout",
     "output_type": "stream",
     "text": [
      "huggingface/tokenizers: The current process just got forked, after parallelism has already been used. Disabling parallelism to avoid deadlocks...\n",
      "To disable this warning, you can either:\n",
      "\t- Avoid using `tokenizers` before the fork if possible\n",
      "\t- Explicitly set the environment variable TOKENIZERS_PARALLELISM=(true | false)\n"
     ]
    },
    {
     "name": "stderr",
     "output_type": "stream",
     "text": [
      "/Users/rdubey/miniconda3/envs/deep-learning/lib/python3.9/site-packages/joblib/externals/loky/process_executor.py:700: UserWarning: A worker stopped while some jobs were given to the executor. This can be caused by a too short worker timeout or by a memory leak.\n",
      "  warnings.warn(\n"
     ]
    },
    {
     "name": "stdout",
     "output_type": "stream",
     "text": [
      "huggingface/tokenizers: The current process just got forked, after parallelism has already been used. Disabling parallelism to avoid deadlocks...\n",
      "To disable this warning, you can either:\n",
      "\t- Avoid using `tokenizers` before the fork if possible\n",
      "\t- Explicitly set the environment variable TOKENIZERS_PARALLELISM=(true | false)\n"
     ]
    },
    {
     "name": "stderr",
     "output_type": "stream",
     "text": [
      "/Users/rdubey/miniconda3/envs/deep-learning/lib/python3.9/site-packages/joblib/externals/loky/process_executor.py:700: UserWarning: A worker stopped while some jobs were given to the executor. This can be caused by a too short worker timeout or by a memory leak.\n",
      "  warnings.warn(\n"
     ]
    },
    {
     "name": "stdout",
     "output_type": "stream",
     "text": [
      "huggingface/tokenizers: The current process just got forked, after parallelism has already been used. Disabling parallelism to avoid deadlocks...\n",
      "To disable this warning, you can either:\n",
      "\t- Avoid using `tokenizers` before the fork if possible\n",
      "\t- Explicitly set the environment variable TOKENIZERS_PARALLELISM=(true | false)\n"
     ]
    },
    {
     "name": "stderr",
     "output_type": "stream",
     "text": [
      "/Users/rdubey/miniconda3/envs/deep-learning/lib/python3.9/site-packages/joblib/externals/loky/process_executor.py:700: UserWarning: A worker stopped while some jobs were given to the executor. This can be caused by a too short worker timeout or by a memory leak.\n",
      "  warnings.warn(\n"
     ]
    },
    {
     "name": "stdout",
     "output_type": "stream",
     "text": [
      "huggingface/tokenizers: The current process just got forked, after parallelism has already been used. Disabling parallelism to avoid deadlocks...\n",
      "To disable this warning, you can either:\n",
      "\t- Avoid using `tokenizers` before the fork if possible\n",
      "\t- Explicitly set the environment variable TOKENIZERS_PARALLELISM=(true | false)\n"
     ]
    },
    {
     "name": "stderr",
     "output_type": "stream",
     "text": [
      "/Users/rdubey/miniconda3/envs/deep-learning/lib/python3.9/site-packages/joblib/externals/loky/process_executor.py:700: UserWarning: A worker stopped while some jobs were given to the executor. This can be caused by a too short worker timeout or by a memory leak.\n",
      "  warnings.warn(\n"
     ]
    },
    {
     "name": "stdout",
     "output_type": "stream",
     "text": [
      "huggingface/tokenizers: The current process just got forked, after parallelism has already been used. Disabling parallelism to avoid deadlocks...\n",
      "To disable this warning, you can either:\n",
      "\t- Avoid using `tokenizers` before the fork if possible\n",
      "\t- Explicitly set the environment variable TOKENIZERS_PARALLELISM=(true | false)\n"
     ]
    },
    {
     "name": "stderr",
     "output_type": "stream",
     "text": [
      "/Users/rdubey/miniconda3/envs/deep-learning/lib/python3.9/site-packages/joblib/externals/loky/process_executor.py:700: UserWarning: A worker stopped while some jobs were given to the executor. This can be caused by a too short worker timeout or by a memory leak.\n",
      "  warnings.warn(\n"
     ]
    },
    {
     "name": "stdout",
     "output_type": "stream",
     "text": [
      "huggingface/tokenizers: The current process just got forked, after parallelism has already been used. Disabling parallelism to avoid deadlocks...\n",
      "To disable this warning, you can either:\n",
      "\t- Avoid using `tokenizers` before the fork if possible\n",
      "\t- Explicitly set the environment variable TOKENIZERS_PARALLELISM=(true | false)\n"
     ]
    },
    {
     "name": "stderr",
     "output_type": "stream",
     "text": [
      "/Users/rdubey/miniconda3/envs/deep-learning/lib/python3.9/site-packages/joblib/externals/loky/process_executor.py:700: UserWarning: A worker stopped while some jobs were given to the executor. This can be caused by a too short worker timeout or by a memory leak.\n",
      "  warnings.warn(\n"
     ]
    },
    {
     "name": "stdout",
     "output_type": "stream",
     "text": [
      "huggingface/tokenizers: The current process just got forked, after parallelism has already been used. Disabling parallelism to avoid deadlocks...\n",
      "To disable this warning, you can either:\n",
      "\t- Avoid using `tokenizers` before the fork if possible\n",
      "\t- Explicitly set the environment variable TOKENIZERS_PARALLELISM=(true | false)\n"
     ]
    },
    {
     "name": "stderr",
     "output_type": "stream",
     "text": [
      "/Users/rdubey/miniconda3/envs/deep-learning/lib/python3.9/site-packages/joblib/externals/loky/process_executor.py:700: UserWarning: A worker stopped while some jobs were given to the executor. This can be caused by a too short worker timeout or by a memory leak.\n",
      "  warnings.warn(\n"
     ]
    },
    {
     "name": "stdout",
     "output_type": "stream",
     "text": [
      "huggingface/tokenizers: The current process just got forked, after parallelism has already been used. Disabling parallelism to avoid deadlocks...\n",
      "To disable this warning, you can either:\n",
      "\t- Avoid using `tokenizers` before the fork if possible\n",
      "\t- Explicitly set the environment variable TOKENIZERS_PARALLELISM=(true | false)\n"
     ]
    },
    {
     "name": "stderr",
     "output_type": "stream",
     "text": [
      "/Users/rdubey/miniconda3/envs/deep-learning/lib/python3.9/site-packages/joblib/externals/loky/process_executor.py:700: UserWarning: A worker stopped while some jobs were given to the executor. This can be caused by a too short worker timeout or by a memory leak.\n",
      "  warnings.warn(\n"
     ]
    },
    {
     "name": "stdout",
     "output_type": "stream",
     "text": [
      "huggingface/tokenizers: The current process just got forked, after parallelism has already been used. Disabling parallelism to avoid deadlocks...\n",
      "To disable this warning, you can either:\n",
      "\t- Avoid using `tokenizers` before the fork if possible\n",
      "\t- Explicitly set the environment variable TOKENIZERS_PARALLELISM=(true | false)\n"
     ]
    },
    {
     "name": "stderr",
     "output_type": "stream",
     "text": [
      "/Users/rdubey/miniconda3/envs/deep-learning/lib/python3.9/site-packages/joblib/externals/loky/process_executor.py:700: UserWarning: A worker stopped while some jobs were given to the executor. This can be caused by a too short worker timeout or by a memory leak.\n",
      "  warnings.warn(\n"
     ]
    },
    {
     "name": "stdout",
     "output_type": "stream",
     "text": [
      "huggingface/tokenizers: The current process just got forked, after parallelism has already been used. Disabling parallelism to avoid deadlocks...\n",
      "To disable this warning, you can either:\n",
      "\t- Avoid using `tokenizers` before the fork if possible\n",
      "\t- Explicitly set the environment variable TOKENIZERS_PARALLELISM=(true | false)\n"
     ]
    },
    {
     "name": "stderr",
     "output_type": "stream",
     "text": [
      "/Users/rdubey/miniconda3/envs/deep-learning/lib/python3.9/site-packages/joblib/externals/loky/process_executor.py:700: UserWarning: A worker stopped while some jobs were given to the executor. This can be caused by a too short worker timeout or by a memory leak.\n",
      "  warnings.warn(\n"
     ]
    },
    {
     "name": "stdout",
     "output_type": "stream",
     "text": [
      "huggingface/tokenizers: The current process just got forked, after parallelism has already been used. Disabling parallelism to avoid deadlocks...\n",
      "To disable this warning, you can either:\n",
      "\t- Avoid using `tokenizers` before the fork if possible\n",
      "\t- Explicitly set the environment variable TOKENIZERS_PARALLELISM=(true | false)\n"
     ]
    },
    {
     "name": "stderr",
     "output_type": "stream",
     "text": [
      "/Users/rdubey/miniconda3/envs/deep-learning/lib/python3.9/site-packages/joblib/externals/loky/process_executor.py:700: UserWarning: A worker stopped while some jobs were given to the executor. This can be caused by a too short worker timeout or by a memory leak.\n",
      "  warnings.warn(\n"
     ]
    },
    {
     "name": "stdout",
     "output_type": "stream",
     "text": [
      "huggingface/tokenizers: The current process just got forked, after parallelism has already been used. Disabling parallelism to avoid deadlocks...\n",
      "To disable this warning, you can either:\n",
      "\t- Avoid using `tokenizers` before the fork if possible\n",
      "\t- Explicitly set the environment variable TOKENIZERS_PARALLELISM=(true | false)\n",
      "huggingface/tokenizers: The current process just got forked, after parallelism has already been used. Disabling parallelism to avoid deadlocks...\n",
      "To disable this warning, you can either:\n",
      "\t- Avoid using `tokenizers` before the fork if possible\n",
      "\t- Explicitly set the environment variable TOKENIZERS_PARALLELISM=(true | false)\n"
     ]
    },
    {
     "name": "stderr",
     "output_type": "stream",
     "text": [
      "/Users/rdubey/miniconda3/envs/deep-learning/lib/python3.9/site-packages/joblib/externals/loky/process_executor.py:700: UserWarning: A worker stopped while some jobs were given to the executor. This can be caused by a too short worker timeout or by a memory leak.\n",
      "  warnings.warn(\n"
     ]
    },
    {
     "name": "stdout",
     "output_type": "stream",
     "text": [
      "huggingface/tokenizers: The current process just got forked, after parallelism has already been used. Disabling parallelism to avoid deadlocks...\n",
      "To disable this warning, you can either:\n",
      "\t- Avoid using `tokenizers` before the fork if possible\n",
      "\t- Explicitly set the environment variable TOKENIZERS_PARALLELISM=(true | false)\n"
     ]
    },
    {
     "name": "stderr",
     "output_type": "stream",
     "text": [
      "/Users/rdubey/miniconda3/envs/deep-learning/lib/python3.9/site-packages/joblib/externals/loky/process_executor.py:700: UserWarning: A worker stopped while some jobs were given to the executor. This can be caused by a too short worker timeout or by a memory leak.\n",
      "  warnings.warn(\n"
     ]
    },
    {
     "name": "stdout",
     "output_type": "stream",
     "text": [
      "huggingface/tokenizers: The current process just got forked, after parallelism has already been used. Disabling parallelism to avoid deadlocks...\n",
      "To disable this warning, you can either:\n",
      "\t- Avoid using `tokenizers` before the fork if possible\n",
      "\t- Explicitly set the environment variable TOKENIZERS_PARALLELISM=(true | false)\n"
     ]
    },
    {
     "name": "stderr",
     "output_type": "stream",
     "text": [
      "/Users/rdubey/miniconda3/envs/deep-learning/lib/python3.9/site-packages/joblib/externals/loky/process_executor.py:700: UserWarning: A worker stopped while some jobs were given to the executor. This can be caused by a too short worker timeout or by a memory leak.\n",
      "  warnings.warn(\n"
     ]
    },
    {
     "name": "stdout",
     "output_type": "stream",
     "text": [
      "huggingface/tokenizers: The current process just got forked, after parallelism has already been used. Disabling parallelism to avoid deadlocks...\n",
      "To disable this warning, you can either:\n",
      "\t- Avoid using `tokenizers` before the fork if possible\n",
      "\t- Explicitly set the environment variable TOKENIZERS_PARALLELISM=(true | false)\n"
     ]
    },
    {
     "name": "stderr",
     "output_type": "stream",
     "text": [
      "/Users/rdubey/miniconda3/envs/deep-learning/lib/python3.9/site-packages/joblib/externals/loky/process_executor.py:700: UserWarning: A worker stopped while some jobs were given to the executor. This can be caused by a too short worker timeout or by a memory leak.\n",
      "  warnings.warn(\n"
     ]
    },
    {
     "name": "stdout",
     "output_type": "stream",
     "text": [
      "huggingface/tokenizers: The current process just got forked, after parallelism has already been used. Disabling parallelism to avoid deadlocks...\n",
      "To disable this warning, you can either:\n",
      "\t- Avoid using `tokenizers` before the fork if possible\n",
      "\t- Explicitly set the environment variable TOKENIZERS_PARALLELISM=(true | false)\n",
      "CPU times: user 47.7 s, sys: 2min 35s, total: 3min 23s\n",
      "Wall time: 56min 15s\n"
     ]
    }
   ],
   "source": [
    "%%time\n",
    "from joblib import Parallel, delayed\n",
    "import multiprocessing\n",
    "# https://stackoverflow.com/questions/26187759/parallelize-apply-after-pandas-groupby\n",
    "def applyParallel(dfGrouped, func):\n",
    "    retLst = Parallel(n_jobs=multiprocessing.cpu_count())(delayed(func)(name, group) for name, group in dfGrouped)\n",
    "    return pd.concat(retLst)\n",
    "from multiprocessing import Pool, cpu_count\n",
    "\n",
    "# def applyParallel(dfGrouped, func):\n",
    "#     with Pool(cpu_count()) as p:\n",
    "#         ret_list = p.map(func, [group for name, group in dfGrouped])\n",
    "#     return pandas.concat(ret_list)\n",
    "groups = df_sample.groupby('query_id')\n",
    "result_df = applyParallel(groups, embed_query_products)"
   ]
  },
  {
   "cell_type": "code",
   "execution_count": 40,
   "id": "68084165",
   "metadata": {},
   "outputs": [
    {
     "data": {
      "text/html": [
       "<div>\n",
       "<style scoped>\n",
       "    .dataframe tbody tr th:only-of-type {\n",
       "        vertical-align: middle;\n",
       "    }\n",
       "\n",
       "    .dataframe tbody tr th {\n",
       "        vertical-align: top;\n",
       "    }\n",
       "\n",
       "    .dataframe thead th {\n",
       "        text-align: right;\n",
       "    }\n",
       "</style>\n",
       "<table border=\"1\" class=\"dataframe\">\n",
       "  <thead>\n",
       "    <tr style=\"text-align: right;\">\n",
       "      <th></th>\n",
       "      <th>query_id</th>\n",
       "      <th>product_id</th>\n",
       "      <th>scores</th>\n",
       "    </tr>\n",
       "  </thead>\n",
       "  <tbody>\n",
       "    <tr>\n",
       "      <th>32</th>\n",
       "      <td>2</td>\n",
       "      <td>B07D7TBSGH</td>\n",
       "      <td>0.227922</td>\n",
       "    </tr>\n",
       "    <tr>\n",
       "      <th>33</th>\n",
       "      <td>2</td>\n",
       "      <td>B07DHT2WZK</td>\n",
       "      <td>0.382355</td>\n",
       "    </tr>\n",
       "    <tr>\n",
       "      <th>34</th>\n",
       "      <td>2</td>\n",
       "      <td>B07DHX8YH2</td>\n",
       "      <td>0.411532</td>\n",
       "    </tr>\n",
       "    <tr>\n",
       "      <th>35</th>\n",
       "      <td>2</td>\n",
       "      <td>B07DS1YCRZ</td>\n",
       "      <td>0.429586</td>\n",
       "    </tr>\n",
       "    <tr>\n",
       "      <th>36</th>\n",
       "      <td>2</td>\n",
       "      <td>B07DS3J3MB</td>\n",
       "      <td>0.431270</td>\n",
       "    </tr>\n",
       "  </tbody>\n",
       "</table>\n",
       "</div>"
      ],
      "text/plain": [
       "    query_id  product_id    scores\n",
       "32         2  B07D7TBSGH  0.227922\n",
       "33         2  B07DHT2WZK  0.382355\n",
       "34         2  B07DHX8YH2  0.411532\n",
       "35         2  B07DS1YCRZ  0.429586\n",
       "36         2  B07DS3J3MB  0.431270"
      ]
     },
     "execution_count": 40,
     "metadata": {},
     "output_type": "execute_result"
    }
   ],
   "source": [
    "result_df.head()"
   ]
  },
  {
   "cell_type": "code",
   "execution_count": null,
   "id": "64aaf16e",
   "metadata": {},
   "outputs": [],
   "source": []
  },
  {
   "cell_type": "code",
   "execution_count": 42,
   "id": "5fb043c7",
   "metadata": {},
   "outputs": [
    {
     "data": {
      "text/html": [
       "<div>\n",
       "<style scoped>\n",
       "    .dataframe tbody tr th:only-of-type {\n",
       "        vertical-align: middle;\n",
       "    }\n",
       "\n",
       "    .dataframe tbody tr th {\n",
       "        vertical-align: top;\n",
       "    }\n",
       "\n",
       "    .dataframe thead th {\n",
       "        text-align: right;\n",
       "    }\n",
       "</style>\n",
       "<table border=\"1\" class=\"dataframe\">\n",
       "  <thead>\n",
       "    <tr style=\"text-align: right;\">\n",
       "      <th></th>\n",
       "      <th>query_id</th>\n",
       "      <th>product_id</th>\n",
       "      <th>scores</th>\n",
       "    </tr>\n",
       "  </thead>\n",
       "  <tbody>\n",
       "    <tr>\n",
       "      <th>218871</th>\n",
       "      <td>9990</td>\n",
       "      <td>B01LY7YTGX</td>\n",
       "      <td>0.690298</td>\n",
       "    </tr>\n",
       "    <tr>\n",
       "      <th>218884</th>\n",
       "      <td>9990</td>\n",
       "      <td>B0187P09LO</td>\n",
       "      <td>0.630629</td>\n",
       "    </tr>\n",
       "    <tr>\n",
       "      <th>218886</th>\n",
       "      <td>9990</td>\n",
       "      <td>B01872PR3C</td>\n",
       "      <td>0.625512</td>\n",
       "    </tr>\n",
       "    <tr>\n",
       "      <th>218856</th>\n",
       "      <td>9990</td>\n",
       "      <td>B01M1R695U</td>\n",
       "      <td>0.625484</td>\n",
       "    </tr>\n",
       "    <tr>\n",
       "      <th>218870</th>\n",
       "      <td>9990</td>\n",
       "      <td>B07XBPGWH6</td>\n",
       "      <td>0.610600</td>\n",
       "    </tr>\n",
       "    <tr>\n",
       "      <th>218873</th>\n",
       "      <td>9990</td>\n",
       "      <td>B01LXFSGH6</td>\n",
       "      <td>0.608016</td>\n",
       "    </tr>\n",
       "    <tr>\n",
       "      <th>218861</th>\n",
       "      <td>9990</td>\n",
       "      <td>B01M1H5CLL</td>\n",
       "      <td>0.602678</td>\n",
       "    </tr>\n",
       "    <tr>\n",
       "      <th>218875</th>\n",
       "      <td>9990</td>\n",
       "      <td>B0187P07AC</td>\n",
       "      <td>0.600610</td>\n",
       "    </tr>\n",
       "    <tr>\n",
       "      <th>218883</th>\n",
       "      <td>9990</td>\n",
       "      <td>B00CE5C41W</td>\n",
       "      <td>0.595815</td>\n",
       "    </tr>\n",
       "    <tr>\n",
       "      <th>218860</th>\n",
       "      <td>9990</td>\n",
       "      <td>B01LYJS16F</td>\n",
       "      <td>0.592405</td>\n",
       "    </tr>\n",
       "  </tbody>\n",
       "</table>\n",
       "</div>"
      ],
      "text/plain": [
       "        query_id  product_id    scores\n",
       "218871      9990  B01LY7YTGX  0.690298\n",
       "218884      9990  B0187P09LO  0.630629\n",
       "218886      9990  B01872PR3C  0.625512\n",
       "218856      9990  B01M1R695U  0.625484\n",
       "218870      9990  B07XBPGWH6  0.610600\n",
       "218873      9990  B01LXFSGH6  0.608016\n",
       "218861      9990  B01M1H5CLL  0.602678\n",
       "218875      9990  B0187P07AC  0.600610\n",
       "218883      9990  B00CE5C41W  0.595815\n",
       "218860      9990  B01LYJS16F  0.592405"
      ]
     },
     "execution_count": 42,
     "metadata": {},
     "output_type": "execute_result"
    }
   ],
   "source": [
    "df_hypothesis = result_df.sort_values(by=[col_query_id, col_scores], ascending=False)\n",
    "df_hypothesis.head(10)"
   ]
  },
  {
   "cell_type": "code",
   "execution_count": 43,
   "id": "c8f744a2",
   "metadata": {},
   "outputs": [],
   "source": [
    "\"\"\" 4. Prepare hypothesis file \"\"\"\n",
    "HYPOTHESIS_TASK1_PATH=\"./hypothesis\"\n",
    "HYPOTHESIS_PATH_FILE=f\"{HYPOTHESIS_TASK1_PATH}/task_1_ranking_model_baseline_triplet_product_cosine_{locale}.csv\""
   ]
  },
  {
   "cell_type": "code",
   "execution_count": 44,
   "id": "001e58da",
   "metadata": {},
   "outputs": [],
   "source": [
    "# df_hypothesis = pd.DataFrame({\n",
    "#     col_query_id : df_examples_products[col_query_id].to_list(),\n",
    "#     col_product_id : df_examples_products[col_product_id].to_list(),\n",
    "#     col_scores : scores,\n",
    "# })\n",
    "df_hypothesis[[col_query_id, col_product_id]].to_csv(\n",
    "    HYPOTHESIS_PATH_FILE,\n",
    "    index=False,\n",
    "    sep=',',\n",
    ")"
   ]
  },
  {
   "cell_type": "code",
   "execution_count": null,
   "id": "685bc3e5",
   "metadata": {},
   "outputs": [],
   "source": []
  }
 ],
 "metadata": {
  "kernelspec": {
   "display_name": "Python 3 (ipykernel)",
   "language": "python",
   "name": "python3"
  },
  "language_info": {
   "codemirror_mode": {
    "name": "ipython",
    "version": 3
   },
   "file_extension": ".py",
   "mimetype": "text/x-python",
   "name": "python",
   "nbconvert_exporter": "python",
   "pygments_lexer": "ipython3",
   "version": "3.9.15"
  }
 },
 "nbformat": 4,
 "nbformat_minor": 5
}
