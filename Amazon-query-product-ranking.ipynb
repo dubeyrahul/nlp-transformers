{
 "cells": [
  {
   "cell_type": "code",
   "execution_count": 1,
   "id": "39de2887",
   "metadata": {},
   "outputs": [
    {
     "name": "stdout",
     "output_type": "stream",
     "text": [
      "product_catalogue-v0.3.csv        test_public-v0.3.csv\r\n",
      "sample_submission_public-v0.3.csv train-v0.3.csv\r\n"
     ]
    }
   ],
   "source": [
    "!ls ../data/task_1_query_product_ranking/"
   ]
  },
  {
   "cell_type": "code",
   "execution_count": 39,
   "id": "64ed475b",
   "metadata": {},
   "outputs": [],
   "source": [
    "%load_ext autoreload\n",
    "%autoreload 2"
   ]
  },
  {
   "cell_type": "code",
   "execution_count": 3,
   "id": "ff69d676",
   "metadata": {},
   "outputs": [
    {
     "data": {
      "text/plain": [
       "'/Users/rdubey/mysrc/random-stuff/nlp-transformers'"
      ]
     },
     "execution_count": 3,
     "metadata": {},
     "output_type": "execute_result"
    }
   ],
   "source": [
    "import os\n",
    "os.getcwd()"
   ]
  },
  {
   "cell_type": "code",
   "execution_count": 40,
   "id": "923ed5d2",
   "metadata": {},
   "outputs": [
    {
     "data": {
      "text/plain": [
       "(781744, 48696, 48696, 883868)"
      ]
     },
     "execution_count": 40,
     "metadata": {},
     "output_type": "execute_result"
    }
   ],
   "source": [
    "import pandas as pd\n",
    "dir = '/Users/rdubey/mysrc/random-stuff/data/task_1_query_product_ranking/'\n",
    "train = pd.read_csv(dir+'train-v0.3.csv')\n",
    "test = pd.read_csv(dir+'test_public-v0.3.csv')\n",
    "submission = pd.read_csv(dir+'sample_submission_public-v0.3.csv')\n",
    "product = pd.read_csv(dir+'product_catalogue-v0.3.csv')\n",
    "len(train), len(test), len(submission), len(product)"
   ]
  },
  {
   "cell_type": "code",
   "execution_count": 24,
   "id": "b34a955b",
   "metadata": {},
   "outputs": [
    {
     "data": {
      "text/plain": [
       "(419730, 26791, 26791)"
      ]
     },
     "execution_count": 24,
     "metadata": {},
     "output_type": "execute_result"
    }
   ],
   "source": [
    "# filter for US\n",
    "train = train[train.query_locale == 'us']\n",
    "test = test[test.query_locale == 'us']\n",
    "US_query_ids = set(train.query_id.tolist() + test.query_id.tolist())\n",
    "submission = submission[submission.query_id.isin(US_query_ids)]\n",
    "len(train), len(test), len(submission)"
   ]
  },
  {
   "cell_type": "code",
   "execution_count": 25,
   "id": "e4176d46",
   "metadata": {},
   "outputs": [
    {
     "data": {
      "text/html": [
       "<div>\n",
       "<style scoped>\n",
       "    .dataframe tbody tr th:only-of-type {\n",
       "        vertical-align: middle;\n",
       "    }\n",
       "\n",
       "    .dataframe tbody tr th {\n",
       "        vertical-align: top;\n",
       "    }\n",
       "\n",
       "    .dataframe thead th {\n",
       "        text-align: right;\n",
       "    }\n",
       "</style>\n",
       "<table border=\"1\" class=\"dataframe\">\n",
       "  <thead>\n",
       "    <tr style=\"text-align: right;\">\n",
       "      <th></th>\n",
       "      <th>query_id</th>\n",
       "      <th>query</th>\n",
       "      <th>query_locale</th>\n",
       "      <th>product_id</th>\n",
       "      <th>esci_label</th>\n",
       "    </tr>\n",
       "  </thead>\n",
       "  <tbody>\n",
       "    <tr>\n",
       "      <th>0</th>\n",
       "      <td>0</td>\n",
       "      <td># 2 pencils not sharpened</td>\n",
       "      <td>us</td>\n",
       "      <td>B0000AQO0O</td>\n",
       "      <td>exact</td>\n",
       "    </tr>\n",
       "    <tr>\n",
       "      <th>1</th>\n",
       "      <td>0</td>\n",
       "      <td># 2 pencils not sharpened</td>\n",
       "      <td>us</td>\n",
       "      <td>B0002LCZV4</td>\n",
       "      <td>exact</td>\n",
       "    </tr>\n",
       "    <tr>\n",
       "      <th>2</th>\n",
       "      <td>0</td>\n",
       "      <td># 2 pencils not sharpened</td>\n",
       "      <td>us</td>\n",
       "      <td>B00125Q75Y</td>\n",
       "      <td>exact</td>\n",
       "    </tr>\n",
       "    <tr>\n",
       "      <th>3</th>\n",
       "      <td>0</td>\n",
       "      <td># 2 pencils not sharpened</td>\n",
       "      <td>us</td>\n",
       "      <td>B001AZ1D3C</td>\n",
       "      <td>exact</td>\n",
       "    </tr>\n",
       "    <tr>\n",
       "      <th>4</th>\n",
       "      <td>0</td>\n",
       "      <td># 2 pencils not sharpened</td>\n",
       "      <td>us</td>\n",
       "      <td>B001B097KC</td>\n",
       "      <td>exact</td>\n",
       "    </tr>\n",
       "  </tbody>\n",
       "</table>\n",
       "</div>"
      ],
      "text/plain": [
       "   query_id                      query query_locale  product_id esci_label\n",
       "0         0  # 2 pencils not sharpened           us  B0000AQO0O      exact\n",
       "1         0  # 2 pencils not sharpened           us  B0002LCZV4      exact\n",
       "2         0  # 2 pencils not sharpened           us  B00125Q75Y      exact\n",
       "3         0  # 2 pencils not sharpened           us  B001AZ1D3C      exact\n",
       "4         0  # 2 pencils not sharpened           us  B001B097KC      exact"
      ]
     },
     "execution_count": 25,
     "metadata": {},
     "output_type": "execute_result"
    }
   ],
   "source": [
    "train.head()"
   ]
  },
  {
   "cell_type": "code",
   "execution_count": 26,
   "id": "a528ca6d",
   "metadata": {},
   "outputs": [
    {
     "data": {
      "text/html": [
       "<div>\n",
       "<style scoped>\n",
       "    .dataframe tbody tr th:only-of-type {\n",
       "        vertical-align: middle;\n",
       "    }\n",
       "\n",
       "    .dataframe tbody tr th {\n",
       "        vertical-align: top;\n",
       "    }\n",
       "\n",
       "    .dataframe thead th {\n",
       "        text-align: right;\n",
       "    }\n",
       "</style>\n",
       "<table border=\"1\" class=\"dataframe\">\n",
       "  <thead>\n",
       "    <tr style=\"text-align: right;\">\n",
       "      <th></th>\n",
       "      <th>query_id</th>\n",
       "      <th>query</th>\n",
       "      <th>query_locale</th>\n",
       "      <th>product_id</th>\n",
       "    </tr>\n",
       "  </thead>\n",
       "  <tbody>\n",
       "    <tr>\n",
       "      <th>0</th>\n",
       "      <td>33779</td>\n",
       "      <td>#10 envelopes without security tint</td>\n",
       "      <td>us</td>\n",
       "      <td>B000DT87J4</td>\n",
       "    </tr>\n",
       "    <tr>\n",
       "      <th>1</th>\n",
       "      <td>33779</td>\n",
       "      <td>#10 envelopes without security tint</td>\n",
       "      <td>us</td>\n",
       "      <td>B000T9MP5U</td>\n",
       "    </tr>\n",
       "    <tr>\n",
       "      <th>2</th>\n",
       "      <td>33779</td>\n",
       "      <td>#10 envelopes without security tint</td>\n",
       "      <td>us</td>\n",
       "      <td>B0012ND8EY</td>\n",
       "    </tr>\n",
       "    <tr>\n",
       "      <th>3</th>\n",
       "      <td>33779</td>\n",
       "      <td>#10 envelopes without security tint</td>\n",
       "      <td>us</td>\n",
       "      <td>B001MBK5UG</td>\n",
       "    </tr>\n",
       "    <tr>\n",
       "      <th>4</th>\n",
       "      <td>33779</td>\n",
       "      <td>#10 envelopes without security tint</td>\n",
       "      <td>us</td>\n",
       "      <td>B007YX2KB8</td>\n",
       "    </tr>\n",
       "  </tbody>\n",
       "</table>\n",
       "</div>"
      ],
      "text/plain": [
       "   query_id                                query query_locale  product_id\n",
       "0     33779  #10 envelopes without security tint           us  B000DT87J4\n",
       "1     33779  #10 envelopes without security tint           us  B000T9MP5U\n",
       "2     33779  #10 envelopes without security tint           us  B0012ND8EY\n",
       "3     33779  #10 envelopes without security tint           us  B001MBK5UG\n",
       "4     33779  #10 envelopes without security tint           us  B007YX2KB8"
      ]
     },
     "execution_count": 26,
     "metadata": {},
     "output_type": "execute_result"
    }
   ],
   "source": [
    "test.head()"
   ]
  },
  {
   "cell_type": "code",
   "execution_count": 27,
   "id": "2ce913d0",
   "metadata": {},
   "outputs": [
    {
     "data": {
      "text/html": [
       "<div>\n",
       "<style scoped>\n",
       "    .dataframe tbody tr th:only-of-type {\n",
       "        vertical-align: middle;\n",
       "    }\n",
       "\n",
       "    .dataframe tbody tr th {\n",
       "        vertical-align: top;\n",
       "    }\n",
       "\n",
       "    .dataframe thead th {\n",
       "        text-align: right;\n",
       "    }\n",
       "</style>\n",
       "<table border=\"1\" class=\"dataframe\">\n",
       "  <thead>\n",
       "    <tr style=\"text-align: right;\">\n",
       "      <th></th>\n",
       "      <th>query_id</th>\n",
       "      <th>product_id</th>\n",
       "    </tr>\n",
       "  </thead>\n",
       "  <tbody>\n",
       "    <tr>\n",
       "      <th>448</th>\n",
       "      <td>33779</td>\n",
       "      <td>B07R4TGNCF</td>\n",
       "    </tr>\n",
       "    <tr>\n",
       "      <th>449</th>\n",
       "      <td>33779</td>\n",
       "      <td>B08Y8VX63W</td>\n",
       "    </tr>\n",
       "    <tr>\n",
       "      <th>450</th>\n",
       "      <td>33779</td>\n",
       "      <td>B01FWMM738</td>\n",
       "    </tr>\n",
       "    <tr>\n",
       "      <th>451</th>\n",
       "      <td>33779</td>\n",
       "      <td>B07GJCSF8Z</td>\n",
       "    </tr>\n",
       "    <tr>\n",
       "      <th>452</th>\n",
       "      <td>33779</td>\n",
       "      <td>B085WJMWC9</td>\n",
       "    </tr>\n",
       "  </tbody>\n",
       "</table>\n",
       "</div>"
      ],
      "text/plain": [
       "     query_id  product_id\n",
       "448     33779  B07R4TGNCF\n",
       "449     33779  B08Y8VX63W\n",
       "450     33779  B01FWMM738\n",
       "451     33779  B07GJCSF8Z\n",
       "452     33779  B085WJMWC9"
      ]
     },
     "execution_count": 27,
     "metadata": {},
     "output_type": "execute_result"
    }
   ],
   "source": [
    "submission.head()"
   ]
  },
  {
   "cell_type": "code",
   "execution_count": 41,
   "id": "a167f063",
   "metadata": {},
   "outputs": [
    {
     "data": {
      "text/html": [
       "<div>\n",
       "<style scoped>\n",
       "    .dataframe tbody tr th:only-of-type {\n",
       "        vertical-align: middle;\n",
       "    }\n",
       "\n",
       "    .dataframe tbody tr th {\n",
       "        vertical-align: top;\n",
       "    }\n",
       "\n",
       "    .dataframe thead th {\n",
       "        text-align: right;\n",
       "    }\n",
       "</style>\n",
       "<table border=\"1\" class=\"dataframe\">\n",
       "  <thead>\n",
       "    <tr style=\"text-align: right;\">\n",
       "      <th></th>\n",
       "      <th>product_id</th>\n",
       "      <th>product_title</th>\n",
       "      <th>product_description</th>\n",
       "      <th>product_bullet_point</th>\n",
       "      <th>product_brand</th>\n",
       "      <th>product_color_name</th>\n",
       "      <th>product_locale</th>\n",
       "    </tr>\n",
       "  </thead>\n",
       "  <tbody>\n",
       "    <tr>\n",
       "      <th>0</th>\n",
       "      <td>B0188A3QRM</td>\n",
       "      <td>Amazon Basics Woodcased #2 Pencils, Unsharpene...</td>\n",
       "      <td>NaN</td>\n",
       "      <td>144 woodcase #2 HB pencils made from high-qual...</td>\n",
       "      <td>Amazon Basics</td>\n",
       "      <td>Yellow</td>\n",
       "      <td>us</td>\n",
       "    </tr>\n",
       "    <tr>\n",
       "      <th>1</th>\n",
       "      <td>B075VXJ9VG</td>\n",
       "      <td>BAZIC Pencil #2 HB Pencils, Latex Free Eraser,...</td>\n",
       "      <td>&lt;p&gt;&lt;strong&gt;BACK TO BAZIC&lt;/strong&gt;&lt;/p&gt;&lt;p&gt;Our go...</td>\n",
       "      <td>&amp;#11088; UN-SHARPENED #2 PREMIUM PENCILS. Each...</td>\n",
       "      <td>BAZIC Products</td>\n",
       "      <td>12-count</td>\n",
       "      <td>us</td>\n",
       "    </tr>\n",
       "    <tr>\n",
       "      <th>2</th>\n",
       "      <td>B07G7F6JZ6</td>\n",
       "      <td>Emraw Pre Sharpened Round Primary Size No 2 Ju...</td>\n",
       "      <td>&lt;p&gt;&lt;b&gt;Emraw Pre-Sharpened #2 HB Wood Pencils -...</td>\n",
       "      <td>✓ PACK OF 8 NUMBER 2 PRESHARPENED BEGINNERS PE...</td>\n",
       "      <td>Emraw</td>\n",
       "      <td>Yellow</td>\n",
       "      <td>us</td>\n",
       "    </tr>\n",
       "    <tr>\n",
       "      <th>3</th>\n",
       "      <td>B07JZJLHCF</td>\n",
       "      <td>Emraw Pre Sharpened Triangular Primary Size No...</td>\n",
       "      <td>&lt;p&gt;&lt;b&gt;Emraw Pre-Sharpened #2 HB Wood Pencils -...</td>\n",
       "      <td>✓ PACK OF 6 NUMBER 2 PRESHARPENED BEGINNERS PE...</td>\n",
       "      <td>Emraw</td>\n",
       "      <td>Yellow</td>\n",
       "      <td>us</td>\n",
       "    </tr>\n",
       "    <tr>\n",
       "      <th>4</th>\n",
       "      <td>B07MGKC3DD</td>\n",
       "      <td>BIC Evolution Cased Pencil, #2 Lead, Gray Barr...</td>\n",
       "      <td>NaN</td>\n",
       "      <td>Premium #2 HB lead pencils with break-resistan...</td>\n",
       "      <td>Design House</td>\n",
       "      <td>Gray</td>\n",
       "      <td>us</td>\n",
       "    </tr>\n",
       "  </tbody>\n",
       "</table>\n",
       "</div>"
      ],
      "text/plain": [
       "   product_id                                      product_title  \\\n",
       "0  B0188A3QRM  Amazon Basics Woodcased #2 Pencils, Unsharpene...   \n",
       "1  B075VXJ9VG  BAZIC Pencil #2 HB Pencils, Latex Free Eraser,...   \n",
       "2  B07G7F6JZ6  Emraw Pre Sharpened Round Primary Size No 2 Ju...   \n",
       "3  B07JZJLHCF  Emraw Pre Sharpened Triangular Primary Size No...   \n",
       "4  B07MGKC3DD  BIC Evolution Cased Pencil, #2 Lead, Gray Barr...   \n",
       "\n",
       "                                 product_description  \\\n",
       "0                                                NaN   \n",
       "1  <p><strong>BACK TO BAZIC</strong></p><p>Our go...   \n",
       "2  <p><b>Emraw Pre-Sharpened #2 HB Wood Pencils -...   \n",
       "3  <p><b>Emraw Pre-Sharpened #2 HB Wood Pencils -...   \n",
       "4                                                NaN   \n",
       "\n",
       "                                product_bullet_point   product_brand  \\\n",
       "0  144 woodcase #2 HB pencils made from high-qual...   Amazon Basics   \n",
       "1  &#11088; UN-SHARPENED #2 PREMIUM PENCILS. Each...  BAZIC Products   \n",
       "2  ✓ PACK OF 8 NUMBER 2 PRESHARPENED BEGINNERS PE...           Emraw   \n",
       "3  ✓ PACK OF 6 NUMBER 2 PRESHARPENED BEGINNERS PE...           Emraw   \n",
       "4  Premium #2 HB lead pencils with break-resistan...    Design House   \n",
       "\n",
       "  product_color_name product_locale  \n",
       "0             Yellow             us  \n",
       "1           12-count             us  \n",
       "2             Yellow             us  \n",
       "3             Yellow             us  \n",
       "4               Gray             us  "
      ]
     },
     "execution_count": 41,
     "metadata": {},
     "output_type": "execute_result"
    }
   ],
   "source": [
    "product.head()"
   ]
  },
  {
   "cell_type": "markdown",
   "id": "5f61d71f",
   "metadata": {},
   "source": [
    "\n",
    "    shopping_queries_dataset_examples.parquet contains the following columns : example_id, query, query_id, product_id, product_locale, esci_label, small_version, large_version, split\n",
    "    shopping_queries_dataset_products.parquet contains the following columns : product_id, product_title, product_description, product_bullet_point, product_brand, product_color, product_locale\n",
    "    shopping_queries_dataset_sources.csv contains the following columns : query_id, source\n"
   ]
  },
  {
   "cell_type": "code",
   "execution_count": 42,
   "id": "61e3f667",
   "metadata": {},
   "outputs": [],
   "source": [
    "df_product_examples =  pd.merge(\n",
    "    train,\n",
    "    product,\n",
    "    how='left',\n",
    "    left_on=['query_locale', 'product_id'],\n",
    "    right_on=['product_locale', 'product_id']\n",
    ")"
   ]
  },
  {
   "cell_type": "code",
   "execution_count": 43,
   "id": "2d534fd3",
   "metadata": {},
   "outputs": [
    {
     "data": {
      "text/html": [
       "<div>\n",
       "<style scoped>\n",
       "    .dataframe tbody tr th:only-of-type {\n",
       "        vertical-align: middle;\n",
       "    }\n",
       "\n",
       "    .dataframe tbody tr th {\n",
       "        vertical-align: top;\n",
       "    }\n",
       "\n",
       "    .dataframe thead th {\n",
       "        text-align: right;\n",
       "    }\n",
       "</style>\n",
       "<table border=\"1\" class=\"dataframe\">\n",
       "  <thead>\n",
       "    <tr style=\"text-align: right;\">\n",
       "      <th></th>\n",
       "      <th>query_id</th>\n",
       "      <th>query</th>\n",
       "      <th>query_locale</th>\n",
       "      <th>product_id</th>\n",
       "      <th>esci_label</th>\n",
       "      <th>product_title</th>\n",
       "      <th>product_description</th>\n",
       "      <th>product_bullet_point</th>\n",
       "      <th>product_brand</th>\n",
       "      <th>product_color_name</th>\n",
       "      <th>product_locale</th>\n",
       "    </tr>\n",
       "  </thead>\n",
       "  <tbody>\n",
       "    <tr>\n",
       "      <th>0</th>\n",
       "      <td>0</td>\n",
       "      <td># 2 pencils not sharpened</td>\n",
       "      <td>us</td>\n",
       "      <td>B0000AQO0O</td>\n",
       "      <td>exact</td>\n",
       "      <td>Ticonderoga Beginner Pencils, Wood-Cased #2 HB...</td>\n",
       "      <td>NaN</td>\n",
       "      <td>Round wood pencil with latex-free eraser\\nFini...</td>\n",
       "      <td>Ticonderoga</td>\n",
       "      <td>Yellow</td>\n",
       "      <td>us</td>\n",
       "    </tr>\n",
       "    <tr>\n",
       "      <th>1</th>\n",
       "      <td>0</td>\n",
       "      <td># 2 pencils not sharpened</td>\n",
       "      <td>us</td>\n",
       "      <td>B0002LCZV4</td>\n",
       "      <td>exact</td>\n",
       "      <td>TICONDEROGA Tri-Write Triangular Pencils, Stan...</td>\n",
       "      <td>NaN</td>\n",
       "      <td>Triangular shape to promote proper grip\\nExclu...</td>\n",
       "      <td>Ticonderoga</td>\n",
       "      <td>Yellow</td>\n",
       "      <td>us</td>\n",
       "    </tr>\n",
       "    <tr>\n",
       "      <th>2</th>\n",
       "      <td>0</td>\n",
       "      <td># 2 pencils not sharpened</td>\n",
       "      <td>us</td>\n",
       "      <td>B00125Q75Y</td>\n",
       "      <td>exact</td>\n",
       "      <td>TICONDEROGA Pencils, Wood-Cased, Unsharpened, ...</td>\n",
       "      <td>NaN</td>\n",
       "      <td>Exclusive #2 graphite formula provides extra s...</td>\n",
       "      <td>Ticonderoga</td>\n",
       "      <td>Yellow</td>\n",
       "      <td>us</td>\n",
       "    </tr>\n",
       "    <tr>\n",
       "      <th>3</th>\n",
       "      <td>0</td>\n",
       "      <td># 2 pencils not sharpened</td>\n",
       "      <td>us</td>\n",
       "      <td>B001AZ1D3C</td>\n",
       "      <td>exact</td>\n",
       "      <td>Ticonderoga Pencils, Wood-Cased Graphite #2 HB...</td>\n",
       "      <td>NaN</td>\n",
       "      <td>Exclusive #2 graphite formula provides extra s...</td>\n",
       "      <td>Ticonderoga</td>\n",
       "      <td>Yellow</td>\n",
       "      <td>us</td>\n",
       "    </tr>\n",
       "    <tr>\n",
       "      <th>4</th>\n",
       "      <td>0</td>\n",
       "      <td># 2 pencils not sharpened</td>\n",
       "      <td>us</td>\n",
       "      <td>B001B097KC</td>\n",
       "      <td>exact</td>\n",
       "      <td>Ticonderoga Laddie Pencils, Wood-Cased #2 HB S...</td>\n",
       "      <td>NaN</td>\n",
       "      <td>Intermediate size diameter (11/32\") creates a ...</td>\n",
       "      <td>Ticonderoga</td>\n",
       "      <td>Yellow</td>\n",
       "      <td>us</td>\n",
       "    </tr>\n",
       "  </tbody>\n",
       "</table>\n",
       "</div>"
      ],
      "text/plain": [
       "   query_id                      query query_locale  product_id esci_label  \\\n",
       "0         0  # 2 pencils not sharpened           us  B0000AQO0O      exact   \n",
       "1         0  # 2 pencils not sharpened           us  B0002LCZV4      exact   \n",
       "2         0  # 2 pencils not sharpened           us  B00125Q75Y      exact   \n",
       "3         0  # 2 pencils not sharpened           us  B001AZ1D3C      exact   \n",
       "4         0  # 2 pencils not sharpened           us  B001B097KC      exact   \n",
       "\n",
       "                                       product_title product_description  \\\n",
       "0  Ticonderoga Beginner Pencils, Wood-Cased #2 HB...                 NaN   \n",
       "1  TICONDEROGA Tri-Write Triangular Pencils, Stan...                 NaN   \n",
       "2  TICONDEROGA Pencils, Wood-Cased, Unsharpened, ...                 NaN   \n",
       "3  Ticonderoga Pencils, Wood-Cased Graphite #2 HB...                 NaN   \n",
       "4  Ticonderoga Laddie Pencils, Wood-Cased #2 HB S...                 NaN   \n",
       "\n",
       "                                product_bullet_point product_brand  \\\n",
       "0  Round wood pencil with latex-free eraser\\nFini...   Ticonderoga   \n",
       "1  Triangular shape to promote proper grip\\nExclu...   Ticonderoga   \n",
       "2  Exclusive #2 graphite formula provides extra s...   Ticonderoga   \n",
       "3  Exclusive #2 graphite formula provides extra s...   Ticonderoga   \n",
       "4  Intermediate size diameter (11/32\") creates a ...   Ticonderoga   \n",
       "\n",
       "  product_color_name product_locale  \n",
       "0             Yellow             us  \n",
       "1             Yellow             us  \n",
       "2             Yellow             us  \n",
       "3             Yellow             us  \n",
       "4             Yellow             us  "
      ]
     },
     "execution_count": 43,
     "metadata": {},
     "output_type": "execute_result"
    }
   ],
   "source": [
    "df_product_examples.head()"
   ]
  },
  {
   "cell_type": "code",
   "execution_count": 35,
   "id": "e9fbae34",
   "metadata": {},
   "outputs": [],
   "source": [
    "retrieval_counts = train.groupby('query_id').agg(num_items=('product_id', 'count'))"
   ]
  },
  {
   "cell_type": "code",
   "execution_count": 36,
   "id": "262e2c3a",
   "metadata": {},
   "outputs": [
    {
     "data": {
      "text/plain": [
       "16     12069\n",
       "40      3414\n",
       "39       537\n",
       "15       449\n",
       "14       216\n",
       "       ...  \n",
       "87         1\n",
       "94         1\n",
       "188        1\n",
       "65         1\n",
       "83         1\n",
       "Name: num_items, Length: 69, dtype: int64"
      ]
     },
     "execution_count": 36,
     "metadata": {},
     "output_type": "execute_result"
    }
   ],
   "source": [
    "retrieval_counts.num_items.value_counts()"
   ]
  },
  {
   "cell_type": "code",
   "execution_count": 37,
   "id": "67a57cbb",
   "metadata": {},
   "outputs": [
    {
     "data": {
      "text/plain": [
       "count    18849.000000\n",
       "mean        22.268025\n",
       "std         10.763524\n",
       "min          8.000000\n",
       "25%         16.000000\n",
       "50%         16.000000\n",
       "75%         34.000000\n",
       "max        188.000000\n",
       "Name: num_items, dtype: float64"
      ]
     },
     "execution_count": 37,
     "metadata": {},
     "output_type": "execute_result"
    }
   ],
   "source": [
    "retrieval_counts.num_items.describe()"
   ]
  },
  {
   "cell_type": "code",
   "execution_count": 12,
   "id": "cf0cf3be",
   "metadata": {},
   "outputs": [
    {
     "data": {
      "text/plain": [
       "exact         341170\n",
       "substitute    267963\n",
       "irrelevant    132057\n",
       "complement     40554\n",
       "Name: esci_label, dtype: int64"
      ]
     },
     "execution_count": 12,
     "metadata": {},
     "output_type": "execute_result"
    }
   ],
   "source": [
    "train.esci_label.value_counts()"
   ]
  },
  {
   "cell_type": "code",
   "execution_count": 13,
   "id": "7bbed4e1",
   "metadata": {},
   "outputs": [
    {
     "data": {
      "text/plain": [
       "781744"
      ]
     },
     "execution_count": 13,
     "metadata": {},
     "output_type": "execute_result"
    }
   ],
   "source": [
    "len(train)"
   ]
  },
  {
   "cell_type": "code",
   "execution_count": 38,
   "id": "8ba52b23",
   "metadata": {},
   "outputs": [
    {
     "data": {
      "text/html": [
       "<div>\n",
       "<style scoped>\n",
       "    .dataframe tbody tr th:only-of-type {\n",
       "        vertical-align: middle;\n",
       "    }\n",
       "\n",
       "    .dataframe tbody tr th {\n",
       "        vertical-align: top;\n",
       "    }\n",
       "\n",
       "    .dataframe thead th {\n",
       "        text-align: right;\n",
       "    }\n",
       "</style>\n",
       "<table border=\"1\" class=\"dataframe\">\n",
       "  <thead>\n",
       "    <tr style=\"text-align: right;\">\n",
       "      <th></th>\n",
       "      <th>query_id</th>\n",
       "      <th>query</th>\n",
       "      <th>query_locale</th>\n",
       "      <th>product_id</th>\n",
       "      <th>esci_label</th>\n",
       "    </tr>\n",
       "  </thead>\n",
       "  <tbody>\n",
       "    <tr>\n",
       "      <th>0</th>\n",
       "      <td>0</td>\n",
       "      <td># 2 pencils not sharpened</td>\n",
       "      <td>us</td>\n",
       "      <td>B0000AQO0O</td>\n",
       "      <td>exact</td>\n",
       "    </tr>\n",
       "    <tr>\n",
       "      <th>1</th>\n",
       "      <td>0</td>\n",
       "      <td># 2 pencils not sharpened</td>\n",
       "      <td>us</td>\n",
       "      <td>B0002LCZV4</td>\n",
       "      <td>exact</td>\n",
       "    </tr>\n",
       "    <tr>\n",
       "      <th>2</th>\n",
       "      <td>0</td>\n",
       "      <td># 2 pencils not sharpened</td>\n",
       "      <td>us</td>\n",
       "      <td>B00125Q75Y</td>\n",
       "      <td>exact</td>\n",
       "    </tr>\n",
       "    <tr>\n",
       "      <th>3</th>\n",
       "      <td>0</td>\n",
       "      <td># 2 pencils not sharpened</td>\n",
       "      <td>us</td>\n",
       "      <td>B001AZ1D3C</td>\n",
       "      <td>exact</td>\n",
       "    </tr>\n",
       "    <tr>\n",
       "      <th>4</th>\n",
       "      <td>0</td>\n",
       "      <td># 2 pencils not sharpened</td>\n",
       "      <td>us</td>\n",
       "      <td>B001B097KC</td>\n",
       "      <td>exact</td>\n",
       "    </tr>\n",
       "    <tr>\n",
       "      <th>5</th>\n",
       "      <td>0</td>\n",
       "      <td># 2 pencils not sharpened</td>\n",
       "      <td>us</td>\n",
       "      <td>B003JFL1WY</td>\n",
       "      <td>exact</td>\n",
       "    </tr>\n",
       "    <tr>\n",
       "      <th>6</th>\n",
       "      <td>0</td>\n",
       "      <td># 2 pencils not sharpened</td>\n",
       "      <td>us</td>\n",
       "      <td>B004X4KRPM</td>\n",
       "      <td>substitute</td>\n",
       "    </tr>\n",
       "    <tr>\n",
       "      <th>7</th>\n",
       "      <td>0</td>\n",
       "      <td># 2 pencils not sharpened</td>\n",
       "      <td>us</td>\n",
       "      <td>B004X4KRW0</td>\n",
       "      <td>exact</td>\n",
       "    </tr>\n",
       "    <tr>\n",
       "      <th>8</th>\n",
       "      <td>0</td>\n",
       "      <td># 2 pencils not sharpened</td>\n",
       "      <td>us</td>\n",
       "      <td>B00DZB6SIE</td>\n",
       "      <td>irrelevant</td>\n",
       "    </tr>\n",
       "    <tr>\n",
       "      <th>9</th>\n",
       "      <td>0</td>\n",
       "      <td># 2 pencils not sharpened</td>\n",
       "      <td>us</td>\n",
       "      <td>B00OFNI9VK</td>\n",
       "      <td>exact</td>\n",
       "    </tr>\n",
       "    <tr>\n",
       "      <th>10</th>\n",
       "      <td>0</td>\n",
       "      <td># 2 pencils not sharpened</td>\n",
       "      <td>us</td>\n",
       "      <td>B00UHHVX8Y</td>\n",
       "      <td>substitute</td>\n",
       "    </tr>\n",
       "    <tr>\n",
       "      <th>11</th>\n",
       "      <td>0</td>\n",
       "      <td># 2 pencils not sharpened</td>\n",
       "      <td>us</td>\n",
       "      <td>B0188A3QRM</td>\n",
       "      <td>exact</td>\n",
       "    </tr>\n",
       "    <tr>\n",
       "      <th>12</th>\n",
       "      <td>0</td>\n",
       "      <td># 2 pencils not sharpened</td>\n",
       "      <td>us</td>\n",
       "      <td>B075DTDGSS</td>\n",
       "      <td>complement</td>\n",
       "    </tr>\n",
       "    <tr>\n",
       "      <th>13</th>\n",
       "      <td>0</td>\n",
       "      <td># 2 pencils not sharpened</td>\n",
       "      <td>us</td>\n",
       "      <td>B075VXJ9VG</td>\n",
       "      <td>exact</td>\n",
       "    </tr>\n",
       "    <tr>\n",
       "      <th>14</th>\n",
       "      <td>0</td>\n",
       "      <td># 2 pencils not sharpened</td>\n",
       "      <td>us</td>\n",
       "      <td>B078K6FRD6</td>\n",
       "      <td>substitute</td>\n",
       "    </tr>\n",
       "    <tr>\n",
       "      <th>15</th>\n",
       "      <td>0</td>\n",
       "      <td># 2 pencils not sharpened</td>\n",
       "      <td>us</td>\n",
       "      <td>B07G2Q28PG</td>\n",
       "      <td>exact</td>\n",
       "    </tr>\n",
       "  </tbody>\n",
       "</table>\n",
       "</div>"
      ],
      "text/plain": [
       "    query_id                      query query_locale  product_id  esci_label\n",
       "0          0  # 2 pencils not sharpened           us  B0000AQO0O       exact\n",
       "1          0  # 2 pencils not sharpened           us  B0002LCZV4       exact\n",
       "2          0  # 2 pencils not sharpened           us  B00125Q75Y       exact\n",
       "3          0  # 2 pencils not sharpened           us  B001AZ1D3C       exact\n",
       "4          0  # 2 pencils not sharpened           us  B001B097KC       exact\n",
       "5          0  # 2 pencils not sharpened           us  B003JFL1WY       exact\n",
       "6          0  # 2 pencils not sharpened           us  B004X4KRPM  substitute\n",
       "7          0  # 2 pencils not sharpened           us  B004X4KRW0       exact\n",
       "8          0  # 2 pencils not sharpened           us  B00DZB6SIE  irrelevant\n",
       "9          0  # 2 pencils not sharpened           us  B00OFNI9VK       exact\n",
       "10         0  # 2 pencils not sharpened           us  B00UHHVX8Y  substitute\n",
       "11         0  # 2 pencils not sharpened           us  B0188A3QRM       exact\n",
       "12         0  # 2 pencils not sharpened           us  B075DTDGSS  complement\n",
       "13         0  # 2 pencils not sharpened           us  B075VXJ9VG       exact\n",
       "14         0  # 2 pencils not sharpened           us  B078K6FRD6  substitute\n",
       "15         0  # 2 pencils not sharpened           us  B07G2Q28PG       exact"
      ]
     },
     "execution_count": 38,
     "metadata": {},
     "output_type": "execute_result"
    }
   ],
   "source": [
    "train[train.query_id == 0]"
   ]
  },
  {
   "cell_type": "code",
   "execution_count": null,
   "id": "0625c352",
   "metadata": {},
   "outputs": [],
   "source": []
  }
 ],
 "metadata": {
  "kernelspec": {
   "display_name": "Python 3 (ipykernel)",
   "language": "python",
   "name": "python3"
  },
  "language_info": {
   "codemirror_mode": {
    "name": "ipython",
    "version": 3
   },
   "file_extension": ".py",
   "mimetype": "text/x-python",
   "name": "python",
   "nbconvert_exporter": "python",
   "pygments_lexer": "ipython3",
   "version": "3.9.15"
  }
 },
 "nbformat": 4,
 "nbformat_minor": 5
}
